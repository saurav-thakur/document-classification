{
 "cells": [
  {
   "cell_type": "markdown",
   "metadata": {},
   "source": [
    "# Importing Libraries"
   ]
  },
  {
   "cell_type": "code",
   "execution_count": 1,
   "metadata": {},
   "outputs": [],
   "source": [
    "import numpy as np\n",
    "import pandas as pd\n",
    "import matplotlib.pyplot as plt\n",
    "import os\n",
    "from collections import defaultdict\n",
    "from typing import List\n",
    "import string\n",
    "\n",
    "from sklearn.model_selection import train_test_split\n",
    "\n",
    "from sklearn.tree import DecisionTreeClassifier\n",
    "from sklearn.ensemble import RandomForestClassifier\n",
    "# from xgboost import XGBClassifier\n",
    "\n",
    "from sklearn import metrics\n",
    "from sklearn.feature_extraction.text import CountVectorizer,TfidfVectorizer\n",
    "from sklearn.model_selection import GridSearchCV, RandomizedSearchCV\n",
    "import warnings\n",
    "warnings.filterwarnings(\"ignore\", category=UserWarning)"
   ]
  },
  {
   "cell_type": "markdown",
   "metadata": {},
   "source": [
    "# Reading Dataset"
   ]
  },
  {
   "cell_type": "code",
   "execution_count": 2,
   "metadata": {},
   "outputs": [
    {
     "data": {
      "text/html": [
       "<div>\n",
       "<style scoped>\n",
       "    .dataframe tbody tr th:only-of-type {\n",
       "        vertical-align: middle;\n",
       "    }\n",
       "\n",
       "    .dataframe tbody tr th {\n",
       "        vertical-align: top;\n",
       "    }\n",
       "\n",
       "    .dataframe thead th {\n",
       "        text-align: right;\n",
       "    }\n",
       "</style>\n",
       "<table border=\"1\" class=\"dataframe\">\n",
       "  <thead>\n",
       "    <tr style=\"text-align: right;\">\n",
       "      <th></th>\n",
       "      <th>Letters</th>\n",
       "      <th>Target</th>\n",
       "    </tr>\n",
       "  </thead>\n",
       "  <tbody>\n",
       "    <tr>\n",
       "      <th>0</th>\n",
       "      <td>aug 19 88 1204 yer ny ps legally approved i pr...</td>\n",
       "      <td>4</td>\n",
       "    </tr>\n",
       "    <tr>\n",
       "      <th>1</th>\n",
       "      <td>hing warm andy that sjustatad moreaimates foma...</td>\n",
       "      <td>4</td>\n",
       "    </tr>\n",
       "    <tr>\n",
       "      <th>2</th>\n",
       "      <td>the washington times page ala’ tuesday april 5...</td>\n",
       "      <td>9</td>\n",
       "    </tr>\n",
       "    <tr>\n",
       "      <th>3</th>\n",
       "      <td>gz west sacramento permanent backlit surgeon g...</td>\n",
       "      <td>4</td>\n",
       "    </tr>\n",
       "    <tr>\n",
       "      <th>4</th>\n",
       "      <td>tlp bonding a new method for iginint ig fn bor...</td>\n",
       "      <td>6</td>\n",
       "    </tr>\n",
       "  </tbody>\n",
       "</table>\n",
       "</div>"
      ],
      "text/plain": [
       "                                             Letters  Target\n",
       "0  aug 19 88 1204 yer ny ps legally approved i pr...       4\n",
       "1  hing warm andy that sjustatad moreaimates foma...       4\n",
       "2  the washington times page ala’ tuesday april 5...       9\n",
       "3  gz west sacramento permanent backlit surgeon g...       4\n",
       "4  tlp bonding a new method for iginint ig fn bor...       6"
      ]
     },
     "execution_count": 2,
     "metadata": {},
     "output_type": "execute_result"
    }
   ],
   "source": [
    "df = pd.read_csv(\"../artifacts/data_ingestion/data/train.csv\")\n",
    "df.head()"
   ]
  },
  {
   "cell_type": "code",
   "execution_count": 3,
   "metadata": {},
   "outputs": [
    {
     "data": {
      "text/plain": [
       "Target\n",
       "9    405\n",
       "0    400\n",
       "2    398\n",
       "6    396\n",
       "4    353\n",
       "Name: count, dtype: int64"
      ]
     },
     "execution_count": 3,
     "metadata": {},
     "output_type": "execute_result"
    }
   ],
   "source": [
    "# counting the values for each class\n",
    "df[\"Target\"].value_counts()"
   ]
  },
  {
   "cell_type": "code",
   "execution_count": 4,
   "metadata": {},
   "outputs": [
    {
     "data": {
      "text/plain": [
       "Letters    0\n",
       "Target     0\n",
       "dtype: int64"
      ]
     },
     "execution_count": 4,
     "metadata": {},
     "output_type": "execute_result"
    }
   ],
   "source": [
    "df.isnull().sum()"
   ]
  },
  {
   "cell_type": "code",
   "execution_count": null,
   "metadata": {},
   "outputs": [],
   "source": []
  },
  {
   "cell_type": "code",
   "execution_count": null,
   "metadata": {},
   "outputs": [],
   "source": []
  },
  {
   "cell_type": "code",
   "execution_count": null,
   "metadata": {},
   "outputs": [],
   "source": []
  },
  {
   "cell_type": "markdown",
   "metadata": {},
   "source": [
    "# Feature Engineering"
   ]
  },
  {
   "cell_type": "code",
   "execution_count": 5,
   "metadata": {},
   "outputs": [
    {
     "data": {
      "text/plain": [
       "(1952, 2)"
      ]
     },
     "execution_count": 5,
     "metadata": {},
     "output_type": "execute_result"
    }
   ],
   "source": [
    "# dropping NA Values\n",
    "df.dropna(inplace=True,axis=0)\n",
    "df.shape"
   ]
  },
  {
   "cell_type": "code",
   "execution_count": 6,
   "metadata": {},
   "outputs": [],
   "source": [
    "\n",
    "def remove_punctuation(text):\n",
    "    return ''.join([c for c in text if c not in string.punctuation])\n",
    "\n",
    "def cleaning_data(data):\n",
    "    data[\"Letters\"] = data[\"Letters\"].str.lower()\n",
    "    data[\"Letters\"] = data[\"Letters\"].apply(remove_punctuation)\n",
    "    return data"
   ]
  },
  {
   "cell_type": "code",
   "execution_count": 7,
   "metadata": {},
   "outputs": [],
   "source": [
    "df_cleaned = cleaning_data(df)"
   ]
  },
  {
   "cell_type": "code",
   "execution_count": 8,
   "metadata": {},
   "outputs": [
    {
     "data": {
      "text/html": [
       "<div>\n",
       "<style scoped>\n",
       "    .dataframe tbody tr th:only-of-type {\n",
       "        vertical-align: middle;\n",
       "    }\n",
       "\n",
       "    .dataframe tbody tr th {\n",
       "        vertical-align: top;\n",
       "    }\n",
       "\n",
       "    .dataframe thead th {\n",
       "        text-align: right;\n",
       "    }\n",
       "</style>\n",
       "<table border=\"1\" class=\"dataframe\">\n",
       "  <thead>\n",
       "    <tr style=\"text-align: right;\">\n",
       "      <th></th>\n",
       "      <th>Letters</th>\n",
       "      <th>Target</th>\n",
       "    </tr>\n",
       "  </thead>\n",
       "  <tbody>\n",
       "    <tr>\n",
       "      <th>0</th>\n",
       "      <td>aug 19 88 1204 yer ny ps legally approved i pr...</td>\n",
       "      <td>4</td>\n",
       "    </tr>\n",
       "    <tr>\n",
       "      <th>1</th>\n",
       "      <td>hing warm andy that sjustatad moreaimates foma...</td>\n",
       "      <td>4</td>\n",
       "    </tr>\n",
       "    <tr>\n",
       "      <th>2</th>\n",
       "      <td>the washington times page ala’ tuesday april 5...</td>\n",
       "      <td>9</td>\n",
       "    </tr>\n",
       "    <tr>\n",
       "      <th>3</th>\n",
       "      <td>gz west sacramento permanent backlit surgeon g...</td>\n",
       "      <td>4</td>\n",
       "    </tr>\n",
       "    <tr>\n",
       "      <th>4</th>\n",
       "      <td>tlp bonding a new method for iginint ig fn bor...</td>\n",
       "      <td>6</td>\n",
       "    </tr>\n",
       "  </tbody>\n",
       "</table>\n",
       "</div>"
      ],
      "text/plain": [
       "                                             Letters  Target\n",
       "0  aug 19 88 1204 yer ny ps legally approved i pr...       4\n",
       "1  hing warm andy that sjustatad moreaimates foma...       4\n",
       "2  the washington times page ala’ tuesday april 5...       9\n",
       "3  gz west sacramento permanent backlit surgeon g...       4\n",
       "4  tlp bonding a new method for iginint ig fn bor...       6"
      ]
     },
     "execution_count": 8,
     "metadata": {},
     "output_type": "execute_result"
    }
   ],
   "source": [
    "df_cleaned.head()"
   ]
  },
  {
   "cell_type": "markdown",
   "metadata": {},
   "source": [
    "# Data Splitting"
   ]
  },
  {
   "cell_type": "code",
   "execution_count": 9,
   "metadata": {},
   "outputs": [],
   "source": [
    "df_cleaned[\"Target\"] =  df_cleaned[\"Target\"].astype(\"category\")\n"
   ]
  },
  {
   "cell_type": "code",
   "execution_count": 10,
   "metadata": {},
   "outputs": [
    {
     "name": "stdout",
     "output_type": "stream",
     "text": [
      "<class 'pandas.core.frame.DataFrame'>\n",
      "RangeIndex: 1952 entries, 0 to 1951\n",
      "Data columns (total 2 columns):\n",
      " #   Column   Non-Null Count  Dtype   \n",
      "---  ------   --------------  -----   \n",
      " 0   Letters  1952 non-null   object  \n",
      " 1   Target   1952 non-null   category\n",
      "dtypes: category(1), object(1)\n",
      "memory usage: 17.5+ KB\n"
     ]
    }
   ],
   "source": [
    "df_cleaned.info()"
   ]
  },
  {
   "cell_type": "code",
   "execution_count": 47,
   "metadata": {},
   "outputs": [],
   "source": [
    "X = df_cleaned[\"Letters\"]\n",
    "y = df_cleaned[\"Target\"]"
   ]
  },
  {
   "cell_type": "code",
   "execution_count": 48,
   "metadata": {},
   "outputs": [],
   "source": [
    "y_mapped = y.map({\n",
    "    0:0,\n",
    "    2:1,\n",
    "    4:2,\n",
    "    6:3,\n",
    "    9:4\n",
    "})"
   ]
  },
  {
   "cell_type": "code",
   "execution_count": 49,
   "metadata": {},
   "outputs": [
    {
     "data": {
      "text/plain": [
       "((1561,), (391,))"
      ]
     },
     "execution_count": 49,
     "metadata": {},
     "output_type": "execute_result"
    }
   ],
   "source": [
    "X_train,X_test,y_train,y_test = train_test_split(X,y_mapped,test_size=0.2,random_state=42)\n",
    "X_train.shape,X_test.shape"
   ]
  },
  {
   "cell_type": "markdown",
   "metadata": {},
   "source": [
    "# Bag of Words"
   ]
  },
  {
   "cell_type": "code",
   "execution_count": 256,
   "metadata": {},
   "outputs": [],
   "source": [
    "toNumeric = CountVectorizer()"
   ]
  },
  {
   "cell_type": "code",
   "execution_count": 257,
   "metadata": {},
   "outputs": [
    {
     "data": {
      "text/plain": [
       "<1952x80849 sparse matrix of type '<class 'numpy.int64'>'\n",
       "\twith 304620 stored elements in Compressed Sparse Row format>"
      ]
     },
     "execution_count": 257,
     "metadata": {},
     "output_type": "execute_result"
    }
   ],
   "source": [
    "sampleTrain_dtm = toNumeric.fit_transform(X_train)\n",
    "sampleTrain_dtm"
   ]
  },
  {
   "cell_type": "code",
   "execution_count": null,
   "metadata": {},
   "outputs": [],
   "source": [
    "# Let's convert sparse matrix to a dense matrix\n",
    "sampleTrain_dtm.toarray()"
   ]
  },
  {
   "cell_type": "code",
   "execution_count": 259,
   "metadata": {},
   "outputs": [
    {
     "data": {
      "text/plain": [
       "<489x80849 sparse matrix of type '<class 'numpy.int64'>'\n",
       "\twith 63400 stored elements in Compressed Sparse Row format>"
      ]
     },
     "execution_count": 259,
     "metadata": {},
     "output_type": "execute_result"
    }
   ],
   "source": [
    "sampleTest_dtm = toNumeric.transform(X_test)\n",
    "sampleTest_dtm"
   ]
  },
  {
   "cell_type": "markdown",
   "metadata": {},
   "source": [
    "# TF-IDF\n",
    "\n",
    "- BoW is performing better than TF-IDF so we will not use TF-IDF for this project"
   ]
  },
  {
   "cell_type": "code",
   "execution_count": 203,
   "metadata": {},
   "outputs": [],
   "source": [
    "tfidf = TfidfVectorizer()\n",
    "X_train_tfidf = tfidf.fit_transform(X_train)\n",
    "X_test_tfidf = tfidf.transform(X_test)"
   ]
  },
  {
   "cell_type": "code",
   "execution_count": 204,
   "metadata": {},
   "outputs": [
    {
     "name": "stdout",
     "output_type": "stream",
     "text": [
      "0.754601226993865\n"
     ]
    },
    {
     "data": {
      "text/plain": [
       "array([[82,  3, 12,  2,  3],\n",
       "       [ 6, 79,  7,  0,  2],\n",
       "       [ 6,  3, 62,  0,  5],\n",
       "       [ 0,  0, 12, 79,  8],\n",
       "       [ 9,  2, 35,  5, 67]], dtype=int64)"
      ]
     },
     "execution_count": 204,
     "metadata": {},
     "output_type": "execute_result"
    }
   ],
   "source": [
    "rf_classification = RandomForestClassifier()\n",
    "rf_model = rf_classification.fit(X_train_tfidf, y_train)\n",
    "y_pred_rf_class = rf_classification.predict(X_test_tfidf)\n",
    "print(metrics.accuracy_score(y_test, y_pred_rf_class))\n",
    "metrics.confusion_matrix(y_test, y_pred_rf_class)\n"
   ]
  },
  {
   "cell_type": "code",
   "execution_count": 205,
   "metadata": {},
   "outputs": [
    {
     "name": "stderr",
     "output_type": "stream",
     "text": [
      "c:\\Users\\Saurav\\anaconda3\\Lib\\site-packages\\xgboost\\data.py:440: FutureWarning: is_sparse is deprecated and will be removed in a future version. Check `isinstance(dtype, pd.SparseDtype)` instead.\n",
      "  if is_sparse(data):\n"
     ]
    },
    {
     "name": "stdout",
     "output_type": "stream",
     "text": [
      "0.8077709611451943\n"
     ]
    },
    {
     "data": {
      "text/plain": [
       "array([[82,  4, 10,  2,  4],\n",
       "       [ 6, 79,  4,  3,  2],\n",
       "       [ 0,  0, 60,  3, 13],\n",
       "       [ 0,  0,  3, 87,  9],\n",
       "       [ 1,  3, 20,  7, 87]], dtype=int64)"
      ]
     },
     "execution_count": 205,
     "metadata": {},
     "output_type": "execute_result"
    }
   ],
   "source": [
    "xgb_classification = XGBClassifier()\n",
    "xgb_model = xgb_classification.fit(X_train_tfidf, y_train)\n",
    "y_pred_xgb_class = xgb_classification.predict(X_test_tfidf)\n",
    "print(metrics.accuracy_score(y_test, y_pred_xgb_class))\n",
    "metrics.confusion_matrix(y_test, y_pred_xgb_class)\n"
   ]
  },
  {
   "cell_type": "markdown",
   "metadata": {},
   "source": [
    "# Model Building ML"
   ]
  },
  {
   "cell_type": "code",
   "execution_count": 233,
   "metadata": {},
   "outputs": [],
   "source": [
    "from sklearn.naive_bayes import MultinomialNB\n",
    "nb = MultinomialNB()"
   ]
  },
  {
   "cell_type": "code",
   "execution_count": 234,
   "metadata": {},
   "outputs": [
    {
     "data": {
      "text/html": [
       "<style>#sk-container-id-4 {color: black;}#sk-container-id-4 pre{padding: 0;}#sk-container-id-4 div.sk-toggleable {background-color: white;}#sk-container-id-4 label.sk-toggleable__label {cursor: pointer;display: block;width: 100%;margin-bottom: 0;padding: 0.3em;box-sizing: border-box;text-align: center;}#sk-container-id-4 label.sk-toggleable__label-arrow:before {content: \"▸\";float: left;margin-right: 0.25em;color: #696969;}#sk-container-id-4 label.sk-toggleable__label-arrow:hover:before {color: black;}#sk-container-id-4 div.sk-estimator:hover label.sk-toggleable__label-arrow:before {color: black;}#sk-container-id-4 div.sk-toggleable__content {max-height: 0;max-width: 0;overflow: hidden;text-align: left;background-color: #f0f8ff;}#sk-container-id-4 div.sk-toggleable__content pre {margin: 0.2em;color: black;border-radius: 0.25em;background-color: #f0f8ff;}#sk-container-id-4 input.sk-toggleable__control:checked~div.sk-toggleable__content {max-height: 200px;max-width: 100%;overflow: auto;}#sk-container-id-4 input.sk-toggleable__control:checked~label.sk-toggleable__label-arrow:before {content: \"▾\";}#sk-container-id-4 div.sk-estimator input.sk-toggleable__control:checked~label.sk-toggleable__label {background-color: #d4ebff;}#sk-container-id-4 div.sk-label input.sk-toggleable__control:checked~label.sk-toggleable__label {background-color: #d4ebff;}#sk-container-id-4 input.sk-hidden--visually {border: 0;clip: rect(1px 1px 1px 1px);clip: rect(1px, 1px, 1px, 1px);height: 1px;margin: -1px;overflow: hidden;padding: 0;position: absolute;width: 1px;}#sk-container-id-4 div.sk-estimator {font-family: monospace;background-color: #f0f8ff;border: 1px dotted black;border-radius: 0.25em;box-sizing: border-box;margin-bottom: 0.5em;}#sk-container-id-4 div.sk-estimator:hover {background-color: #d4ebff;}#sk-container-id-4 div.sk-parallel-item::after {content: \"\";width: 100%;border-bottom: 1px solid gray;flex-grow: 1;}#sk-container-id-4 div.sk-label:hover label.sk-toggleable__label {background-color: #d4ebff;}#sk-container-id-4 div.sk-serial::before {content: \"\";position: absolute;border-left: 1px solid gray;box-sizing: border-box;top: 0;bottom: 0;left: 50%;z-index: 0;}#sk-container-id-4 div.sk-serial {display: flex;flex-direction: column;align-items: center;background-color: white;padding-right: 0.2em;padding-left: 0.2em;position: relative;}#sk-container-id-4 div.sk-item {position: relative;z-index: 1;}#sk-container-id-4 div.sk-parallel {display: flex;align-items: stretch;justify-content: center;background-color: white;position: relative;}#sk-container-id-4 div.sk-item::before, #sk-container-id-4 div.sk-parallel-item::before {content: \"\";position: absolute;border-left: 1px solid gray;box-sizing: border-box;top: 0;bottom: 0;left: 50%;z-index: -1;}#sk-container-id-4 div.sk-parallel-item {display: flex;flex-direction: column;z-index: 1;position: relative;background-color: white;}#sk-container-id-4 div.sk-parallel-item:first-child::after {align-self: flex-end;width: 50%;}#sk-container-id-4 div.sk-parallel-item:last-child::after {align-self: flex-start;width: 50%;}#sk-container-id-4 div.sk-parallel-item:only-child::after {width: 0;}#sk-container-id-4 div.sk-dashed-wrapped {border: 1px dashed gray;margin: 0 0.4em 0.5em 0.4em;box-sizing: border-box;padding-bottom: 0.4em;background-color: white;}#sk-container-id-4 div.sk-label label {font-family: monospace;font-weight: bold;display: inline-block;line-height: 1.2em;}#sk-container-id-4 div.sk-label-container {text-align: center;}#sk-container-id-4 div.sk-container {/* jupyter's `normalize.less` sets `[hidden] { display: none; }` but bootstrap.min.css set `[hidden] { display: none !important; }` so we also need the `!important` here to be able to override the default hidden behavior on the sphinx rendered scikit-learn.org. See: https://github.com/scikit-learn/scikit-learn/issues/21755 */display: inline-block !important;position: relative;}#sk-container-id-4 div.sk-text-repr-fallback {display: none;}</style><div id=\"sk-container-id-4\" class=\"sk-top-container\"><div class=\"sk-text-repr-fallback\"><pre>MultinomialNB()</pre><b>In a Jupyter environment, please rerun this cell to show the HTML representation or trust the notebook. <br />On GitHub, the HTML representation is unable to render, please try loading this page with nbviewer.org.</b></div><div class=\"sk-container\" hidden><div class=\"sk-item\"><div class=\"sk-estimator sk-toggleable\"><input class=\"sk-toggleable__control sk-hidden--visually\" id=\"sk-estimator-id-4\" type=\"checkbox\" checked><label for=\"sk-estimator-id-4\" class=\"sk-toggleable__label sk-toggleable__label-arrow\">MultinomialNB</label><div class=\"sk-toggleable__content\"><pre>MultinomialNB()</pre></div></div></div></div></div>"
      ],
      "text/plain": [
       "MultinomialNB()"
      ]
     },
     "execution_count": 234,
     "metadata": {},
     "output_type": "execute_result"
    }
   ],
   "source": [
    "nb.fit(sampleTrain_dtm, y_train)"
   ]
  },
  {
   "cell_type": "code",
   "execution_count": 235,
   "metadata": {},
   "outputs": [],
   "source": [
    "y_pred_class = nb.predict(sampleTest_dtm)\n"
   ]
  },
  {
   "cell_type": "code",
   "execution_count": 236,
   "metadata": {},
   "outputs": [
    {
     "data": {
      "text/plain": [
       "0.7137014314928425"
      ]
     },
     "execution_count": 236,
     "metadata": {},
     "output_type": "execute_result"
    }
   ],
   "source": [
    "from sklearn import metrics\n",
    "metrics.accuracy_score(y_test, y_pred_class)\n"
   ]
  },
  {
   "cell_type": "code",
   "execution_count": 237,
   "metadata": {},
   "outputs": [
    {
     "data": {
      "text/plain": [
       "array([[ 80,   3,   0,   6,  13],\n",
       "       [ 26,  59,   0,   2,   7],\n",
       "       [ 12,   7,  10,   2,  45],\n",
       "       [  2,   0,   0,  89,   8],\n",
       "       [  1,   3,   0,   3, 111]], dtype=int64)"
      ]
     },
     "execution_count": 237,
     "metadata": {},
     "output_type": "execute_result"
    }
   ],
   "source": [
    "metrics.confusion_matrix(y_test, y_pred_class)\n"
   ]
  },
  {
   "cell_type": "code",
   "execution_count": 238,
   "metadata": {},
   "outputs": [],
   "source": [
    "decision_tree_classification = DecisionTreeClassifier(criterion = 'entropy',random_state = 10)\n",
    "decision_tree = decision_tree_classification.fit(sampleTrain_dtm, y_train)"
   ]
  },
  {
   "cell_type": "code",
   "execution_count": 239,
   "metadata": {},
   "outputs": [
    {
     "data": {
      "text/plain": [
       "0.7300613496932515"
      ]
     },
     "execution_count": 239,
     "metadata": {},
     "output_type": "execute_result"
    }
   ],
   "source": [
    "y_pred_dt_class = decision_tree_classification.predict(sampleTest_dtm)\n",
    "metrics.accuracy_score(y_test, y_pred_dt_class)"
   ]
  },
  {
   "cell_type": "code",
   "execution_count": 240,
   "metadata": {},
   "outputs": [
    {
     "data": {
      "text/plain": [
       "array([[69,  7,  7,  5, 14],\n",
       "       [ 9, 73,  9,  0,  3],\n",
       "       [ 1,  1, 55,  0, 19],\n",
       "       [ 3,  0,  3, 85,  8],\n",
       "       [ 4,  2, 22, 15, 75]], dtype=int64)"
      ]
     },
     "execution_count": 240,
     "metadata": {},
     "output_type": "execute_result"
    }
   ],
   "source": [
    "metrics.confusion_matrix(y_test, y_pred_dt_class)\n"
   ]
  },
  {
   "cell_type": "code",
   "execution_count": 241,
   "metadata": {},
   "outputs": [
    {
     "name": "stdout",
     "output_type": "stream",
     "text": [
      "0.7586912065439673\n"
     ]
    },
    {
     "data": {
      "text/plain": [
       "array([[79,  6, 11,  4,  2],\n",
       "       [ 6, 81,  5,  1,  1],\n",
       "       [ 9,  0, 63,  1,  3],\n",
       "       [ 2,  0, 10, 79,  8],\n",
       "       [ 6,  3, 34,  6, 69]], dtype=int64)"
      ]
     },
     "execution_count": 241,
     "metadata": {},
     "output_type": "execute_result"
    }
   ],
   "source": [
    "rf_classification = RandomForestClassifier()\n",
    "rf_model = rf_classification.fit(sampleTrain_dtm, y_train)\n",
    "y_pred_rf_class = rf_classification.predict(sampleTest_dtm)\n",
    "print(metrics.accuracy_score(y_test, y_pred_rf_class))\n",
    "metrics.confusion_matrix(y_test, y_pred_rf_class)\n"
   ]
  },
  {
   "cell_type": "markdown",
   "metadata": {},
   "source": [
    "# XGBoost"
   ]
  },
  {
   "cell_type": "code",
   "execution_count": 260,
   "metadata": {},
   "outputs": [
    {
     "name": "stderr",
     "output_type": "stream",
     "text": [
      "c:\\Users\\Saurav\\anaconda3\\Lib\\site-packages\\xgboost\\data.py:440: FutureWarning: is_sparse is deprecated and will be removed in a future version. Check `isinstance(dtype, pd.SparseDtype)` instead.\n",
      "  if is_sparse(data):\n"
     ]
    },
    {
     "name": "stdout",
     "output_type": "stream",
     "text": [
      "0.8302658486707567\n"
     ]
    },
    {
     "data": {
      "text/plain": [
       "array([[85,  2,  9,  3,  3],\n",
       "       [ 3, 82,  5,  1,  3],\n",
       "       [ 1,  0, 64,  2,  9],\n",
       "       [ 0,  0,  4, 87,  8],\n",
       "       [ 1,  2, 19,  8, 88]], dtype=int64)"
      ]
     },
     "execution_count": 260,
     "metadata": {},
     "output_type": "execute_result"
    }
   ],
   "source": [
    "xgb_classification = XGBClassifier()\n",
    "xgb_model = xgb_classification.fit(sampleTrain_dtm, y_train)\n",
    "y_pred_xgb_class = xgb_classification.predict(sampleTest_dtm)\n",
    "print(metrics.accuracy_score(y_test, y_pred_xgb_class))\n",
    "metrics.confusion_matrix(y_test, y_pred_xgb_class)\n"
   ]
  },
  {
   "cell_type": "code",
   "execution_count": 261,
   "metadata": {},
   "outputs": [
    {
     "name": "stdout",
     "output_type": "stream",
     "text": [
      "              precision    recall  f1-score   support\n",
      "\n",
      "           0       0.94      0.83      0.89       102\n",
      "           1       0.95      0.87      0.91        94\n",
      "           2       0.63      0.84      0.72        76\n",
      "           3       0.86      0.88      0.87        99\n",
      "           4       0.79      0.75      0.77       118\n",
      "\n",
      "    accuracy                           0.83       489\n",
      "   macro avg       0.84      0.83      0.83       489\n",
      "weighted avg       0.84      0.83      0.83       489\n",
      "\n"
     ]
    }
   ],
   "source": [
    "print(metrics.classification_report(y_test, y_pred_xgb_class))"
   ]
  },
  {
   "cell_type": "markdown",
   "metadata": {},
   "source": [
    "# Hyperparameter Tuning\n",
    "\n",
    "- Since XGBoost is performing better than other ML algorithms we will start with tuning hyperparameters of XGBoost.\n"
   ]
  },
  {
   "cell_type": "code",
   "execution_count": 191,
   "metadata": {},
   "outputs": [],
   "source": [
    "def random_search_cv(model_accuracies,range_epochs,X_train,y_train):\n",
    "  xgb = XGBClassifier()\n",
    "  param_grid={'max_depth': np.arange(1,400,50),\n",
    "          'gamma': np.arange(1,9,3),\n",
    "          'reg_alpha' :np.arange(1,400,20),\n",
    "          'reg_lambda' : np.arange(0,5,1),\n",
    "          'colsample_bytree' : np.arange(0,1,0.1),\n",
    "          'min_child_weight' : np.arange(0,40,5),\n",
    "          'n_estimators': np.arange(1,400,50),\n",
    "          'learning_rate':np.arange(0,2,0.1)\n",
    "          \n",
    "      }\n",
    "\n",
    "\n",
    "  for i in range(range_epochs):\n",
    "    model = RandomizedSearchCV(\n",
    "    estimator=xgb,\n",
    "    param_distributions=param_grid,\n",
    "    scoring=\"accuracy\",\n",
    "    verbose=10,\n",
    "    n_iter=10,\n",
    "    n_jobs=1,\n",
    "    cv=10)\n",
    "\n",
    "    model.fit(X_train,y_train)\n",
    "\n",
    "    model_accuracies[model] = model.best_score_"
   ]
  },
  {
   "cell_type": "code",
   "execution_count": 192,
   "metadata": {},
   "outputs": [
    {
     "name": "stdout",
     "output_type": "stream",
     "text": [
      "Fitting 10 folds for each of 10 candidates, totalling 100 fits\n",
      "[CV 1/10; 1/10] START colsample_bytree=0.0, gamma=1, learning_rate=1.9000000000000001, max_depth=151, min_child_weight=0, n_estimators=301, reg_alpha=301, reg_lambda=2\n"
     ]
    },
    {
     "name": "stderr",
     "output_type": "stream",
     "text": [
      "c:\\Users\\Saurav\\anaconda3\\Lib\\site-packages\\xgboost\\data.py:440: FutureWarning: is_sparse is deprecated and will be removed in a future version. Check `isinstance(dtype, pd.SparseDtype)` instead.\n",
      "  if is_sparse(data):\n"
     ]
    },
    {
     "name": "stdout",
     "output_type": "stream",
     "text": [
      "[CV 1/10; 1/10] END colsample_bytree=0.0, gamma=1, learning_rate=1.9000000000000001, max_depth=151, min_child_weight=0, n_estimators=301, reg_alpha=301, reg_lambda=2;, score=0.204 total time=   6.7s\n",
      "[CV 2/10; 1/10] START colsample_bytree=0.0, gamma=1, learning_rate=1.9000000000000001, max_depth=151, min_child_weight=0, n_estimators=301, reg_alpha=301, reg_lambda=2\n"
     ]
    },
    {
     "name": "stderr",
     "output_type": "stream",
     "text": [
      "c:\\Users\\Saurav\\anaconda3\\Lib\\site-packages\\xgboost\\data.py:440: FutureWarning: is_sparse is deprecated and will be removed in a future version. Check `isinstance(dtype, pd.SparseDtype)` instead.\n",
      "  if is_sparse(data):\n"
     ]
    },
    {
     "name": "stdout",
     "output_type": "stream",
     "text": [
      "[CV 2/10; 1/10] END colsample_bytree=0.0, gamma=1, learning_rate=1.9000000000000001, max_depth=151, min_child_weight=0, n_estimators=301, reg_alpha=301, reg_lambda=2;, score=0.204 total time=   5.2s\n",
      "[CV 3/10; 1/10] START colsample_bytree=0.0, gamma=1, learning_rate=1.9000000000000001, max_depth=151, min_child_weight=0, n_estimators=301, reg_alpha=301, reg_lambda=2\n"
     ]
    },
    {
     "name": "stderr",
     "output_type": "stream",
     "text": [
      "c:\\Users\\Saurav\\anaconda3\\Lib\\site-packages\\xgboost\\data.py:440: FutureWarning: is_sparse is deprecated and will be removed in a future version. Check `isinstance(dtype, pd.SparseDtype)` instead.\n",
      "  if is_sparse(data):\n"
     ]
    },
    {
     "name": "stdout",
     "output_type": "stream",
     "text": [
      "[CV 3/10; 1/10] END colsample_bytree=0.0, gamma=1, learning_rate=1.9000000000000001, max_depth=151, min_child_weight=0, n_estimators=301, reg_alpha=301, reg_lambda=2;, score=0.200 total time=   5.6s\n",
      "[CV 4/10; 1/10] START colsample_bytree=0.0, gamma=1, learning_rate=1.9000000000000001, max_depth=151, min_child_weight=0, n_estimators=301, reg_alpha=301, reg_lambda=2\n"
     ]
    },
    {
     "name": "stderr",
     "output_type": "stream",
     "text": [
      "c:\\Users\\Saurav\\anaconda3\\Lib\\site-packages\\xgboost\\data.py:440: FutureWarning: is_sparse is deprecated and will be removed in a future version. Check `isinstance(dtype, pd.SparseDtype)` instead.\n",
      "  if is_sparse(data):\n"
     ]
    },
    {
     "name": "stdout",
     "output_type": "stream",
     "text": [
      "[CV 4/10; 1/10] END colsample_bytree=0.0, gamma=1, learning_rate=1.9000000000000001, max_depth=151, min_child_weight=0, n_estimators=301, reg_alpha=301, reg_lambda=2;, score=0.200 total time=   5.8s\n",
      "[CV 5/10; 1/10] START colsample_bytree=0.0, gamma=1, learning_rate=1.9000000000000001, max_depth=151, min_child_weight=0, n_estimators=301, reg_alpha=301, reg_lambda=2\n"
     ]
    },
    {
     "name": "stderr",
     "output_type": "stream",
     "text": [
      "c:\\Users\\Saurav\\anaconda3\\Lib\\site-packages\\xgboost\\data.py:440: FutureWarning: is_sparse is deprecated and will be removed in a future version. Check `isinstance(dtype, pd.SparseDtype)` instead.\n",
      "  if is_sparse(data):\n"
     ]
    },
    {
     "name": "stdout",
     "output_type": "stream",
     "text": [
      "[CV 5/10; 1/10] END colsample_bytree=0.0, gamma=1, learning_rate=1.9000000000000001, max_depth=151, min_child_weight=0, n_estimators=301, reg_alpha=301, reg_lambda=2;, score=0.200 total time=   6.4s\n",
      "[CV 6/10; 1/10] START colsample_bytree=0.0, gamma=1, learning_rate=1.9000000000000001, max_depth=151, min_child_weight=0, n_estimators=301, reg_alpha=301, reg_lambda=2\n"
     ]
    },
    {
     "name": "stderr",
     "output_type": "stream",
     "text": [
      "c:\\Users\\Saurav\\anaconda3\\Lib\\site-packages\\xgboost\\data.py:440: FutureWarning: is_sparse is deprecated and will be removed in a future version. Check `isinstance(dtype, pd.SparseDtype)` instead.\n",
      "  if is_sparse(data):\n"
     ]
    },
    {
     "name": "stdout",
     "output_type": "stream",
     "text": [
      "[CV 6/10; 1/10] END colsample_bytree=0.0, gamma=1, learning_rate=1.9000000000000001, max_depth=151, min_child_weight=0, n_estimators=301, reg_alpha=301, reg_lambda=2;, score=0.205 total time=   7.1s\n",
      "[CV 7/10; 1/10] START colsample_bytree=0.0, gamma=1, learning_rate=1.9000000000000001, max_depth=151, min_child_weight=0, n_estimators=301, reg_alpha=301, reg_lambda=2\n"
     ]
    },
    {
     "name": "stderr",
     "output_type": "stream",
     "text": [
      "c:\\Users\\Saurav\\anaconda3\\Lib\\site-packages\\xgboost\\data.py:440: FutureWarning: is_sparse is deprecated and will be removed in a future version. Check `isinstance(dtype, pd.SparseDtype)` instead.\n",
      "  if is_sparse(data):\n"
     ]
    },
    {
     "name": "stdout",
     "output_type": "stream",
     "text": [
      "[CV 7/10; 1/10] END colsample_bytree=0.0, gamma=1, learning_rate=1.9000000000000001, max_depth=151, min_child_weight=0, n_estimators=301, reg_alpha=301, reg_lambda=2;, score=0.205 total time=   5.8s\n",
      "[CV 8/10; 1/10] START colsample_bytree=0.0, gamma=1, learning_rate=1.9000000000000001, max_depth=151, min_child_weight=0, n_estimators=301, reg_alpha=301, reg_lambda=2\n"
     ]
    },
    {
     "name": "stderr",
     "output_type": "stream",
     "text": [
      "c:\\Users\\Saurav\\anaconda3\\Lib\\site-packages\\xgboost\\data.py:440: FutureWarning: is_sparse is deprecated and will be removed in a future version. Check `isinstance(dtype, pd.SparseDtype)` instead.\n",
      "  if is_sparse(data):\n"
     ]
    },
    {
     "name": "stdout",
     "output_type": "stream",
     "text": [
      "[CV 8/10; 1/10] END colsample_bytree=0.0, gamma=1, learning_rate=1.9000000000000001, max_depth=151, min_child_weight=0, n_estimators=301, reg_alpha=301, reg_lambda=2;, score=0.205 total time=   6.2s\n",
      "[CV 9/10; 1/10] START colsample_bytree=0.0, gamma=1, learning_rate=1.9000000000000001, max_depth=151, min_child_weight=0, n_estimators=301, reg_alpha=301, reg_lambda=2\n"
     ]
    },
    {
     "name": "stderr",
     "output_type": "stream",
     "text": [
      "c:\\Users\\Saurav\\anaconda3\\Lib\\site-packages\\xgboost\\data.py:440: FutureWarning: is_sparse is deprecated and will be removed in a future version. Check `isinstance(dtype, pd.SparseDtype)` instead.\n",
      "  if is_sparse(data):\n"
     ]
    },
    {
     "name": "stdout",
     "output_type": "stream",
     "text": [
      "[CV 9/10; 1/10] END colsample_bytree=0.0, gamma=1, learning_rate=1.9000000000000001, max_depth=151, min_child_weight=0, n_estimators=301, reg_alpha=301, reg_lambda=2;, score=0.205 total time=   6.6s\n",
      "[CV 10/10; 1/10] START colsample_bytree=0.0, gamma=1, learning_rate=1.9000000000000001, max_depth=151, min_child_weight=0, n_estimators=301, reg_alpha=301, reg_lambda=2\n"
     ]
    },
    {
     "name": "stderr",
     "output_type": "stream",
     "text": [
      "c:\\Users\\Saurav\\anaconda3\\Lib\\site-packages\\xgboost\\data.py:440: FutureWarning: is_sparse is deprecated and will be removed in a future version. Check `isinstance(dtype, pd.SparseDtype)` instead.\n",
      "  if is_sparse(data):\n"
     ]
    },
    {
     "name": "stdout",
     "output_type": "stream",
     "text": [
      "[CV 10/10; 1/10] END colsample_bytree=0.0, gamma=1, learning_rate=1.9000000000000001, max_depth=151, min_child_weight=0, n_estimators=301, reg_alpha=301, reg_lambda=2;, score=0.205 total time=   6.5s\n",
      "[CV 1/10; 2/10] START colsample_bytree=0.8, gamma=1, learning_rate=1.4000000000000001, max_depth=1, min_child_weight=25, n_estimators=351, reg_alpha=81, reg_lambda=4\n"
     ]
    },
    {
     "name": "stderr",
     "output_type": "stream",
     "text": [
      "c:\\Users\\Saurav\\anaconda3\\Lib\\site-packages\\xgboost\\data.py:440: FutureWarning: is_sparse is deprecated and will be removed in a future version. Check `isinstance(dtype, pd.SparseDtype)` instead.\n",
      "  if is_sparse(data):\n"
     ]
    },
    {
     "name": "stdout",
     "output_type": "stream",
     "text": [
      "[CV 1/10; 2/10] END colsample_bytree=0.8, gamma=1, learning_rate=1.4000000000000001, max_depth=1, min_child_weight=25, n_estimators=351, reg_alpha=81, reg_lambda=4;, score=0.602 total time=  22.7s\n",
      "[CV 2/10; 2/10] START colsample_bytree=0.8, gamma=1, learning_rate=1.4000000000000001, max_depth=1, min_child_weight=25, n_estimators=351, reg_alpha=81, reg_lambda=4\n"
     ]
    },
    {
     "name": "stderr",
     "output_type": "stream",
     "text": [
      "c:\\Users\\Saurav\\anaconda3\\Lib\\site-packages\\xgboost\\data.py:440: FutureWarning: is_sparse is deprecated and will be removed in a future version. Check `isinstance(dtype, pd.SparseDtype)` instead.\n",
      "  if is_sparse(data):\n"
     ]
    },
    {
     "name": "stdout",
     "output_type": "stream",
     "text": [
      "[CV 2/10; 2/10] END colsample_bytree=0.8, gamma=1, learning_rate=1.4000000000000001, max_depth=1, min_child_weight=25, n_estimators=351, reg_alpha=81, reg_lambda=4;, score=0.566 total time=  23.5s\n",
      "[CV 3/10; 2/10] START colsample_bytree=0.8, gamma=1, learning_rate=1.4000000000000001, max_depth=1, min_child_weight=25, n_estimators=351, reg_alpha=81, reg_lambda=4\n"
     ]
    },
    {
     "name": "stderr",
     "output_type": "stream",
     "text": [
      "c:\\Users\\Saurav\\anaconda3\\Lib\\site-packages\\xgboost\\data.py:440: FutureWarning: is_sparse is deprecated and will be removed in a future version. Check `isinstance(dtype, pd.SparseDtype)` instead.\n",
      "  if is_sparse(data):\n"
     ]
    },
    {
     "name": "stdout",
     "output_type": "stream",
     "text": [
      "[CV 3/10; 2/10] END colsample_bytree=0.8, gamma=1, learning_rate=1.4000000000000001, max_depth=1, min_child_weight=25, n_estimators=351, reg_alpha=81, reg_lambda=4;, score=0.605 total time=  23.7s\n",
      "[CV 4/10; 2/10] START colsample_bytree=0.8, gamma=1, learning_rate=1.4000000000000001, max_depth=1, min_child_weight=25, n_estimators=351, reg_alpha=81, reg_lambda=4\n"
     ]
    },
    {
     "name": "stderr",
     "output_type": "stream",
     "text": [
      "c:\\Users\\Saurav\\anaconda3\\Lib\\site-packages\\xgboost\\data.py:440: FutureWarning: is_sparse is deprecated and will be removed in a future version. Check `isinstance(dtype, pd.SparseDtype)` instead.\n",
      "  if is_sparse(data):\n"
     ]
    },
    {
     "name": "stdout",
     "output_type": "stream",
     "text": [
      "[CV 4/10; 2/10] END colsample_bytree=0.8, gamma=1, learning_rate=1.4000000000000001, max_depth=1, min_child_weight=25, n_estimators=351, reg_alpha=81, reg_lambda=4;, score=0.621 total time=  23.8s\n",
      "[CV 5/10; 2/10] START colsample_bytree=0.8, gamma=1, learning_rate=1.4000000000000001, max_depth=1, min_child_weight=25, n_estimators=351, reg_alpha=81, reg_lambda=4\n"
     ]
    },
    {
     "name": "stderr",
     "output_type": "stream",
     "text": [
      "c:\\Users\\Saurav\\anaconda3\\Lib\\site-packages\\xgboost\\data.py:440: FutureWarning: is_sparse is deprecated and will be removed in a future version. Check `isinstance(dtype, pd.SparseDtype)` instead.\n",
      "  if is_sparse(data):\n"
     ]
    },
    {
     "name": "stdout",
     "output_type": "stream",
     "text": [
      "[CV 5/10; 2/10] END colsample_bytree=0.8, gamma=1, learning_rate=1.4000000000000001, max_depth=1, min_child_weight=25, n_estimators=351, reg_alpha=81, reg_lambda=4;, score=0.621 total time=  23.8s\n",
      "[CV 6/10; 2/10] START colsample_bytree=0.8, gamma=1, learning_rate=1.4000000000000001, max_depth=1, min_child_weight=25, n_estimators=351, reg_alpha=81, reg_lambda=4\n"
     ]
    },
    {
     "name": "stderr",
     "output_type": "stream",
     "text": [
      "c:\\Users\\Saurav\\anaconda3\\Lib\\site-packages\\xgboost\\data.py:440: FutureWarning: is_sparse is deprecated and will be removed in a future version. Check `isinstance(dtype, pd.SparseDtype)` instead.\n",
      "  if is_sparse(data):\n"
     ]
    },
    {
     "name": "stdout",
     "output_type": "stream",
     "text": [
      "[CV 6/10; 2/10] END colsample_bytree=0.8, gamma=1, learning_rate=1.4000000000000001, max_depth=1, min_child_weight=25, n_estimators=351, reg_alpha=81, reg_lambda=4;, score=0.626 total time=  23.7s\n",
      "[CV 7/10; 2/10] START colsample_bytree=0.8, gamma=1, learning_rate=1.4000000000000001, max_depth=1, min_child_weight=25, n_estimators=351, reg_alpha=81, reg_lambda=4\n"
     ]
    },
    {
     "name": "stderr",
     "output_type": "stream",
     "text": [
      "c:\\Users\\Saurav\\anaconda3\\Lib\\site-packages\\xgboost\\data.py:440: FutureWarning: is_sparse is deprecated and will be removed in a future version. Check `isinstance(dtype, pd.SparseDtype)` instead.\n",
      "  if is_sparse(data):\n"
     ]
    },
    {
     "name": "stdout",
     "output_type": "stream",
     "text": [
      "[CV 7/10; 2/10] END colsample_bytree=0.8, gamma=1, learning_rate=1.4000000000000001, max_depth=1, min_child_weight=25, n_estimators=351, reg_alpha=81, reg_lambda=4;, score=0.646 total time=  23.7s\n",
      "[CV 8/10; 2/10] START colsample_bytree=0.8, gamma=1, learning_rate=1.4000000000000001, max_depth=1, min_child_weight=25, n_estimators=351, reg_alpha=81, reg_lambda=4\n"
     ]
    },
    {
     "name": "stderr",
     "output_type": "stream",
     "text": [
      "c:\\Users\\Saurav\\anaconda3\\Lib\\site-packages\\xgboost\\data.py:440: FutureWarning: is_sparse is deprecated and will be removed in a future version. Check `isinstance(dtype, pd.SparseDtype)` instead.\n",
      "  if is_sparse(data):\n"
     ]
    },
    {
     "name": "stdout",
     "output_type": "stream",
     "text": [
      "[CV 8/10; 2/10] END colsample_bytree=0.8, gamma=1, learning_rate=1.4000000000000001, max_depth=1, min_child_weight=25, n_estimators=351, reg_alpha=81, reg_lambda=4;, score=0.667 total time=  23.8s\n",
      "[CV 9/10; 2/10] START colsample_bytree=0.8, gamma=1, learning_rate=1.4000000000000001, max_depth=1, min_child_weight=25, n_estimators=351, reg_alpha=81, reg_lambda=4\n"
     ]
    },
    {
     "name": "stderr",
     "output_type": "stream",
     "text": [
      "c:\\Users\\Saurav\\anaconda3\\Lib\\site-packages\\xgboost\\data.py:440: FutureWarning: is_sparse is deprecated and will be removed in a future version. Check `isinstance(dtype, pd.SparseDtype)` instead.\n",
      "  if is_sparse(data):\n"
     ]
    },
    {
     "name": "stdout",
     "output_type": "stream",
     "text": [
      "[CV 9/10; 2/10] END colsample_bytree=0.8, gamma=1, learning_rate=1.4000000000000001, max_depth=1, min_child_weight=25, n_estimators=351, reg_alpha=81, reg_lambda=4;, score=0.615 total time=  26.2s\n",
      "[CV 10/10; 2/10] START colsample_bytree=0.8, gamma=1, learning_rate=1.4000000000000001, max_depth=1, min_child_weight=25, n_estimators=351, reg_alpha=81, reg_lambda=4\n"
     ]
    },
    {
     "name": "stderr",
     "output_type": "stream",
     "text": [
      "c:\\Users\\Saurav\\anaconda3\\Lib\\site-packages\\xgboost\\data.py:440: FutureWarning: is_sparse is deprecated and will be removed in a future version. Check `isinstance(dtype, pd.SparseDtype)` instead.\n",
      "  if is_sparse(data):\n"
     ]
    },
    {
     "name": "stdout",
     "output_type": "stream",
     "text": [
      "[CV 10/10; 2/10] END colsample_bytree=0.8, gamma=1, learning_rate=1.4000000000000001, max_depth=1, min_child_weight=25, n_estimators=351, reg_alpha=81, reg_lambda=4;, score=0.662 total time=  24.1s\n",
      "[CV 1/10; 3/10] START colsample_bytree=0.7000000000000001, gamma=7, learning_rate=1.6, max_depth=101, min_child_weight=5, n_estimators=151, reg_alpha=1, reg_lambda=4\n"
     ]
    },
    {
     "name": "stderr",
     "output_type": "stream",
     "text": [
      "c:\\Users\\Saurav\\anaconda3\\Lib\\site-packages\\xgboost\\data.py:440: FutureWarning: is_sparse is deprecated and will be removed in a future version. Check `isinstance(dtype, pd.SparseDtype)` instead.\n",
      "  if is_sparse(data):\n"
     ]
    },
    {
     "name": "stdout",
     "output_type": "stream",
     "text": [
      "[CV 1/10; 3/10] END colsample_bytree=0.7000000000000001, gamma=7, learning_rate=1.6, max_depth=101, min_child_weight=5, n_estimators=151, reg_alpha=1, reg_lambda=4;, score=0.740 total time=  27.0s\n",
      "[CV 2/10; 3/10] START colsample_bytree=0.7000000000000001, gamma=7, learning_rate=1.6, max_depth=101, min_child_weight=5, n_estimators=151, reg_alpha=1, reg_lambda=4\n"
     ]
    },
    {
     "name": "stderr",
     "output_type": "stream",
     "text": [
      "c:\\Users\\Saurav\\anaconda3\\Lib\\site-packages\\xgboost\\data.py:440: FutureWarning: is_sparse is deprecated and will be removed in a future version. Check `isinstance(dtype, pd.SparseDtype)` instead.\n",
      "  if is_sparse(data):\n"
     ]
    },
    {
     "name": "stdout",
     "output_type": "stream",
     "text": [
      "[CV 2/10; 3/10] END colsample_bytree=0.7000000000000001, gamma=7, learning_rate=1.6, max_depth=101, min_child_weight=5, n_estimators=151, reg_alpha=1, reg_lambda=4;, score=0.724 total time=  29.2s\n",
      "[CV 3/10; 3/10] START colsample_bytree=0.7000000000000001, gamma=7, learning_rate=1.6, max_depth=101, min_child_weight=5, n_estimators=151, reg_alpha=1, reg_lambda=4\n"
     ]
    },
    {
     "name": "stderr",
     "output_type": "stream",
     "text": [
      "c:\\Users\\Saurav\\anaconda3\\Lib\\site-packages\\xgboost\\data.py:440: FutureWarning: is_sparse is deprecated and will be removed in a future version. Check `isinstance(dtype, pd.SparseDtype)` instead.\n",
      "  if is_sparse(data):\n"
     ]
    },
    {
     "name": "stdout",
     "output_type": "stream",
     "text": [
      "[CV 3/10; 3/10] END colsample_bytree=0.7000000000000001, gamma=7, learning_rate=1.6, max_depth=101, min_child_weight=5, n_estimators=151, reg_alpha=1, reg_lambda=4;, score=0.764 total time=  29.2s\n",
      "[CV 4/10; 3/10] START colsample_bytree=0.7000000000000001, gamma=7, learning_rate=1.6, max_depth=101, min_child_weight=5, n_estimators=151, reg_alpha=1, reg_lambda=4\n"
     ]
    },
    {
     "name": "stderr",
     "output_type": "stream",
     "text": [
      "c:\\Users\\Saurav\\anaconda3\\Lib\\site-packages\\xgboost\\data.py:440: FutureWarning: is_sparse is deprecated and will be removed in a future version. Check `isinstance(dtype, pd.SparseDtype)` instead.\n",
      "  if is_sparse(data):\n"
     ]
    },
    {
     "name": "stdout",
     "output_type": "stream",
     "text": [
      "[CV 4/10; 3/10] END colsample_bytree=0.7000000000000001, gamma=7, learning_rate=1.6, max_depth=101, min_child_weight=5, n_estimators=151, reg_alpha=1, reg_lambda=4;, score=0.785 total time=  29.1s\n",
      "[CV 5/10; 3/10] START colsample_bytree=0.7000000000000001, gamma=7, learning_rate=1.6, max_depth=101, min_child_weight=5, n_estimators=151, reg_alpha=1, reg_lambda=4\n"
     ]
    },
    {
     "name": "stderr",
     "output_type": "stream",
     "text": [
      "c:\\Users\\Saurav\\anaconda3\\Lib\\site-packages\\xgboost\\data.py:440: FutureWarning: is_sparse is deprecated and will be removed in a future version. Check `isinstance(dtype, pd.SparseDtype)` instead.\n",
      "  if is_sparse(data):\n"
     ]
    },
    {
     "name": "stdout",
     "output_type": "stream",
     "text": [
      "[CV 5/10; 3/10] END colsample_bytree=0.7000000000000001, gamma=7, learning_rate=1.6, max_depth=101, min_child_weight=5, n_estimators=151, reg_alpha=1, reg_lambda=4;, score=0.785 total time=  30.0s\n",
      "[CV 6/10; 3/10] START colsample_bytree=0.7000000000000001, gamma=7, learning_rate=1.6, max_depth=101, min_child_weight=5, n_estimators=151, reg_alpha=1, reg_lambda=4\n"
     ]
    },
    {
     "name": "stderr",
     "output_type": "stream",
     "text": [
      "c:\\Users\\Saurav\\anaconda3\\Lib\\site-packages\\xgboost\\data.py:440: FutureWarning: is_sparse is deprecated and will be removed in a future version. Check `isinstance(dtype, pd.SparseDtype)` instead.\n",
      "  if is_sparse(data):\n"
     ]
    },
    {
     "name": "stdout",
     "output_type": "stream",
     "text": [
      "[CV 6/10; 3/10] END colsample_bytree=0.7000000000000001, gamma=7, learning_rate=1.6, max_depth=101, min_child_weight=5, n_estimators=151, reg_alpha=1, reg_lambda=4;, score=0.754 total time=  32.8s\n",
      "[CV 7/10; 3/10] START colsample_bytree=0.7000000000000001, gamma=7, learning_rate=1.6, max_depth=101, min_child_weight=5, n_estimators=151, reg_alpha=1, reg_lambda=4\n"
     ]
    },
    {
     "name": "stderr",
     "output_type": "stream",
     "text": [
      "c:\\Users\\Saurav\\anaconda3\\Lib\\site-packages\\xgboost\\data.py:440: FutureWarning: is_sparse is deprecated and will be removed in a future version. Check `isinstance(dtype, pd.SparseDtype)` instead.\n",
      "  if is_sparse(data):\n"
     ]
    },
    {
     "name": "stdout",
     "output_type": "stream",
     "text": [
      "[CV 7/10; 3/10] END colsample_bytree=0.7000000000000001, gamma=7, learning_rate=1.6, max_depth=101, min_child_weight=5, n_estimators=151, reg_alpha=1, reg_lambda=4;, score=0.764 total time=  31.8s\n",
      "[CV 8/10; 3/10] START colsample_bytree=0.7000000000000001, gamma=7, learning_rate=1.6, max_depth=101, min_child_weight=5, n_estimators=151, reg_alpha=1, reg_lambda=4\n"
     ]
    },
    {
     "name": "stderr",
     "output_type": "stream",
     "text": [
      "c:\\Users\\Saurav\\anaconda3\\Lib\\site-packages\\xgboost\\data.py:440: FutureWarning: is_sparse is deprecated and will be removed in a future version. Check `isinstance(dtype, pd.SparseDtype)` instead.\n",
      "  if is_sparse(data):\n"
     ]
    },
    {
     "name": "stdout",
     "output_type": "stream",
     "text": [
      "[CV 8/10; 3/10] END colsample_bytree=0.7000000000000001, gamma=7, learning_rate=1.6, max_depth=101, min_child_weight=5, n_estimators=151, reg_alpha=1, reg_lambda=4;, score=0.779 total time=  31.3s\n",
      "[CV 9/10; 3/10] START colsample_bytree=0.7000000000000001, gamma=7, learning_rate=1.6, max_depth=101, min_child_weight=5, n_estimators=151, reg_alpha=1, reg_lambda=4\n"
     ]
    },
    {
     "name": "stderr",
     "output_type": "stream",
     "text": [
      "c:\\Users\\Saurav\\anaconda3\\Lib\\site-packages\\xgboost\\data.py:440: FutureWarning: is_sparse is deprecated and will be removed in a future version. Check `isinstance(dtype, pd.SparseDtype)` instead.\n",
      "  if is_sparse(data):\n"
     ]
    },
    {
     "name": "stdout",
     "output_type": "stream",
     "text": [
      "[CV 9/10; 3/10] END colsample_bytree=0.7000000000000001, gamma=7, learning_rate=1.6, max_depth=101, min_child_weight=5, n_estimators=151, reg_alpha=1, reg_lambda=4;, score=0.713 total time=  30.4s\n",
      "[CV 10/10; 3/10] START colsample_bytree=0.7000000000000001, gamma=7, learning_rate=1.6, max_depth=101, min_child_weight=5, n_estimators=151, reg_alpha=1, reg_lambda=4\n"
     ]
    },
    {
     "name": "stderr",
     "output_type": "stream",
     "text": [
      "c:\\Users\\Saurav\\anaconda3\\Lib\\site-packages\\xgboost\\data.py:440: FutureWarning: is_sparse is deprecated and will be removed in a future version. Check `isinstance(dtype, pd.SparseDtype)` instead.\n",
      "  if is_sparse(data):\n"
     ]
    },
    {
     "name": "stdout",
     "output_type": "stream",
     "text": [
      "[CV 10/10; 3/10] END colsample_bytree=0.7000000000000001, gamma=7, learning_rate=1.6, max_depth=101, min_child_weight=5, n_estimators=151, reg_alpha=1, reg_lambda=4;, score=0.785 total time=  29.9s\n",
      "[CV 1/10; 4/10] START colsample_bytree=0.9, gamma=4, learning_rate=0.9, max_depth=1, min_child_weight=10, n_estimators=101, reg_alpha=101, reg_lambda=1\n"
     ]
    },
    {
     "name": "stderr",
     "output_type": "stream",
     "text": [
      "c:\\Users\\Saurav\\anaconda3\\Lib\\site-packages\\xgboost\\data.py:440: FutureWarning: is_sparse is deprecated and will be removed in a future version. Check `isinstance(dtype, pd.SparseDtype)` instead.\n",
      "  if is_sparse(data):\n"
     ]
    },
    {
     "name": "stdout",
     "output_type": "stream",
     "text": [
      "[CV 1/10; 4/10] END colsample_bytree=0.9, gamma=4, learning_rate=0.9, max_depth=1, min_child_weight=10, n_estimators=101, reg_alpha=101, reg_lambda=1;, score=0.617 total time=   8.1s\n",
      "[CV 2/10; 4/10] START colsample_bytree=0.9, gamma=4, learning_rate=0.9, max_depth=1, min_child_weight=10, n_estimators=101, reg_alpha=101, reg_lambda=1\n"
     ]
    },
    {
     "name": "stderr",
     "output_type": "stream",
     "text": [
      "c:\\Users\\Saurav\\anaconda3\\Lib\\site-packages\\xgboost\\data.py:440: FutureWarning: is_sparse is deprecated and will be removed in a future version. Check `isinstance(dtype, pd.SparseDtype)` instead.\n",
      "  if is_sparse(data):\n"
     ]
    },
    {
     "name": "stdout",
     "output_type": "stream",
     "text": [
      "[CV 2/10; 4/10] END colsample_bytree=0.9, gamma=4, learning_rate=0.9, max_depth=1, min_child_weight=10, n_estimators=101, reg_alpha=101, reg_lambda=1;, score=0.566 total time=   7.6s\n",
      "[CV 3/10; 4/10] START colsample_bytree=0.9, gamma=4, learning_rate=0.9, max_depth=1, min_child_weight=10, n_estimators=101, reg_alpha=101, reg_lambda=1\n"
     ]
    },
    {
     "name": "stderr",
     "output_type": "stream",
     "text": [
      "c:\\Users\\Saurav\\anaconda3\\Lib\\site-packages\\xgboost\\data.py:440: FutureWarning: is_sparse is deprecated and will be removed in a future version. Check `isinstance(dtype, pd.SparseDtype)` instead.\n",
      "  if is_sparse(data):\n"
     ]
    },
    {
     "name": "stdout",
     "output_type": "stream",
     "text": [
      "[CV 3/10; 4/10] END colsample_bytree=0.9, gamma=4, learning_rate=0.9, max_depth=1, min_child_weight=10, n_estimators=101, reg_alpha=101, reg_lambda=1;, score=0.636 total time=   7.8s\n",
      "[CV 4/10; 4/10] START colsample_bytree=0.9, gamma=4, learning_rate=0.9, max_depth=1, min_child_weight=10, n_estimators=101, reg_alpha=101, reg_lambda=1\n"
     ]
    },
    {
     "name": "stderr",
     "output_type": "stream",
     "text": [
      "c:\\Users\\Saurav\\anaconda3\\Lib\\site-packages\\xgboost\\data.py:440: FutureWarning: is_sparse is deprecated and will be removed in a future version. Check `isinstance(dtype, pd.SparseDtype)` instead.\n",
      "  if is_sparse(data):\n"
     ]
    },
    {
     "name": "stdout",
     "output_type": "stream",
     "text": [
      "[CV 4/10; 4/10] END colsample_bytree=0.9, gamma=4, learning_rate=0.9, max_depth=1, min_child_weight=10, n_estimators=101, reg_alpha=101, reg_lambda=1;, score=0.656 total time=   7.7s\n",
      "[CV 5/10; 4/10] START colsample_bytree=0.9, gamma=4, learning_rate=0.9, max_depth=1, min_child_weight=10, n_estimators=101, reg_alpha=101, reg_lambda=1\n"
     ]
    },
    {
     "name": "stderr",
     "output_type": "stream",
     "text": [
      "c:\\Users\\Saurav\\anaconda3\\Lib\\site-packages\\xgboost\\data.py:440: FutureWarning: is_sparse is deprecated and will be removed in a future version. Check `isinstance(dtype, pd.SparseDtype)` instead.\n",
      "  if is_sparse(data):\n"
     ]
    },
    {
     "name": "stdout",
     "output_type": "stream",
     "text": [
      "[CV 5/10; 4/10] END colsample_bytree=0.9, gamma=4, learning_rate=0.9, max_depth=1, min_child_weight=10, n_estimators=101, reg_alpha=101, reg_lambda=1;, score=0.621 total time=   7.8s\n",
      "[CV 6/10; 4/10] START colsample_bytree=0.9, gamma=4, learning_rate=0.9, max_depth=1, min_child_weight=10, n_estimators=101, reg_alpha=101, reg_lambda=1\n"
     ]
    },
    {
     "name": "stderr",
     "output_type": "stream",
     "text": [
      "c:\\Users\\Saurav\\anaconda3\\Lib\\site-packages\\xgboost\\data.py:440: FutureWarning: is_sparse is deprecated and will be removed in a future version. Check `isinstance(dtype, pd.SparseDtype)` instead.\n",
      "  if is_sparse(data):\n"
     ]
    },
    {
     "name": "stdout",
     "output_type": "stream",
     "text": [
      "[CV 6/10; 4/10] END colsample_bytree=0.9, gamma=4, learning_rate=0.9, max_depth=1, min_child_weight=10, n_estimators=101, reg_alpha=101, reg_lambda=1;, score=0.621 total time=   8.0s\n",
      "[CV 7/10; 4/10] START colsample_bytree=0.9, gamma=4, learning_rate=0.9, max_depth=1, min_child_weight=10, n_estimators=101, reg_alpha=101, reg_lambda=1\n"
     ]
    },
    {
     "name": "stderr",
     "output_type": "stream",
     "text": [
      "c:\\Users\\Saurav\\anaconda3\\Lib\\site-packages\\xgboost\\data.py:440: FutureWarning: is_sparse is deprecated and will be removed in a future version. Check `isinstance(dtype, pd.SparseDtype)` instead.\n",
      "  if is_sparse(data):\n"
     ]
    },
    {
     "name": "stdout",
     "output_type": "stream",
     "text": [
      "[CV 7/10; 4/10] END colsample_bytree=0.9, gamma=4, learning_rate=0.9, max_depth=1, min_child_weight=10, n_estimators=101, reg_alpha=101, reg_lambda=1;, score=0.646 total time=   7.8s\n",
      "[CV 8/10; 4/10] START colsample_bytree=0.9, gamma=4, learning_rate=0.9, max_depth=1, min_child_weight=10, n_estimators=101, reg_alpha=101, reg_lambda=1\n"
     ]
    },
    {
     "name": "stderr",
     "output_type": "stream",
     "text": [
      "c:\\Users\\Saurav\\anaconda3\\Lib\\site-packages\\xgboost\\data.py:440: FutureWarning: is_sparse is deprecated and will be removed in a future version. Check `isinstance(dtype, pd.SparseDtype)` instead.\n",
      "  if is_sparse(data):\n"
     ]
    },
    {
     "name": "stdout",
     "output_type": "stream",
     "text": [
      "[CV 8/10; 4/10] END colsample_bytree=0.9, gamma=4, learning_rate=0.9, max_depth=1, min_child_weight=10, n_estimators=101, reg_alpha=101, reg_lambda=1;, score=0.662 total time=   7.8s\n",
      "[CV 9/10; 4/10] START colsample_bytree=0.9, gamma=4, learning_rate=0.9, max_depth=1, min_child_weight=10, n_estimators=101, reg_alpha=101, reg_lambda=1\n"
     ]
    },
    {
     "name": "stderr",
     "output_type": "stream",
     "text": [
      "c:\\Users\\Saurav\\anaconda3\\Lib\\site-packages\\xgboost\\data.py:440: FutureWarning: is_sparse is deprecated and will be removed in a future version. Check `isinstance(dtype, pd.SparseDtype)` instead.\n",
      "  if is_sparse(data):\n"
     ]
    },
    {
     "name": "stdout",
     "output_type": "stream",
     "text": [
      "[CV 9/10; 4/10] END colsample_bytree=0.9, gamma=4, learning_rate=0.9, max_depth=1, min_child_weight=10, n_estimators=101, reg_alpha=101, reg_lambda=1;, score=0.646 total time=   7.7s\n",
      "[CV 10/10; 4/10] START colsample_bytree=0.9, gamma=4, learning_rate=0.9, max_depth=1, min_child_weight=10, n_estimators=101, reg_alpha=101, reg_lambda=1\n"
     ]
    },
    {
     "name": "stderr",
     "output_type": "stream",
     "text": [
      "c:\\Users\\Saurav\\anaconda3\\Lib\\site-packages\\xgboost\\data.py:440: FutureWarning: is_sparse is deprecated and will be removed in a future version. Check `isinstance(dtype, pd.SparseDtype)` instead.\n",
      "  if is_sparse(data):\n"
     ]
    },
    {
     "name": "stdout",
     "output_type": "stream",
     "text": [
      "[CV 10/10; 4/10] END colsample_bytree=0.9, gamma=4, learning_rate=0.9, max_depth=1, min_child_weight=10, n_estimators=101, reg_alpha=101, reg_lambda=1;, score=0.672 total time=   7.7s\n",
      "[CV 1/10; 5/10] START colsample_bytree=0.4, gamma=4, learning_rate=0.30000000000000004, max_depth=201, min_child_weight=35, n_estimators=251, reg_alpha=161, reg_lambda=0\n"
     ]
    },
    {
     "name": "stderr",
     "output_type": "stream",
     "text": [
      "c:\\Users\\Saurav\\anaconda3\\Lib\\site-packages\\xgboost\\data.py:440: FutureWarning: is_sparse is deprecated and will be removed in a future version. Check `isinstance(dtype, pd.SparseDtype)` instead.\n",
      "  if is_sparse(data):\n"
     ]
    },
    {
     "name": "stdout",
     "output_type": "stream",
     "text": [
      "[CV 1/10; 5/10] END colsample_bytree=0.4, gamma=4, learning_rate=0.30000000000000004, max_depth=201, min_child_weight=35, n_estimators=251, reg_alpha=161, reg_lambda=0;, score=0.301 total time=  11.5s\n",
      "[CV 2/10; 5/10] START colsample_bytree=0.4, gamma=4, learning_rate=0.30000000000000004, max_depth=201, min_child_weight=35, n_estimators=251, reg_alpha=161, reg_lambda=0\n"
     ]
    },
    {
     "name": "stderr",
     "output_type": "stream",
     "text": [
      "c:\\Users\\Saurav\\anaconda3\\Lib\\site-packages\\xgboost\\data.py:440: FutureWarning: is_sparse is deprecated and will be removed in a future version. Check `isinstance(dtype, pd.SparseDtype)` instead.\n",
      "  if is_sparse(data):\n"
     ]
    },
    {
     "name": "stdout",
     "output_type": "stream",
     "text": [
      "[CV 2/10; 5/10] END colsample_bytree=0.4, gamma=4, learning_rate=0.30000000000000004, max_depth=201, min_child_weight=35, n_estimators=251, reg_alpha=161, reg_lambda=0;, score=0.327 total time=  11.9s\n",
      "[CV 3/10; 5/10] START colsample_bytree=0.4, gamma=4, learning_rate=0.30000000000000004, max_depth=201, min_child_weight=35, n_estimators=251, reg_alpha=161, reg_lambda=0\n"
     ]
    },
    {
     "name": "stderr",
     "output_type": "stream",
     "text": [
      "c:\\Users\\Saurav\\anaconda3\\Lib\\site-packages\\xgboost\\data.py:440: FutureWarning: is_sparse is deprecated and will be removed in a future version. Check `isinstance(dtype, pd.SparseDtype)` instead.\n",
      "  if is_sparse(data):\n"
     ]
    },
    {
     "name": "stdout",
     "output_type": "stream",
     "text": [
      "[CV 3/10; 5/10] END colsample_bytree=0.4, gamma=4, learning_rate=0.30000000000000004, max_depth=201, min_child_weight=35, n_estimators=251, reg_alpha=161, reg_lambda=0;, score=0.297 total time=  11.6s\n",
      "[CV 4/10; 5/10] START colsample_bytree=0.4, gamma=4, learning_rate=0.30000000000000004, max_depth=201, min_child_weight=35, n_estimators=251, reg_alpha=161, reg_lambda=0\n"
     ]
    },
    {
     "name": "stderr",
     "output_type": "stream",
     "text": [
      "c:\\Users\\Saurav\\anaconda3\\Lib\\site-packages\\xgboost\\data.py:440: FutureWarning: is_sparse is deprecated and will be removed in a future version. Check `isinstance(dtype, pd.SparseDtype)` instead.\n",
      "  if is_sparse(data):\n"
     ]
    },
    {
     "name": "stdout",
     "output_type": "stream",
     "text": [
      "[CV 4/10; 5/10] END colsample_bytree=0.4, gamma=4, learning_rate=0.30000000000000004, max_depth=201, min_child_weight=35, n_estimators=251, reg_alpha=161, reg_lambda=0;, score=0.323 total time=  11.5s\n",
      "[CV 5/10; 5/10] START colsample_bytree=0.4, gamma=4, learning_rate=0.30000000000000004, max_depth=201, min_child_weight=35, n_estimators=251, reg_alpha=161, reg_lambda=0\n"
     ]
    },
    {
     "name": "stderr",
     "output_type": "stream",
     "text": [
      "c:\\Users\\Saurav\\anaconda3\\Lib\\site-packages\\xgboost\\data.py:440: FutureWarning: is_sparse is deprecated and will be removed in a future version. Check `isinstance(dtype, pd.SparseDtype)` instead.\n",
      "  if is_sparse(data):\n"
     ]
    },
    {
     "name": "stdout",
     "output_type": "stream",
     "text": [
      "[CV 5/10; 5/10] END colsample_bytree=0.4, gamma=4, learning_rate=0.30000000000000004, max_depth=201, min_child_weight=35, n_estimators=251, reg_alpha=161, reg_lambda=0;, score=0.333 total time=  11.5s\n",
      "[CV 6/10; 5/10] START colsample_bytree=0.4, gamma=4, learning_rate=0.30000000000000004, max_depth=201, min_child_weight=35, n_estimators=251, reg_alpha=161, reg_lambda=0\n"
     ]
    },
    {
     "name": "stderr",
     "output_type": "stream",
     "text": [
      "c:\\Users\\Saurav\\anaconda3\\Lib\\site-packages\\xgboost\\data.py:440: FutureWarning: is_sparse is deprecated and will be removed in a future version. Check `isinstance(dtype, pd.SparseDtype)` instead.\n",
      "  if is_sparse(data):\n"
     ]
    },
    {
     "name": "stdout",
     "output_type": "stream",
     "text": [
      "[CV 6/10; 5/10] END colsample_bytree=0.4, gamma=4, learning_rate=0.30000000000000004, max_depth=201, min_child_weight=35, n_estimators=251, reg_alpha=161, reg_lambda=0;, score=0.333 total time=  11.7s\n",
      "[CV 7/10; 5/10] START colsample_bytree=0.4, gamma=4, learning_rate=0.30000000000000004, max_depth=201, min_child_weight=35, n_estimators=251, reg_alpha=161, reg_lambda=0\n"
     ]
    },
    {
     "name": "stderr",
     "output_type": "stream",
     "text": [
      "c:\\Users\\Saurav\\anaconda3\\Lib\\site-packages\\xgboost\\data.py:440: FutureWarning: is_sparse is deprecated and will be removed in a future version. Check `isinstance(dtype, pd.SparseDtype)` instead.\n",
      "  if is_sparse(data):\n"
     ]
    },
    {
     "name": "stdout",
     "output_type": "stream",
     "text": [
      "[CV 7/10; 5/10] END colsample_bytree=0.4, gamma=4, learning_rate=0.30000000000000004, max_depth=201, min_child_weight=35, n_estimators=251, reg_alpha=161, reg_lambda=0;, score=0.333 total time=  11.7s\n",
      "[CV 8/10; 5/10] START colsample_bytree=0.4, gamma=4, learning_rate=0.30000000000000004, max_depth=201, min_child_weight=35, n_estimators=251, reg_alpha=161, reg_lambda=0\n"
     ]
    },
    {
     "name": "stderr",
     "output_type": "stream",
     "text": [
      "c:\\Users\\Saurav\\anaconda3\\Lib\\site-packages\\xgboost\\data.py:440: FutureWarning: is_sparse is deprecated and will be removed in a future version. Check `isinstance(dtype, pd.SparseDtype)` instead.\n",
      "  if is_sparse(data):\n"
     ]
    },
    {
     "name": "stdout",
     "output_type": "stream",
     "text": [
      "[CV 8/10; 5/10] END colsample_bytree=0.4, gamma=4, learning_rate=0.30000000000000004, max_depth=201, min_child_weight=35, n_estimators=251, reg_alpha=161, reg_lambda=0;, score=0.349 total time=  11.5s\n",
      "[CV 9/10; 5/10] START colsample_bytree=0.4, gamma=4, learning_rate=0.30000000000000004, max_depth=201, min_child_weight=35, n_estimators=251, reg_alpha=161, reg_lambda=0\n"
     ]
    },
    {
     "name": "stderr",
     "output_type": "stream",
     "text": [
      "c:\\Users\\Saurav\\anaconda3\\Lib\\site-packages\\xgboost\\data.py:440: FutureWarning: is_sparse is deprecated and will be removed in a future version. Check `isinstance(dtype, pd.SparseDtype)` instead.\n",
      "  if is_sparse(data):\n"
     ]
    },
    {
     "name": "stdout",
     "output_type": "stream",
     "text": [
      "[CV 9/10; 5/10] END colsample_bytree=0.4, gamma=4, learning_rate=0.30000000000000004, max_depth=201, min_child_weight=35, n_estimators=251, reg_alpha=161, reg_lambda=0;, score=0.344 total time=  11.8s\n",
      "[CV 10/10; 5/10] START colsample_bytree=0.4, gamma=4, learning_rate=0.30000000000000004, max_depth=201, min_child_weight=35, n_estimators=251, reg_alpha=161, reg_lambda=0\n"
     ]
    },
    {
     "name": "stderr",
     "output_type": "stream",
     "text": [
      "c:\\Users\\Saurav\\anaconda3\\Lib\\site-packages\\xgboost\\data.py:440: FutureWarning: is_sparse is deprecated and will be removed in a future version. Check `isinstance(dtype, pd.SparseDtype)` instead.\n",
      "  if is_sparse(data):\n"
     ]
    },
    {
     "name": "stdout",
     "output_type": "stream",
     "text": [
      "[CV 10/10; 5/10] END colsample_bytree=0.4, gamma=4, learning_rate=0.30000000000000004, max_depth=201, min_child_weight=35, n_estimators=251, reg_alpha=161, reg_lambda=0;, score=0.328 total time=  11.5s\n",
      "[CV 1/10; 6/10] START colsample_bytree=0.1, gamma=1, learning_rate=0.2, max_depth=251, min_child_weight=30, n_estimators=1, reg_alpha=21, reg_lambda=1\n",
      "[CV 1/10; 6/10] END colsample_bytree=0.1, gamma=1, learning_rate=0.2, max_depth=251, min_child_weight=30, n_estimators=1, reg_alpha=21, reg_lambda=1;, score=0.556 total time=   0.0s\n",
      "[CV 2/10; 6/10] START colsample_bytree=0.1, gamma=1, learning_rate=0.2, max_depth=251, min_child_weight=30, n_estimators=1, reg_alpha=21, reg_lambda=1\n",
      "[CV 2/10; 6/10] END colsample_bytree=0.1, gamma=1, learning_rate=0.2, max_depth=251, min_child_weight=30, n_estimators=1, reg_alpha=21, reg_lambda=1;, score=0.561 total time=   0.0s\n",
      "[CV 3/10; 6/10] START colsample_bytree=0.1, gamma=1, learning_rate=0.2, max_depth=251, min_child_weight=30, n_estimators=1, reg_alpha=21, reg_lambda=1\n"
     ]
    },
    {
     "name": "stderr",
     "output_type": "stream",
     "text": [
      "c:\\Users\\Saurav\\anaconda3\\Lib\\site-packages\\xgboost\\data.py:440: FutureWarning: is_sparse is deprecated and will be removed in a future version. Check `isinstance(dtype, pd.SparseDtype)` instead.\n",
      "  if is_sparse(data):\n",
      "c:\\Users\\Saurav\\anaconda3\\Lib\\site-packages\\xgboost\\data.py:440: FutureWarning: is_sparse is deprecated and will be removed in a future version. Check `isinstance(dtype, pd.SparseDtype)` instead.\n",
      "  if is_sparse(data):\n",
      "c:\\Users\\Saurav\\anaconda3\\Lib\\site-packages\\xgboost\\data.py:440: FutureWarning: is_sparse is deprecated and will be removed in a future version. Check `isinstance(dtype, pd.SparseDtype)` instead.\n",
      "  if is_sparse(data):\n"
     ]
    },
    {
     "name": "stdout",
     "output_type": "stream",
     "text": [
      "[CV 3/10; 6/10] END colsample_bytree=0.1, gamma=1, learning_rate=0.2, max_depth=251, min_child_weight=30, n_estimators=1, reg_alpha=21, reg_lambda=1;, score=0.533 total time=   0.0s\n",
      "[CV 4/10; 6/10] START colsample_bytree=0.1, gamma=1, learning_rate=0.2, max_depth=251, min_child_weight=30, n_estimators=1, reg_alpha=21, reg_lambda=1\n",
      "[CV 4/10; 6/10] END colsample_bytree=0.1, gamma=1, learning_rate=0.2, max_depth=251, min_child_weight=30, n_estimators=1, reg_alpha=21, reg_lambda=1;, score=0.544 total time=   0.0s\n",
      "[CV 5/10; 6/10] START colsample_bytree=0.1, gamma=1, learning_rate=0.2, max_depth=251, min_child_weight=30, n_estimators=1, reg_alpha=21, reg_lambda=1\n",
      "[CV 5/10; 6/10] END colsample_bytree=0.1, gamma=1, learning_rate=0.2, max_depth=251, min_child_weight=30, n_estimators=1, reg_alpha=21, reg_lambda=1;, score=0.559 total time=   0.0s\n",
      "[CV 6/10; 6/10] START colsample_bytree=0.1, gamma=1, learning_rate=0.2, max_depth=251, min_child_weight=30, n_estimators=1, reg_alpha=21, reg_lambda=1\n"
     ]
    },
    {
     "name": "stderr",
     "output_type": "stream",
     "text": [
      "c:\\Users\\Saurav\\anaconda3\\Lib\\site-packages\\xgboost\\data.py:440: FutureWarning: is_sparse is deprecated and will be removed in a future version. Check `isinstance(dtype, pd.SparseDtype)` instead.\n",
      "  if is_sparse(data):\n",
      "c:\\Users\\Saurav\\anaconda3\\Lib\\site-packages\\xgboost\\data.py:440: FutureWarning: is_sparse is deprecated and will be removed in a future version. Check `isinstance(dtype, pd.SparseDtype)` instead.\n",
      "  if is_sparse(data):\n",
      "c:\\Users\\Saurav\\anaconda3\\Lib\\site-packages\\xgboost\\data.py:440: FutureWarning: is_sparse is deprecated and will be removed in a future version. Check `isinstance(dtype, pd.SparseDtype)` instead.\n",
      "  if is_sparse(data):\n"
     ]
    },
    {
     "name": "stdout",
     "output_type": "stream",
     "text": [
      "[CV 6/10; 6/10] END colsample_bytree=0.1, gamma=1, learning_rate=0.2, max_depth=251, min_child_weight=30, n_estimators=1, reg_alpha=21, reg_lambda=1;, score=0.585 total time=   0.0s\n",
      "[CV 7/10; 6/10] START colsample_bytree=0.1, gamma=1, learning_rate=0.2, max_depth=251, min_child_weight=30, n_estimators=1, reg_alpha=21, reg_lambda=1\n",
      "[CV 7/10; 6/10] END colsample_bytree=0.1, gamma=1, learning_rate=0.2, max_depth=251, min_child_weight=30, n_estimators=1, reg_alpha=21, reg_lambda=1;, score=0.600 total time=   0.0s\n",
      "[CV 8/10; 6/10] START colsample_bytree=0.1, gamma=1, learning_rate=0.2, max_depth=251, min_child_weight=30, n_estimators=1, reg_alpha=21, reg_lambda=1\n",
      "[CV 8/10; 6/10] END colsample_bytree=0.1, gamma=1, learning_rate=0.2, max_depth=251, min_child_weight=30, n_estimators=1, reg_alpha=21, reg_lambda=1;, score=0.544 total time=   0.0s\n",
      "[CV 9/10; 6/10] START colsample_bytree=0.1, gamma=1, learning_rate=0.2, max_depth=251, min_child_weight=30, n_estimators=1, reg_alpha=21, reg_lambda=1\n"
     ]
    },
    {
     "name": "stderr",
     "output_type": "stream",
     "text": [
      "c:\\Users\\Saurav\\anaconda3\\Lib\\site-packages\\xgboost\\data.py:440: FutureWarning: is_sparse is deprecated and will be removed in a future version. Check `isinstance(dtype, pd.SparseDtype)` instead.\n",
      "  if is_sparse(data):\n",
      "c:\\Users\\Saurav\\anaconda3\\Lib\\site-packages\\xgboost\\data.py:440: FutureWarning: is_sparse is deprecated and will be removed in a future version. Check `isinstance(dtype, pd.SparseDtype)` instead.\n",
      "  if is_sparse(data):\n",
      "c:\\Users\\Saurav\\anaconda3\\Lib\\site-packages\\xgboost\\data.py:440: FutureWarning: is_sparse is deprecated and will be removed in a future version. Check `isinstance(dtype, pd.SparseDtype)` instead.\n",
      "  if is_sparse(data):\n"
     ]
    },
    {
     "name": "stdout",
     "output_type": "stream",
     "text": [
      "[CV 9/10; 6/10] END colsample_bytree=0.1, gamma=1, learning_rate=0.2, max_depth=251, min_child_weight=30, n_estimators=1, reg_alpha=21, reg_lambda=1;, score=0.554 total time=   0.0s\n",
      "[CV 10/10; 6/10] START colsample_bytree=0.1, gamma=1, learning_rate=0.2, max_depth=251, min_child_weight=30, n_estimators=1, reg_alpha=21, reg_lambda=1\n",
      "[CV 10/10; 6/10] END colsample_bytree=0.1, gamma=1, learning_rate=0.2, max_depth=251, min_child_weight=30, n_estimators=1, reg_alpha=21, reg_lambda=1;, score=0.544 total time=   0.0s\n",
      "[CV 1/10; 7/10] START colsample_bytree=0.4, gamma=1, learning_rate=0.2, max_depth=101, min_child_weight=30, n_estimators=251, reg_alpha=241, reg_lambda=1\n"
     ]
    },
    {
     "name": "stderr",
     "output_type": "stream",
     "text": [
      "c:\\Users\\Saurav\\anaconda3\\Lib\\site-packages\\xgboost\\data.py:440: FutureWarning: is_sparse is deprecated and will be removed in a future version. Check `isinstance(dtype, pd.SparseDtype)` instead.\n",
      "  if is_sparse(data):\n",
      "c:\\Users\\Saurav\\anaconda3\\Lib\\site-packages\\xgboost\\data.py:440: FutureWarning: is_sparse is deprecated and will be removed in a future version. Check `isinstance(dtype, pd.SparseDtype)` instead.\n",
      "  if is_sparse(data):\n"
     ]
    },
    {
     "name": "stdout",
     "output_type": "stream",
     "text": [
      "[CV 1/10; 7/10] END colsample_bytree=0.4, gamma=1, learning_rate=0.2, max_depth=101, min_child_weight=30, n_estimators=251, reg_alpha=241, reg_lambda=1;, score=0.204 total time=  11.1s\n",
      "[CV 2/10; 7/10] START colsample_bytree=0.4, gamma=1, learning_rate=0.2, max_depth=101, min_child_weight=30, n_estimators=251, reg_alpha=241, reg_lambda=1\n"
     ]
    },
    {
     "name": "stderr",
     "output_type": "stream",
     "text": [
      "c:\\Users\\Saurav\\anaconda3\\Lib\\site-packages\\xgboost\\data.py:440: FutureWarning: is_sparse is deprecated and will be removed in a future version. Check `isinstance(dtype, pd.SparseDtype)` instead.\n",
      "  if is_sparse(data):\n"
     ]
    },
    {
     "name": "stdout",
     "output_type": "stream",
     "text": [
      "[CV 2/10; 7/10] END colsample_bytree=0.4, gamma=1, learning_rate=0.2, max_depth=101, min_child_weight=30, n_estimators=251, reg_alpha=241, reg_lambda=1;, score=0.204 total time=  11.1s\n",
      "[CV 3/10; 7/10] START colsample_bytree=0.4, gamma=1, learning_rate=0.2, max_depth=101, min_child_weight=30, n_estimators=251, reg_alpha=241, reg_lambda=1\n"
     ]
    },
    {
     "name": "stderr",
     "output_type": "stream",
     "text": [
      "c:\\Users\\Saurav\\anaconda3\\Lib\\site-packages\\xgboost\\data.py:440: FutureWarning: is_sparse is deprecated and will be removed in a future version. Check `isinstance(dtype, pd.SparseDtype)` instead.\n",
      "  if is_sparse(data):\n"
     ]
    },
    {
     "name": "stdout",
     "output_type": "stream",
     "text": [
      "[CV 3/10; 7/10] END colsample_bytree=0.4, gamma=1, learning_rate=0.2, max_depth=101, min_child_weight=30, n_estimators=251, reg_alpha=241, reg_lambda=1;, score=0.200 total time=  11.1s\n",
      "[CV 4/10; 7/10] START colsample_bytree=0.4, gamma=1, learning_rate=0.2, max_depth=101, min_child_weight=30, n_estimators=251, reg_alpha=241, reg_lambda=1\n"
     ]
    },
    {
     "name": "stderr",
     "output_type": "stream",
     "text": [
      "c:\\Users\\Saurav\\anaconda3\\Lib\\site-packages\\xgboost\\data.py:440: FutureWarning: is_sparse is deprecated and will be removed in a future version. Check `isinstance(dtype, pd.SparseDtype)` instead.\n",
      "  if is_sparse(data):\n"
     ]
    },
    {
     "name": "stdout",
     "output_type": "stream",
     "text": [
      "[CV 4/10; 7/10] END colsample_bytree=0.4, gamma=1, learning_rate=0.2, max_depth=101, min_child_weight=30, n_estimators=251, reg_alpha=241, reg_lambda=1;, score=0.200 total time=  11.1s\n",
      "[CV 5/10; 7/10] START colsample_bytree=0.4, gamma=1, learning_rate=0.2, max_depth=101, min_child_weight=30, n_estimators=251, reg_alpha=241, reg_lambda=1\n"
     ]
    },
    {
     "name": "stderr",
     "output_type": "stream",
     "text": [
      "c:\\Users\\Saurav\\anaconda3\\Lib\\site-packages\\xgboost\\data.py:440: FutureWarning: is_sparse is deprecated and will be removed in a future version. Check `isinstance(dtype, pd.SparseDtype)` instead.\n",
      "  if is_sparse(data):\n"
     ]
    },
    {
     "name": "stdout",
     "output_type": "stream",
     "text": [
      "[CV 5/10; 7/10] END colsample_bytree=0.4, gamma=1, learning_rate=0.2, max_depth=101, min_child_weight=30, n_estimators=251, reg_alpha=241, reg_lambda=1;, score=0.200 total time=  11.2s\n",
      "[CV 6/10; 7/10] START colsample_bytree=0.4, gamma=1, learning_rate=0.2, max_depth=101, min_child_weight=30, n_estimators=251, reg_alpha=241, reg_lambda=1\n"
     ]
    },
    {
     "name": "stderr",
     "output_type": "stream",
     "text": [
      "c:\\Users\\Saurav\\anaconda3\\Lib\\site-packages\\xgboost\\data.py:440: FutureWarning: is_sparse is deprecated and will be removed in a future version. Check `isinstance(dtype, pd.SparseDtype)` instead.\n",
      "  if is_sparse(data):\n"
     ]
    },
    {
     "name": "stdout",
     "output_type": "stream",
     "text": [
      "[CV 6/10; 7/10] END colsample_bytree=0.4, gamma=1, learning_rate=0.2, max_depth=101, min_child_weight=30, n_estimators=251, reg_alpha=241, reg_lambda=1;, score=0.205 total time=  11.4s\n",
      "[CV 7/10; 7/10] START colsample_bytree=0.4, gamma=1, learning_rate=0.2, max_depth=101, min_child_weight=30, n_estimators=251, reg_alpha=241, reg_lambda=1\n"
     ]
    },
    {
     "name": "stderr",
     "output_type": "stream",
     "text": [
      "c:\\Users\\Saurav\\anaconda3\\Lib\\site-packages\\xgboost\\data.py:440: FutureWarning: is_sparse is deprecated and will be removed in a future version. Check `isinstance(dtype, pd.SparseDtype)` instead.\n",
      "  if is_sparse(data):\n"
     ]
    },
    {
     "name": "stdout",
     "output_type": "stream",
     "text": [
      "[CV 7/10; 7/10] END colsample_bytree=0.4, gamma=1, learning_rate=0.2, max_depth=101, min_child_weight=30, n_estimators=251, reg_alpha=241, reg_lambda=1;, score=0.205 total time=  11.3s\n",
      "[CV 8/10; 7/10] START colsample_bytree=0.4, gamma=1, learning_rate=0.2, max_depth=101, min_child_weight=30, n_estimators=251, reg_alpha=241, reg_lambda=1\n"
     ]
    },
    {
     "name": "stderr",
     "output_type": "stream",
     "text": [
      "c:\\Users\\Saurav\\anaconda3\\Lib\\site-packages\\xgboost\\data.py:440: FutureWarning: is_sparse is deprecated and will be removed in a future version. Check `isinstance(dtype, pd.SparseDtype)` instead.\n",
      "  if is_sparse(data):\n"
     ]
    },
    {
     "name": "stdout",
     "output_type": "stream",
     "text": [
      "[CV 8/10; 7/10] END colsample_bytree=0.4, gamma=1, learning_rate=0.2, max_depth=101, min_child_weight=30, n_estimators=251, reg_alpha=241, reg_lambda=1;, score=0.205 total time=  11.2s\n",
      "[CV 9/10; 7/10] START colsample_bytree=0.4, gamma=1, learning_rate=0.2, max_depth=101, min_child_weight=30, n_estimators=251, reg_alpha=241, reg_lambda=1\n"
     ]
    },
    {
     "name": "stderr",
     "output_type": "stream",
     "text": [
      "c:\\Users\\Saurav\\anaconda3\\Lib\\site-packages\\xgboost\\data.py:440: FutureWarning: is_sparse is deprecated and will be removed in a future version. Check `isinstance(dtype, pd.SparseDtype)` instead.\n",
      "  if is_sparse(data):\n"
     ]
    },
    {
     "name": "stdout",
     "output_type": "stream",
     "text": [
      "[CV 9/10; 7/10] END colsample_bytree=0.4, gamma=1, learning_rate=0.2, max_depth=101, min_child_weight=30, n_estimators=251, reg_alpha=241, reg_lambda=1;, score=0.205 total time=  11.2s\n",
      "[CV 10/10; 7/10] START colsample_bytree=0.4, gamma=1, learning_rate=0.2, max_depth=101, min_child_weight=30, n_estimators=251, reg_alpha=241, reg_lambda=1\n"
     ]
    },
    {
     "name": "stderr",
     "output_type": "stream",
     "text": [
      "c:\\Users\\Saurav\\anaconda3\\Lib\\site-packages\\xgboost\\data.py:440: FutureWarning: is_sparse is deprecated and will be removed in a future version. Check `isinstance(dtype, pd.SparseDtype)` instead.\n",
      "  if is_sparse(data):\n"
     ]
    },
    {
     "name": "stdout",
     "output_type": "stream",
     "text": [
      "[CV 10/10; 7/10] END colsample_bytree=0.4, gamma=1, learning_rate=0.2, max_depth=101, min_child_weight=30, n_estimators=251, reg_alpha=241, reg_lambda=1;, score=0.205 total time=  11.6s\n",
      "[CV 1/10; 8/10] START colsample_bytree=0.4, gamma=4, learning_rate=1.6, max_depth=151, min_child_weight=35, n_estimators=351, reg_alpha=321, reg_lambda=1\n"
     ]
    },
    {
     "name": "stderr",
     "output_type": "stream",
     "text": [
      "c:\\Users\\Saurav\\anaconda3\\Lib\\site-packages\\xgboost\\data.py:440: FutureWarning: is_sparse is deprecated and will be removed in a future version. Check `isinstance(dtype, pd.SparseDtype)` instead.\n",
      "  if is_sparse(data):\n"
     ]
    },
    {
     "name": "stdout",
     "output_type": "stream",
     "text": [
      "[CV 1/10; 8/10] END colsample_bytree=0.4, gamma=4, learning_rate=1.6, max_depth=151, min_child_weight=35, n_estimators=351, reg_alpha=321, reg_lambda=1;, score=0.204 total time=  15.7s\n",
      "[CV 2/10; 8/10] START colsample_bytree=0.4, gamma=4, learning_rate=1.6, max_depth=151, min_child_weight=35, n_estimators=351, reg_alpha=321, reg_lambda=1\n"
     ]
    },
    {
     "name": "stderr",
     "output_type": "stream",
     "text": [
      "c:\\Users\\Saurav\\anaconda3\\Lib\\site-packages\\xgboost\\data.py:440: FutureWarning: is_sparse is deprecated and will be removed in a future version. Check `isinstance(dtype, pd.SparseDtype)` instead.\n",
      "  if is_sparse(data):\n"
     ]
    },
    {
     "name": "stdout",
     "output_type": "stream",
     "text": [
      "[CV 2/10; 8/10] END colsample_bytree=0.4, gamma=4, learning_rate=1.6, max_depth=151, min_child_weight=35, n_estimators=351, reg_alpha=321, reg_lambda=1;, score=0.204 total time=  15.3s\n",
      "[CV 3/10; 8/10] START colsample_bytree=0.4, gamma=4, learning_rate=1.6, max_depth=151, min_child_weight=35, n_estimators=351, reg_alpha=321, reg_lambda=1\n"
     ]
    },
    {
     "name": "stderr",
     "output_type": "stream",
     "text": [
      "c:\\Users\\Saurav\\anaconda3\\Lib\\site-packages\\xgboost\\data.py:440: FutureWarning: is_sparse is deprecated and will be removed in a future version. Check `isinstance(dtype, pd.SparseDtype)` instead.\n",
      "  if is_sparse(data):\n"
     ]
    },
    {
     "name": "stdout",
     "output_type": "stream",
     "text": [
      "[CV 3/10; 8/10] END colsample_bytree=0.4, gamma=4, learning_rate=1.6, max_depth=151, min_child_weight=35, n_estimators=351, reg_alpha=321, reg_lambda=1;, score=0.200 total time=  15.4s\n",
      "[CV 4/10; 8/10] START colsample_bytree=0.4, gamma=4, learning_rate=1.6, max_depth=151, min_child_weight=35, n_estimators=351, reg_alpha=321, reg_lambda=1\n"
     ]
    },
    {
     "name": "stderr",
     "output_type": "stream",
     "text": [
      "c:\\Users\\Saurav\\anaconda3\\Lib\\site-packages\\xgboost\\data.py:440: FutureWarning: is_sparse is deprecated and will be removed in a future version. Check `isinstance(dtype, pd.SparseDtype)` instead.\n",
      "  if is_sparse(data):\n"
     ]
    },
    {
     "name": "stdout",
     "output_type": "stream",
     "text": [
      "[CV 4/10; 8/10] END colsample_bytree=0.4, gamma=4, learning_rate=1.6, max_depth=151, min_child_weight=35, n_estimators=351, reg_alpha=321, reg_lambda=1;, score=0.200 total time=  15.2s\n",
      "[CV 5/10; 8/10] START colsample_bytree=0.4, gamma=4, learning_rate=1.6, max_depth=151, min_child_weight=35, n_estimators=351, reg_alpha=321, reg_lambda=1\n"
     ]
    },
    {
     "name": "stderr",
     "output_type": "stream",
     "text": [
      "c:\\Users\\Saurav\\anaconda3\\Lib\\site-packages\\xgboost\\data.py:440: FutureWarning: is_sparse is deprecated and will be removed in a future version. Check `isinstance(dtype, pd.SparseDtype)` instead.\n",
      "  if is_sparse(data):\n"
     ]
    },
    {
     "name": "stdout",
     "output_type": "stream",
     "text": [
      "[CV 5/10; 8/10] END colsample_bytree=0.4, gamma=4, learning_rate=1.6, max_depth=151, min_child_weight=35, n_estimators=351, reg_alpha=321, reg_lambda=1;, score=0.200 total time=  15.2s\n",
      "[CV 6/10; 8/10] START colsample_bytree=0.4, gamma=4, learning_rate=1.6, max_depth=151, min_child_weight=35, n_estimators=351, reg_alpha=321, reg_lambda=1\n"
     ]
    },
    {
     "name": "stderr",
     "output_type": "stream",
     "text": [
      "c:\\Users\\Saurav\\anaconda3\\Lib\\site-packages\\xgboost\\data.py:440: FutureWarning: is_sparse is deprecated and will be removed in a future version. Check `isinstance(dtype, pd.SparseDtype)` instead.\n",
      "  if is_sparse(data):\n"
     ]
    },
    {
     "name": "stdout",
     "output_type": "stream",
     "text": [
      "[CV 6/10; 8/10] END colsample_bytree=0.4, gamma=4, learning_rate=1.6, max_depth=151, min_child_weight=35, n_estimators=351, reg_alpha=321, reg_lambda=1;, score=0.205 total time=  15.2s\n",
      "[CV 7/10; 8/10] START colsample_bytree=0.4, gamma=4, learning_rate=1.6, max_depth=151, min_child_weight=35, n_estimators=351, reg_alpha=321, reg_lambda=1\n"
     ]
    },
    {
     "name": "stderr",
     "output_type": "stream",
     "text": [
      "c:\\Users\\Saurav\\anaconda3\\Lib\\site-packages\\xgboost\\data.py:440: FutureWarning: is_sparse is deprecated and will be removed in a future version. Check `isinstance(dtype, pd.SparseDtype)` instead.\n",
      "  if is_sparse(data):\n"
     ]
    },
    {
     "name": "stdout",
     "output_type": "stream",
     "text": [
      "[CV 7/10; 8/10] END colsample_bytree=0.4, gamma=4, learning_rate=1.6, max_depth=151, min_child_weight=35, n_estimators=351, reg_alpha=321, reg_lambda=1;, score=0.205 total time=  15.2s\n",
      "[CV 8/10; 8/10] START colsample_bytree=0.4, gamma=4, learning_rate=1.6, max_depth=151, min_child_weight=35, n_estimators=351, reg_alpha=321, reg_lambda=1\n"
     ]
    },
    {
     "name": "stderr",
     "output_type": "stream",
     "text": [
      "c:\\Users\\Saurav\\anaconda3\\Lib\\site-packages\\xgboost\\data.py:440: FutureWarning: is_sparse is deprecated and will be removed in a future version. Check `isinstance(dtype, pd.SparseDtype)` instead.\n",
      "  if is_sparse(data):\n"
     ]
    },
    {
     "name": "stdout",
     "output_type": "stream",
     "text": [
      "[CV 8/10; 8/10] END colsample_bytree=0.4, gamma=4, learning_rate=1.6, max_depth=151, min_child_weight=35, n_estimators=351, reg_alpha=321, reg_lambda=1;, score=0.205 total time=  15.2s\n",
      "[CV 9/10; 8/10] START colsample_bytree=0.4, gamma=4, learning_rate=1.6, max_depth=151, min_child_weight=35, n_estimators=351, reg_alpha=321, reg_lambda=1\n"
     ]
    },
    {
     "name": "stderr",
     "output_type": "stream",
     "text": [
      "c:\\Users\\Saurav\\anaconda3\\Lib\\site-packages\\xgboost\\data.py:440: FutureWarning: is_sparse is deprecated and will be removed in a future version. Check `isinstance(dtype, pd.SparseDtype)` instead.\n",
      "  if is_sparse(data):\n"
     ]
    },
    {
     "name": "stdout",
     "output_type": "stream",
     "text": [
      "[CV 9/10; 8/10] END colsample_bytree=0.4, gamma=4, learning_rate=1.6, max_depth=151, min_child_weight=35, n_estimators=351, reg_alpha=321, reg_lambda=1;, score=0.205 total time=  15.3s\n",
      "[CV 10/10; 8/10] START colsample_bytree=0.4, gamma=4, learning_rate=1.6, max_depth=151, min_child_weight=35, n_estimators=351, reg_alpha=321, reg_lambda=1\n"
     ]
    },
    {
     "name": "stderr",
     "output_type": "stream",
     "text": [
      "c:\\Users\\Saurav\\anaconda3\\Lib\\site-packages\\xgboost\\data.py:440: FutureWarning: is_sparse is deprecated and will be removed in a future version. Check `isinstance(dtype, pd.SparseDtype)` instead.\n",
      "  if is_sparse(data):\n"
     ]
    },
    {
     "name": "stdout",
     "output_type": "stream",
     "text": [
      "[CV 10/10; 8/10] END colsample_bytree=0.4, gamma=4, learning_rate=1.6, max_depth=151, min_child_weight=35, n_estimators=351, reg_alpha=321, reg_lambda=1;, score=0.205 total time=  15.2s\n",
      "[CV 1/10; 9/10] START colsample_bytree=0.7000000000000001, gamma=4, learning_rate=0.6000000000000001, max_depth=301, min_child_weight=10, n_estimators=301, reg_alpha=181, reg_lambda=3\n"
     ]
    },
    {
     "name": "stderr",
     "output_type": "stream",
     "text": [
      "c:\\Users\\Saurav\\anaconda3\\Lib\\site-packages\\xgboost\\data.py:440: FutureWarning: is_sparse is deprecated and will be removed in a future version. Check `isinstance(dtype, pd.SparseDtype)` instead.\n",
      "  if is_sparse(data):\n"
     ]
    },
    {
     "name": "stdout",
     "output_type": "stream",
     "text": [
      "[CV 1/10; 9/10] END colsample_bytree=0.7000000000000001, gamma=4, learning_rate=0.6000000000000001, max_depth=301, min_child_weight=10, n_estimators=301, reg_alpha=181, reg_lambda=3;, score=0.204 total time=  19.9s\n",
      "[CV 2/10; 9/10] START colsample_bytree=0.7000000000000001, gamma=4, learning_rate=0.6000000000000001, max_depth=301, min_child_weight=10, n_estimators=301, reg_alpha=181, reg_lambda=3\n"
     ]
    },
    {
     "name": "stderr",
     "output_type": "stream",
     "text": [
      "c:\\Users\\Saurav\\anaconda3\\Lib\\site-packages\\xgboost\\data.py:440: FutureWarning: is_sparse is deprecated and will be removed in a future version. Check `isinstance(dtype, pd.SparseDtype)` instead.\n",
      "  if is_sparse(data):\n"
     ]
    },
    {
     "name": "stdout",
     "output_type": "stream",
     "text": [
      "[CV 2/10; 9/10] END colsample_bytree=0.7000000000000001, gamma=4, learning_rate=0.6000000000000001, max_depth=301, min_child_weight=10, n_estimators=301, reg_alpha=181, reg_lambda=3;, score=0.204 total time=  20.2s\n",
      "[CV 3/10; 9/10] START colsample_bytree=0.7000000000000001, gamma=4, learning_rate=0.6000000000000001, max_depth=301, min_child_weight=10, n_estimators=301, reg_alpha=181, reg_lambda=3\n"
     ]
    },
    {
     "name": "stderr",
     "output_type": "stream",
     "text": [
      "c:\\Users\\Saurav\\anaconda3\\Lib\\site-packages\\xgboost\\data.py:440: FutureWarning: is_sparse is deprecated and will be removed in a future version. Check `isinstance(dtype, pd.SparseDtype)` instead.\n",
      "  if is_sparse(data):\n"
     ]
    },
    {
     "name": "stdout",
     "output_type": "stream",
     "text": [
      "[CV 3/10; 9/10] END colsample_bytree=0.7000000000000001, gamma=4, learning_rate=0.6000000000000001, max_depth=301, min_child_weight=10, n_estimators=301, reg_alpha=181, reg_lambda=3;, score=0.200 total time=  20.1s\n",
      "[CV 4/10; 9/10] START colsample_bytree=0.7000000000000001, gamma=4, learning_rate=0.6000000000000001, max_depth=301, min_child_weight=10, n_estimators=301, reg_alpha=181, reg_lambda=3\n"
     ]
    },
    {
     "name": "stderr",
     "output_type": "stream",
     "text": [
      "c:\\Users\\Saurav\\anaconda3\\Lib\\site-packages\\xgboost\\data.py:440: FutureWarning: is_sparse is deprecated and will be removed in a future version. Check `isinstance(dtype, pd.SparseDtype)` instead.\n",
      "  if is_sparse(data):\n"
     ]
    },
    {
     "name": "stdout",
     "output_type": "stream",
     "text": [
      "[CV 4/10; 9/10] END colsample_bytree=0.7000000000000001, gamma=4, learning_rate=0.6000000000000001, max_depth=301, min_child_weight=10, n_estimators=301, reg_alpha=181, reg_lambda=3;, score=0.200 total time=  20.0s\n",
      "[CV 5/10; 9/10] START colsample_bytree=0.7000000000000001, gamma=4, learning_rate=0.6000000000000001, max_depth=301, min_child_weight=10, n_estimators=301, reg_alpha=181, reg_lambda=3\n"
     ]
    },
    {
     "name": "stderr",
     "output_type": "stream",
     "text": [
      "c:\\Users\\Saurav\\anaconda3\\Lib\\site-packages\\xgboost\\data.py:440: FutureWarning: is_sparse is deprecated and will be removed in a future version. Check `isinstance(dtype, pd.SparseDtype)` instead.\n",
      "  if is_sparse(data):\n"
     ]
    },
    {
     "name": "stdout",
     "output_type": "stream",
     "text": [
      "[CV 5/10; 9/10] END colsample_bytree=0.7000000000000001, gamma=4, learning_rate=0.6000000000000001, max_depth=301, min_child_weight=10, n_estimators=301, reg_alpha=181, reg_lambda=3;, score=0.200 total time=  19.9s\n",
      "[CV 6/10; 9/10] START colsample_bytree=0.7000000000000001, gamma=4, learning_rate=0.6000000000000001, max_depth=301, min_child_weight=10, n_estimators=301, reg_alpha=181, reg_lambda=3\n"
     ]
    },
    {
     "name": "stderr",
     "output_type": "stream",
     "text": [
      "c:\\Users\\Saurav\\anaconda3\\Lib\\site-packages\\xgboost\\data.py:440: FutureWarning: is_sparse is deprecated and will be removed in a future version. Check `isinstance(dtype, pd.SparseDtype)` instead.\n",
      "  if is_sparse(data):\n"
     ]
    },
    {
     "name": "stdout",
     "output_type": "stream",
     "text": [
      "[CV 6/10; 9/10] END colsample_bytree=0.7000000000000001, gamma=4, learning_rate=0.6000000000000001, max_depth=301, min_child_weight=10, n_estimators=301, reg_alpha=181, reg_lambda=3;, score=0.205 total time=  20.0s\n",
      "[CV 7/10; 9/10] START colsample_bytree=0.7000000000000001, gamma=4, learning_rate=0.6000000000000001, max_depth=301, min_child_weight=10, n_estimators=301, reg_alpha=181, reg_lambda=3\n"
     ]
    },
    {
     "name": "stderr",
     "output_type": "stream",
     "text": [
      "c:\\Users\\Saurav\\anaconda3\\Lib\\site-packages\\xgboost\\data.py:440: FutureWarning: is_sparse is deprecated and will be removed in a future version. Check `isinstance(dtype, pd.SparseDtype)` instead.\n",
      "  if is_sparse(data):\n"
     ]
    },
    {
     "name": "stdout",
     "output_type": "stream",
     "text": [
      "[CV 7/10; 9/10] END colsample_bytree=0.7000000000000001, gamma=4, learning_rate=0.6000000000000001, max_depth=301, min_child_weight=10, n_estimators=301, reg_alpha=181, reg_lambda=3;, score=0.205 total time=  19.9s\n",
      "[CV 8/10; 9/10] START colsample_bytree=0.7000000000000001, gamma=4, learning_rate=0.6000000000000001, max_depth=301, min_child_weight=10, n_estimators=301, reg_alpha=181, reg_lambda=3\n"
     ]
    },
    {
     "name": "stderr",
     "output_type": "stream",
     "text": [
      "c:\\Users\\Saurav\\anaconda3\\Lib\\site-packages\\xgboost\\data.py:440: FutureWarning: is_sparse is deprecated and will be removed in a future version. Check `isinstance(dtype, pd.SparseDtype)` instead.\n",
      "  if is_sparse(data):\n"
     ]
    },
    {
     "name": "stdout",
     "output_type": "stream",
     "text": [
      "[CV 8/10; 9/10] END colsample_bytree=0.7000000000000001, gamma=4, learning_rate=0.6000000000000001, max_depth=301, min_child_weight=10, n_estimators=301, reg_alpha=181, reg_lambda=3;, score=0.205 total time=  19.9s\n",
      "[CV 9/10; 9/10] START colsample_bytree=0.7000000000000001, gamma=4, learning_rate=0.6000000000000001, max_depth=301, min_child_weight=10, n_estimators=301, reg_alpha=181, reg_lambda=3\n"
     ]
    },
    {
     "name": "stderr",
     "output_type": "stream",
     "text": [
      "c:\\Users\\Saurav\\anaconda3\\Lib\\site-packages\\xgboost\\data.py:440: FutureWarning: is_sparse is deprecated and will be removed in a future version. Check `isinstance(dtype, pd.SparseDtype)` instead.\n",
      "  if is_sparse(data):\n"
     ]
    },
    {
     "name": "stdout",
     "output_type": "stream",
     "text": [
      "[CV 9/10; 9/10] END colsample_bytree=0.7000000000000001, gamma=4, learning_rate=0.6000000000000001, max_depth=301, min_child_weight=10, n_estimators=301, reg_alpha=181, reg_lambda=3;, score=0.205 total time=  20.3s\n",
      "[CV 10/10; 9/10] START colsample_bytree=0.7000000000000001, gamma=4, learning_rate=0.6000000000000001, max_depth=301, min_child_weight=10, n_estimators=301, reg_alpha=181, reg_lambda=3\n"
     ]
    },
    {
     "name": "stderr",
     "output_type": "stream",
     "text": [
      "c:\\Users\\Saurav\\anaconda3\\Lib\\site-packages\\xgboost\\data.py:440: FutureWarning: is_sparse is deprecated and will be removed in a future version. Check `isinstance(dtype, pd.SparseDtype)` instead.\n",
      "  if is_sparse(data):\n"
     ]
    },
    {
     "name": "stdout",
     "output_type": "stream",
     "text": [
      "[CV 10/10; 9/10] END colsample_bytree=0.7000000000000001, gamma=4, learning_rate=0.6000000000000001, max_depth=301, min_child_weight=10, n_estimators=301, reg_alpha=181, reg_lambda=3;, score=0.205 total time=  19.9s\n",
      "[CV 1/10; 10/10] START colsample_bytree=0.7000000000000001, gamma=7, learning_rate=0.4, max_depth=1, min_child_weight=30, n_estimators=201, reg_alpha=161, reg_lambda=1\n"
     ]
    },
    {
     "name": "stderr",
     "output_type": "stream",
     "text": [
      "c:\\Users\\Saurav\\anaconda3\\Lib\\site-packages\\xgboost\\data.py:440: FutureWarning: is_sparse is deprecated and will be removed in a future version. Check `isinstance(dtype, pd.SparseDtype)` instead.\n",
      "  if is_sparse(data):\n"
     ]
    },
    {
     "name": "stdout",
     "output_type": "stream",
     "text": [
      "[CV 1/10; 10/10] END colsample_bytree=0.7000000000000001, gamma=7, learning_rate=0.4, max_depth=1, min_child_weight=30, n_estimators=201, reg_alpha=161, reg_lambda=1;, score=0.306 total time=  12.4s\n",
      "[CV 2/10; 10/10] START colsample_bytree=0.7000000000000001, gamma=7, learning_rate=0.4, max_depth=1, min_child_weight=30, n_estimators=201, reg_alpha=161, reg_lambda=1\n"
     ]
    },
    {
     "name": "stderr",
     "output_type": "stream",
     "text": [
      "c:\\Users\\Saurav\\anaconda3\\Lib\\site-packages\\xgboost\\data.py:440: FutureWarning: is_sparse is deprecated and will be removed in a future version. Check `isinstance(dtype, pd.SparseDtype)` instead.\n",
      "  if is_sparse(data):\n"
     ]
    },
    {
     "name": "stdout",
     "output_type": "stream",
     "text": [
      "[CV 2/10; 10/10] END colsample_bytree=0.7000000000000001, gamma=7, learning_rate=0.4, max_depth=1, min_child_weight=30, n_estimators=201, reg_alpha=161, reg_lambda=1;, score=0.337 total time=  12.3s\n",
      "[CV 3/10; 10/10] START colsample_bytree=0.7000000000000001, gamma=7, learning_rate=0.4, max_depth=1, min_child_weight=30, n_estimators=201, reg_alpha=161, reg_lambda=1\n"
     ]
    },
    {
     "name": "stderr",
     "output_type": "stream",
     "text": [
      "c:\\Users\\Saurav\\anaconda3\\Lib\\site-packages\\xgboost\\data.py:440: FutureWarning: is_sparse is deprecated and will be removed in a future version. Check `isinstance(dtype, pd.SparseDtype)` instead.\n",
      "  if is_sparse(data):\n"
     ]
    },
    {
     "name": "stdout",
     "output_type": "stream",
     "text": [
      "[CV 3/10; 10/10] END colsample_bytree=0.7000000000000001, gamma=7, learning_rate=0.4, max_depth=1, min_child_weight=30, n_estimators=201, reg_alpha=161, reg_lambda=1;, score=0.323 total time=  12.6s\n",
      "[CV 4/10; 10/10] START colsample_bytree=0.7000000000000001, gamma=7, learning_rate=0.4, max_depth=1, min_child_weight=30, n_estimators=201, reg_alpha=161, reg_lambda=1\n"
     ]
    },
    {
     "name": "stderr",
     "output_type": "stream",
     "text": [
      "c:\\Users\\Saurav\\anaconda3\\Lib\\site-packages\\xgboost\\data.py:440: FutureWarning: is_sparse is deprecated and will be removed in a future version. Check `isinstance(dtype, pd.SparseDtype)` instead.\n",
      "  if is_sparse(data):\n"
     ]
    },
    {
     "name": "stdout",
     "output_type": "stream",
     "text": [
      "[CV 4/10; 10/10] END colsample_bytree=0.7000000000000001, gamma=7, learning_rate=0.4, max_depth=1, min_child_weight=30, n_estimators=201, reg_alpha=161, reg_lambda=1;, score=0.318 total time=  12.3s\n",
      "[CV 5/10; 10/10] START colsample_bytree=0.7000000000000001, gamma=7, learning_rate=0.4, max_depth=1, min_child_weight=30, n_estimators=201, reg_alpha=161, reg_lambda=1\n"
     ]
    },
    {
     "name": "stderr",
     "output_type": "stream",
     "text": [
      "c:\\Users\\Saurav\\anaconda3\\Lib\\site-packages\\xgboost\\data.py:440: FutureWarning: is_sparse is deprecated and will be removed in a future version. Check `isinstance(dtype, pd.SparseDtype)` instead.\n",
      "  if is_sparse(data):\n"
     ]
    },
    {
     "name": "stdout",
     "output_type": "stream",
     "text": [
      "[CV 5/10; 10/10] END colsample_bytree=0.7000000000000001, gamma=7, learning_rate=0.4, max_depth=1, min_child_weight=30, n_estimators=201, reg_alpha=161, reg_lambda=1;, score=0.313 total time=  12.3s\n",
      "[CV 6/10; 10/10] START colsample_bytree=0.7000000000000001, gamma=7, learning_rate=0.4, max_depth=1, min_child_weight=30, n_estimators=201, reg_alpha=161, reg_lambda=1\n"
     ]
    },
    {
     "name": "stderr",
     "output_type": "stream",
     "text": [
      "c:\\Users\\Saurav\\anaconda3\\Lib\\site-packages\\xgboost\\data.py:440: FutureWarning: is_sparse is deprecated and will be removed in a future version. Check `isinstance(dtype, pd.SparseDtype)` instead.\n",
      "  if is_sparse(data):\n"
     ]
    },
    {
     "name": "stdout",
     "output_type": "stream",
     "text": [
      "[CV 6/10; 10/10] END colsample_bytree=0.7000000000000001, gamma=7, learning_rate=0.4, max_depth=1, min_child_weight=30, n_estimators=201, reg_alpha=161, reg_lambda=1;, score=0.333 total time=  12.4s\n",
      "[CV 7/10; 10/10] START colsample_bytree=0.7000000000000001, gamma=7, learning_rate=0.4, max_depth=1, min_child_weight=30, n_estimators=201, reg_alpha=161, reg_lambda=1\n"
     ]
    },
    {
     "name": "stderr",
     "output_type": "stream",
     "text": [
      "c:\\Users\\Saurav\\anaconda3\\Lib\\site-packages\\xgboost\\data.py:440: FutureWarning: is_sparse is deprecated and will be removed in a future version. Check `isinstance(dtype, pd.SparseDtype)` instead.\n",
      "  if is_sparse(data):\n"
     ]
    },
    {
     "name": "stdout",
     "output_type": "stream",
     "text": [
      "[CV 7/10; 10/10] END colsample_bytree=0.7000000000000001, gamma=7, learning_rate=0.4, max_depth=1, min_child_weight=30, n_estimators=201, reg_alpha=161, reg_lambda=1;, score=0.344 total time=  12.4s\n",
      "[CV 8/10; 10/10] START colsample_bytree=0.7000000000000001, gamma=7, learning_rate=0.4, max_depth=1, min_child_weight=30, n_estimators=201, reg_alpha=161, reg_lambda=1\n"
     ]
    },
    {
     "name": "stderr",
     "output_type": "stream",
     "text": [
      "c:\\Users\\Saurav\\anaconda3\\Lib\\site-packages\\xgboost\\data.py:440: FutureWarning: is_sparse is deprecated and will be removed in a future version. Check `isinstance(dtype, pd.SparseDtype)` instead.\n",
      "  if is_sparse(data):\n"
     ]
    },
    {
     "name": "stdout",
     "output_type": "stream",
     "text": [
      "[CV 8/10; 10/10] END colsample_bytree=0.7000000000000001, gamma=7, learning_rate=0.4, max_depth=1, min_child_weight=30, n_estimators=201, reg_alpha=161, reg_lambda=1;, score=0.333 total time=  12.5s\n",
      "[CV 9/10; 10/10] START colsample_bytree=0.7000000000000001, gamma=7, learning_rate=0.4, max_depth=1, min_child_weight=30, n_estimators=201, reg_alpha=161, reg_lambda=1\n"
     ]
    },
    {
     "name": "stderr",
     "output_type": "stream",
     "text": [
      "c:\\Users\\Saurav\\anaconda3\\Lib\\site-packages\\xgboost\\data.py:440: FutureWarning: is_sparse is deprecated and will be removed in a future version. Check `isinstance(dtype, pd.SparseDtype)` instead.\n",
      "  if is_sparse(data):\n"
     ]
    },
    {
     "name": "stdout",
     "output_type": "stream",
     "text": [
      "[CV 9/10; 10/10] END colsample_bytree=0.7000000000000001, gamma=7, learning_rate=0.4, max_depth=1, min_child_weight=30, n_estimators=201, reg_alpha=161, reg_lambda=1;, score=0.344 total time=  12.3s\n",
      "[CV 10/10; 10/10] START colsample_bytree=0.7000000000000001, gamma=7, learning_rate=0.4, max_depth=1, min_child_weight=30, n_estimators=201, reg_alpha=161, reg_lambda=1\n"
     ]
    },
    {
     "name": "stderr",
     "output_type": "stream",
     "text": [
      "c:\\Users\\Saurav\\anaconda3\\Lib\\site-packages\\xgboost\\data.py:440: FutureWarning: is_sparse is deprecated and will be removed in a future version. Check `isinstance(dtype, pd.SparseDtype)` instead.\n",
      "  if is_sparse(data):\n"
     ]
    },
    {
     "name": "stdout",
     "output_type": "stream",
     "text": [
      "[CV 10/10; 10/10] END colsample_bytree=0.7000000000000001, gamma=7, learning_rate=0.4, max_depth=1, min_child_weight=30, n_estimators=201, reg_alpha=161, reg_lambda=1;, score=0.333 total time=  12.5s\n"
     ]
    },
    {
     "name": "stderr",
     "output_type": "stream",
     "text": [
      "c:\\Users\\Saurav\\anaconda3\\Lib\\site-packages\\xgboost\\data.py:440: FutureWarning: is_sparse is deprecated and will be removed in a future version. Check `isinstance(dtype, pd.SparseDtype)` instead.\n",
      "  if is_sparse(data):\n"
     ]
    },
    {
     "name": "stdout",
     "output_type": "stream",
     "text": [
      "Fitting 10 folds for each of 10 candidates, totalling 100 fits\n",
      "[CV 1/10; 1/10] START colsample_bytree=0.6000000000000001, gamma=7, learning_rate=1.0, max_depth=151, min_child_weight=35, n_estimators=201, reg_alpha=141, reg_lambda=1\n"
     ]
    },
    {
     "name": "stderr",
     "output_type": "stream",
     "text": [
      "c:\\Users\\Saurav\\anaconda3\\Lib\\site-packages\\xgboost\\data.py:440: FutureWarning: is_sparse is deprecated and will be removed in a future version. Check `isinstance(dtype, pd.SparseDtype)` instead.\n",
      "  if is_sparse(data):\n"
     ]
    },
    {
     "name": "stdout",
     "output_type": "stream",
     "text": [
      "[CV 1/10; 1/10] END colsample_bytree=0.6000000000000001, gamma=7, learning_rate=1.0, max_depth=151, min_child_weight=35, n_estimators=201, reg_alpha=141, reg_lambda=1;, score=0.429 total time=  13.2s\n",
      "[CV 2/10; 1/10] START colsample_bytree=0.6000000000000001, gamma=7, learning_rate=1.0, max_depth=151, min_child_weight=35, n_estimators=201, reg_alpha=141, reg_lambda=1\n"
     ]
    },
    {
     "name": "stderr",
     "output_type": "stream",
     "text": [
      "c:\\Users\\Saurav\\anaconda3\\Lib\\site-packages\\xgboost\\data.py:440: FutureWarning: is_sparse is deprecated and will be removed in a future version. Check `isinstance(dtype, pd.SparseDtype)` instead.\n",
      "  if is_sparse(data):\n"
     ]
    },
    {
     "name": "stdout",
     "output_type": "stream",
     "text": [
      "[CV 2/10; 1/10] END colsample_bytree=0.6000000000000001, gamma=7, learning_rate=1.0, max_depth=151, min_child_weight=35, n_estimators=201, reg_alpha=141, reg_lambda=1;, score=0.413 total time=  13.0s\n",
      "[CV 3/10; 1/10] START colsample_bytree=0.6000000000000001, gamma=7, learning_rate=1.0, max_depth=151, min_child_weight=35, n_estimators=201, reg_alpha=141, reg_lambda=1\n"
     ]
    },
    {
     "name": "stderr",
     "output_type": "stream",
     "text": [
      "c:\\Users\\Saurav\\anaconda3\\Lib\\site-packages\\xgboost\\data.py:440: FutureWarning: is_sparse is deprecated and will be removed in a future version. Check `isinstance(dtype, pd.SparseDtype)` instead.\n",
      "  if is_sparse(data):\n"
     ]
    },
    {
     "name": "stdout",
     "output_type": "stream",
     "text": [
      "[CV 3/10; 1/10] END colsample_bytree=0.6000000000000001, gamma=7, learning_rate=1.0, max_depth=151, min_child_weight=35, n_estimators=201, reg_alpha=141, reg_lambda=1;, score=0.426 total time=  13.3s\n",
      "[CV 4/10; 1/10] START colsample_bytree=0.6000000000000001, gamma=7, learning_rate=1.0, max_depth=151, min_child_weight=35, n_estimators=201, reg_alpha=141, reg_lambda=1\n"
     ]
    },
    {
     "name": "stderr",
     "output_type": "stream",
     "text": [
      "c:\\Users\\Saurav\\anaconda3\\Lib\\site-packages\\xgboost\\data.py:440: FutureWarning: is_sparse is deprecated and will be removed in a future version. Check `isinstance(dtype, pd.SparseDtype)` instead.\n",
      "  if is_sparse(data):\n"
     ]
    },
    {
     "name": "stdout",
     "output_type": "stream",
     "text": [
      "[CV 4/10; 1/10] END colsample_bytree=0.6000000000000001, gamma=7, learning_rate=1.0, max_depth=151, min_child_weight=35, n_estimators=201, reg_alpha=141, reg_lambda=1;, score=0.426 total time=  12.9s\n",
      "[CV 5/10; 1/10] START colsample_bytree=0.6000000000000001, gamma=7, learning_rate=1.0, max_depth=151, min_child_weight=35, n_estimators=201, reg_alpha=141, reg_lambda=1\n"
     ]
    },
    {
     "name": "stderr",
     "output_type": "stream",
     "text": [
      "c:\\Users\\Saurav\\anaconda3\\Lib\\site-packages\\xgboost\\data.py:440: FutureWarning: is_sparse is deprecated and will be removed in a future version. Check `isinstance(dtype, pd.SparseDtype)` instead.\n",
      "  if is_sparse(data):\n"
     ]
    },
    {
     "name": "stdout",
     "output_type": "stream",
     "text": [
      "[CV 5/10; 1/10] END colsample_bytree=0.6000000000000001, gamma=7, learning_rate=1.0, max_depth=151, min_child_weight=35, n_estimators=201, reg_alpha=141, reg_lambda=1;, score=0.426 total time=  14.7s\n",
      "[CV 6/10; 1/10] START colsample_bytree=0.6000000000000001, gamma=7, learning_rate=1.0, max_depth=151, min_child_weight=35, n_estimators=201, reg_alpha=141, reg_lambda=1\n"
     ]
    },
    {
     "name": "stderr",
     "output_type": "stream",
     "text": [
      "c:\\Users\\Saurav\\anaconda3\\Lib\\site-packages\\xgboost\\data.py:440: FutureWarning: is_sparse is deprecated and will be removed in a future version. Check `isinstance(dtype, pd.SparseDtype)` instead.\n",
      "  if is_sparse(data):\n"
     ]
    },
    {
     "name": "stdout",
     "output_type": "stream",
     "text": [
      "[CV 6/10; 1/10] END colsample_bytree=0.6000000000000001, gamma=7, learning_rate=1.0, max_depth=151, min_child_weight=35, n_estimators=201, reg_alpha=141, reg_lambda=1;, score=0.436 total time=  14.2s\n",
      "[CV 7/10; 1/10] START colsample_bytree=0.6000000000000001, gamma=7, learning_rate=1.0, max_depth=151, min_child_weight=35, n_estimators=201, reg_alpha=141, reg_lambda=1\n"
     ]
    },
    {
     "name": "stderr",
     "output_type": "stream",
     "text": [
      "c:\\Users\\Saurav\\anaconda3\\Lib\\site-packages\\xgboost\\data.py:440: FutureWarning: is_sparse is deprecated and will be removed in a future version. Check `isinstance(dtype, pd.SparseDtype)` instead.\n",
      "  if is_sparse(data):\n"
     ]
    },
    {
     "name": "stdout",
     "output_type": "stream",
     "text": [
      "[CV 7/10; 1/10] END colsample_bytree=0.6000000000000001, gamma=7, learning_rate=1.0, max_depth=151, min_child_weight=35, n_estimators=201, reg_alpha=141, reg_lambda=1;, score=0.462 total time=  15.4s\n",
      "[CV 8/10; 1/10] START colsample_bytree=0.6000000000000001, gamma=7, learning_rate=1.0, max_depth=151, min_child_weight=35, n_estimators=201, reg_alpha=141, reg_lambda=1\n"
     ]
    },
    {
     "name": "stderr",
     "output_type": "stream",
     "text": [
      "c:\\Users\\Saurav\\anaconda3\\Lib\\site-packages\\xgboost\\data.py:440: FutureWarning: is_sparse is deprecated and will be removed in a future version. Check `isinstance(dtype, pd.SparseDtype)` instead.\n",
      "  if is_sparse(data):\n"
     ]
    },
    {
     "name": "stdout",
     "output_type": "stream",
     "text": [
      "[CV 8/10; 1/10] END colsample_bytree=0.6000000000000001, gamma=7, learning_rate=1.0, max_depth=151, min_child_weight=35, n_estimators=201, reg_alpha=141, reg_lambda=1;, score=0.446 total time=  14.1s\n",
      "[CV 9/10; 1/10] START colsample_bytree=0.6000000000000001, gamma=7, learning_rate=1.0, max_depth=151, min_child_weight=35, n_estimators=201, reg_alpha=141, reg_lambda=1\n"
     ]
    },
    {
     "name": "stderr",
     "output_type": "stream",
     "text": [
      "c:\\Users\\Saurav\\anaconda3\\Lib\\site-packages\\xgboost\\data.py:440: FutureWarning: is_sparse is deprecated and will be removed in a future version. Check `isinstance(dtype, pd.SparseDtype)` instead.\n",
      "  if is_sparse(data):\n"
     ]
    },
    {
     "name": "stdout",
     "output_type": "stream",
     "text": [
      "[CV 9/10; 1/10] END colsample_bytree=0.6000000000000001, gamma=7, learning_rate=1.0, max_depth=151, min_child_weight=35, n_estimators=201, reg_alpha=141, reg_lambda=1;, score=0.431 total time=  14.0s\n",
      "[CV 10/10; 1/10] START colsample_bytree=0.6000000000000001, gamma=7, learning_rate=1.0, max_depth=151, min_child_weight=35, n_estimators=201, reg_alpha=141, reg_lambda=1\n"
     ]
    },
    {
     "name": "stderr",
     "output_type": "stream",
     "text": [
      "c:\\Users\\Saurav\\anaconda3\\Lib\\site-packages\\xgboost\\data.py:440: FutureWarning: is_sparse is deprecated and will be removed in a future version. Check `isinstance(dtype, pd.SparseDtype)` instead.\n",
      "  if is_sparse(data):\n"
     ]
    },
    {
     "name": "stdout",
     "output_type": "stream",
     "text": [
      "[CV 10/10; 1/10] END colsample_bytree=0.6000000000000001, gamma=7, learning_rate=1.0, max_depth=151, min_child_weight=35, n_estimators=201, reg_alpha=141, reg_lambda=1;, score=0.431 total time=  13.6s\n",
      "[CV 1/10; 2/10] START colsample_bytree=0.2, gamma=7, learning_rate=0.6000000000000001, max_depth=351, min_child_weight=25, n_estimators=1, reg_alpha=241, reg_lambda=1\n",
      "[CV 1/10; 2/10] END colsample_bytree=0.2, gamma=7, learning_rate=0.6000000000000001, max_depth=351, min_child_weight=25, n_estimators=1, reg_alpha=241, reg_lambda=1;, score=0.204 total time=   0.0s\n",
      "[CV 2/10; 2/10] START colsample_bytree=0.2, gamma=7, learning_rate=0.6000000000000001, max_depth=351, min_child_weight=25, n_estimators=1, reg_alpha=241, reg_lambda=1\n",
      "[CV 2/10; 2/10] END colsample_bytree=0.2, gamma=7, learning_rate=0.6000000000000001, max_depth=351, min_child_weight=25, n_estimators=1, reg_alpha=241, reg_lambda=1;, score=0.204 total time=   0.0s\n",
      "[CV 3/10; 2/10] START colsample_bytree=0.2, gamma=7, learning_rate=0.6000000000000001, max_depth=351, min_child_weight=25, n_estimators=1, reg_alpha=241, reg_lambda=1\n"
     ]
    },
    {
     "name": "stderr",
     "output_type": "stream",
     "text": [
      "c:\\Users\\Saurav\\anaconda3\\Lib\\site-packages\\xgboost\\data.py:440: FutureWarning: is_sparse is deprecated and will be removed in a future version. Check `isinstance(dtype, pd.SparseDtype)` instead.\n",
      "  if is_sparse(data):\n",
      "c:\\Users\\Saurav\\anaconda3\\Lib\\site-packages\\xgboost\\data.py:440: FutureWarning: is_sparse is deprecated and will be removed in a future version. Check `isinstance(dtype, pd.SparseDtype)` instead.\n",
      "  if is_sparse(data):\n",
      "c:\\Users\\Saurav\\anaconda3\\Lib\\site-packages\\xgboost\\data.py:440: FutureWarning: is_sparse is deprecated and will be removed in a future version. Check `isinstance(dtype, pd.SparseDtype)` instead.\n",
      "  if is_sparse(data):\n"
     ]
    },
    {
     "name": "stdout",
     "output_type": "stream",
     "text": [
      "[CV 3/10; 2/10] END colsample_bytree=0.2, gamma=7, learning_rate=0.6000000000000001, max_depth=351, min_child_weight=25, n_estimators=1, reg_alpha=241, reg_lambda=1;, score=0.200 total time=   0.0s\n",
      "[CV 4/10; 2/10] START colsample_bytree=0.2, gamma=7, learning_rate=0.6000000000000001, max_depth=351, min_child_weight=25, n_estimators=1, reg_alpha=241, reg_lambda=1\n",
      "[CV 4/10; 2/10] END colsample_bytree=0.2, gamma=7, learning_rate=0.6000000000000001, max_depth=351, min_child_weight=25, n_estimators=1, reg_alpha=241, reg_lambda=1;, score=0.200 total time=   0.0s\n",
      "[CV 5/10; 2/10] START colsample_bytree=0.2, gamma=7, learning_rate=0.6000000000000001, max_depth=351, min_child_weight=25, n_estimators=1, reg_alpha=241, reg_lambda=1\n",
      "[CV 5/10; 2/10] END colsample_bytree=0.2, gamma=7, learning_rate=0.6000000000000001, max_depth=351, min_child_weight=25, n_estimators=1, reg_alpha=241, reg_lambda=1;, score=0.200 total time=   0.0s\n",
      "[CV 6/10; 2/10] START colsample_bytree=0.2, gamma=7, learning_rate=0.6000000000000001, max_depth=351, min_child_weight=25, n_estimators=1, reg_alpha=241, reg_lambda=1\n"
     ]
    },
    {
     "name": "stderr",
     "output_type": "stream",
     "text": [
      "c:\\Users\\Saurav\\anaconda3\\Lib\\site-packages\\xgboost\\data.py:440: FutureWarning: is_sparse is deprecated and will be removed in a future version. Check `isinstance(dtype, pd.SparseDtype)` instead.\n",
      "  if is_sparse(data):\n",
      "c:\\Users\\Saurav\\anaconda3\\Lib\\site-packages\\xgboost\\data.py:440: FutureWarning: is_sparse is deprecated and will be removed in a future version. Check `isinstance(dtype, pd.SparseDtype)` instead.\n",
      "  if is_sparse(data):\n",
      "c:\\Users\\Saurav\\anaconda3\\Lib\\site-packages\\xgboost\\data.py:440: FutureWarning: is_sparse is deprecated and will be removed in a future version. Check `isinstance(dtype, pd.SparseDtype)` instead.\n",
      "  if is_sparse(data):\n",
      "c:\\Users\\Saurav\\anaconda3\\Lib\\site-packages\\xgboost\\data.py:440: FutureWarning: is_sparse is deprecated and will be removed in a future version. Check `isinstance(dtype, pd.SparseDtype)` instead.\n",
      "  if is_sparse(data):\n"
     ]
    },
    {
     "name": "stdout",
     "output_type": "stream",
     "text": [
      "[CV 6/10; 2/10] END colsample_bytree=0.2, gamma=7, learning_rate=0.6000000000000001, max_depth=351, min_child_weight=25, n_estimators=1, reg_alpha=241, reg_lambda=1;, score=0.205 total time=   0.0s\n",
      "[CV 7/10; 2/10] START colsample_bytree=0.2, gamma=7, learning_rate=0.6000000000000001, max_depth=351, min_child_weight=25, n_estimators=1, reg_alpha=241, reg_lambda=1\n",
      "[CV 7/10; 2/10] END colsample_bytree=0.2, gamma=7, learning_rate=0.6000000000000001, max_depth=351, min_child_weight=25, n_estimators=1, reg_alpha=241, reg_lambda=1;, score=0.205 total time=   0.0s\n",
      "[CV 8/10; 2/10] START colsample_bytree=0.2, gamma=7, learning_rate=0.6000000000000001, max_depth=351, min_child_weight=25, n_estimators=1, reg_alpha=241, reg_lambda=1\n"
     ]
    },
    {
     "name": "stderr",
     "output_type": "stream",
     "text": [
      "c:\\Users\\Saurav\\anaconda3\\Lib\\site-packages\\xgboost\\data.py:440: FutureWarning: is_sparse is deprecated and will be removed in a future version. Check `isinstance(dtype, pd.SparseDtype)` instead.\n",
      "  if is_sparse(data):\n",
      "c:\\Users\\Saurav\\anaconda3\\Lib\\site-packages\\xgboost\\data.py:440: FutureWarning: is_sparse is deprecated and will be removed in a future version. Check `isinstance(dtype, pd.SparseDtype)` instead.\n",
      "  if is_sparse(data):\n",
      "c:\\Users\\Saurav\\anaconda3\\Lib\\site-packages\\xgboost\\data.py:440: FutureWarning: is_sparse is deprecated and will be removed in a future version. Check `isinstance(dtype, pd.SparseDtype)` instead.\n",
      "  if is_sparse(data):\n"
     ]
    },
    {
     "name": "stdout",
     "output_type": "stream",
     "text": [
      "[CV 8/10; 2/10] END colsample_bytree=0.2, gamma=7, learning_rate=0.6000000000000001, max_depth=351, min_child_weight=25, n_estimators=1, reg_alpha=241, reg_lambda=1;, score=0.205 total time=   0.0s\n",
      "[CV 9/10; 2/10] START colsample_bytree=0.2, gamma=7, learning_rate=0.6000000000000001, max_depth=351, min_child_weight=25, n_estimators=1, reg_alpha=241, reg_lambda=1\n",
      "[CV 9/10; 2/10] END colsample_bytree=0.2, gamma=7, learning_rate=0.6000000000000001, max_depth=351, min_child_weight=25, n_estimators=1, reg_alpha=241, reg_lambda=1;, score=0.205 total time=   0.0s\n",
      "[CV 10/10; 2/10] START colsample_bytree=0.2, gamma=7, learning_rate=0.6000000000000001, max_depth=351, min_child_weight=25, n_estimators=1, reg_alpha=241, reg_lambda=1\n",
      "[CV 10/10; 2/10] END colsample_bytree=0.2, gamma=7, learning_rate=0.6000000000000001, max_depth=351, min_child_weight=25, n_estimators=1, reg_alpha=241, reg_lambda=1;, score=0.205 total time=   0.0s\n",
      "[CV 1/10; 3/10] START colsample_bytree=0.8, gamma=4, learning_rate=1.7000000000000002, max_depth=151, min_child_weight=20, n_estimators=101, reg_alpha=141, reg_lambda=2\n"
     ]
    },
    {
     "name": "stderr",
     "output_type": "stream",
     "text": [
      "c:\\Users\\Saurav\\anaconda3\\Lib\\site-packages\\xgboost\\data.py:440: FutureWarning: is_sparse is deprecated and will be removed in a future version. Check `isinstance(dtype, pd.SparseDtype)` instead.\n",
      "  if is_sparse(data):\n"
     ]
    },
    {
     "name": "stdout",
     "output_type": "stream",
     "text": [
      "[CV 1/10; 3/10] END colsample_bytree=0.8, gamma=4, learning_rate=1.7000000000000002, max_depth=151, min_child_weight=20, n_estimators=101, reg_alpha=141, reg_lambda=2;, score=0.454 total time=   9.7s\n",
      "[CV 2/10; 3/10] START colsample_bytree=0.8, gamma=4, learning_rate=1.7000000000000002, max_depth=151, min_child_weight=20, n_estimators=101, reg_alpha=141, reg_lambda=2\n"
     ]
    },
    {
     "name": "stderr",
     "output_type": "stream",
     "text": [
      "c:\\Users\\Saurav\\anaconda3\\Lib\\site-packages\\xgboost\\data.py:440: FutureWarning: is_sparse is deprecated and will be removed in a future version. Check `isinstance(dtype, pd.SparseDtype)` instead.\n",
      "  if is_sparse(data):\n"
     ]
    },
    {
     "name": "stdout",
     "output_type": "stream",
     "text": [
      "[CV 2/10; 3/10] END colsample_bytree=0.8, gamma=4, learning_rate=1.7000000000000002, max_depth=151, min_child_weight=20, n_estimators=101, reg_alpha=141, reg_lambda=2;, score=0.423 total time=   9.8s\n",
      "[CV 3/10; 3/10] START colsample_bytree=0.8, gamma=4, learning_rate=1.7000000000000002, max_depth=151, min_child_weight=20, n_estimators=101, reg_alpha=141, reg_lambda=2\n"
     ]
    },
    {
     "name": "stderr",
     "output_type": "stream",
     "text": [
      "c:\\Users\\Saurav\\anaconda3\\Lib\\site-packages\\xgboost\\data.py:440: FutureWarning: is_sparse is deprecated and will be removed in a future version. Check `isinstance(dtype, pd.SparseDtype)` instead.\n",
      "  if is_sparse(data):\n"
     ]
    },
    {
     "name": "stdout",
     "output_type": "stream",
     "text": [
      "[CV 3/10; 3/10] END colsample_bytree=0.8, gamma=4, learning_rate=1.7000000000000002, max_depth=151, min_child_weight=20, n_estimators=101, reg_alpha=141, reg_lambda=2;, score=0.456 total time=   8.7s\n",
      "[CV 4/10; 3/10] START colsample_bytree=0.8, gamma=4, learning_rate=1.7000000000000002, max_depth=151, min_child_weight=20, n_estimators=101, reg_alpha=141, reg_lambda=2\n"
     ]
    },
    {
     "name": "stderr",
     "output_type": "stream",
     "text": [
      "c:\\Users\\Saurav\\anaconda3\\Lib\\site-packages\\xgboost\\data.py:440: FutureWarning: is_sparse is deprecated and will be removed in a future version. Check `isinstance(dtype, pd.SparseDtype)` instead.\n",
      "  if is_sparse(data):\n"
     ]
    },
    {
     "name": "stdout",
     "output_type": "stream",
     "text": [
      "[CV 4/10; 3/10] END colsample_bytree=0.8, gamma=4, learning_rate=1.7000000000000002, max_depth=151, min_child_weight=20, n_estimators=101, reg_alpha=141, reg_lambda=2;, score=0.426 total time=   8.8s\n",
      "[CV 5/10; 3/10] START colsample_bytree=0.8, gamma=4, learning_rate=1.7000000000000002, max_depth=151, min_child_weight=20, n_estimators=101, reg_alpha=141, reg_lambda=2\n"
     ]
    },
    {
     "name": "stderr",
     "output_type": "stream",
     "text": [
      "c:\\Users\\Saurav\\anaconda3\\Lib\\site-packages\\xgboost\\data.py:440: FutureWarning: is_sparse is deprecated and will be removed in a future version. Check `isinstance(dtype, pd.SparseDtype)` instead.\n",
      "  if is_sparse(data):\n"
     ]
    },
    {
     "name": "stdout",
     "output_type": "stream",
     "text": [
      "[CV 5/10; 3/10] END colsample_bytree=0.8, gamma=4, learning_rate=1.7000000000000002, max_depth=151, min_child_weight=20, n_estimators=101, reg_alpha=141, reg_lambda=2;, score=0.426 total time=   8.7s\n",
      "[CV 6/10; 3/10] START colsample_bytree=0.8, gamma=4, learning_rate=1.7000000000000002, max_depth=151, min_child_weight=20, n_estimators=101, reg_alpha=141, reg_lambda=2\n"
     ]
    },
    {
     "name": "stderr",
     "output_type": "stream",
     "text": [
      "c:\\Users\\Saurav\\anaconda3\\Lib\\site-packages\\xgboost\\data.py:440: FutureWarning: is_sparse is deprecated and will be removed in a future version. Check `isinstance(dtype, pd.SparseDtype)` instead.\n",
      "  if is_sparse(data):\n"
     ]
    },
    {
     "name": "stdout",
     "output_type": "stream",
     "text": [
      "[CV 6/10; 3/10] END colsample_bytree=0.8, gamma=4, learning_rate=1.7000000000000002, max_depth=151, min_child_weight=20, n_estimators=101, reg_alpha=141, reg_lambda=2;, score=0.446 total time=   9.1s\n",
      "[CV 7/10; 3/10] START colsample_bytree=0.8, gamma=4, learning_rate=1.7000000000000002, max_depth=151, min_child_weight=20, n_estimators=101, reg_alpha=141, reg_lambda=2\n"
     ]
    },
    {
     "name": "stderr",
     "output_type": "stream",
     "text": [
      "c:\\Users\\Saurav\\anaconda3\\Lib\\site-packages\\xgboost\\data.py:440: FutureWarning: is_sparse is deprecated and will be removed in a future version. Check `isinstance(dtype, pd.SparseDtype)` instead.\n",
      "  if is_sparse(data):\n"
     ]
    },
    {
     "name": "stdout",
     "output_type": "stream",
     "text": [
      "[CV 7/10; 3/10] END colsample_bytree=0.8, gamma=4, learning_rate=1.7000000000000002, max_depth=151, min_child_weight=20, n_estimators=101, reg_alpha=141, reg_lambda=2;, score=0.446 total time=   8.6s\n",
      "[CV 8/10; 3/10] START colsample_bytree=0.8, gamma=4, learning_rate=1.7000000000000002, max_depth=151, min_child_weight=20, n_estimators=101, reg_alpha=141, reg_lambda=2\n"
     ]
    },
    {
     "name": "stderr",
     "output_type": "stream",
     "text": [
      "c:\\Users\\Saurav\\anaconda3\\Lib\\site-packages\\xgboost\\data.py:440: FutureWarning: is_sparse is deprecated and will be removed in a future version. Check `isinstance(dtype, pd.SparseDtype)` instead.\n",
      "  if is_sparse(data):\n"
     ]
    },
    {
     "name": "stdout",
     "output_type": "stream",
     "text": [
      "[CV 8/10; 3/10] END colsample_bytree=0.8, gamma=4, learning_rate=1.7000000000000002, max_depth=151, min_child_weight=20, n_estimators=101, reg_alpha=141, reg_lambda=2;, score=0.451 total time=   9.4s\n",
      "[CV 9/10; 3/10] START colsample_bytree=0.8, gamma=4, learning_rate=1.7000000000000002, max_depth=151, min_child_weight=20, n_estimators=101, reg_alpha=141, reg_lambda=2\n"
     ]
    },
    {
     "name": "stderr",
     "output_type": "stream",
     "text": [
      "c:\\Users\\Saurav\\anaconda3\\Lib\\site-packages\\xgboost\\data.py:440: FutureWarning: is_sparse is deprecated and will be removed in a future version. Check `isinstance(dtype, pd.SparseDtype)` instead.\n",
      "  if is_sparse(data):\n"
     ]
    },
    {
     "name": "stdout",
     "output_type": "stream",
     "text": [
      "[CV 9/10; 3/10] END colsample_bytree=0.8, gamma=4, learning_rate=1.7000000000000002, max_depth=151, min_child_weight=20, n_estimators=101, reg_alpha=141, reg_lambda=2;, score=0.431 total time=  13.4s\n",
      "[CV 10/10; 3/10] START colsample_bytree=0.8, gamma=4, learning_rate=1.7000000000000002, max_depth=151, min_child_weight=20, n_estimators=101, reg_alpha=141, reg_lambda=2\n"
     ]
    },
    {
     "name": "stderr",
     "output_type": "stream",
     "text": [
      "c:\\Users\\Saurav\\anaconda3\\Lib\\site-packages\\xgboost\\data.py:440: FutureWarning: is_sparse is deprecated and will be removed in a future version. Check `isinstance(dtype, pd.SparseDtype)` instead.\n",
      "  if is_sparse(data):\n"
     ]
    },
    {
     "name": "stdout",
     "output_type": "stream",
     "text": [
      "[CV 10/10; 3/10] END colsample_bytree=0.8, gamma=4, learning_rate=1.7000000000000002, max_depth=151, min_child_weight=20, n_estimators=101, reg_alpha=141, reg_lambda=2;, score=0.431 total time=  10.6s\n",
      "[CV 1/10; 4/10] START colsample_bytree=0.30000000000000004, gamma=1, learning_rate=0.8, max_depth=301, min_child_weight=20, n_estimators=351, reg_alpha=161, reg_lambda=2\n"
     ]
    },
    {
     "name": "stderr",
     "output_type": "stream",
     "text": [
      "c:\\Users\\Saurav\\anaconda3\\Lib\\site-packages\\xgboost\\data.py:440: FutureWarning: is_sparse is deprecated and will be removed in a future version. Check `isinstance(dtype, pd.SparseDtype)` instead.\n",
      "  if is_sparse(data):\n"
     ]
    },
    {
     "name": "stdout",
     "output_type": "stream",
     "text": [
      "[CV 1/10; 4/10] END colsample_bytree=0.30000000000000004, gamma=1, learning_rate=0.8, max_depth=301, min_child_weight=20, n_estimators=351, reg_alpha=161, reg_lambda=2;, score=0.418 total time=  15.9s\n",
      "[CV 2/10; 4/10] START colsample_bytree=0.30000000000000004, gamma=1, learning_rate=0.8, max_depth=301, min_child_weight=20, n_estimators=351, reg_alpha=161, reg_lambda=2\n"
     ]
    },
    {
     "name": "stderr",
     "output_type": "stream",
     "text": [
      "c:\\Users\\Saurav\\anaconda3\\Lib\\site-packages\\xgboost\\data.py:440: FutureWarning: is_sparse is deprecated and will be removed in a future version. Check `isinstance(dtype, pd.SparseDtype)` instead.\n",
      "  if is_sparse(data):\n"
     ]
    },
    {
     "name": "stdout",
     "output_type": "stream",
     "text": [
      "[CV 2/10; 4/10] END colsample_bytree=0.30000000000000004, gamma=1, learning_rate=0.8, max_depth=301, min_child_weight=20, n_estimators=351, reg_alpha=161, reg_lambda=2;, score=0.423 total time=  14.0s\n",
      "[CV 3/10; 4/10] START colsample_bytree=0.30000000000000004, gamma=1, learning_rate=0.8, max_depth=301, min_child_weight=20, n_estimators=351, reg_alpha=161, reg_lambda=2\n"
     ]
    },
    {
     "name": "stderr",
     "output_type": "stream",
     "text": [
      "c:\\Users\\Saurav\\anaconda3\\Lib\\site-packages\\xgboost\\data.py:440: FutureWarning: is_sparse is deprecated and will be removed in a future version. Check `isinstance(dtype, pd.SparseDtype)` instead.\n",
      "  if is_sparse(data):\n"
     ]
    },
    {
     "name": "stdout",
     "output_type": "stream",
     "text": [
      "[CV 3/10; 4/10] END colsample_bytree=0.30000000000000004, gamma=1, learning_rate=0.8, max_depth=301, min_child_weight=20, n_estimators=351, reg_alpha=161, reg_lambda=2;, score=0.395 total time=  13.9s\n",
      "[CV 4/10; 4/10] START colsample_bytree=0.30000000000000004, gamma=1, learning_rate=0.8, max_depth=301, min_child_weight=20, n_estimators=351, reg_alpha=161, reg_lambda=2\n"
     ]
    },
    {
     "name": "stderr",
     "output_type": "stream",
     "text": [
      "c:\\Users\\Saurav\\anaconda3\\Lib\\site-packages\\xgboost\\data.py:440: FutureWarning: is_sparse is deprecated and will be removed in a future version. Check `isinstance(dtype, pd.SparseDtype)` instead.\n",
      "  if is_sparse(data):\n"
     ]
    },
    {
     "name": "stdout",
     "output_type": "stream",
     "text": [
      "[CV 4/10; 4/10] END colsample_bytree=0.30000000000000004, gamma=1, learning_rate=0.8, max_depth=301, min_child_weight=20, n_estimators=351, reg_alpha=161, reg_lambda=2;, score=0.446 total time=  13.8s\n",
      "[CV 5/10; 4/10] START colsample_bytree=0.30000000000000004, gamma=1, learning_rate=0.8, max_depth=301, min_child_weight=20, n_estimators=351, reg_alpha=161, reg_lambda=2\n"
     ]
    },
    {
     "name": "stderr",
     "output_type": "stream",
     "text": [
      "c:\\Users\\Saurav\\anaconda3\\Lib\\site-packages\\xgboost\\data.py:440: FutureWarning: is_sparse is deprecated and will be removed in a future version. Check `isinstance(dtype, pd.SparseDtype)` instead.\n",
      "  if is_sparse(data):\n"
     ]
    },
    {
     "name": "stdout",
     "output_type": "stream",
     "text": [
      "[CV 5/10; 4/10] END colsample_bytree=0.30000000000000004, gamma=1, learning_rate=0.8, max_depth=301, min_child_weight=20, n_estimators=351, reg_alpha=161, reg_lambda=2;, score=0.451 total time=  14.9s\n",
      "[CV 6/10; 4/10] START colsample_bytree=0.30000000000000004, gamma=1, learning_rate=0.8, max_depth=301, min_child_weight=20, n_estimators=351, reg_alpha=161, reg_lambda=2\n"
     ]
    },
    {
     "name": "stderr",
     "output_type": "stream",
     "text": [
      "c:\\Users\\Saurav\\anaconda3\\Lib\\site-packages\\xgboost\\data.py:440: FutureWarning: is_sparse is deprecated and will be removed in a future version. Check `isinstance(dtype, pd.SparseDtype)` instead.\n",
      "  if is_sparse(data):\n"
     ]
    },
    {
     "name": "stdout",
     "output_type": "stream",
     "text": [
      "[CV 6/10; 4/10] END colsample_bytree=0.30000000000000004, gamma=1, learning_rate=0.8, max_depth=301, min_child_weight=20, n_estimators=351, reg_alpha=161, reg_lambda=2;, score=0.456 total time=  13.9s\n",
      "[CV 7/10; 4/10] START colsample_bytree=0.30000000000000004, gamma=1, learning_rate=0.8, max_depth=301, min_child_weight=20, n_estimators=351, reg_alpha=161, reg_lambda=2\n"
     ]
    },
    {
     "name": "stderr",
     "output_type": "stream",
     "text": [
      "c:\\Users\\Saurav\\anaconda3\\Lib\\site-packages\\xgboost\\data.py:440: FutureWarning: is_sparse is deprecated and will be removed in a future version. Check `isinstance(dtype, pd.SparseDtype)` instead.\n",
      "  if is_sparse(data):\n"
     ]
    },
    {
     "name": "stdout",
     "output_type": "stream",
     "text": [
      "[CV 7/10; 4/10] END colsample_bytree=0.30000000000000004, gamma=1, learning_rate=0.8, max_depth=301, min_child_weight=20, n_estimators=351, reg_alpha=161, reg_lambda=2;, score=0.441 total time=  13.8s\n",
      "[CV 8/10; 4/10] START colsample_bytree=0.30000000000000004, gamma=1, learning_rate=0.8, max_depth=301, min_child_weight=20, n_estimators=351, reg_alpha=161, reg_lambda=2\n"
     ]
    },
    {
     "name": "stderr",
     "output_type": "stream",
     "text": [
      "c:\\Users\\Saurav\\anaconda3\\Lib\\site-packages\\xgboost\\data.py:440: FutureWarning: is_sparse is deprecated and will be removed in a future version. Check `isinstance(dtype, pd.SparseDtype)` instead.\n",
      "  if is_sparse(data):\n"
     ]
    },
    {
     "name": "stdout",
     "output_type": "stream",
     "text": [
      "[CV 8/10; 4/10] END colsample_bytree=0.30000000000000004, gamma=1, learning_rate=0.8, max_depth=301, min_child_weight=20, n_estimators=351, reg_alpha=161, reg_lambda=2;, score=0.451 total time=  13.3s\n",
      "[CV 9/10; 4/10] START colsample_bytree=0.30000000000000004, gamma=1, learning_rate=0.8, max_depth=301, min_child_weight=20, n_estimators=351, reg_alpha=161, reg_lambda=2\n"
     ]
    },
    {
     "name": "stderr",
     "output_type": "stream",
     "text": [
      "c:\\Users\\Saurav\\anaconda3\\Lib\\site-packages\\xgboost\\data.py:440: FutureWarning: is_sparse is deprecated and will be removed in a future version. Check `isinstance(dtype, pd.SparseDtype)` instead.\n",
      "  if is_sparse(data):\n"
     ]
    },
    {
     "name": "stdout",
     "output_type": "stream",
     "text": [
      "[CV 9/10; 4/10] END colsample_bytree=0.30000000000000004, gamma=1, learning_rate=0.8, max_depth=301, min_child_weight=20, n_estimators=351, reg_alpha=161, reg_lambda=2;, score=0.436 total time=  13.7s\n",
      "[CV 10/10; 4/10] START colsample_bytree=0.30000000000000004, gamma=1, learning_rate=0.8, max_depth=301, min_child_weight=20, n_estimators=351, reg_alpha=161, reg_lambda=2\n"
     ]
    },
    {
     "name": "stderr",
     "output_type": "stream",
     "text": [
      "c:\\Users\\Saurav\\anaconda3\\Lib\\site-packages\\xgboost\\data.py:440: FutureWarning: is_sparse is deprecated and will be removed in a future version. Check `isinstance(dtype, pd.SparseDtype)` instead.\n",
      "  if is_sparse(data):\n"
     ]
    },
    {
     "name": "stdout",
     "output_type": "stream",
     "text": [
      "[CV 10/10; 4/10] END colsample_bytree=0.30000000000000004, gamma=1, learning_rate=0.8, max_depth=301, min_child_weight=20, n_estimators=351, reg_alpha=161, reg_lambda=2;, score=0.426 total time=  13.8s\n",
      "[CV 1/10; 5/10] START colsample_bytree=0.30000000000000004, gamma=7, learning_rate=1.0, max_depth=101, min_child_weight=20, n_estimators=101, reg_alpha=101, reg_lambda=3\n"
     ]
    },
    {
     "name": "stderr",
     "output_type": "stream",
     "text": [
      "c:\\Users\\Saurav\\anaconda3\\Lib\\site-packages\\xgboost\\data.py:440: FutureWarning: is_sparse is deprecated and will be removed in a future version. Check `isinstance(dtype, pd.SparseDtype)` instead.\n",
      "  if is_sparse(data):\n"
     ]
    },
    {
     "name": "stdout",
     "output_type": "stream",
     "text": [
      "[CV 1/10; 5/10] END colsample_bytree=0.30000000000000004, gamma=7, learning_rate=1.0, max_depth=101, min_child_weight=20, n_estimators=101, reg_alpha=101, reg_lambda=3;, score=0.633 total time=   4.3s\n",
      "[CV 2/10; 5/10] START colsample_bytree=0.30000000000000004, gamma=7, learning_rate=1.0, max_depth=101, min_child_weight=20, n_estimators=101, reg_alpha=101, reg_lambda=3\n"
     ]
    },
    {
     "name": "stderr",
     "output_type": "stream",
     "text": [
      "c:\\Users\\Saurav\\anaconda3\\Lib\\site-packages\\xgboost\\data.py:440: FutureWarning: is_sparse is deprecated and will be removed in a future version. Check `isinstance(dtype, pd.SparseDtype)` instead.\n",
      "  if is_sparse(data):\n"
     ]
    },
    {
     "name": "stdout",
     "output_type": "stream",
     "text": [
      "[CV 2/10; 5/10] END colsample_bytree=0.30000000000000004, gamma=7, learning_rate=1.0, max_depth=101, min_child_weight=20, n_estimators=101, reg_alpha=101, reg_lambda=3;, score=0.617 total time=   4.3s\n",
      "[CV 3/10; 5/10] START colsample_bytree=0.30000000000000004, gamma=7, learning_rate=1.0, max_depth=101, min_child_weight=20, n_estimators=101, reg_alpha=101, reg_lambda=3\n"
     ]
    },
    {
     "name": "stderr",
     "output_type": "stream",
     "text": [
      "c:\\Users\\Saurav\\anaconda3\\Lib\\site-packages\\xgboost\\data.py:440: FutureWarning: is_sparse is deprecated and will be removed in a future version. Check `isinstance(dtype, pd.SparseDtype)` instead.\n",
      "  if is_sparse(data):\n"
     ]
    },
    {
     "name": "stdout",
     "output_type": "stream",
     "text": [
      "[CV 3/10; 5/10] END colsample_bytree=0.30000000000000004, gamma=7, learning_rate=1.0, max_depth=101, min_child_weight=20, n_estimators=101, reg_alpha=101, reg_lambda=3;, score=0.641 total time=   4.5s\n",
      "[CV 4/10; 5/10] START colsample_bytree=0.30000000000000004, gamma=7, learning_rate=1.0, max_depth=101, min_child_weight=20, n_estimators=101, reg_alpha=101, reg_lambda=3\n"
     ]
    },
    {
     "name": "stderr",
     "output_type": "stream",
     "text": [
      "c:\\Users\\Saurav\\anaconda3\\Lib\\site-packages\\xgboost\\data.py:440: FutureWarning: is_sparse is deprecated and will be removed in a future version. Check `isinstance(dtype, pd.SparseDtype)` instead.\n",
      "  if is_sparse(data):\n"
     ]
    },
    {
     "name": "stdout",
     "output_type": "stream",
     "text": [
      "[CV 4/10; 5/10] END colsample_bytree=0.30000000000000004, gamma=7, learning_rate=1.0, max_depth=101, min_child_weight=20, n_estimators=101, reg_alpha=101, reg_lambda=3;, score=0.636 total time=   4.5s\n",
      "[CV 5/10; 5/10] START colsample_bytree=0.30000000000000004, gamma=7, learning_rate=1.0, max_depth=101, min_child_weight=20, n_estimators=101, reg_alpha=101, reg_lambda=3\n"
     ]
    },
    {
     "name": "stderr",
     "output_type": "stream",
     "text": [
      "c:\\Users\\Saurav\\anaconda3\\Lib\\site-packages\\xgboost\\data.py:440: FutureWarning: is_sparse is deprecated and will be removed in a future version. Check `isinstance(dtype, pd.SparseDtype)` instead.\n",
      "  if is_sparse(data):\n"
     ]
    },
    {
     "name": "stdout",
     "output_type": "stream",
     "text": [
      "[CV 5/10; 5/10] END colsample_bytree=0.30000000000000004, gamma=7, learning_rate=1.0, max_depth=101, min_child_weight=20, n_estimators=101, reg_alpha=101, reg_lambda=3;, score=0.651 total time=   5.1s\n",
      "[CV 6/10; 5/10] START colsample_bytree=0.30000000000000004, gamma=7, learning_rate=1.0, max_depth=101, min_child_weight=20, n_estimators=101, reg_alpha=101, reg_lambda=3\n"
     ]
    },
    {
     "name": "stderr",
     "output_type": "stream",
     "text": [
      "c:\\Users\\Saurav\\anaconda3\\Lib\\site-packages\\xgboost\\data.py:440: FutureWarning: is_sparse is deprecated and will be removed in a future version. Check `isinstance(dtype, pd.SparseDtype)` instead.\n",
      "  if is_sparse(data):\n"
     ]
    },
    {
     "name": "stdout",
     "output_type": "stream",
     "text": [
      "[CV 6/10; 5/10] END colsample_bytree=0.30000000000000004, gamma=7, learning_rate=1.0, max_depth=101, min_child_weight=20, n_estimators=101, reg_alpha=101, reg_lambda=3;, score=0.626 total time=   4.5s\n",
      "[CV 7/10; 5/10] START colsample_bytree=0.30000000000000004, gamma=7, learning_rate=1.0, max_depth=101, min_child_weight=20, n_estimators=101, reg_alpha=101, reg_lambda=3\n"
     ]
    },
    {
     "name": "stderr",
     "output_type": "stream",
     "text": [
      "c:\\Users\\Saurav\\anaconda3\\Lib\\site-packages\\xgboost\\data.py:440: FutureWarning: is_sparse is deprecated and will be removed in a future version. Check `isinstance(dtype, pd.SparseDtype)` instead.\n",
      "  if is_sparse(data):\n"
     ]
    },
    {
     "name": "stdout",
     "output_type": "stream",
     "text": [
      "[CV 7/10; 5/10] END colsample_bytree=0.30000000000000004, gamma=7, learning_rate=1.0, max_depth=101, min_child_weight=20, n_estimators=101, reg_alpha=101, reg_lambda=3;, score=0.662 total time=   4.6s\n",
      "[CV 8/10; 5/10] START colsample_bytree=0.30000000000000004, gamma=7, learning_rate=1.0, max_depth=101, min_child_weight=20, n_estimators=101, reg_alpha=101, reg_lambda=3\n"
     ]
    },
    {
     "name": "stderr",
     "output_type": "stream",
     "text": [
      "c:\\Users\\Saurav\\anaconda3\\Lib\\site-packages\\xgboost\\data.py:440: FutureWarning: is_sparse is deprecated and will be removed in a future version. Check `isinstance(dtype, pd.SparseDtype)` instead.\n",
      "  if is_sparse(data):\n"
     ]
    },
    {
     "name": "stdout",
     "output_type": "stream",
     "text": [
      "[CV 8/10; 5/10] END colsample_bytree=0.30000000000000004, gamma=7, learning_rate=1.0, max_depth=101, min_child_weight=20, n_estimators=101, reg_alpha=101, reg_lambda=3;, score=0.692 total time=   4.6s\n",
      "[CV 9/10; 5/10] START colsample_bytree=0.30000000000000004, gamma=7, learning_rate=1.0, max_depth=101, min_child_weight=20, n_estimators=101, reg_alpha=101, reg_lambda=3\n"
     ]
    },
    {
     "name": "stderr",
     "output_type": "stream",
     "text": [
      "c:\\Users\\Saurav\\anaconda3\\Lib\\site-packages\\xgboost\\data.py:440: FutureWarning: is_sparse is deprecated and will be removed in a future version. Check `isinstance(dtype, pd.SparseDtype)` instead.\n",
      "  if is_sparse(data):\n"
     ]
    },
    {
     "name": "stdout",
     "output_type": "stream",
     "text": [
      "[CV 9/10; 5/10] END colsample_bytree=0.30000000000000004, gamma=7, learning_rate=1.0, max_depth=101, min_child_weight=20, n_estimators=101, reg_alpha=101, reg_lambda=3;, score=0.672 total time=   4.7s\n",
      "[CV 10/10; 5/10] START colsample_bytree=0.30000000000000004, gamma=7, learning_rate=1.0, max_depth=101, min_child_weight=20, n_estimators=101, reg_alpha=101, reg_lambda=3\n"
     ]
    },
    {
     "name": "stderr",
     "output_type": "stream",
     "text": [
      "c:\\Users\\Saurav\\anaconda3\\Lib\\site-packages\\xgboost\\data.py:440: FutureWarning: is_sparse is deprecated and will be removed in a future version. Check `isinstance(dtype, pd.SparseDtype)` instead.\n",
      "  if is_sparse(data):\n"
     ]
    },
    {
     "name": "stdout",
     "output_type": "stream",
     "text": [
      "[CV 10/10; 5/10] END colsample_bytree=0.30000000000000004, gamma=7, learning_rate=1.0, max_depth=101, min_child_weight=20, n_estimators=101, reg_alpha=101, reg_lambda=3;, score=0.667 total time=   4.6s\n",
      "[CV 1/10; 6/10] START colsample_bytree=0.30000000000000004, gamma=7, learning_rate=1.3, max_depth=351, min_child_weight=15, n_estimators=1, reg_alpha=141, reg_lambda=0\n",
      "[CV 1/10; 6/10] END colsample_bytree=0.30000000000000004, gamma=7, learning_rate=1.3, max_depth=351, min_child_weight=15, n_estimators=1, reg_alpha=141, reg_lambda=0;, score=0.342 total time=   0.0s\n",
      "[CV 2/10; 6/10] START colsample_bytree=0.30000000000000004, gamma=7, learning_rate=1.3, max_depth=351, min_child_weight=15, n_estimators=1, reg_alpha=141, reg_lambda=0\n",
      "[CV 2/10; 6/10] END colsample_bytree=0.30000000000000004, gamma=7, learning_rate=1.3, max_depth=351, min_child_weight=15, n_estimators=1, reg_alpha=141, reg_lambda=0;, score=0.321 total time=   0.0s\n",
      "[CV 3/10; 6/10] START colsample_bytree=0.30000000000000004, gamma=7, learning_rate=1.3, max_depth=351, min_child_weight=15, n_estimators=1, reg_alpha=141, reg_lambda=0\n"
     ]
    },
    {
     "name": "stderr",
     "output_type": "stream",
     "text": [
      "c:\\Users\\Saurav\\anaconda3\\Lib\\site-packages\\xgboost\\data.py:440: FutureWarning: is_sparse is deprecated and will be removed in a future version. Check `isinstance(dtype, pd.SparseDtype)` instead.\n",
      "  if is_sparse(data):\n",
      "c:\\Users\\Saurav\\anaconda3\\Lib\\site-packages\\xgboost\\data.py:440: FutureWarning: is_sparse is deprecated and will be removed in a future version. Check `isinstance(dtype, pd.SparseDtype)` instead.\n",
      "  if is_sparse(data):\n",
      "c:\\Users\\Saurav\\anaconda3\\Lib\\site-packages\\xgboost\\data.py:440: FutureWarning: is_sparse is deprecated and will be removed in a future version. Check `isinstance(dtype, pd.SparseDtype)` instead.\n",
      "  if is_sparse(data):\n"
     ]
    },
    {
     "name": "stdout",
     "output_type": "stream",
     "text": [
      "[CV 3/10; 6/10] END colsample_bytree=0.30000000000000004, gamma=7, learning_rate=1.3, max_depth=351, min_child_weight=15, n_estimators=1, reg_alpha=141, reg_lambda=0;, score=0.338 total time=   0.0s\n",
      "[CV 4/10; 6/10] START colsample_bytree=0.30000000000000004, gamma=7, learning_rate=1.3, max_depth=351, min_child_weight=15, n_estimators=1, reg_alpha=141, reg_lambda=0\n",
      "[CV 4/10; 6/10] END colsample_bytree=0.30000000000000004, gamma=7, learning_rate=1.3, max_depth=351, min_child_weight=15, n_estimators=1, reg_alpha=141, reg_lambda=0;, score=0.349 total time=   0.0s\n",
      "[CV 5/10; 6/10] START colsample_bytree=0.30000000000000004, gamma=7, learning_rate=1.3, max_depth=351, min_child_weight=15, n_estimators=1, reg_alpha=141, reg_lambda=0\n",
      "[CV 5/10; 6/10] END colsample_bytree=0.30000000000000004, gamma=7, learning_rate=1.3, max_depth=351, min_child_weight=15, n_estimators=1, reg_alpha=141, reg_lambda=0;, score=0.318 total time=   0.0s\n",
      "[CV 6/10; 6/10] START colsample_bytree=0.30000000000000004, gamma=7, learning_rate=1.3, max_depth=351, min_child_weight=15, n_estimators=1, reg_alpha=141, reg_lambda=0\n"
     ]
    },
    {
     "name": "stderr",
     "output_type": "stream",
     "text": [
      "c:\\Users\\Saurav\\anaconda3\\Lib\\site-packages\\xgboost\\data.py:440: FutureWarning: is_sparse is deprecated and will be removed in a future version. Check `isinstance(dtype, pd.SparseDtype)` instead.\n",
      "  if is_sparse(data):\n",
      "c:\\Users\\Saurav\\anaconda3\\Lib\\site-packages\\xgboost\\data.py:440: FutureWarning: is_sparse is deprecated and will be removed in a future version. Check `isinstance(dtype, pd.SparseDtype)` instead.\n",
      "  if is_sparse(data):\n",
      "c:\\Users\\Saurav\\anaconda3\\Lib\\site-packages\\xgboost\\data.py:440: FutureWarning: is_sparse is deprecated and will be removed in a future version. Check `isinstance(dtype, pd.SparseDtype)` instead.\n",
      "  if is_sparse(data):\n"
     ]
    },
    {
     "name": "stdout",
     "output_type": "stream",
     "text": [
      "[CV 6/10; 6/10] END colsample_bytree=0.30000000000000004, gamma=7, learning_rate=1.3, max_depth=351, min_child_weight=15, n_estimators=1, reg_alpha=141, reg_lambda=0;, score=0.349 total time=   0.0s\n",
      "[CV 7/10; 6/10] START colsample_bytree=0.30000000000000004, gamma=7, learning_rate=1.3, max_depth=351, min_child_weight=15, n_estimators=1, reg_alpha=141, reg_lambda=0\n",
      "[CV 7/10; 6/10] END colsample_bytree=0.30000000000000004, gamma=7, learning_rate=1.3, max_depth=351, min_child_weight=15, n_estimators=1, reg_alpha=141, reg_lambda=0;, score=0.349 total time=   0.0s\n",
      "[CV 8/10; 6/10] START colsample_bytree=0.30000000000000004, gamma=7, learning_rate=1.3, max_depth=351, min_child_weight=15, n_estimators=1, reg_alpha=141, reg_lambda=0\n",
      "[CV 8/10; 6/10] END colsample_bytree=0.30000000000000004, gamma=7, learning_rate=1.3, max_depth=351, min_child_weight=15, n_estimators=1, reg_alpha=141, reg_lambda=0;, score=0.369 total time=   0.0s\n",
      "[CV 9/10; 6/10] START colsample_bytree=0.30000000000000004, gamma=7, learning_rate=1.3, max_depth=351, min_child_weight=15, n_estimators=1, reg_alpha=141, reg_lambda=0\n"
     ]
    },
    {
     "name": "stderr",
     "output_type": "stream",
     "text": [
      "c:\\Users\\Saurav\\anaconda3\\Lib\\site-packages\\xgboost\\data.py:440: FutureWarning: is_sparse is deprecated and will be removed in a future version. Check `isinstance(dtype, pd.SparseDtype)` instead.\n",
      "  if is_sparse(data):\n",
      "c:\\Users\\Saurav\\anaconda3\\Lib\\site-packages\\xgboost\\data.py:440: FutureWarning: is_sparse is deprecated and will be removed in a future version. Check `isinstance(dtype, pd.SparseDtype)` instead.\n",
      "  if is_sparse(data):\n",
      "c:\\Users\\Saurav\\anaconda3\\Lib\\site-packages\\xgboost\\data.py:440: FutureWarning: is_sparse is deprecated and will be removed in a future version. Check `isinstance(dtype, pd.SparseDtype)` instead.\n",
      "  if is_sparse(data):\n"
     ]
    },
    {
     "name": "stdout",
     "output_type": "stream",
     "text": [
      "[CV 9/10; 6/10] END colsample_bytree=0.30000000000000004, gamma=7, learning_rate=1.3, max_depth=351, min_child_weight=15, n_estimators=1, reg_alpha=141, reg_lambda=0;, score=0.344 total time=   0.0s\n",
      "[CV 10/10; 6/10] START colsample_bytree=0.30000000000000004, gamma=7, learning_rate=1.3, max_depth=351, min_child_weight=15, n_estimators=1, reg_alpha=141, reg_lambda=0\n",
      "[CV 10/10; 6/10] END colsample_bytree=0.30000000000000004, gamma=7, learning_rate=1.3, max_depth=351, min_child_weight=15, n_estimators=1, reg_alpha=141, reg_lambda=0;, score=0.333 total time=   0.0s\n",
      "[CV 1/10; 7/10] START colsample_bytree=0.0, gamma=4, learning_rate=1.0, max_depth=351, min_child_weight=35, n_estimators=201, reg_alpha=141, reg_lambda=0\n"
     ]
    },
    {
     "name": "stderr",
     "output_type": "stream",
     "text": [
      "c:\\Users\\Saurav\\anaconda3\\Lib\\site-packages\\xgboost\\data.py:440: FutureWarning: is_sparse is deprecated and will be removed in a future version. Check `isinstance(dtype, pd.SparseDtype)` instead.\n",
      "  if is_sparse(data):\n",
      "c:\\Users\\Saurav\\anaconda3\\Lib\\site-packages\\xgboost\\data.py:440: FutureWarning: is_sparse is deprecated and will be removed in a future version. Check `isinstance(dtype, pd.SparseDtype)` instead.\n",
      "  if is_sparse(data):\n"
     ]
    },
    {
     "name": "stdout",
     "output_type": "stream",
     "text": [
      "[CV 1/10; 7/10] END colsample_bytree=0.0, gamma=4, learning_rate=1.0, max_depth=351, min_child_weight=35, n_estimators=201, reg_alpha=141, reg_lambda=0;, score=0.204 total time=   4.4s\n",
      "[CV 2/10; 7/10] START colsample_bytree=0.0, gamma=4, learning_rate=1.0, max_depth=351, min_child_weight=35, n_estimators=201, reg_alpha=141, reg_lambda=0\n"
     ]
    },
    {
     "name": "stderr",
     "output_type": "stream",
     "text": [
      "c:\\Users\\Saurav\\anaconda3\\Lib\\site-packages\\xgboost\\data.py:440: FutureWarning: is_sparse is deprecated and will be removed in a future version. Check `isinstance(dtype, pd.SparseDtype)` instead.\n",
      "  if is_sparse(data):\n"
     ]
    },
    {
     "name": "stdout",
     "output_type": "stream",
     "text": [
      "[CV 2/10; 7/10] END colsample_bytree=0.0, gamma=4, learning_rate=1.0, max_depth=351, min_child_weight=35, n_estimators=201, reg_alpha=141, reg_lambda=0;, score=0.204 total time=   4.1s\n",
      "[CV 3/10; 7/10] START colsample_bytree=0.0, gamma=4, learning_rate=1.0, max_depth=351, min_child_weight=35, n_estimators=201, reg_alpha=141, reg_lambda=0\n"
     ]
    },
    {
     "name": "stderr",
     "output_type": "stream",
     "text": [
      "c:\\Users\\Saurav\\anaconda3\\Lib\\site-packages\\xgboost\\data.py:440: FutureWarning: is_sparse is deprecated and will be removed in a future version. Check `isinstance(dtype, pd.SparseDtype)` instead.\n",
      "  if is_sparse(data):\n"
     ]
    },
    {
     "name": "stdout",
     "output_type": "stream",
     "text": [
      "[CV 3/10; 7/10] END colsample_bytree=0.0, gamma=4, learning_rate=1.0, max_depth=351, min_child_weight=35, n_estimators=201, reg_alpha=141, reg_lambda=0;, score=0.200 total time=   4.2s\n",
      "[CV 4/10; 7/10] START colsample_bytree=0.0, gamma=4, learning_rate=1.0, max_depth=351, min_child_weight=35, n_estimators=201, reg_alpha=141, reg_lambda=0\n"
     ]
    },
    {
     "name": "stderr",
     "output_type": "stream",
     "text": [
      "c:\\Users\\Saurav\\anaconda3\\Lib\\site-packages\\xgboost\\data.py:440: FutureWarning: is_sparse is deprecated and will be removed in a future version. Check `isinstance(dtype, pd.SparseDtype)` instead.\n",
      "  if is_sparse(data):\n"
     ]
    },
    {
     "name": "stdout",
     "output_type": "stream",
     "text": [
      "[CV 4/10; 7/10] END colsample_bytree=0.0, gamma=4, learning_rate=1.0, max_depth=351, min_child_weight=35, n_estimators=201, reg_alpha=141, reg_lambda=0;, score=0.200 total time=   4.2s\n",
      "[CV 5/10; 7/10] START colsample_bytree=0.0, gamma=4, learning_rate=1.0, max_depth=351, min_child_weight=35, n_estimators=201, reg_alpha=141, reg_lambda=0\n"
     ]
    },
    {
     "name": "stderr",
     "output_type": "stream",
     "text": [
      "c:\\Users\\Saurav\\anaconda3\\Lib\\site-packages\\xgboost\\data.py:440: FutureWarning: is_sparse is deprecated and will be removed in a future version. Check `isinstance(dtype, pd.SparseDtype)` instead.\n",
      "  if is_sparse(data):\n"
     ]
    },
    {
     "name": "stdout",
     "output_type": "stream",
     "text": [
      "[CV 5/10; 7/10] END colsample_bytree=0.0, gamma=4, learning_rate=1.0, max_depth=351, min_child_weight=35, n_estimators=201, reg_alpha=141, reg_lambda=0;, score=0.200 total time=   4.4s\n",
      "[CV 6/10; 7/10] START colsample_bytree=0.0, gamma=4, learning_rate=1.0, max_depth=351, min_child_weight=35, n_estimators=201, reg_alpha=141, reg_lambda=0\n"
     ]
    },
    {
     "name": "stderr",
     "output_type": "stream",
     "text": [
      "c:\\Users\\Saurav\\anaconda3\\Lib\\site-packages\\xgboost\\data.py:440: FutureWarning: is_sparse is deprecated and will be removed in a future version. Check `isinstance(dtype, pd.SparseDtype)` instead.\n",
      "  if is_sparse(data):\n"
     ]
    },
    {
     "name": "stdout",
     "output_type": "stream",
     "text": [
      "[CV 6/10; 7/10] END colsample_bytree=0.0, gamma=4, learning_rate=1.0, max_depth=351, min_child_weight=35, n_estimators=201, reg_alpha=141, reg_lambda=0;, score=0.205 total time=   4.1s\n",
      "[CV 7/10; 7/10] START colsample_bytree=0.0, gamma=4, learning_rate=1.0, max_depth=351, min_child_weight=35, n_estimators=201, reg_alpha=141, reg_lambda=0\n"
     ]
    },
    {
     "name": "stderr",
     "output_type": "stream",
     "text": [
      "c:\\Users\\Saurav\\anaconda3\\Lib\\site-packages\\xgboost\\data.py:440: FutureWarning: is_sparse is deprecated and will be removed in a future version. Check `isinstance(dtype, pd.SparseDtype)` instead.\n",
      "  if is_sparse(data):\n"
     ]
    },
    {
     "name": "stdout",
     "output_type": "stream",
     "text": [
      "[CV 7/10; 7/10] END colsample_bytree=0.0, gamma=4, learning_rate=1.0, max_depth=351, min_child_weight=35, n_estimators=201, reg_alpha=141, reg_lambda=0;, score=0.205 total time=   4.1s\n",
      "[CV 8/10; 7/10] START colsample_bytree=0.0, gamma=4, learning_rate=1.0, max_depth=351, min_child_weight=35, n_estimators=201, reg_alpha=141, reg_lambda=0\n"
     ]
    },
    {
     "name": "stderr",
     "output_type": "stream",
     "text": [
      "c:\\Users\\Saurav\\anaconda3\\Lib\\site-packages\\xgboost\\data.py:440: FutureWarning: is_sparse is deprecated and will be removed in a future version. Check `isinstance(dtype, pd.SparseDtype)` instead.\n",
      "  if is_sparse(data):\n"
     ]
    },
    {
     "name": "stdout",
     "output_type": "stream",
     "text": [
      "[CV 8/10; 7/10] END colsample_bytree=0.0, gamma=4, learning_rate=1.0, max_depth=351, min_child_weight=35, n_estimators=201, reg_alpha=141, reg_lambda=0;, score=0.205 total time=   4.6s\n",
      "[CV 9/10; 7/10] START colsample_bytree=0.0, gamma=4, learning_rate=1.0, max_depth=351, min_child_weight=35, n_estimators=201, reg_alpha=141, reg_lambda=0\n"
     ]
    },
    {
     "name": "stderr",
     "output_type": "stream",
     "text": [
      "c:\\Users\\Saurav\\anaconda3\\Lib\\site-packages\\xgboost\\data.py:440: FutureWarning: is_sparse is deprecated and will be removed in a future version. Check `isinstance(dtype, pd.SparseDtype)` instead.\n",
      "  if is_sparse(data):\n"
     ]
    },
    {
     "name": "stdout",
     "output_type": "stream",
     "text": [
      "[CV 9/10; 7/10] END colsample_bytree=0.0, gamma=4, learning_rate=1.0, max_depth=351, min_child_weight=35, n_estimators=201, reg_alpha=141, reg_lambda=0;, score=0.205 total time=   4.7s\n",
      "[CV 10/10; 7/10] START colsample_bytree=0.0, gamma=4, learning_rate=1.0, max_depth=351, min_child_weight=35, n_estimators=201, reg_alpha=141, reg_lambda=0\n"
     ]
    },
    {
     "name": "stderr",
     "output_type": "stream",
     "text": [
      "c:\\Users\\Saurav\\anaconda3\\Lib\\site-packages\\xgboost\\data.py:440: FutureWarning: is_sparse is deprecated and will be removed in a future version. Check `isinstance(dtype, pd.SparseDtype)` instead.\n",
      "  if is_sparse(data):\n"
     ]
    },
    {
     "name": "stdout",
     "output_type": "stream",
     "text": [
      "[CV 10/10; 7/10] END colsample_bytree=0.0, gamma=4, learning_rate=1.0, max_depth=351, min_child_weight=35, n_estimators=201, reg_alpha=141, reg_lambda=0;, score=0.205 total time=   4.1s\n",
      "[CV 1/10; 8/10] START colsample_bytree=0.9, gamma=4, learning_rate=1.1, max_depth=301, min_child_weight=30, n_estimators=251, reg_alpha=241, reg_lambda=4\n"
     ]
    },
    {
     "name": "stderr",
     "output_type": "stream",
     "text": [
      "c:\\Users\\Saurav\\anaconda3\\Lib\\site-packages\\xgboost\\data.py:440: FutureWarning: is_sparse is deprecated and will be removed in a future version. Check `isinstance(dtype, pd.SparseDtype)` instead.\n",
      "  if is_sparse(data):\n"
     ]
    },
    {
     "name": "stdout",
     "output_type": "stream",
     "text": [
      "[CV 1/10; 8/10] END colsample_bytree=0.9, gamma=4, learning_rate=1.1, max_depth=301, min_child_weight=30, n_estimators=251, reg_alpha=241, reg_lambda=4;, score=0.204 total time=  19.4s\n",
      "[CV 2/10; 8/10] START colsample_bytree=0.9, gamma=4, learning_rate=1.1, max_depth=301, min_child_weight=30, n_estimators=251, reg_alpha=241, reg_lambda=4\n"
     ]
    },
    {
     "name": "stderr",
     "output_type": "stream",
     "text": [
      "c:\\Users\\Saurav\\anaconda3\\Lib\\site-packages\\xgboost\\data.py:440: FutureWarning: is_sparse is deprecated and will be removed in a future version. Check `isinstance(dtype, pd.SparseDtype)` instead.\n",
      "  if is_sparse(data):\n"
     ]
    },
    {
     "name": "stdout",
     "output_type": "stream",
     "text": [
      "[CV 2/10; 8/10] END colsample_bytree=0.9, gamma=4, learning_rate=1.1, max_depth=301, min_child_weight=30, n_estimators=251, reg_alpha=241, reg_lambda=4;, score=0.204 total time=  18.5s\n",
      "[CV 3/10; 8/10] START colsample_bytree=0.9, gamma=4, learning_rate=1.1, max_depth=301, min_child_weight=30, n_estimators=251, reg_alpha=241, reg_lambda=4\n"
     ]
    },
    {
     "name": "stderr",
     "output_type": "stream",
     "text": [
      "c:\\Users\\Saurav\\anaconda3\\Lib\\site-packages\\xgboost\\data.py:440: FutureWarning: is_sparse is deprecated and will be removed in a future version. Check `isinstance(dtype, pd.SparseDtype)` instead.\n",
      "  if is_sparse(data):\n"
     ]
    },
    {
     "name": "stdout",
     "output_type": "stream",
     "text": [
      "[CV 3/10; 8/10] END colsample_bytree=0.9, gamma=4, learning_rate=1.1, max_depth=301, min_child_weight=30, n_estimators=251, reg_alpha=241, reg_lambda=4;, score=0.200 total time=  18.7s\n",
      "[CV 4/10; 8/10] START colsample_bytree=0.9, gamma=4, learning_rate=1.1, max_depth=301, min_child_weight=30, n_estimators=251, reg_alpha=241, reg_lambda=4\n"
     ]
    },
    {
     "name": "stderr",
     "output_type": "stream",
     "text": [
      "c:\\Users\\Saurav\\anaconda3\\Lib\\site-packages\\xgboost\\data.py:440: FutureWarning: is_sparse is deprecated and will be removed in a future version. Check `isinstance(dtype, pd.SparseDtype)` instead.\n",
      "  if is_sparse(data):\n"
     ]
    },
    {
     "name": "stdout",
     "output_type": "stream",
     "text": [
      "[CV 4/10; 8/10] END colsample_bytree=0.9, gamma=4, learning_rate=1.1, max_depth=301, min_child_weight=30, n_estimators=251, reg_alpha=241, reg_lambda=4;, score=0.200 total time=  18.9s\n",
      "[CV 5/10; 8/10] START colsample_bytree=0.9, gamma=4, learning_rate=1.1, max_depth=301, min_child_weight=30, n_estimators=251, reg_alpha=241, reg_lambda=4\n"
     ]
    },
    {
     "name": "stderr",
     "output_type": "stream",
     "text": [
      "c:\\Users\\Saurav\\anaconda3\\Lib\\site-packages\\xgboost\\data.py:440: FutureWarning: is_sparse is deprecated and will be removed in a future version. Check `isinstance(dtype, pd.SparseDtype)` instead.\n",
      "  if is_sparse(data):\n"
     ]
    },
    {
     "name": "stdout",
     "output_type": "stream",
     "text": [
      "[CV 5/10; 8/10] END colsample_bytree=0.9, gamma=4, learning_rate=1.1, max_depth=301, min_child_weight=30, n_estimators=251, reg_alpha=241, reg_lambda=4;, score=0.200 total time=  19.1s\n",
      "[CV 6/10; 8/10] START colsample_bytree=0.9, gamma=4, learning_rate=1.1, max_depth=301, min_child_weight=30, n_estimators=251, reg_alpha=241, reg_lambda=4\n"
     ]
    },
    {
     "name": "stderr",
     "output_type": "stream",
     "text": [
      "c:\\Users\\Saurav\\anaconda3\\Lib\\site-packages\\xgboost\\data.py:440: FutureWarning: is_sparse is deprecated and will be removed in a future version. Check `isinstance(dtype, pd.SparseDtype)` instead.\n",
      "  if is_sparse(data):\n"
     ]
    },
    {
     "name": "stdout",
     "output_type": "stream",
     "text": [
      "[CV 6/10; 8/10] END colsample_bytree=0.9, gamma=4, learning_rate=1.1, max_depth=301, min_child_weight=30, n_estimators=251, reg_alpha=241, reg_lambda=4;, score=0.205 total time=  18.6s\n",
      "[CV 7/10; 8/10] START colsample_bytree=0.9, gamma=4, learning_rate=1.1, max_depth=301, min_child_weight=30, n_estimators=251, reg_alpha=241, reg_lambda=4\n"
     ]
    },
    {
     "name": "stderr",
     "output_type": "stream",
     "text": [
      "c:\\Users\\Saurav\\anaconda3\\Lib\\site-packages\\xgboost\\data.py:440: FutureWarning: is_sparse is deprecated and will be removed in a future version. Check `isinstance(dtype, pd.SparseDtype)` instead.\n",
      "  if is_sparse(data):\n"
     ]
    },
    {
     "name": "stdout",
     "output_type": "stream",
     "text": [
      "[CV 7/10; 8/10] END colsample_bytree=0.9, gamma=4, learning_rate=1.1, max_depth=301, min_child_weight=30, n_estimators=251, reg_alpha=241, reg_lambda=4;, score=0.205 total time=  18.8s\n",
      "[CV 8/10; 8/10] START colsample_bytree=0.9, gamma=4, learning_rate=1.1, max_depth=301, min_child_weight=30, n_estimators=251, reg_alpha=241, reg_lambda=4\n"
     ]
    },
    {
     "name": "stderr",
     "output_type": "stream",
     "text": [
      "c:\\Users\\Saurav\\anaconda3\\Lib\\site-packages\\xgboost\\data.py:440: FutureWarning: is_sparse is deprecated and will be removed in a future version. Check `isinstance(dtype, pd.SparseDtype)` instead.\n",
      "  if is_sparse(data):\n"
     ]
    },
    {
     "name": "stdout",
     "output_type": "stream",
     "text": [
      "[CV 8/10; 8/10] END colsample_bytree=0.9, gamma=4, learning_rate=1.1, max_depth=301, min_child_weight=30, n_estimators=251, reg_alpha=241, reg_lambda=4;, score=0.205 total time=  18.6s\n",
      "[CV 9/10; 8/10] START colsample_bytree=0.9, gamma=4, learning_rate=1.1, max_depth=301, min_child_weight=30, n_estimators=251, reg_alpha=241, reg_lambda=4\n"
     ]
    },
    {
     "name": "stderr",
     "output_type": "stream",
     "text": [
      "c:\\Users\\Saurav\\anaconda3\\Lib\\site-packages\\xgboost\\data.py:440: FutureWarning: is_sparse is deprecated and will be removed in a future version. Check `isinstance(dtype, pd.SparseDtype)` instead.\n",
      "  if is_sparse(data):\n"
     ]
    },
    {
     "name": "stdout",
     "output_type": "stream",
     "text": [
      "[CV 9/10; 8/10] END colsample_bytree=0.9, gamma=4, learning_rate=1.1, max_depth=301, min_child_weight=30, n_estimators=251, reg_alpha=241, reg_lambda=4;, score=0.205 total time=  18.6s\n",
      "[CV 10/10; 8/10] START colsample_bytree=0.9, gamma=4, learning_rate=1.1, max_depth=301, min_child_weight=30, n_estimators=251, reg_alpha=241, reg_lambda=4\n"
     ]
    },
    {
     "name": "stderr",
     "output_type": "stream",
     "text": [
      "c:\\Users\\Saurav\\anaconda3\\Lib\\site-packages\\xgboost\\data.py:440: FutureWarning: is_sparse is deprecated and will be removed in a future version. Check `isinstance(dtype, pd.SparseDtype)` instead.\n",
      "  if is_sparse(data):\n"
     ]
    },
    {
     "name": "stdout",
     "output_type": "stream",
     "text": [
      "[CV 10/10; 8/10] END colsample_bytree=0.9, gamma=4, learning_rate=1.1, max_depth=301, min_child_weight=30, n_estimators=251, reg_alpha=241, reg_lambda=4;, score=0.205 total time=  18.6s\n",
      "[CV 1/10; 9/10] START colsample_bytree=0.0, gamma=1, learning_rate=0.6000000000000001, max_depth=301, min_child_weight=35, n_estimators=251, reg_alpha=21, reg_lambda=4\n"
     ]
    },
    {
     "name": "stderr",
     "output_type": "stream",
     "text": [
      "c:\\Users\\Saurav\\anaconda3\\Lib\\site-packages\\xgboost\\data.py:440: FutureWarning: is_sparse is deprecated and will be removed in a future version. Check `isinstance(dtype, pd.SparseDtype)` instead.\n",
      "  if is_sparse(data):\n"
     ]
    },
    {
     "name": "stdout",
     "output_type": "stream",
     "text": [
      "[CV 1/10; 9/10] END colsample_bytree=0.0, gamma=1, learning_rate=0.6000000000000001, max_depth=301, min_child_weight=35, n_estimators=251, reg_alpha=21, reg_lambda=4;, score=0.199 total time=   5.1s\n",
      "[CV 2/10; 9/10] START colsample_bytree=0.0, gamma=1, learning_rate=0.6000000000000001, max_depth=301, min_child_weight=35, n_estimators=251, reg_alpha=21, reg_lambda=4\n"
     ]
    },
    {
     "name": "stderr",
     "output_type": "stream",
     "text": [
      "c:\\Users\\Saurav\\anaconda3\\Lib\\site-packages\\xgboost\\data.py:440: FutureWarning: is_sparse is deprecated and will be removed in a future version. Check `isinstance(dtype, pd.SparseDtype)` instead.\n",
      "  if is_sparse(data):\n"
     ]
    },
    {
     "name": "stdout",
     "output_type": "stream",
     "text": [
      "[CV 2/10; 9/10] END colsample_bytree=0.0, gamma=1, learning_rate=0.6000000000000001, max_depth=301, min_child_weight=35, n_estimators=251, reg_alpha=21, reg_lambda=4;, score=0.194 total time=   5.5s\n",
      "[CV 3/10; 9/10] START colsample_bytree=0.0, gamma=1, learning_rate=0.6000000000000001, max_depth=301, min_child_weight=35, n_estimators=251, reg_alpha=21, reg_lambda=4\n"
     ]
    },
    {
     "name": "stderr",
     "output_type": "stream",
     "text": [
      "c:\\Users\\Saurav\\anaconda3\\Lib\\site-packages\\xgboost\\data.py:440: FutureWarning: is_sparse is deprecated and will be removed in a future version. Check `isinstance(dtype, pd.SparseDtype)` instead.\n",
      "  if is_sparse(data):\n"
     ]
    },
    {
     "name": "stdout",
     "output_type": "stream",
     "text": [
      "[CV 3/10; 9/10] END colsample_bytree=0.0, gamma=1, learning_rate=0.6000000000000001, max_depth=301, min_child_weight=35, n_estimators=251, reg_alpha=21, reg_lambda=4;, score=0.205 total time=   5.2s\n",
      "[CV 4/10; 9/10] START colsample_bytree=0.0, gamma=1, learning_rate=0.6000000000000001, max_depth=301, min_child_weight=35, n_estimators=251, reg_alpha=21, reg_lambda=4\n"
     ]
    },
    {
     "name": "stderr",
     "output_type": "stream",
     "text": [
      "c:\\Users\\Saurav\\anaconda3\\Lib\\site-packages\\xgboost\\data.py:440: FutureWarning: is_sparse is deprecated and will be removed in a future version. Check `isinstance(dtype, pd.SparseDtype)` instead.\n",
      "  if is_sparse(data):\n"
     ]
    },
    {
     "name": "stdout",
     "output_type": "stream",
     "text": [
      "[CV 4/10; 9/10] END colsample_bytree=0.0, gamma=1, learning_rate=0.6000000000000001, max_depth=301, min_child_weight=35, n_estimators=251, reg_alpha=21, reg_lambda=4;, score=0.246 total time=   5.1s\n",
      "[CV 5/10; 9/10] START colsample_bytree=0.0, gamma=1, learning_rate=0.6000000000000001, max_depth=301, min_child_weight=35, n_estimators=251, reg_alpha=21, reg_lambda=4\n"
     ]
    },
    {
     "name": "stderr",
     "output_type": "stream",
     "text": [
      "c:\\Users\\Saurav\\anaconda3\\Lib\\site-packages\\xgboost\\data.py:440: FutureWarning: is_sparse is deprecated and will be removed in a future version. Check `isinstance(dtype, pd.SparseDtype)` instead.\n",
      "  if is_sparse(data):\n"
     ]
    },
    {
     "name": "stdout",
     "output_type": "stream",
     "text": [
      "[CV 5/10; 9/10] END colsample_bytree=0.0, gamma=1, learning_rate=0.6000000000000001, max_depth=301, min_child_weight=35, n_estimators=251, reg_alpha=21, reg_lambda=4;, score=0.185 total time=   5.4s\n",
      "[CV 6/10; 9/10] START colsample_bytree=0.0, gamma=1, learning_rate=0.6000000000000001, max_depth=301, min_child_weight=35, n_estimators=251, reg_alpha=21, reg_lambda=4\n"
     ]
    },
    {
     "name": "stderr",
     "output_type": "stream",
     "text": [
      "c:\\Users\\Saurav\\anaconda3\\Lib\\site-packages\\xgboost\\data.py:440: FutureWarning: is_sparse is deprecated and will be removed in a future version. Check `isinstance(dtype, pd.SparseDtype)` instead.\n",
      "  if is_sparse(data):\n"
     ]
    },
    {
     "name": "stdout",
     "output_type": "stream",
     "text": [
      "[CV 6/10; 9/10] END colsample_bytree=0.0, gamma=1, learning_rate=0.6000000000000001, max_depth=301, min_child_weight=35, n_estimators=251, reg_alpha=21, reg_lambda=4;, score=0.210 total time=   5.3s\n",
      "[CV 7/10; 9/10] START colsample_bytree=0.0, gamma=1, learning_rate=0.6000000000000001, max_depth=301, min_child_weight=35, n_estimators=251, reg_alpha=21, reg_lambda=4\n"
     ]
    },
    {
     "name": "stderr",
     "output_type": "stream",
     "text": [
      "c:\\Users\\Saurav\\anaconda3\\Lib\\site-packages\\xgboost\\data.py:440: FutureWarning: is_sparse is deprecated and will be removed in a future version. Check `isinstance(dtype, pd.SparseDtype)` instead.\n",
      "  if is_sparse(data):\n"
     ]
    },
    {
     "name": "stdout",
     "output_type": "stream",
     "text": [
      "[CV 7/10; 9/10] END colsample_bytree=0.0, gamma=1, learning_rate=0.6000000000000001, max_depth=301, min_child_weight=35, n_estimators=251, reg_alpha=21, reg_lambda=4;, score=0.210 total time=   5.1s\n",
      "[CV 8/10; 9/10] START colsample_bytree=0.0, gamma=1, learning_rate=0.6000000000000001, max_depth=301, min_child_weight=35, n_estimators=251, reg_alpha=21, reg_lambda=4\n"
     ]
    },
    {
     "name": "stderr",
     "output_type": "stream",
     "text": [
      "c:\\Users\\Saurav\\anaconda3\\Lib\\site-packages\\xgboost\\data.py:440: FutureWarning: is_sparse is deprecated and will be removed in a future version. Check `isinstance(dtype, pd.SparseDtype)` instead.\n",
      "  if is_sparse(data):\n"
     ]
    },
    {
     "name": "stdout",
     "output_type": "stream",
     "text": [
      "[CV 8/10; 9/10] END colsample_bytree=0.0, gamma=1, learning_rate=0.6000000000000001, max_depth=301, min_child_weight=35, n_estimators=251, reg_alpha=21, reg_lambda=4;, score=0.205 total time=   5.1s\n",
      "[CV 9/10; 9/10] START colsample_bytree=0.0, gamma=1, learning_rate=0.6000000000000001, max_depth=301, min_child_weight=35, n_estimators=251, reg_alpha=21, reg_lambda=4\n"
     ]
    },
    {
     "name": "stderr",
     "output_type": "stream",
     "text": [
      "c:\\Users\\Saurav\\anaconda3\\Lib\\site-packages\\xgboost\\data.py:440: FutureWarning: is_sparse is deprecated and will be removed in a future version. Check `isinstance(dtype, pd.SparseDtype)` instead.\n",
      "  if is_sparse(data):\n"
     ]
    },
    {
     "name": "stdout",
     "output_type": "stream",
     "text": [
      "[CV 9/10; 9/10] END colsample_bytree=0.0, gamma=1, learning_rate=0.6000000000000001, max_depth=301, min_child_weight=35, n_estimators=251, reg_alpha=21, reg_lambda=4;, score=0.226 total time=   5.1s\n",
      "[CV 10/10; 9/10] START colsample_bytree=0.0, gamma=1, learning_rate=0.6000000000000001, max_depth=301, min_child_weight=35, n_estimators=251, reg_alpha=21, reg_lambda=4\n"
     ]
    },
    {
     "name": "stderr",
     "output_type": "stream",
     "text": [
      "c:\\Users\\Saurav\\anaconda3\\Lib\\site-packages\\xgboost\\data.py:440: FutureWarning: is_sparse is deprecated and will be removed in a future version. Check `isinstance(dtype, pd.SparseDtype)` instead.\n",
      "  if is_sparse(data):\n"
     ]
    },
    {
     "name": "stdout",
     "output_type": "stream",
     "text": [
      "[CV 10/10; 9/10] END colsample_bytree=0.0, gamma=1, learning_rate=0.6000000000000001, max_depth=301, min_child_weight=35, n_estimators=251, reg_alpha=21, reg_lambda=4;, score=0.195 total time=   5.1s\n",
      "[CV 1/10; 10/10] START colsample_bytree=0.8, gamma=1, learning_rate=0.30000000000000004, max_depth=101, min_child_weight=35, n_estimators=301, reg_alpha=361, reg_lambda=2\n"
     ]
    },
    {
     "name": "stderr",
     "output_type": "stream",
     "text": [
      "c:\\Users\\Saurav\\anaconda3\\Lib\\site-packages\\xgboost\\data.py:440: FutureWarning: is_sparse is deprecated and will be removed in a future version. Check `isinstance(dtype, pd.SparseDtype)` instead.\n",
      "  if is_sparse(data):\n"
     ]
    },
    {
     "name": "stdout",
     "output_type": "stream",
     "text": [
      "[CV 1/10; 10/10] END colsample_bytree=0.8, gamma=1, learning_rate=0.30000000000000004, max_depth=101, min_child_weight=35, n_estimators=301, reg_alpha=361, reg_lambda=2;, score=0.204 total time=  20.7s\n",
      "[CV 2/10; 10/10] START colsample_bytree=0.8, gamma=1, learning_rate=0.30000000000000004, max_depth=101, min_child_weight=35, n_estimators=301, reg_alpha=361, reg_lambda=2\n"
     ]
    },
    {
     "name": "stderr",
     "output_type": "stream",
     "text": [
      "c:\\Users\\Saurav\\anaconda3\\Lib\\site-packages\\xgboost\\data.py:440: FutureWarning: is_sparse is deprecated and will be removed in a future version. Check `isinstance(dtype, pd.SparseDtype)` instead.\n",
      "  if is_sparse(data):\n"
     ]
    },
    {
     "name": "stdout",
     "output_type": "stream",
     "text": [
      "[CV 2/10; 10/10] END colsample_bytree=0.8, gamma=1, learning_rate=0.30000000000000004, max_depth=101, min_child_weight=35, n_estimators=301, reg_alpha=361, reg_lambda=2;, score=0.204 total time=  20.7s\n",
      "[CV 3/10; 10/10] START colsample_bytree=0.8, gamma=1, learning_rate=0.30000000000000004, max_depth=101, min_child_weight=35, n_estimators=301, reg_alpha=361, reg_lambda=2\n"
     ]
    },
    {
     "name": "stderr",
     "output_type": "stream",
     "text": [
      "c:\\Users\\Saurav\\anaconda3\\Lib\\site-packages\\xgboost\\data.py:440: FutureWarning: is_sparse is deprecated and will be removed in a future version. Check `isinstance(dtype, pd.SparseDtype)` instead.\n",
      "  if is_sparse(data):\n"
     ]
    },
    {
     "name": "stdout",
     "output_type": "stream",
     "text": [
      "[CV 3/10; 10/10] END colsample_bytree=0.8, gamma=1, learning_rate=0.30000000000000004, max_depth=101, min_child_weight=35, n_estimators=301, reg_alpha=361, reg_lambda=2;, score=0.200 total time=  20.5s\n",
      "[CV 4/10; 10/10] START colsample_bytree=0.8, gamma=1, learning_rate=0.30000000000000004, max_depth=101, min_child_weight=35, n_estimators=301, reg_alpha=361, reg_lambda=2\n"
     ]
    },
    {
     "name": "stderr",
     "output_type": "stream",
     "text": [
      "c:\\Users\\Saurav\\anaconda3\\Lib\\site-packages\\xgboost\\data.py:440: FutureWarning: is_sparse is deprecated and will be removed in a future version. Check `isinstance(dtype, pd.SparseDtype)` instead.\n",
      "  if is_sparse(data):\n"
     ]
    },
    {
     "name": "stdout",
     "output_type": "stream",
     "text": [
      "[CV 4/10; 10/10] END colsample_bytree=0.8, gamma=1, learning_rate=0.30000000000000004, max_depth=101, min_child_weight=35, n_estimators=301, reg_alpha=361, reg_lambda=2;, score=0.200 total time=  20.1s\n",
      "[CV 5/10; 10/10] START colsample_bytree=0.8, gamma=1, learning_rate=0.30000000000000004, max_depth=101, min_child_weight=35, n_estimators=301, reg_alpha=361, reg_lambda=2\n"
     ]
    },
    {
     "name": "stderr",
     "output_type": "stream",
     "text": [
      "c:\\Users\\Saurav\\anaconda3\\Lib\\site-packages\\xgboost\\data.py:440: FutureWarning: is_sparse is deprecated and will be removed in a future version. Check `isinstance(dtype, pd.SparseDtype)` instead.\n",
      "  if is_sparse(data):\n"
     ]
    },
    {
     "name": "stdout",
     "output_type": "stream",
     "text": [
      "[CV 5/10; 10/10] END colsample_bytree=0.8, gamma=1, learning_rate=0.30000000000000004, max_depth=101, min_child_weight=35, n_estimators=301, reg_alpha=361, reg_lambda=2;, score=0.200 total time=  20.0s\n",
      "[CV 6/10; 10/10] START colsample_bytree=0.8, gamma=1, learning_rate=0.30000000000000004, max_depth=101, min_child_weight=35, n_estimators=301, reg_alpha=361, reg_lambda=2\n"
     ]
    },
    {
     "name": "stderr",
     "output_type": "stream",
     "text": [
      "c:\\Users\\Saurav\\anaconda3\\Lib\\site-packages\\xgboost\\data.py:440: FutureWarning: is_sparse is deprecated and will be removed in a future version. Check `isinstance(dtype, pd.SparseDtype)` instead.\n",
      "  if is_sparse(data):\n"
     ]
    },
    {
     "name": "stdout",
     "output_type": "stream",
     "text": [
      "[CV 6/10; 10/10] END colsample_bytree=0.8, gamma=1, learning_rate=0.30000000000000004, max_depth=101, min_child_weight=35, n_estimators=301, reg_alpha=361, reg_lambda=2;, score=0.205 total time=  20.6s\n",
      "[CV 7/10; 10/10] START colsample_bytree=0.8, gamma=1, learning_rate=0.30000000000000004, max_depth=101, min_child_weight=35, n_estimators=301, reg_alpha=361, reg_lambda=2\n"
     ]
    },
    {
     "name": "stderr",
     "output_type": "stream",
     "text": [
      "c:\\Users\\Saurav\\anaconda3\\Lib\\site-packages\\xgboost\\data.py:440: FutureWarning: is_sparse is deprecated and will be removed in a future version. Check `isinstance(dtype, pd.SparseDtype)` instead.\n",
      "  if is_sparse(data):\n"
     ]
    },
    {
     "name": "stdout",
     "output_type": "stream",
     "text": [
      "[CV 7/10; 10/10] END colsample_bytree=0.8, gamma=1, learning_rate=0.30000000000000004, max_depth=101, min_child_weight=35, n_estimators=301, reg_alpha=361, reg_lambda=2;, score=0.205 total time=  20.2s\n",
      "[CV 8/10; 10/10] START colsample_bytree=0.8, gamma=1, learning_rate=0.30000000000000004, max_depth=101, min_child_weight=35, n_estimators=301, reg_alpha=361, reg_lambda=2\n"
     ]
    },
    {
     "name": "stderr",
     "output_type": "stream",
     "text": [
      "c:\\Users\\Saurav\\anaconda3\\Lib\\site-packages\\xgboost\\data.py:440: FutureWarning: is_sparse is deprecated and will be removed in a future version. Check `isinstance(dtype, pd.SparseDtype)` instead.\n",
      "  if is_sparse(data):\n"
     ]
    },
    {
     "name": "stdout",
     "output_type": "stream",
     "text": [
      "[CV 8/10; 10/10] END colsample_bytree=0.8, gamma=1, learning_rate=0.30000000000000004, max_depth=101, min_child_weight=35, n_estimators=301, reg_alpha=361, reg_lambda=2;, score=0.205 total time=  20.6s\n",
      "[CV 9/10; 10/10] START colsample_bytree=0.8, gamma=1, learning_rate=0.30000000000000004, max_depth=101, min_child_weight=35, n_estimators=301, reg_alpha=361, reg_lambda=2\n"
     ]
    },
    {
     "name": "stderr",
     "output_type": "stream",
     "text": [
      "c:\\Users\\Saurav\\anaconda3\\Lib\\site-packages\\xgboost\\data.py:440: FutureWarning: is_sparse is deprecated and will be removed in a future version. Check `isinstance(dtype, pd.SparseDtype)` instead.\n",
      "  if is_sparse(data):\n"
     ]
    },
    {
     "name": "stdout",
     "output_type": "stream",
     "text": [
      "[CV 9/10; 10/10] END colsample_bytree=0.8, gamma=1, learning_rate=0.30000000000000004, max_depth=101, min_child_weight=35, n_estimators=301, reg_alpha=361, reg_lambda=2;, score=0.205 total time=  20.4s\n",
      "[CV 10/10; 10/10] START colsample_bytree=0.8, gamma=1, learning_rate=0.30000000000000004, max_depth=101, min_child_weight=35, n_estimators=301, reg_alpha=361, reg_lambda=2\n"
     ]
    },
    {
     "name": "stderr",
     "output_type": "stream",
     "text": [
      "c:\\Users\\Saurav\\anaconda3\\Lib\\site-packages\\xgboost\\data.py:440: FutureWarning: is_sparse is deprecated and will be removed in a future version. Check `isinstance(dtype, pd.SparseDtype)` instead.\n",
      "  if is_sparse(data):\n"
     ]
    },
    {
     "name": "stdout",
     "output_type": "stream",
     "text": [
      "[CV 10/10; 10/10] END colsample_bytree=0.8, gamma=1, learning_rate=0.30000000000000004, max_depth=101, min_child_weight=35, n_estimators=301, reg_alpha=361, reg_lambda=2;, score=0.205 total time=  22.3s\n"
     ]
    },
    {
     "name": "stderr",
     "output_type": "stream",
     "text": [
      "c:\\Users\\Saurav\\anaconda3\\Lib\\site-packages\\xgboost\\data.py:440: FutureWarning: is_sparse is deprecated and will be removed in a future version. Check `isinstance(dtype, pd.SparseDtype)` instead.\n",
      "  if is_sparse(data):\n"
     ]
    },
    {
     "name": "stdout",
     "output_type": "stream",
     "text": [
      "Fitting 10 folds for each of 10 candidates, totalling 100 fits\n",
      "[CV 1/10; 1/10] START colsample_bytree=0.5, gamma=7, learning_rate=1.1, max_depth=1, min_child_weight=0, n_estimators=201, reg_alpha=81, reg_lambda=1\n"
     ]
    },
    {
     "name": "stderr",
     "output_type": "stream",
     "text": [
      "c:\\Users\\Saurav\\anaconda3\\Lib\\site-packages\\xgboost\\data.py:440: FutureWarning: is_sparse is deprecated and will be removed in a future version. Check `isinstance(dtype, pd.SparseDtype)` instead.\n",
      "  if is_sparse(data):\n"
     ]
    },
    {
     "name": "stdout",
     "output_type": "stream",
     "text": [
      "[CV 1/10; 1/10] END colsample_bytree=0.5, gamma=7, learning_rate=1.1, max_depth=1, min_child_weight=0, n_estimators=201, reg_alpha=81, reg_lambda=1;, score=0.622 total time=  11.8s\n",
      "[CV 2/10; 1/10] START colsample_bytree=0.5, gamma=7, learning_rate=1.1, max_depth=1, min_child_weight=0, n_estimators=201, reg_alpha=81, reg_lambda=1\n"
     ]
    },
    {
     "name": "stderr",
     "output_type": "stream",
     "text": [
      "c:\\Users\\Saurav\\anaconda3\\Lib\\site-packages\\xgboost\\data.py:440: FutureWarning: is_sparse is deprecated and will be removed in a future version. Check `isinstance(dtype, pd.SparseDtype)` instead.\n",
      "  if is_sparse(data):\n"
     ]
    },
    {
     "name": "stdout",
     "output_type": "stream",
     "text": [
      "[CV 2/10; 1/10] END colsample_bytree=0.5, gamma=7, learning_rate=1.1, max_depth=1, min_child_weight=0, n_estimators=201, reg_alpha=81, reg_lambda=1;, score=0.566 total time=  10.5s\n",
      "[CV 3/10; 1/10] START colsample_bytree=0.5, gamma=7, learning_rate=1.1, max_depth=1, min_child_weight=0, n_estimators=201, reg_alpha=81, reg_lambda=1\n"
     ]
    },
    {
     "name": "stderr",
     "output_type": "stream",
     "text": [
      "c:\\Users\\Saurav\\anaconda3\\Lib\\site-packages\\xgboost\\data.py:440: FutureWarning: is_sparse is deprecated and will be removed in a future version. Check `isinstance(dtype, pd.SparseDtype)` instead.\n",
      "  if is_sparse(data):\n"
     ]
    },
    {
     "name": "stdout",
     "output_type": "stream",
     "text": [
      "[CV 3/10; 1/10] END colsample_bytree=0.5, gamma=7, learning_rate=1.1, max_depth=1, min_child_weight=0, n_estimators=201, reg_alpha=81, reg_lambda=1;, score=0.626 total time=  10.7s\n",
      "[CV 4/10; 1/10] START colsample_bytree=0.5, gamma=7, learning_rate=1.1, max_depth=1, min_child_weight=0, n_estimators=201, reg_alpha=81, reg_lambda=1\n"
     ]
    },
    {
     "name": "stderr",
     "output_type": "stream",
     "text": [
      "c:\\Users\\Saurav\\anaconda3\\Lib\\site-packages\\xgboost\\data.py:440: FutureWarning: is_sparse is deprecated and will be removed in a future version. Check `isinstance(dtype, pd.SparseDtype)` instead.\n",
      "  if is_sparse(data):\n"
     ]
    },
    {
     "name": "stdout",
     "output_type": "stream",
     "text": [
      "[CV 4/10; 1/10] END colsample_bytree=0.5, gamma=7, learning_rate=1.1, max_depth=1, min_child_weight=0, n_estimators=201, reg_alpha=81, reg_lambda=1;, score=0.626 total time=  10.9s\n",
      "[CV 5/10; 1/10] START colsample_bytree=0.5, gamma=7, learning_rate=1.1, max_depth=1, min_child_weight=0, n_estimators=201, reg_alpha=81, reg_lambda=1\n"
     ]
    },
    {
     "name": "stderr",
     "output_type": "stream",
     "text": [
      "c:\\Users\\Saurav\\anaconda3\\Lib\\site-packages\\xgboost\\data.py:440: FutureWarning: is_sparse is deprecated and will be removed in a future version. Check `isinstance(dtype, pd.SparseDtype)` instead.\n",
      "  if is_sparse(data):\n"
     ]
    },
    {
     "name": "stdout",
     "output_type": "stream",
     "text": [
      "[CV 5/10; 1/10] END colsample_bytree=0.5, gamma=7, learning_rate=1.1, max_depth=1, min_child_weight=0, n_estimators=201, reg_alpha=81, reg_lambda=1;, score=0.626 total time=  10.2s\n",
      "[CV 6/10; 1/10] START colsample_bytree=0.5, gamma=7, learning_rate=1.1, max_depth=1, min_child_weight=0, n_estimators=201, reg_alpha=81, reg_lambda=1\n"
     ]
    },
    {
     "name": "stderr",
     "output_type": "stream",
     "text": [
      "c:\\Users\\Saurav\\anaconda3\\Lib\\site-packages\\xgboost\\data.py:440: FutureWarning: is_sparse is deprecated and will be removed in a future version. Check `isinstance(dtype, pd.SparseDtype)` instead.\n",
      "  if is_sparse(data):\n"
     ]
    },
    {
     "name": "stdout",
     "output_type": "stream",
     "text": [
      "[CV 6/10; 1/10] END colsample_bytree=0.5, gamma=7, learning_rate=1.1, max_depth=1, min_child_weight=0, n_estimators=201, reg_alpha=81, reg_lambda=1;, score=0.626 total time=  11.1s\n",
      "[CV 7/10; 1/10] START colsample_bytree=0.5, gamma=7, learning_rate=1.1, max_depth=1, min_child_weight=0, n_estimators=201, reg_alpha=81, reg_lambda=1\n"
     ]
    },
    {
     "name": "stderr",
     "output_type": "stream",
     "text": [
      "c:\\Users\\Saurav\\anaconda3\\Lib\\site-packages\\xgboost\\data.py:440: FutureWarning: is_sparse is deprecated and will be removed in a future version. Check `isinstance(dtype, pd.SparseDtype)` instead.\n",
      "  if is_sparse(data):\n"
     ]
    },
    {
     "name": "stdout",
     "output_type": "stream",
     "text": [
      "[CV 7/10; 1/10] END colsample_bytree=0.5, gamma=7, learning_rate=1.1, max_depth=1, min_child_weight=0, n_estimators=201, reg_alpha=81, reg_lambda=1;, score=0.662 total time=  10.8s\n",
      "[CV 8/10; 1/10] START colsample_bytree=0.5, gamma=7, learning_rate=1.1, max_depth=1, min_child_weight=0, n_estimators=201, reg_alpha=81, reg_lambda=1\n"
     ]
    },
    {
     "name": "stderr",
     "output_type": "stream",
     "text": [
      "c:\\Users\\Saurav\\anaconda3\\Lib\\site-packages\\xgboost\\data.py:440: FutureWarning: is_sparse is deprecated and will be removed in a future version. Check `isinstance(dtype, pd.SparseDtype)` instead.\n",
      "  if is_sparse(data):\n"
     ]
    },
    {
     "name": "stdout",
     "output_type": "stream",
     "text": [
      "[CV 8/10; 1/10] END colsample_bytree=0.5, gamma=7, learning_rate=1.1, max_depth=1, min_child_weight=0, n_estimators=201, reg_alpha=81, reg_lambda=1;, score=0.662 total time=  10.4s\n",
      "[CV 9/10; 1/10] START colsample_bytree=0.5, gamma=7, learning_rate=1.1, max_depth=1, min_child_weight=0, n_estimators=201, reg_alpha=81, reg_lambda=1\n"
     ]
    },
    {
     "name": "stderr",
     "output_type": "stream",
     "text": [
      "c:\\Users\\Saurav\\anaconda3\\Lib\\site-packages\\xgboost\\data.py:440: FutureWarning: is_sparse is deprecated and will be removed in a future version. Check `isinstance(dtype, pd.SparseDtype)` instead.\n",
      "  if is_sparse(data):\n"
     ]
    },
    {
     "name": "stdout",
     "output_type": "stream",
     "text": [
      "[CV 9/10; 1/10] END colsample_bytree=0.5, gamma=7, learning_rate=1.1, max_depth=1, min_child_weight=0, n_estimators=201, reg_alpha=81, reg_lambda=1;, score=0.636 total time=  10.5s\n",
      "[CV 10/10; 1/10] START colsample_bytree=0.5, gamma=7, learning_rate=1.1, max_depth=1, min_child_weight=0, n_estimators=201, reg_alpha=81, reg_lambda=1\n"
     ]
    },
    {
     "name": "stderr",
     "output_type": "stream",
     "text": [
      "c:\\Users\\Saurav\\anaconda3\\Lib\\site-packages\\xgboost\\data.py:440: FutureWarning: is_sparse is deprecated and will be removed in a future version. Check `isinstance(dtype, pd.SparseDtype)` instead.\n",
      "  if is_sparse(data):\n"
     ]
    },
    {
     "name": "stdout",
     "output_type": "stream",
     "text": [
      "[CV 10/10; 1/10] END colsample_bytree=0.5, gamma=7, learning_rate=1.1, max_depth=1, min_child_weight=0, n_estimators=201, reg_alpha=81, reg_lambda=1;, score=0.667 total time=  10.7s\n",
      "[CV 1/10; 2/10] START colsample_bytree=0.9, gamma=1, learning_rate=0.7000000000000001, max_depth=1, min_child_weight=15, n_estimators=301, reg_alpha=81, reg_lambda=1\n"
     ]
    },
    {
     "name": "stderr",
     "output_type": "stream",
     "text": [
      "c:\\Users\\Saurav\\anaconda3\\Lib\\site-packages\\xgboost\\data.py:440: FutureWarning: is_sparse is deprecated and will be removed in a future version. Check `isinstance(dtype, pd.SparseDtype)` instead.\n",
      "  if is_sparse(data):\n"
     ]
    },
    {
     "name": "stdout",
     "output_type": "stream",
     "text": [
      "[CV 1/10; 2/10] END colsample_bytree=0.9, gamma=1, learning_rate=0.7000000000000001, max_depth=1, min_child_weight=15, n_estimators=301, reg_alpha=81, reg_lambda=1;, score=0.622 total time=  24.7s\n",
      "[CV 2/10; 2/10] START colsample_bytree=0.9, gamma=1, learning_rate=0.7000000000000001, max_depth=1, min_child_weight=15, n_estimators=301, reg_alpha=81, reg_lambda=1\n"
     ]
    },
    {
     "name": "stderr",
     "output_type": "stream",
     "text": [
      "c:\\Users\\Saurav\\anaconda3\\Lib\\site-packages\\xgboost\\data.py:440: FutureWarning: is_sparse is deprecated and will be removed in a future version. Check `isinstance(dtype, pd.SparseDtype)` instead.\n",
      "  if is_sparse(data):\n"
     ]
    },
    {
     "name": "stdout",
     "output_type": "stream",
     "text": [
      "[CV 2/10; 2/10] END colsample_bytree=0.9, gamma=1, learning_rate=0.7000000000000001, max_depth=1, min_child_weight=15, n_estimators=301, reg_alpha=81, reg_lambda=1;, score=0.592 total time=  22.5s\n",
      "[CV 3/10; 2/10] START colsample_bytree=0.9, gamma=1, learning_rate=0.7000000000000001, max_depth=1, min_child_weight=15, n_estimators=301, reg_alpha=81, reg_lambda=1\n"
     ]
    },
    {
     "name": "stderr",
     "output_type": "stream",
     "text": [
      "c:\\Users\\Saurav\\anaconda3\\Lib\\site-packages\\xgboost\\data.py:440: FutureWarning: is_sparse is deprecated and will be removed in a future version. Check `isinstance(dtype, pd.SparseDtype)` instead.\n",
      "  if is_sparse(data):\n"
     ]
    },
    {
     "name": "stdout",
     "output_type": "stream",
     "text": [
      "[CV 3/10; 2/10] END colsample_bytree=0.9, gamma=1, learning_rate=0.7000000000000001, max_depth=1, min_child_weight=15, n_estimators=301, reg_alpha=81, reg_lambda=1;, score=0.651 total time=  25.8s\n",
      "[CV 4/10; 2/10] START colsample_bytree=0.9, gamma=1, learning_rate=0.7000000000000001, max_depth=1, min_child_weight=15, n_estimators=301, reg_alpha=81, reg_lambda=1\n"
     ]
    },
    {
     "name": "stderr",
     "output_type": "stream",
     "text": [
      "c:\\Users\\Saurav\\anaconda3\\Lib\\site-packages\\xgboost\\data.py:440: FutureWarning: is_sparse is deprecated and will be removed in a future version. Check `isinstance(dtype, pd.SparseDtype)` instead.\n",
      "  if is_sparse(data):\n"
     ]
    },
    {
     "name": "stdout",
     "output_type": "stream",
     "text": [
      "[CV 4/10; 2/10] END colsample_bytree=0.9, gamma=1, learning_rate=0.7000000000000001, max_depth=1, min_child_weight=15, n_estimators=301, reg_alpha=81, reg_lambda=1;, score=0.646 total time=  31.1s\n",
      "[CV 5/10; 2/10] START colsample_bytree=0.9, gamma=1, learning_rate=0.7000000000000001, max_depth=1, min_child_weight=15, n_estimators=301, reg_alpha=81, reg_lambda=1\n"
     ]
    },
    {
     "name": "stderr",
     "output_type": "stream",
     "text": [
      "c:\\Users\\Saurav\\anaconda3\\Lib\\site-packages\\xgboost\\data.py:440: FutureWarning: is_sparse is deprecated and will be removed in a future version. Check `isinstance(dtype, pd.SparseDtype)` instead.\n",
      "  if is_sparse(data):\n"
     ]
    },
    {
     "name": "stdout",
     "output_type": "stream",
     "text": [
      "[CV 5/10; 2/10] END colsample_bytree=0.9, gamma=1, learning_rate=0.7000000000000001, max_depth=1, min_child_weight=15, n_estimators=301, reg_alpha=81, reg_lambda=1;, score=0.641 total time=  30.7s\n",
      "[CV 6/10; 2/10] START colsample_bytree=0.9, gamma=1, learning_rate=0.7000000000000001, max_depth=1, min_child_weight=15, n_estimators=301, reg_alpha=81, reg_lambda=1\n"
     ]
    },
    {
     "name": "stderr",
     "output_type": "stream",
     "text": [
      "c:\\Users\\Saurav\\anaconda3\\Lib\\site-packages\\xgboost\\data.py:440: FutureWarning: is_sparse is deprecated and will be removed in a future version. Check `isinstance(dtype, pd.SparseDtype)` instead.\n",
      "  if is_sparse(data):\n"
     ]
    },
    {
     "name": "stdout",
     "output_type": "stream",
     "text": [
      "[CV 6/10; 2/10] END colsample_bytree=0.9, gamma=1, learning_rate=0.7000000000000001, max_depth=1, min_child_weight=15, n_estimators=301, reg_alpha=81, reg_lambda=1;, score=0.631 total time=  24.1s\n",
      "[CV 7/10; 2/10] START colsample_bytree=0.9, gamma=1, learning_rate=0.7000000000000001, max_depth=1, min_child_weight=15, n_estimators=301, reg_alpha=81, reg_lambda=1\n"
     ]
    },
    {
     "name": "stderr",
     "output_type": "stream",
     "text": [
      "c:\\Users\\Saurav\\anaconda3\\Lib\\site-packages\\xgboost\\data.py:440: FutureWarning: is_sparse is deprecated and will be removed in a future version. Check `isinstance(dtype, pd.SparseDtype)` instead.\n",
      "  if is_sparse(data):\n"
     ]
    },
    {
     "name": "stdout",
     "output_type": "stream",
     "text": [
      "[CV 7/10; 2/10] END colsample_bytree=0.9, gamma=1, learning_rate=0.7000000000000001, max_depth=1, min_child_weight=15, n_estimators=301, reg_alpha=81, reg_lambda=1;, score=0.667 total time=  21.7s\n",
      "[CV 8/10; 2/10] START colsample_bytree=0.9, gamma=1, learning_rate=0.7000000000000001, max_depth=1, min_child_weight=15, n_estimators=301, reg_alpha=81, reg_lambda=1\n"
     ]
    },
    {
     "name": "stderr",
     "output_type": "stream",
     "text": [
      "c:\\Users\\Saurav\\anaconda3\\Lib\\site-packages\\xgboost\\data.py:440: FutureWarning: is_sparse is deprecated and will be removed in a future version. Check `isinstance(dtype, pd.SparseDtype)` instead.\n",
      "  if is_sparse(data):\n"
     ]
    },
    {
     "name": "stdout",
     "output_type": "stream",
     "text": [
      "[CV 8/10; 2/10] END colsample_bytree=0.9, gamma=1, learning_rate=0.7000000000000001, max_depth=1, min_child_weight=15, n_estimators=301, reg_alpha=81, reg_lambda=1;, score=0.662 total time=  20.9s\n",
      "[CV 9/10; 2/10] START colsample_bytree=0.9, gamma=1, learning_rate=0.7000000000000001, max_depth=1, min_child_weight=15, n_estimators=301, reg_alpha=81, reg_lambda=1\n"
     ]
    },
    {
     "name": "stderr",
     "output_type": "stream",
     "text": [
      "c:\\Users\\Saurav\\anaconda3\\Lib\\site-packages\\xgboost\\data.py:440: FutureWarning: is_sparse is deprecated and will be removed in a future version. Check `isinstance(dtype, pd.SparseDtype)` instead.\n",
      "  if is_sparse(data):\n"
     ]
    },
    {
     "name": "stdout",
     "output_type": "stream",
     "text": [
      "[CV 9/10; 2/10] END colsample_bytree=0.9, gamma=1, learning_rate=0.7000000000000001, max_depth=1, min_child_weight=15, n_estimators=301, reg_alpha=81, reg_lambda=1;, score=0.656 total time=  20.5s\n",
      "[CV 10/10; 2/10] START colsample_bytree=0.9, gamma=1, learning_rate=0.7000000000000001, max_depth=1, min_child_weight=15, n_estimators=301, reg_alpha=81, reg_lambda=1\n"
     ]
    },
    {
     "name": "stderr",
     "output_type": "stream",
     "text": [
      "c:\\Users\\Saurav\\anaconda3\\Lib\\site-packages\\xgboost\\data.py:440: FutureWarning: is_sparse is deprecated and will be removed in a future version. Check `isinstance(dtype, pd.SparseDtype)` instead.\n",
      "  if is_sparse(data):\n"
     ]
    },
    {
     "name": "stdout",
     "output_type": "stream",
     "text": [
      "[CV 10/10; 2/10] END colsample_bytree=0.9, gamma=1, learning_rate=0.7000000000000001, max_depth=1, min_child_weight=15, n_estimators=301, reg_alpha=81, reg_lambda=1;, score=0.662 total time=  20.4s\n",
      "[CV 1/10; 3/10] START colsample_bytree=0.4, gamma=4, learning_rate=0.2, max_depth=251, min_child_weight=15, n_estimators=51, reg_alpha=161, reg_lambda=1\n"
     ]
    },
    {
     "name": "stderr",
     "output_type": "stream",
     "text": [
      "c:\\Users\\Saurav\\anaconda3\\Lib\\site-packages\\xgboost\\data.py:440: FutureWarning: is_sparse is deprecated and will be removed in a future version. Check `isinstance(dtype, pd.SparseDtype)` instead.\n",
      "  if is_sparse(data):\n"
     ]
    },
    {
     "name": "stdout",
     "output_type": "stream",
     "text": [
      "[CV 1/10; 3/10] END colsample_bytree=0.4, gamma=4, learning_rate=0.2, max_depth=251, min_child_weight=15, n_estimators=51, reg_alpha=161, reg_lambda=1;, score=0.301 total time=   2.2s\n",
      "[CV 2/10; 3/10] START colsample_bytree=0.4, gamma=4, learning_rate=0.2, max_depth=251, min_child_weight=15, n_estimators=51, reg_alpha=161, reg_lambda=1\n"
     ]
    },
    {
     "name": "stderr",
     "output_type": "stream",
     "text": [
      "c:\\Users\\Saurav\\anaconda3\\Lib\\site-packages\\xgboost\\data.py:440: FutureWarning: is_sparse is deprecated and will be removed in a future version. Check `isinstance(dtype, pd.SparseDtype)` instead.\n",
      "  if is_sparse(data):\n"
     ]
    },
    {
     "name": "stdout",
     "output_type": "stream",
     "text": [
      "[CV 2/10; 3/10] END colsample_bytree=0.4, gamma=4, learning_rate=0.2, max_depth=251, min_child_weight=15, n_estimators=51, reg_alpha=161, reg_lambda=1;, score=0.321 total time=   2.2s\n",
      "[CV 3/10; 3/10] START colsample_bytree=0.4, gamma=4, learning_rate=0.2, max_depth=251, min_child_weight=15, n_estimators=51, reg_alpha=161, reg_lambda=1\n"
     ]
    },
    {
     "name": "stderr",
     "output_type": "stream",
     "text": [
      "c:\\Users\\Saurav\\anaconda3\\Lib\\site-packages\\xgboost\\data.py:440: FutureWarning: is_sparse is deprecated and will be removed in a future version. Check `isinstance(dtype, pd.SparseDtype)` instead.\n",
      "  if is_sparse(data):\n"
     ]
    },
    {
     "name": "stdout",
     "output_type": "stream",
     "text": [
      "[CV 3/10; 3/10] END colsample_bytree=0.4, gamma=4, learning_rate=0.2, max_depth=251, min_child_weight=15, n_estimators=51, reg_alpha=161, reg_lambda=1;, score=0.297 total time=   2.2s\n",
      "[CV 4/10; 3/10] START colsample_bytree=0.4, gamma=4, learning_rate=0.2, max_depth=251, min_child_weight=15, n_estimators=51, reg_alpha=161, reg_lambda=1\n"
     ]
    },
    {
     "name": "stderr",
     "output_type": "stream",
     "text": [
      "c:\\Users\\Saurav\\anaconda3\\Lib\\site-packages\\xgboost\\data.py:440: FutureWarning: is_sparse is deprecated and will be removed in a future version. Check `isinstance(dtype, pd.SparseDtype)` instead.\n",
      "  if is_sparse(data):\n"
     ]
    },
    {
     "name": "stdout",
     "output_type": "stream",
     "text": [
      "[CV 4/10; 3/10] END colsample_bytree=0.4, gamma=4, learning_rate=0.2, max_depth=251, min_child_weight=15, n_estimators=51, reg_alpha=161, reg_lambda=1;, score=0.323 total time=   2.4s\n",
      "[CV 5/10; 3/10] START colsample_bytree=0.4, gamma=4, learning_rate=0.2, max_depth=251, min_child_weight=15, n_estimators=51, reg_alpha=161, reg_lambda=1\n"
     ]
    },
    {
     "name": "stderr",
     "output_type": "stream",
     "text": [
      "c:\\Users\\Saurav\\anaconda3\\Lib\\site-packages\\xgboost\\data.py:440: FutureWarning: is_sparse is deprecated and will be removed in a future version. Check `isinstance(dtype, pd.SparseDtype)` instead.\n",
      "  if is_sparse(data):\n"
     ]
    },
    {
     "name": "stdout",
     "output_type": "stream",
     "text": [
      "[CV 5/10; 3/10] END colsample_bytree=0.4, gamma=4, learning_rate=0.2, max_depth=251, min_child_weight=15, n_estimators=51, reg_alpha=161, reg_lambda=1;, score=0.323 total time=   2.1s\n",
      "[CV 6/10; 3/10] START colsample_bytree=0.4, gamma=4, learning_rate=0.2, max_depth=251, min_child_weight=15, n_estimators=51, reg_alpha=161, reg_lambda=1\n"
     ]
    },
    {
     "name": "stderr",
     "output_type": "stream",
     "text": [
      "c:\\Users\\Saurav\\anaconda3\\Lib\\site-packages\\xgboost\\data.py:440: FutureWarning: is_sparse is deprecated and will be removed in a future version. Check `isinstance(dtype, pd.SparseDtype)` instead.\n",
      "  if is_sparse(data):\n"
     ]
    },
    {
     "name": "stdout",
     "output_type": "stream",
     "text": [
      "[CV 6/10; 3/10] END colsample_bytree=0.4, gamma=4, learning_rate=0.2, max_depth=251, min_child_weight=15, n_estimators=51, reg_alpha=161, reg_lambda=1;, score=0.333 total time=   2.2s\n",
      "[CV 7/10; 3/10] START colsample_bytree=0.4, gamma=4, learning_rate=0.2, max_depth=251, min_child_weight=15, n_estimators=51, reg_alpha=161, reg_lambda=1\n"
     ]
    },
    {
     "name": "stderr",
     "output_type": "stream",
     "text": [
      "c:\\Users\\Saurav\\anaconda3\\Lib\\site-packages\\xgboost\\data.py:440: FutureWarning: is_sparse is deprecated and will be removed in a future version. Check `isinstance(dtype, pd.SparseDtype)` instead.\n",
      "  if is_sparse(data):\n"
     ]
    },
    {
     "name": "stdout",
     "output_type": "stream",
     "text": [
      "[CV 7/10; 3/10] END colsample_bytree=0.4, gamma=4, learning_rate=0.2, max_depth=251, min_child_weight=15, n_estimators=51, reg_alpha=161, reg_lambda=1;, score=0.333 total time=   2.2s\n",
      "[CV 8/10; 3/10] START colsample_bytree=0.4, gamma=4, learning_rate=0.2, max_depth=251, min_child_weight=15, n_estimators=51, reg_alpha=161, reg_lambda=1\n"
     ]
    },
    {
     "name": "stderr",
     "output_type": "stream",
     "text": [
      "c:\\Users\\Saurav\\anaconda3\\Lib\\site-packages\\xgboost\\data.py:440: FutureWarning: is_sparse is deprecated and will be removed in a future version. Check `isinstance(dtype, pd.SparseDtype)` instead.\n",
      "  if is_sparse(data):\n"
     ]
    },
    {
     "name": "stdout",
     "output_type": "stream",
     "text": [
      "[CV 8/10; 3/10] END colsample_bytree=0.4, gamma=4, learning_rate=0.2, max_depth=251, min_child_weight=15, n_estimators=51, reg_alpha=161, reg_lambda=1;, score=0.349 total time=   2.2s\n",
      "[CV 9/10; 3/10] START colsample_bytree=0.4, gamma=4, learning_rate=0.2, max_depth=251, min_child_weight=15, n_estimators=51, reg_alpha=161, reg_lambda=1\n"
     ]
    },
    {
     "name": "stderr",
     "output_type": "stream",
     "text": [
      "c:\\Users\\Saurav\\anaconda3\\Lib\\site-packages\\xgboost\\data.py:440: FutureWarning: is_sparse is deprecated and will be removed in a future version. Check `isinstance(dtype, pd.SparseDtype)` instead.\n",
      "  if is_sparse(data):\n"
     ]
    },
    {
     "name": "stdout",
     "output_type": "stream",
     "text": [
      "[CV 9/10; 3/10] END colsample_bytree=0.4, gamma=4, learning_rate=0.2, max_depth=251, min_child_weight=15, n_estimators=51, reg_alpha=161, reg_lambda=1;, score=0.344 total time=   2.2s\n",
      "[CV 10/10; 3/10] START colsample_bytree=0.4, gamma=4, learning_rate=0.2, max_depth=251, min_child_weight=15, n_estimators=51, reg_alpha=161, reg_lambda=1\n"
     ]
    },
    {
     "name": "stderr",
     "output_type": "stream",
     "text": [
      "c:\\Users\\Saurav\\anaconda3\\Lib\\site-packages\\xgboost\\data.py:440: FutureWarning: is_sparse is deprecated and will be removed in a future version. Check `isinstance(dtype, pd.SparseDtype)` instead.\n",
      "  if is_sparse(data):\n"
     ]
    },
    {
     "name": "stdout",
     "output_type": "stream",
     "text": [
      "[CV 10/10; 3/10] END colsample_bytree=0.4, gamma=4, learning_rate=0.2, max_depth=251, min_child_weight=15, n_estimators=51, reg_alpha=161, reg_lambda=1;, score=0.328 total time=   2.3s\n",
      "[CV 1/10; 4/10] START colsample_bytree=0.2, gamma=1, learning_rate=0.9, max_depth=201, min_child_weight=0, n_estimators=1, reg_alpha=261, reg_lambda=1\n",
      "[CV 1/10; 4/10] END colsample_bytree=0.2, gamma=1, learning_rate=0.9, max_depth=201, min_child_weight=0, n_estimators=1, reg_alpha=261, reg_lambda=1;, score=0.204 total time=   0.0s\n",
      "[CV 2/10; 4/10] START colsample_bytree=0.2, gamma=1, learning_rate=0.9, max_depth=201, min_child_weight=0, n_estimators=1, reg_alpha=261, reg_lambda=1\n",
      "[CV 2/10; 4/10] END colsample_bytree=0.2, gamma=1, learning_rate=0.9, max_depth=201, min_child_weight=0, n_estimators=1, reg_alpha=261, reg_lambda=1;, score=0.204 total time=   0.0s\n",
      "[CV 3/10; 4/10] START colsample_bytree=0.2, gamma=1, learning_rate=0.9, max_depth=201, min_child_weight=0, n_estimators=1, reg_alpha=261, reg_lambda=1\n",
      "[CV 3/10; 4/10] END colsample_bytree=0.2, gamma=1, learning_rate=0.9, max_depth=201, min_child_weight=0, n_estimators=1, reg_alpha=261, reg_lambda=1;, score=0.200 total time=   0.0s\n",
      "[CV 4/10; 4/10] START colsample_bytree=0.2, gamma=1, learning_rate=0.9, max_depth=201, min_child_weight=0, n_estimators=1, reg_alpha=261, reg_lambda=1\n"
     ]
    },
    {
     "name": "stderr",
     "output_type": "stream",
     "text": [
      "c:\\Users\\Saurav\\anaconda3\\Lib\\site-packages\\xgboost\\data.py:440: FutureWarning: is_sparse is deprecated and will be removed in a future version. Check `isinstance(dtype, pd.SparseDtype)` instead.\n",
      "  if is_sparse(data):\n",
      "c:\\Users\\Saurav\\anaconda3\\Lib\\site-packages\\xgboost\\data.py:440: FutureWarning: is_sparse is deprecated and will be removed in a future version. Check `isinstance(dtype, pd.SparseDtype)` instead.\n",
      "  if is_sparse(data):\n",
      "c:\\Users\\Saurav\\anaconda3\\Lib\\site-packages\\xgboost\\data.py:440: FutureWarning: is_sparse is deprecated and will be removed in a future version. Check `isinstance(dtype, pd.SparseDtype)` instead.\n",
      "  if is_sparse(data):\n",
      "c:\\Users\\Saurav\\anaconda3\\Lib\\site-packages\\xgboost\\data.py:440: FutureWarning: is_sparse is deprecated and will be removed in a future version. Check `isinstance(dtype, pd.SparseDtype)` instead.\n",
      "  if is_sparse(data):\n",
      "c:\\Users\\Saurav\\anaconda3\\Lib\\site-packages\\xgboost\\data.py:440: FutureWarning: is_sparse is deprecated and will be removed in a future version. Check `isinstance(dtype, pd.SparseDtype)` instead.\n",
      "  if is_sparse(data):\n",
      "c:\\Users\\Saurav\\anaconda3\\Lib\\site-packages\\xgboost\\data.py:440: FutureWarning: is_sparse is deprecated and will be removed in a future version. Check `isinstance(dtype, pd.SparseDtype)` instead.\n",
      "  if is_sparse(data):\n",
      "c:\\Users\\Saurav\\anaconda3\\Lib\\site-packages\\xgboost\\data.py:440: FutureWarning: is_sparse is deprecated and will be removed in a future version. Check `isinstance(dtype, pd.SparseDtype)` instead.\n",
      "  if is_sparse(data):\n"
     ]
    },
    {
     "name": "stdout",
     "output_type": "stream",
     "text": [
      "[CV 4/10; 4/10] END colsample_bytree=0.2, gamma=1, learning_rate=0.9, max_depth=201, min_child_weight=0, n_estimators=1, reg_alpha=261, reg_lambda=1;, score=0.200 total time=   0.0s\n",
      "[CV 5/10; 4/10] START colsample_bytree=0.2, gamma=1, learning_rate=0.9, max_depth=201, min_child_weight=0, n_estimators=1, reg_alpha=261, reg_lambda=1\n",
      "[CV 5/10; 4/10] END colsample_bytree=0.2, gamma=1, learning_rate=0.9, max_depth=201, min_child_weight=0, n_estimators=1, reg_alpha=261, reg_lambda=1;, score=0.200 total time=   0.0s\n",
      "[CV 6/10; 4/10] START colsample_bytree=0.2, gamma=1, learning_rate=0.9, max_depth=201, min_child_weight=0, n_estimators=1, reg_alpha=261, reg_lambda=1\n",
      "[CV 6/10; 4/10] END colsample_bytree=0.2, gamma=1, learning_rate=0.9, max_depth=201, min_child_weight=0, n_estimators=1, reg_alpha=261, reg_lambda=1;, score=0.205 total time=   0.0s\n",
      "[CV 7/10; 4/10] START colsample_bytree=0.2, gamma=1, learning_rate=0.9, max_depth=201, min_child_weight=0, n_estimators=1, reg_alpha=261, reg_lambda=1\n",
      "[CV 7/10; 4/10] END colsample_bytree=0.2, gamma=1, learning_rate=0.9, max_depth=201, min_child_weight=0, n_estimators=1, reg_alpha=261, reg_lambda=1;, score=0.205 total time=   0.0s\n",
      "[CV 8/10; 4/10] START colsample_bytree=0.2, gamma=1, learning_rate=0.9, max_depth=201, min_child_weight=0, n_estimators=1, reg_alpha=261, reg_lambda=1\n"
     ]
    },
    {
     "name": "stderr",
     "output_type": "stream",
     "text": [
      "c:\\Users\\Saurav\\anaconda3\\Lib\\site-packages\\xgboost\\data.py:440: FutureWarning: is_sparse is deprecated and will be removed in a future version. Check `isinstance(dtype, pd.SparseDtype)` instead.\n",
      "  if is_sparse(data):\n",
      "c:\\Users\\Saurav\\anaconda3\\Lib\\site-packages\\xgboost\\data.py:440: FutureWarning: is_sparse is deprecated and will be removed in a future version. Check `isinstance(dtype, pd.SparseDtype)` instead.\n",
      "  if is_sparse(data):\n",
      "c:\\Users\\Saurav\\anaconda3\\Lib\\site-packages\\xgboost\\data.py:440: FutureWarning: is_sparse is deprecated and will be removed in a future version. Check `isinstance(dtype, pd.SparseDtype)` instead.\n",
      "  if is_sparse(data):\n",
      "c:\\Users\\Saurav\\anaconda3\\Lib\\site-packages\\xgboost\\data.py:440: FutureWarning: is_sparse is deprecated and will be removed in a future version. Check `isinstance(dtype, pd.SparseDtype)` instead.\n",
      "  if is_sparse(data):\n"
     ]
    },
    {
     "name": "stdout",
     "output_type": "stream",
     "text": [
      "[CV 8/10; 4/10] END colsample_bytree=0.2, gamma=1, learning_rate=0.9, max_depth=201, min_child_weight=0, n_estimators=1, reg_alpha=261, reg_lambda=1;, score=0.205 total time=   0.0s\n",
      "[CV 9/10; 4/10] START colsample_bytree=0.2, gamma=1, learning_rate=0.9, max_depth=201, min_child_weight=0, n_estimators=1, reg_alpha=261, reg_lambda=1\n",
      "[CV 9/10; 4/10] END colsample_bytree=0.2, gamma=1, learning_rate=0.9, max_depth=201, min_child_weight=0, n_estimators=1, reg_alpha=261, reg_lambda=1;, score=0.205 total time=   0.0s\n",
      "[CV 10/10; 4/10] START colsample_bytree=0.2, gamma=1, learning_rate=0.9, max_depth=201, min_child_weight=0, n_estimators=1, reg_alpha=261, reg_lambda=1\n",
      "[CV 10/10; 4/10] END colsample_bytree=0.2, gamma=1, learning_rate=0.9, max_depth=201, min_child_weight=0, n_estimators=1, reg_alpha=261, reg_lambda=1;, score=0.205 total time=   0.0s\n",
      "[CV 1/10; 5/10] START colsample_bytree=0.6000000000000001, gamma=1, learning_rate=1.3, max_depth=101, min_child_weight=0, n_estimators=51, reg_alpha=61, reg_lambda=1\n",
      "[CV 1/10; 5/10] END colsample_bytree=0.6000000000000001, gamma=1, learning_rate=1.3, max_depth=101, min_child_weight=0, n_estimators=51, reg_alpha=61, reg_lambda=1;, score=0.730 total time=  17.1s\n",
      "[CV 2/10; 5/10] START colsample_bytree=0.6000000000000001, gamma=1, learning_rate=1.3, max_depth=101, min_child_weight=0, n_estimators=51, reg_alpha=61, reg_lambda=1\n"
     ]
    },
    {
     "name": "stderr",
     "output_type": "stream",
     "text": [
      "c:\\Users\\Saurav\\anaconda3\\Lib\\site-packages\\xgboost\\data.py:440: FutureWarning: is_sparse is deprecated and will be removed in a future version. Check `isinstance(dtype, pd.SparseDtype)` instead.\n",
      "  if is_sparse(data):\n"
     ]
    },
    {
     "name": "stdout",
     "output_type": "stream",
     "text": [
      "[CV 2/10; 5/10] END colsample_bytree=0.6000000000000001, gamma=1, learning_rate=1.3, max_depth=101, min_child_weight=0, n_estimators=51, reg_alpha=61, reg_lambda=1;, score=0.668 total time=  17.1s\n",
      "[CV 3/10; 5/10] START colsample_bytree=0.6000000000000001, gamma=1, learning_rate=1.3, max_depth=101, min_child_weight=0, n_estimators=51, reg_alpha=61, reg_lambda=1\n"
     ]
    },
    {
     "name": "stderr",
     "output_type": "stream",
     "text": [
      "c:\\Users\\Saurav\\anaconda3\\Lib\\site-packages\\xgboost\\data.py:440: FutureWarning: is_sparse is deprecated and will be removed in a future version. Check `isinstance(dtype, pd.SparseDtype)` instead.\n",
      "  if is_sparse(data):\n"
     ]
    },
    {
     "name": "stdout",
     "output_type": "stream",
     "text": [
      "[CV 3/10; 5/10] END colsample_bytree=0.6000000000000001, gamma=1, learning_rate=1.3, max_depth=101, min_child_weight=0, n_estimators=51, reg_alpha=61, reg_lambda=1;, score=0.728 total time=  25.1s\n",
      "[CV 4/10; 5/10] START colsample_bytree=0.6000000000000001, gamma=1, learning_rate=1.3, max_depth=101, min_child_weight=0, n_estimators=51, reg_alpha=61, reg_lambda=1\n"
     ]
    },
    {
     "name": "stderr",
     "output_type": "stream",
     "text": [
      "c:\\Users\\Saurav\\anaconda3\\Lib\\site-packages\\xgboost\\data.py:440: FutureWarning: is_sparse is deprecated and will be removed in a future version. Check `isinstance(dtype, pd.SparseDtype)` instead.\n",
      "  if is_sparse(data):\n"
     ]
    },
    {
     "name": "stdout",
     "output_type": "stream",
     "text": [
      "[CV 4/10; 5/10] END colsample_bytree=0.6000000000000001, gamma=1, learning_rate=1.3, max_depth=101, min_child_weight=0, n_estimators=51, reg_alpha=61, reg_lambda=1;, score=0.790 total time=  13.1s\n",
      "[CV 5/10; 5/10] START colsample_bytree=0.6000000000000001, gamma=1, learning_rate=1.3, max_depth=101, min_child_weight=0, n_estimators=51, reg_alpha=61, reg_lambda=1\n"
     ]
    },
    {
     "name": "stderr",
     "output_type": "stream",
     "text": [
      "c:\\Users\\Saurav\\anaconda3\\Lib\\site-packages\\xgboost\\data.py:440: FutureWarning: is_sparse is deprecated and will be removed in a future version. Check `isinstance(dtype, pd.SparseDtype)` instead.\n",
      "  if is_sparse(data):\n"
     ]
    },
    {
     "name": "stdout",
     "output_type": "stream",
     "text": [
      "[CV 5/10; 5/10] END colsample_bytree=0.6000000000000001, gamma=1, learning_rate=1.3, max_depth=101, min_child_weight=0, n_estimators=51, reg_alpha=61, reg_lambda=1;, score=0.718 total time=  14.3s\n",
      "[CV 6/10; 5/10] START colsample_bytree=0.6000000000000001, gamma=1, learning_rate=1.3, max_depth=101, min_child_weight=0, n_estimators=51, reg_alpha=61, reg_lambda=1\n"
     ]
    },
    {
     "name": "stderr",
     "output_type": "stream",
     "text": [
      "c:\\Users\\Saurav\\anaconda3\\Lib\\site-packages\\xgboost\\data.py:440: FutureWarning: is_sparse is deprecated and will be removed in a future version. Check `isinstance(dtype, pd.SparseDtype)` instead.\n",
      "  if is_sparse(data):\n"
     ]
    },
    {
     "name": "stdout",
     "output_type": "stream",
     "text": [
      "[CV 6/10; 5/10] END colsample_bytree=0.6000000000000001, gamma=1, learning_rate=1.3, max_depth=101, min_child_weight=0, n_estimators=51, reg_alpha=61, reg_lambda=1;, score=0.744 total time=  16.8s\n",
      "[CV 7/10; 5/10] START colsample_bytree=0.6000000000000001, gamma=1, learning_rate=1.3, max_depth=101, min_child_weight=0, n_estimators=51, reg_alpha=61, reg_lambda=1\n"
     ]
    },
    {
     "name": "stderr",
     "output_type": "stream",
     "text": [
      "c:\\Users\\Saurav\\anaconda3\\Lib\\site-packages\\xgboost\\data.py:440: FutureWarning: is_sparse is deprecated and will be removed in a future version. Check `isinstance(dtype, pd.SparseDtype)` instead.\n",
      "  if is_sparse(data):\n"
     ]
    },
    {
     "name": "stdout",
     "output_type": "stream",
     "text": [
      "[CV 7/10; 5/10] END colsample_bytree=0.6000000000000001, gamma=1, learning_rate=1.3, max_depth=101, min_child_weight=0, n_estimators=51, reg_alpha=61, reg_lambda=1;, score=0.718 total time=  10.3s\n",
      "[CV 8/10; 5/10] START colsample_bytree=0.6000000000000001, gamma=1, learning_rate=1.3, max_depth=101, min_child_weight=0, n_estimators=51, reg_alpha=61, reg_lambda=1\n"
     ]
    },
    {
     "name": "stderr",
     "output_type": "stream",
     "text": [
      "c:\\Users\\Saurav\\anaconda3\\Lib\\site-packages\\xgboost\\data.py:440: FutureWarning: is_sparse is deprecated and will be removed in a future version. Check `isinstance(dtype, pd.SparseDtype)` instead.\n",
      "  if is_sparse(data):\n"
     ]
    },
    {
     "name": "stdout",
     "output_type": "stream",
     "text": [
      "[CV 8/10; 5/10] END colsample_bytree=0.6000000000000001, gamma=1, learning_rate=1.3, max_depth=101, min_child_weight=0, n_estimators=51, reg_alpha=61, reg_lambda=1;, score=0.759 total time=  16.8s\n",
      "[CV 9/10; 5/10] START colsample_bytree=0.6000000000000001, gamma=1, learning_rate=1.3, max_depth=101, min_child_weight=0, n_estimators=51, reg_alpha=61, reg_lambda=1\n"
     ]
    },
    {
     "name": "stderr",
     "output_type": "stream",
     "text": [
      "c:\\Users\\Saurav\\anaconda3\\Lib\\site-packages\\xgboost\\data.py:440: FutureWarning: is_sparse is deprecated and will be removed in a future version. Check `isinstance(dtype, pd.SparseDtype)` instead.\n",
      "  if is_sparse(data):\n"
     ]
    },
    {
     "name": "stdout",
     "output_type": "stream",
     "text": [
      "[CV 9/10; 5/10] END colsample_bytree=0.6000000000000001, gamma=1, learning_rate=1.3, max_depth=101, min_child_weight=0, n_estimators=51, reg_alpha=61, reg_lambda=1;, score=0.703 total time=  13.6s\n",
      "[CV 10/10; 5/10] START colsample_bytree=0.6000000000000001, gamma=1, learning_rate=1.3, max_depth=101, min_child_weight=0, n_estimators=51, reg_alpha=61, reg_lambda=1\n"
     ]
    },
    {
     "name": "stderr",
     "output_type": "stream",
     "text": [
      "c:\\Users\\Saurav\\anaconda3\\Lib\\site-packages\\xgboost\\data.py:440: FutureWarning: is_sparse is deprecated and will be removed in a future version. Check `isinstance(dtype, pd.SparseDtype)` instead.\n",
      "  if is_sparse(data):\n"
     ]
    },
    {
     "name": "stdout",
     "output_type": "stream",
     "text": [
      "[CV 10/10; 5/10] END colsample_bytree=0.6000000000000001, gamma=1, learning_rate=1.3, max_depth=101, min_child_weight=0, n_estimators=51, reg_alpha=61, reg_lambda=1;, score=0.744 total time=  16.7s\n",
      "[CV 1/10; 6/10] START colsample_bytree=0.4, gamma=7, learning_rate=0.6000000000000001, max_depth=1, min_child_weight=15, n_estimators=251, reg_alpha=141, reg_lambda=4\n"
     ]
    },
    {
     "name": "stderr",
     "output_type": "stream",
     "text": [
      "c:\\Users\\Saurav\\anaconda3\\Lib\\site-packages\\xgboost\\data.py:440: FutureWarning: is_sparse is deprecated and will be removed in a future version. Check `isinstance(dtype, pd.SparseDtype)` instead.\n",
      "  if is_sparse(data):\n"
     ]
    },
    {
     "name": "stdout",
     "output_type": "stream",
     "text": [
      "[CV 1/10; 6/10] END colsample_bytree=0.4, gamma=7, learning_rate=0.6000000000000001, max_depth=1, min_child_weight=15, n_estimators=251, reg_alpha=141, reg_lambda=4;, score=0.418 total time=  10.1s\n",
      "[CV 2/10; 6/10] START colsample_bytree=0.4, gamma=7, learning_rate=0.6000000000000001, max_depth=1, min_child_weight=15, n_estimators=251, reg_alpha=141, reg_lambda=4\n"
     ]
    },
    {
     "name": "stderr",
     "output_type": "stream",
     "text": [
      "c:\\Users\\Saurav\\anaconda3\\Lib\\site-packages\\xgboost\\data.py:440: FutureWarning: is_sparse is deprecated and will be removed in a future version. Check `isinstance(dtype, pd.SparseDtype)` instead.\n",
      "  if is_sparse(data):\n"
     ]
    },
    {
     "name": "stdout",
     "output_type": "stream",
     "text": [
      "[CV 2/10; 6/10] END colsample_bytree=0.4, gamma=7, learning_rate=0.6000000000000001, max_depth=1, min_child_weight=15, n_estimators=251, reg_alpha=141, reg_lambda=4;, score=0.418 total time=  10.0s\n",
      "[CV 3/10; 6/10] START colsample_bytree=0.4, gamma=7, learning_rate=0.6000000000000001, max_depth=1, min_child_weight=15, n_estimators=251, reg_alpha=141, reg_lambda=4\n"
     ]
    },
    {
     "name": "stderr",
     "output_type": "stream",
     "text": [
      "c:\\Users\\Saurav\\anaconda3\\Lib\\site-packages\\xgboost\\data.py:440: FutureWarning: is_sparse is deprecated and will be removed in a future version. Check `isinstance(dtype, pd.SparseDtype)` instead.\n",
      "  if is_sparse(data):\n"
     ]
    },
    {
     "name": "stdout",
     "output_type": "stream",
     "text": [
      "[CV 3/10; 6/10] END colsample_bytree=0.4, gamma=7, learning_rate=0.6000000000000001, max_depth=1, min_child_weight=15, n_estimators=251, reg_alpha=141, reg_lambda=4;, score=0.421 total time=  10.0s\n",
      "[CV 4/10; 6/10] START colsample_bytree=0.4, gamma=7, learning_rate=0.6000000000000001, max_depth=1, min_child_weight=15, n_estimators=251, reg_alpha=141, reg_lambda=4\n"
     ]
    },
    {
     "name": "stderr",
     "output_type": "stream",
     "text": [
      "c:\\Users\\Saurav\\anaconda3\\Lib\\site-packages\\xgboost\\data.py:440: FutureWarning: is_sparse is deprecated and will be removed in a future version. Check `isinstance(dtype, pd.SparseDtype)` instead.\n",
      "  if is_sparse(data):\n"
     ]
    },
    {
     "name": "stdout",
     "output_type": "stream",
     "text": [
      "[CV 4/10; 6/10] END colsample_bytree=0.4, gamma=7, learning_rate=0.6000000000000001, max_depth=1, min_child_weight=15, n_estimators=251, reg_alpha=141, reg_lambda=4;, score=0.431 total time=   9.8s\n",
      "[CV 5/10; 6/10] START colsample_bytree=0.4, gamma=7, learning_rate=0.6000000000000001, max_depth=1, min_child_weight=15, n_estimators=251, reg_alpha=141, reg_lambda=4\n"
     ]
    },
    {
     "name": "stderr",
     "output_type": "stream",
     "text": [
      "c:\\Users\\Saurav\\anaconda3\\Lib\\site-packages\\xgboost\\data.py:440: FutureWarning: is_sparse is deprecated and will be removed in a future version. Check `isinstance(dtype, pd.SparseDtype)` instead.\n",
      "  if is_sparse(data):\n"
     ]
    },
    {
     "name": "stdout",
     "output_type": "stream",
     "text": [
      "[CV 5/10; 6/10] END colsample_bytree=0.4, gamma=7, learning_rate=0.6000000000000001, max_depth=1, min_child_weight=15, n_estimators=251, reg_alpha=141, reg_lambda=4;, score=0.313 total time=   9.8s\n",
      "[CV 6/10; 6/10] START colsample_bytree=0.4, gamma=7, learning_rate=0.6000000000000001, max_depth=1, min_child_weight=15, n_estimators=251, reg_alpha=141, reg_lambda=4\n"
     ]
    },
    {
     "name": "stderr",
     "output_type": "stream",
     "text": [
      "c:\\Users\\Saurav\\anaconda3\\Lib\\site-packages\\xgboost\\data.py:440: FutureWarning: is_sparse is deprecated and will be removed in a future version. Check `isinstance(dtype, pd.SparseDtype)` instead.\n",
      "  if is_sparse(data):\n"
     ]
    },
    {
     "name": "stdout",
     "output_type": "stream",
     "text": [
      "[CV 6/10; 6/10] END colsample_bytree=0.4, gamma=7, learning_rate=0.6000000000000001, max_depth=1, min_child_weight=15, n_estimators=251, reg_alpha=141, reg_lambda=4;, score=0.436 total time=   9.7s\n",
      "[CV 7/10; 6/10] START colsample_bytree=0.4, gamma=7, learning_rate=0.6000000000000001, max_depth=1, min_child_weight=15, n_estimators=251, reg_alpha=141, reg_lambda=4\n"
     ]
    },
    {
     "name": "stderr",
     "output_type": "stream",
     "text": [
      "c:\\Users\\Saurav\\anaconda3\\Lib\\site-packages\\xgboost\\data.py:440: FutureWarning: is_sparse is deprecated and will be removed in a future version. Check `isinstance(dtype, pd.SparseDtype)` instead.\n",
      "  if is_sparse(data):\n"
     ]
    },
    {
     "name": "stdout",
     "output_type": "stream",
     "text": [
      "[CV 7/10; 6/10] END colsample_bytree=0.4, gamma=7, learning_rate=0.6000000000000001, max_depth=1, min_child_weight=15, n_estimators=251, reg_alpha=141, reg_lambda=4;, score=0.456 total time=   9.6s\n",
      "[CV 8/10; 6/10] START colsample_bytree=0.4, gamma=7, learning_rate=0.6000000000000001, max_depth=1, min_child_weight=15, n_estimators=251, reg_alpha=141, reg_lambda=4\n"
     ]
    },
    {
     "name": "stderr",
     "output_type": "stream",
     "text": [
      "c:\\Users\\Saurav\\anaconda3\\Lib\\site-packages\\xgboost\\data.py:440: FutureWarning: is_sparse is deprecated and will be removed in a future version. Check `isinstance(dtype, pd.SparseDtype)` instead.\n",
      "  if is_sparse(data):\n"
     ]
    },
    {
     "name": "stdout",
     "output_type": "stream",
     "text": [
      "[CV 8/10; 6/10] END colsample_bytree=0.4, gamma=7, learning_rate=0.6000000000000001, max_depth=1, min_child_weight=15, n_estimators=251, reg_alpha=141, reg_lambda=4;, score=0.441 total time=   9.6s\n",
      "[CV 9/10; 6/10] START colsample_bytree=0.4, gamma=7, learning_rate=0.6000000000000001, max_depth=1, min_child_weight=15, n_estimators=251, reg_alpha=141, reg_lambda=4\n"
     ]
    },
    {
     "name": "stderr",
     "output_type": "stream",
     "text": [
      "c:\\Users\\Saurav\\anaconda3\\Lib\\site-packages\\xgboost\\data.py:440: FutureWarning: is_sparse is deprecated and will be removed in a future version. Check `isinstance(dtype, pd.SparseDtype)` instead.\n",
      "  if is_sparse(data):\n"
     ]
    },
    {
     "name": "stdout",
     "output_type": "stream",
     "text": [
      "[CV 9/10; 6/10] END colsample_bytree=0.4, gamma=7, learning_rate=0.6000000000000001, max_depth=1, min_child_weight=15, n_estimators=251, reg_alpha=141, reg_lambda=4;, score=0.441 total time=   9.9s\n",
      "[CV 10/10; 6/10] START colsample_bytree=0.4, gamma=7, learning_rate=0.6000000000000001, max_depth=1, min_child_weight=15, n_estimators=251, reg_alpha=141, reg_lambda=4\n"
     ]
    },
    {
     "name": "stderr",
     "output_type": "stream",
     "text": [
      "c:\\Users\\Saurav\\anaconda3\\Lib\\site-packages\\xgboost\\data.py:440: FutureWarning: is_sparse is deprecated and will be removed in a future version. Check `isinstance(dtype, pd.SparseDtype)` instead.\n",
      "  if is_sparse(data):\n"
     ]
    },
    {
     "name": "stdout",
     "output_type": "stream",
     "text": [
      "[CV 10/10; 6/10] END colsample_bytree=0.4, gamma=7, learning_rate=0.6000000000000001, max_depth=1, min_child_weight=15, n_estimators=251, reg_alpha=141, reg_lambda=4;, score=0.431 total time=  12.0s\n",
      "[CV 1/10; 7/10] START colsample_bytree=0.1, gamma=4, learning_rate=1.3, max_depth=201, min_child_weight=15, n_estimators=1, reg_alpha=381, reg_lambda=0\n",
      "[CV 1/10; 7/10] END colsample_bytree=0.1, gamma=4, learning_rate=1.3, max_depth=201, min_child_weight=15, n_estimators=1, reg_alpha=381, reg_lambda=0;, score=0.204 total time=   0.0s\n",
      "[CV 2/10; 7/10] START colsample_bytree=0.1, gamma=4, learning_rate=1.3, max_depth=201, min_child_weight=15, n_estimators=1, reg_alpha=381, reg_lambda=0\n",
      "[CV 2/10; 7/10] END colsample_bytree=0.1, gamma=4, learning_rate=1.3, max_depth=201, min_child_weight=15, n_estimators=1, reg_alpha=381, reg_lambda=0;, score=0.204 total time=   0.0s\n",
      "[CV 3/10; 7/10] START colsample_bytree=0.1, gamma=4, learning_rate=1.3, max_depth=201, min_child_weight=15, n_estimators=1, reg_alpha=381, reg_lambda=0\n"
     ]
    },
    {
     "name": "stderr",
     "output_type": "stream",
     "text": [
      "c:\\Users\\Saurav\\anaconda3\\Lib\\site-packages\\xgboost\\data.py:440: FutureWarning: is_sparse is deprecated and will be removed in a future version. Check `isinstance(dtype, pd.SparseDtype)` instead.\n",
      "  if is_sparse(data):\n",
      "c:\\Users\\Saurav\\anaconda3\\Lib\\site-packages\\xgboost\\data.py:440: FutureWarning: is_sparse is deprecated and will be removed in a future version. Check `isinstance(dtype, pd.SparseDtype)` instead.\n",
      "  if is_sparse(data):\n",
      "c:\\Users\\Saurav\\anaconda3\\Lib\\site-packages\\xgboost\\data.py:440: FutureWarning: is_sparse is deprecated and will be removed in a future version. Check `isinstance(dtype, pd.SparseDtype)` instead.\n",
      "  if is_sparse(data):\n"
     ]
    },
    {
     "name": "stdout",
     "output_type": "stream",
     "text": [
      "[CV 3/10; 7/10] END colsample_bytree=0.1, gamma=4, learning_rate=1.3, max_depth=201, min_child_weight=15, n_estimators=1, reg_alpha=381, reg_lambda=0;, score=0.200 total time=   0.0s\n",
      "[CV 4/10; 7/10] START colsample_bytree=0.1, gamma=4, learning_rate=1.3, max_depth=201, min_child_weight=15, n_estimators=1, reg_alpha=381, reg_lambda=0\n",
      "[CV 4/10; 7/10] END colsample_bytree=0.1, gamma=4, learning_rate=1.3, max_depth=201, min_child_weight=15, n_estimators=1, reg_alpha=381, reg_lambda=0;, score=0.200 total time=   0.0s\n",
      "[CV 5/10; 7/10] START colsample_bytree=0.1, gamma=4, learning_rate=1.3, max_depth=201, min_child_weight=15, n_estimators=1, reg_alpha=381, reg_lambda=0\n",
      "[CV 5/10; 7/10] END colsample_bytree=0.1, gamma=4, learning_rate=1.3, max_depth=201, min_child_weight=15, n_estimators=1, reg_alpha=381, reg_lambda=0;, score=0.200 total time=   0.0s\n",
      "[CV 6/10; 7/10] START colsample_bytree=0.1, gamma=4, learning_rate=1.3, max_depth=201, min_child_weight=15, n_estimators=1, reg_alpha=381, reg_lambda=0\n"
     ]
    },
    {
     "name": "stderr",
     "output_type": "stream",
     "text": [
      "c:\\Users\\Saurav\\anaconda3\\Lib\\site-packages\\xgboost\\data.py:440: FutureWarning: is_sparse is deprecated and will be removed in a future version. Check `isinstance(dtype, pd.SparseDtype)` instead.\n",
      "  if is_sparse(data):\n",
      "c:\\Users\\Saurav\\anaconda3\\Lib\\site-packages\\xgboost\\data.py:440: FutureWarning: is_sparse is deprecated and will be removed in a future version. Check `isinstance(dtype, pd.SparseDtype)` instead.\n",
      "  if is_sparse(data):\n",
      "c:\\Users\\Saurav\\anaconda3\\Lib\\site-packages\\xgboost\\data.py:440: FutureWarning: is_sparse is deprecated and will be removed in a future version. Check `isinstance(dtype, pd.SparseDtype)` instead.\n",
      "  if is_sparse(data):\n"
     ]
    },
    {
     "name": "stdout",
     "output_type": "stream",
     "text": [
      "[CV 6/10; 7/10] END colsample_bytree=0.1, gamma=4, learning_rate=1.3, max_depth=201, min_child_weight=15, n_estimators=1, reg_alpha=381, reg_lambda=0;, score=0.205 total time=   0.0s\n",
      "[CV 7/10; 7/10] START colsample_bytree=0.1, gamma=4, learning_rate=1.3, max_depth=201, min_child_weight=15, n_estimators=1, reg_alpha=381, reg_lambda=0\n",
      "[CV 7/10; 7/10] END colsample_bytree=0.1, gamma=4, learning_rate=1.3, max_depth=201, min_child_weight=15, n_estimators=1, reg_alpha=381, reg_lambda=0;, score=0.205 total time=   0.0s\n",
      "[CV 8/10; 7/10] START colsample_bytree=0.1, gamma=4, learning_rate=1.3, max_depth=201, min_child_weight=15, n_estimators=1, reg_alpha=381, reg_lambda=0\n",
      "[CV 8/10; 7/10] END colsample_bytree=0.1, gamma=4, learning_rate=1.3, max_depth=201, min_child_weight=15, n_estimators=1, reg_alpha=381, reg_lambda=0;, score=0.205 total time=   0.0s\n",
      "[CV 9/10; 7/10] START colsample_bytree=0.1, gamma=4, learning_rate=1.3, max_depth=201, min_child_weight=15, n_estimators=1, reg_alpha=381, reg_lambda=0\n"
     ]
    },
    {
     "name": "stderr",
     "output_type": "stream",
     "text": [
      "c:\\Users\\Saurav\\anaconda3\\Lib\\site-packages\\xgboost\\data.py:440: FutureWarning: is_sparse is deprecated and will be removed in a future version. Check `isinstance(dtype, pd.SparseDtype)` instead.\n",
      "  if is_sparse(data):\n",
      "c:\\Users\\Saurav\\anaconda3\\Lib\\site-packages\\xgboost\\data.py:440: FutureWarning: is_sparse is deprecated and will be removed in a future version. Check `isinstance(dtype, pd.SparseDtype)` instead.\n",
      "  if is_sparse(data):\n",
      "c:\\Users\\Saurav\\anaconda3\\Lib\\site-packages\\xgboost\\data.py:440: FutureWarning: is_sparse is deprecated and will be removed in a future version. Check `isinstance(dtype, pd.SparseDtype)` instead.\n",
      "  if is_sparse(data):\n"
     ]
    },
    {
     "name": "stdout",
     "output_type": "stream",
     "text": [
      "[CV 9/10; 7/10] END colsample_bytree=0.1, gamma=4, learning_rate=1.3, max_depth=201, min_child_weight=15, n_estimators=1, reg_alpha=381, reg_lambda=0;, score=0.205 total time=   0.0s\n",
      "[CV 10/10; 7/10] START colsample_bytree=0.1, gamma=4, learning_rate=1.3, max_depth=201, min_child_weight=15, n_estimators=1, reg_alpha=381, reg_lambda=0\n",
      "[CV 10/10; 7/10] END colsample_bytree=0.1, gamma=4, learning_rate=1.3, max_depth=201, min_child_weight=15, n_estimators=1, reg_alpha=381, reg_lambda=0;, score=0.205 total time=   0.0s\n",
      "[CV 1/10; 8/10] START colsample_bytree=0.0, gamma=7, learning_rate=0.8, max_depth=151, min_child_weight=25, n_estimators=251, reg_alpha=101, reg_lambda=1\n"
     ]
    },
    {
     "name": "stderr",
     "output_type": "stream",
     "text": [
      "c:\\Users\\Saurav\\anaconda3\\Lib\\site-packages\\xgboost\\data.py:440: FutureWarning: is_sparse is deprecated and will be removed in a future version. Check `isinstance(dtype, pd.SparseDtype)` instead.\n",
      "  if is_sparse(data):\n",
      "c:\\Users\\Saurav\\anaconda3\\Lib\\site-packages\\xgboost\\data.py:440: FutureWarning: is_sparse is deprecated and will be removed in a future version. Check `isinstance(dtype, pd.SparseDtype)` instead.\n",
      "  if is_sparse(data):\n"
     ]
    },
    {
     "name": "stdout",
     "output_type": "stream",
     "text": [
      "[CV 1/10; 8/10] END colsample_bytree=0.0, gamma=7, learning_rate=0.8, max_depth=151, min_child_weight=25, n_estimators=251, reg_alpha=101, reg_lambda=1;, score=0.204 total time=   5.1s\n",
      "[CV 2/10; 8/10] START colsample_bytree=0.0, gamma=7, learning_rate=0.8, max_depth=151, min_child_weight=25, n_estimators=251, reg_alpha=101, reg_lambda=1\n"
     ]
    },
    {
     "name": "stderr",
     "output_type": "stream",
     "text": [
      "c:\\Users\\Saurav\\anaconda3\\Lib\\site-packages\\xgboost\\data.py:440: FutureWarning: is_sparse is deprecated and will be removed in a future version. Check `isinstance(dtype, pd.SparseDtype)` instead.\n",
      "  if is_sparse(data):\n"
     ]
    },
    {
     "name": "stdout",
     "output_type": "stream",
     "text": [
      "[CV 2/10; 8/10] END colsample_bytree=0.0, gamma=7, learning_rate=0.8, max_depth=151, min_child_weight=25, n_estimators=251, reg_alpha=101, reg_lambda=1;, score=0.204 total time=   4.6s\n",
      "[CV 3/10; 8/10] START colsample_bytree=0.0, gamma=7, learning_rate=0.8, max_depth=151, min_child_weight=25, n_estimators=251, reg_alpha=101, reg_lambda=1\n"
     ]
    },
    {
     "name": "stderr",
     "output_type": "stream",
     "text": [
      "c:\\Users\\Saurav\\anaconda3\\Lib\\site-packages\\xgboost\\data.py:440: FutureWarning: is_sparse is deprecated and will be removed in a future version. Check `isinstance(dtype, pd.SparseDtype)` instead.\n",
      "  if is_sparse(data):\n"
     ]
    },
    {
     "name": "stdout",
     "output_type": "stream",
     "text": [
      "[CV 3/10; 8/10] END colsample_bytree=0.0, gamma=7, learning_rate=0.8, max_depth=151, min_child_weight=25, n_estimators=251, reg_alpha=101, reg_lambda=1;, score=0.200 total time=   4.7s\n",
      "[CV 4/10; 8/10] START colsample_bytree=0.0, gamma=7, learning_rate=0.8, max_depth=151, min_child_weight=25, n_estimators=251, reg_alpha=101, reg_lambda=1\n"
     ]
    },
    {
     "name": "stderr",
     "output_type": "stream",
     "text": [
      "c:\\Users\\Saurav\\anaconda3\\Lib\\site-packages\\xgboost\\data.py:440: FutureWarning: is_sparse is deprecated and will be removed in a future version. Check `isinstance(dtype, pd.SparseDtype)` instead.\n",
      "  if is_sparse(data):\n"
     ]
    },
    {
     "name": "stdout",
     "output_type": "stream",
     "text": [
      "[CV 4/10; 8/10] END colsample_bytree=0.0, gamma=7, learning_rate=0.8, max_depth=151, min_child_weight=25, n_estimators=251, reg_alpha=101, reg_lambda=1;, score=0.200 total time=   4.8s\n",
      "[CV 5/10; 8/10] START colsample_bytree=0.0, gamma=7, learning_rate=0.8, max_depth=151, min_child_weight=25, n_estimators=251, reg_alpha=101, reg_lambda=1\n"
     ]
    },
    {
     "name": "stderr",
     "output_type": "stream",
     "text": [
      "c:\\Users\\Saurav\\anaconda3\\Lib\\site-packages\\xgboost\\data.py:440: FutureWarning: is_sparse is deprecated and will be removed in a future version. Check `isinstance(dtype, pd.SparseDtype)` instead.\n",
      "  if is_sparse(data):\n"
     ]
    },
    {
     "name": "stdout",
     "output_type": "stream",
     "text": [
      "[CV 5/10; 8/10] END colsample_bytree=0.0, gamma=7, learning_rate=0.8, max_depth=151, min_child_weight=25, n_estimators=251, reg_alpha=101, reg_lambda=1;, score=0.200 total time=   4.7s\n",
      "[CV 6/10; 8/10] START colsample_bytree=0.0, gamma=7, learning_rate=0.8, max_depth=151, min_child_weight=25, n_estimators=251, reg_alpha=101, reg_lambda=1\n"
     ]
    },
    {
     "name": "stderr",
     "output_type": "stream",
     "text": [
      "c:\\Users\\Saurav\\anaconda3\\Lib\\site-packages\\xgboost\\data.py:440: FutureWarning: is_sparse is deprecated and will be removed in a future version. Check `isinstance(dtype, pd.SparseDtype)` instead.\n",
      "  if is_sparse(data):\n"
     ]
    },
    {
     "name": "stdout",
     "output_type": "stream",
     "text": [
      "[CV 6/10; 8/10] END colsample_bytree=0.0, gamma=7, learning_rate=0.8, max_depth=151, min_child_weight=25, n_estimators=251, reg_alpha=101, reg_lambda=1;, score=0.205 total time=   4.7s\n",
      "[CV 7/10; 8/10] START colsample_bytree=0.0, gamma=7, learning_rate=0.8, max_depth=151, min_child_weight=25, n_estimators=251, reg_alpha=101, reg_lambda=1\n"
     ]
    },
    {
     "name": "stderr",
     "output_type": "stream",
     "text": [
      "c:\\Users\\Saurav\\anaconda3\\Lib\\site-packages\\xgboost\\data.py:440: FutureWarning: is_sparse is deprecated and will be removed in a future version. Check `isinstance(dtype, pd.SparseDtype)` instead.\n",
      "  if is_sparse(data):\n"
     ]
    },
    {
     "name": "stdout",
     "output_type": "stream",
     "text": [
      "[CV 7/10; 8/10] END colsample_bytree=0.0, gamma=7, learning_rate=0.8, max_depth=151, min_child_weight=25, n_estimators=251, reg_alpha=101, reg_lambda=1;, score=0.205 total time=   4.7s\n",
      "[CV 8/10; 8/10] START colsample_bytree=0.0, gamma=7, learning_rate=0.8, max_depth=151, min_child_weight=25, n_estimators=251, reg_alpha=101, reg_lambda=1\n"
     ]
    },
    {
     "name": "stderr",
     "output_type": "stream",
     "text": [
      "c:\\Users\\Saurav\\anaconda3\\Lib\\site-packages\\xgboost\\data.py:440: FutureWarning: is_sparse is deprecated and will be removed in a future version. Check `isinstance(dtype, pd.SparseDtype)` instead.\n",
      "  if is_sparse(data):\n"
     ]
    },
    {
     "name": "stdout",
     "output_type": "stream",
     "text": [
      "[CV 8/10; 8/10] END colsample_bytree=0.0, gamma=7, learning_rate=0.8, max_depth=151, min_child_weight=25, n_estimators=251, reg_alpha=101, reg_lambda=1;, score=0.205 total time=   4.8s\n",
      "[CV 9/10; 8/10] START colsample_bytree=0.0, gamma=7, learning_rate=0.8, max_depth=151, min_child_weight=25, n_estimators=251, reg_alpha=101, reg_lambda=1\n"
     ]
    },
    {
     "name": "stderr",
     "output_type": "stream",
     "text": [
      "c:\\Users\\Saurav\\anaconda3\\Lib\\site-packages\\xgboost\\data.py:440: FutureWarning: is_sparse is deprecated and will be removed in a future version. Check `isinstance(dtype, pd.SparseDtype)` instead.\n",
      "  if is_sparse(data):\n"
     ]
    },
    {
     "name": "stdout",
     "output_type": "stream",
     "text": [
      "[CV 9/10; 8/10] END colsample_bytree=0.0, gamma=7, learning_rate=0.8, max_depth=151, min_child_weight=25, n_estimators=251, reg_alpha=101, reg_lambda=1;, score=0.205 total time=   4.6s\n",
      "[CV 10/10; 8/10] START colsample_bytree=0.0, gamma=7, learning_rate=0.8, max_depth=151, min_child_weight=25, n_estimators=251, reg_alpha=101, reg_lambda=1\n"
     ]
    },
    {
     "name": "stderr",
     "output_type": "stream",
     "text": [
      "c:\\Users\\Saurav\\anaconda3\\Lib\\site-packages\\xgboost\\data.py:440: FutureWarning: is_sparse is deprecated and will be removed in a future version. Check `isinstance(dtype, pd.SparseDtype)` instead.\n",
      "  if is_sparse(data):\n"
     ]
    },
    {
     "name": "stdout",
     "output_type": "stream",
     "text": [
      "[CV 10/10; 8/10] END colsample_bytree=0.0, gamma=7, learning_rate=0.8, max_depth=151, min_child_weight=25, n_estimators=251, reg_alpha=101, reg_lambda=1;, score=0.205 total time=   4.7s\n",
      "[CV 1/10; 9/10] START colsample_bytree=0.0, gamma=4, learning_rate=1.9000000000000001, max_depth=101, min_child_weight=5, n_estimators=251, reg_alpha=321, reg_lambda=0\n"
     ]
    },
    {
     "name": "stderr",
     "output_type": "stream",
     "text": [
      "c:\\Users\\Saurav\\anaconda3\\Lib\\site-packages\\xgboost\\data.py:440: FutureWarning: is_sparse is deprecated and will be removed in a future version. Check `isinstance(dtype, pd.SparseDtype)` instead.\n",
      "  if is_sparse(data):\n"
     ]
    },
    {
     "name": "stdout",
     "output_type": "stream",
     "text": [
      "[CV 1/10; 9/10] END colsample_bytree=0.0, gamma=4, learning_rate=1.9000000000000001, max_depth=101, min_child_weight=5, n_estimators=251, reg_alpha=321, reg_lambda=0;, score=0.204 total time=   4.8s\n",
      "[CV 2/10; 9/10] START colsample_bytree=0.0, gamma=4, learning_rate=1.9000000000000001, max_depth=101, min_child_weight=5, n_estimators=251, reg_alpha=321, reg_lambda=0\n"
     ]
    },
    {
     "name": "stderr",
     "output_type": "stream",
     "text": [
      "c:\\Users\\Saurav\\anaconda3\\Lib\\site-packages\\xgboost\\data.py:440: FutureWarning: is_sparse is deprecated and will be removed in a future version. Check `isinstance(dtype, pd.SparseDtype)` instead.\n",
      "  if is_sparse(data):\n"
     ]
    },
    {
     "name": "stdout",
     "output_type": "stream",
     "text": [
      "[CV 2/10; 9/10] END colsample_bytree=0.0, gamma=4, learning_rate=1.9000000000000001, max_depth=101, min_child_weight=5, n_estimators=251, reg_alpha=321, reg_lambda=0;, score=0.204 total time=   5.8s\n",
      "[CV 3/10; 9/10] START colsample_bytree=0.0, gamma=4, learning_rate=1.9000000000000001, max_depth=101, min_child_weight=5, n_estimators=251, reg_alpha=321, reg_lambda=0\n"
     ]
    },
    {
     "name": "stderr",
     "output_type": "stream",
     "text": [
      "c:\\Users\\Saurav\\anaconda3\\Lib\\site-packages\\xgboost\\data.py:440: FutureWarning: is_sparse is deprecated and will be removed in a future version. Check `isinstance(dtype, pd.SparseDtype)` instead.\n",
      "  if is_sparse(data):\n"
     ]
    },
    {
     "name": "stdout",
     "output_type": "stream",
     "text": [
      "[CV 3/10; 9/10] END colsample_bytree=0.0, gamma=4, learning_rate=1.9000000000000001, max_depth=101, min_child_weight=5, n_estimators=251, reg_alpha=321, reg_lambda=0;, score=0.200 total time=   5.6s\n",
      "[CV 4/10; 9/10] START colsample_bytree=0.0, gamma=4, learning_rate=1.9000000000000001, max_depth=101, min_child_weight=5, n_estimators=251, reg_alpha=321, reg_lambda=0\n"
     ]
    },
    {
     "name": "stderr",
     "output_type": "stream",
     "text": [
      "c:\\Users\\Saurav\\anaconda3\\Lib\\site-packages\\xgboost\\data.py:440: FutureWarning: is_sparse is deprecated and will be removed in a future version. Check `isinstance(dtype, pd.SparseDtype)` instead.\n",
      "  if is_sparse(data):\n"
     ]
    },
    {
     "name": "stdout",
     "output_type": "stream",
     "text": [
      "[CV 4/10; 9/10] END colsample_bytree=0.0, gamma=4, learning_rate=1.9000000000000001, max_depth=101, min_child_weight=5, n_estimators=251, reg_alpha=321, reg_lambda=0;, score=0.200 total time=   5.2s\n",
      "[CV 5/10; 9/10] START colsample_bytree=0.0, gamma=4, learning_rate=1.9000000000000001, max_depth=101, min_child_weight=5, n_estimators=251, reg_alpha=321, reg_lambda=0\n"
     ]
    },
    {
     "name": "stderr",
     "output_type": "stream",
     "text": [
      "c:\\Users\\Saurav\\anaconda3\\Lib\\site-packages\\xgboost\\data.py:440: FutureWarning: is_sparse is deprecated and will be removed in a future version. Check `isinstance(dtype, pd.SparseDtype)` instead.\n",
      "  if is_sparse(data):\n"
     ]
    },
    {
     "name": "stdout",
     "output_type": "stream",
     "text": [
      "[CV 5/10; 9/10] END colsample_bytree=0.0, gamma=4, learning_rate=1.9000000000000001, max_depth=101, min_child_weight=5, n_estimators=251, reg_alpha=321, reg_lambda=0;, score=0.200 total time=   5.9s\n",
      "[CV 6/10; 9/10] START colsample_bytree=0.0, gamma=4, learning_rate=1.9000000000000001, max_depth=101, min_child_weight=5, n_estimators=251, reg_alpha=321, reg_lambda=0\n"
     ]
    },
    {
     "name": "stderr",
     "output_type": "stream",
     "text": [
      "c:\\Users\\Saurav\\anaconda3\\Lib\\site-packages\\xgboost\\data.py:440: FutureWarning: is_sparse is deprecated and will be removed in a future version. Check `isinstance(dtype, pd.SparseDtype)` instead.\n",
      "  if is_sparse(data):\n"
     ]
    },
    {
     "name": "stdout",
     "output_type": "stream",
     "text": [
      "[CV 6/10; 9/10] END colsample_bytree=0.0, gamma=4, learning_rate=1.9000000000000001, max_depth=101, min_child_weight=5, n_estimators=251, reg_alpha=321, reg_lambda=0;, score=0.205 total time=   5.3s\n",
      "[CV 7/10; 9/10] START colsample_bytree=0.0, gamma=4, learning_rate=1.9000000000000001, max_depth=101, min_child_weight=5, n_estimators=251, reg_alpha=321, reg_lambda=0\n"
     ]
    },
    {
     "name": "stderr",
     "output_type": "stream",
     "text": [
      "c:\\Users\\Saurav\\anaconda3\\Lib\\site-packages\\xgboost\\data.py:440: FutureWarning: is_sparse is deprecated and will be removed in a future version. Check `isinstance(dtype, pd.SparseDtype)` instead.\n",
      "  if is_sparse(data):\n"
     ]
    },
    {
     "name": "stdout",
     "output_type": "stream",
     "text": [
      "[CV 7/10; 9/10] END colsample_bytree=0.0, gamma=4, learning_rate=1.9000000000000001, max_depth=101, min_child_weight=5, n_estimators=251, reg_alpha=321, reg_lambda=0;, score=0.205 total time=   6.4s\n",
      "[CV 8/10; 9/10] START colsample_bytree=0.0, gamma=4, learning_rate=1.9000000000000001, max_depth=101, min_child_weight=5, n_estimators=251, reg_alpha=321, reg_lambda=0\n"
     ]
    },
    {
     "name": "stderr",
     "output_type": "stream",
     "text": [
      "c:\\Users\\Saurav\\anaconda3\\Lib\\site-packages\\xgboost\\data.py:440: FutureWarning: is_sparse is deprecated and will be removed in a future version. Check `isinstance(dtype, pd.SparseDtype)` instead.\n",
      "  if is_sparse(data):\n"
     ]
    },
    {
     "name": "stdout",
     "output_type": "stream",
     "text": [
      "[CV 8/10; 9/10] END colsample_bytree=0.0, gamma=4, learning_rate=1.9000000000000001, max_depth=101, min_child_weight=5, n_estimators=251, reg_alpha=321, reg_lambda=0;, score=0.205 total time=   6.5s\n",
      "[CV 9/10; 9/10] START colsample_bytree=0.0, gamma=4, learning_rate=1.9000000000000001, max_depth=101, min_child_weight=5, n_estimators=251, reg_alpha=321, reg_lambda=0\n"
     ]
    },
    {
     "name": "stderr",
     "output_type": "stream",
     "text": [
      "c:\\Users\\Saurav\\anaconda3\\Lib\\site-packages\\xgboost\\data.py:440: FutureWarning: is_sparse is deprecated and will be removed in a future version. Check `isinstance(dtype, pd.SparseDtype)` instead.\n",
      "  if is_sparse(data):\n"
     ]
    },
    {
     "name": "stdout",
     "output_type": "stream",
     "text": [
      "[CV 9/10; 9/10] END colsample_bytree=0.0, gamma=4, learning_rate=1.9000000000000001, max_depth=101, min_child_weight=5, n_estimators=251, reg_alpha=321, reg_lambda=0;, score=0.205 total time=   5.5s\n",
      "[CV 10/10; 9/10] START colsample_bytree=0.0, gamma=4, learning_rate=1.9000000000000001, max_depth=101, min_child_weight=5, n_estimators=251, reg_alpha=321, reg_lambda=0\n"
     ]
    },
    {
     "name": "stderr",
     "output_type": "stream",
     "text": [
      "c:\\Users\\Saurav\\anaconda3\\Lib\\site-packages\\xgboost\\data.py:440: FutureWarning: is_sparse is deprecated and will be removed in a future version. Check `isinstance(dtype, pd.SparseDtype)` instead.\n",
      "  if is_sparse(data):\n"
     ]
    },
    {
     "name": "stdout",
     "output_type": "stream",
     "text": [
      "[CV 10/10; 9/10] END colsample_bytree=0.0, gamma=4, learning_rate=1.9000000000000001, max_depth=101, min_child_weight=5, n_estimators=251, reg_alpha=321, reg_lambda=0;, score=0.205 total time=   5.9s\n",
      "[CV 1/10; 10/10] START colsample_bytree=0.7000000000000001, gamma=1, learning_rate=1.6, max_depth=351, min_child_weight=10, n_estimators=301, reg_alpha=161, reg_lambda=1\n"
     ]
    },
    {
     "name": "stderr",
     "output_type": "stream",
     "text": [
      "c:\\Users\\Saurav\\anaconda3\\Lib\\site-packages\\xgboost\\data.py:440: FutureWarning: is_sparse is deprecated and will be removed in a future version. Check `isinstance(dtype, pd.SparseDtype)` instead.\n",
      "  if is_sparse(data):\n"
     ]
    },
    {
     "name": "stdout",
     "output_type": "stream",
     "text": [
      "[CV 1/10; 10/10] END colsample_bytree=0.7000000000000001, gamma=1, learning_rate=1.6, max_depth=351, min_child_weight=10, n_estimators=301, reg_alpha=161, reg_lambda=1;, score=0.449 total time=  22.3s\n",
      "[CV 2/10; 10/10] START colsample_bytree=0.7000000000000001, gamma=1, learning_rate=1.6, max_depth=351, min_child_weight=10, n_estimators=301, reg_alpha=161, reg_lambda=1\n"
     ]
    },
    {
     "name": "stderr",
     "output_type": "stream",
     "text": [
      "c:\\Users\\Saurav\\anaconda3\\Lib\\site-packages\\xgboost\\data.py:440: FutureWarning: is_sparse is deprecated and will be removed in a future version. Check `isinstance(dtype, pd.SparseDtype)` instead.\n",
      "  if is_sparse(data):\n"
     ]
    },
    {
     "name": "stdout",
     "output_type": "stream",
     "text": [
      "[CV 2/10; 10/10] END colsample_bytree=0.7000000000000001, gamma=1, learning_rate=1.6, max_depth=351, min_child_weight=10, n_estimators=301, reg_alpha=161, reg_lambda=1;, score=0.434 total time=  21.6s\n",
      "[CV 3/10; 10/10] START colsample_bytree=0.7000000000000001, gamma=1, learning_rate=1.6, max_depth=351, min_child_weight=10, n_estimators=301, reg_alpha=161, reg_lambda=1\n"
     ]
    },
    {
     "name": "stderr",
     "output_type": "stream",
     "text": [
      "c:\\Users\\Saurav\\anaconda3\\Lib\\site-packages\\xgboost\\data.py:440: FutureWarning: is_sparse is deprecated and will be removed in a future version. Check `isinstance(dtype, pd.SparseDtype)` instead.\n",
      "  if is_sparse(data):\n"
     ]
    },
    {
     "name": "stdout",
     "output_type": "stream",
     "text": [
      "[CV 3/10; 10/10] END colsample_bytree=0.7000000000000001, gamma=1, learning_rate=1.6, max_depth=351, min_child_weight=10, n_estimators=301, reg_alpha=161, reg_lambda=1;, score=0.451 total time=  19.5s\n",
      "[CV 4/10; 10/10] START colsample_bytree=0.7000000000000001, gamma=1, learning_rate=1.6, max_depth=351, min_child_weight=10, n_estimators=301, reg_alpha=161, reg_lambda=1\n"
     ]
    },
    {
     "name": "stderr",
     "output_type": "stream",
     "text": [
      "c:\\Users\\Saurav\\anaconda3\\Lib\\site-packages\\xgboost\\data.py:440: FutureWarning: is_sparse is deprecated and will be removed in a future version. Check `isinstance(dtype, pd.SparseDtype)` instead.\n",
      "  if is_sparse(data):\n"
     ]
    },
    {
     "name": "stdout",
     "output_type": "stream",
     "text": [
      "[CV 4/10; 10/10] END colsample_bytree=0.7000000000000001, gamma=1, learning_rate=1.6, max_depth=351, min_child_weight=10, n_estimators=301, reg_alpha=161, reg_lambda=1;, score=0.456 total time=  21.8s\n",
      "[CV 5/10; 10/10] START colsample_bytree=0.7000000000000001, gamma=1, learning_rate=1.6, max_depth=351, min_child_weight=10, n_estimators=301, reg_alpha=161, reg_lambda=1\n"
     ]
    },
    {
     "name": "stderr",
     "output_type": "stream",
     "text": [
      "c:\\Users\\Saurav\\anaconda3\\Lib\\site-packages\\xgboost\\data.py:440: FutureWarning: is_sparse is deprecated and will be removed in a future version. Check `isinstance(dtype, pd.SparseDtype)` instead.\n",
      "  if is_sparse(data):\n"
     ]
    },
    {
     "name": "stdout",
     "output_type": "stream",
     "text": [
      "[CV 5/10; 10/10] END colsample_bytree=0.7000000000000001, gamma=1, learning_rate=1.6, max_depth=351, min_child_weight=10, n_estimators=301, reg_alpha=161, reg_lambda=1;, score=0.426 total time=  24.7s\n",
      "[CV 6/10; 10/10] START colsample_bytree=0.7000000000000001, gamma=1, learning_rate=1.6, max_depth=351, min_child_weight=10, n_estimators=301, reg_alpha=161, reg_lambda=1\n"
     ]
    },
    {
     "name": "stderr",
     "output_type": "stream",
     "text": [
      "c:\\Users\\Saurav\\anaconda3\\Lib\\site-packages\\xgboost\\data.py:440: FutureWarning: is_sparse is deprecated and will be removed in a future version. Check `isinstance(dtype, pd.SparseDtype)` instead.\n",
      "  if is_sparse(data):\n"
     ]
    },
    {
     "name": "stdout",
     "output_type": "stream",
     "text": [
      "[CV 6/10; 10/10] END colsample_bytree=0.7000000000000001, gamma=1, learning_rate=1.6, max_depth=351, min_child_weight=10, n_estimators=301, reg_alpha=161, reg_lambda=1;, score=0.446 total time=  21.3s\n",
      "[CV 7/10; 10/10] START colsample_bytree=0.7000000000000001, gamma=1, learning_rate=1.6, max_depth=351, min_child_weight=10, n_estimators=301, reg_alpha=161, reg_lambda=1\n"
     ]
    },
    {
     "name": "stderr",
     "output_type": "stream",
     "text": [
      "c:\\Users\\Saurav\\anaconda3\\Lib\\site-packages\\xgboost\\data.py:440: FutureWarning: is_sparse is deprecated and will be removed in a future version. Check `isinstance(dtype, pd.SparseDtype)` instead.\n",
      "  if is_sparse(data):\n"
     ]
    },
    {
     "name": "stdout",
     "output_type": "stream",
     "text": [
      "[CV 7/10; 10/10] END colsample_bytree=0.7000000000000001, gamma=1, learning_rate=1.6, max_depth=351, min_child_weight=10, n_estimators=301, reg_alpha=161, reg_lambda=1;, score=0.467 total time=  19.5s\n",
      "[CV 8/10; 10/10] START colsample_bytree=0.7000000000000001, gamma=1, learning_rate=1.6, max_depth=351, min_child_weight=10, n_estimators=301, reg_alpha=161, reg_lambda=1\n"
     ]
    },
    {
     "name": "stderr",
     "output_type": "stream",
     "text": [
      "c:\\Users\\Saurav\\anaconda3\\Lib\\site-packages\\xgboost\\data.py:440: FutureWarning: is_sparse is deprecated and will be removed in a future version. Check `isinstance(dtype, pd.SparseDtype)` instead.\n",
      "  if is_sparse(data):\n"
     ]
    },
    {
     "name": "stdout",
     "output_type": "stream",
     "text": [
      "[CV 8/10; 10/10] END colsample_bytree=0.7000000000000001, gamma=1, learning_rate=1.6, max_depth=351, min_child_weight=10, n_estimators=301, reg_alpha=161, reg_lambda=1;, score=0.462 total time=  19.6s\n",
      "[CV 9/10; 10/10] START colsample_bytree=0.7000000000000001, gamma=1, learning_rate=1.6, max_depth=351, min_child_weight=10, n_estimators=301, reg_alpha=161, reg_lambda=1\n"
     ]
    },
    {
     "name": "stderr",
     "output_type": "stream",
     "text": [
      "c:\\Users\\Saurav\\anaconda3\\Lib\\site-packages\\xgboost\\data.py:440: FutureWarning: is_sparse is deprecated and will be removed in a future version. Check `isinstance(dtype, pd.SparseDtype)` instead.\n",
      "  if is_sparse(data):\n"
     ]
    },
    {
     "name": "stdout",
     "output_type": "stream",
     "text": [
      "[CV 9/10; 10/10] END colsample_bytree=0.7000000000000001, gamma=1, learning_rate=1.6, max_depth=351, min_child_weight=10, n_estimators=301, reg_alpha=161, reg_lambda=1;, score=0.446 total time=  20.9s\n",
      "[CV 10/10; 10/10] START colsample_bytree=0.7000000000000001, gamma=1, learning_rate=1.6, max_depth=351, min_child_weight=10, n_estimators=301, reg_alpha=161, reg_lambda=1\n"
     ]
    },
    {
     "name": "stderr",
     "output_type": "stream",
     "text": [
      "c:\\Users\\Saurav\\anaconda3\\Lib\\site-packages\\xgboost\\data.py:440: FutureWarning: is_sparse is deprecated and will be removed in a future version. Check `isinstance(dtype, pd.SparseDtype)` instead.\n",
      "  if is_sparse(data):\n"
     ]
    },
    {
     "name": "stdout",
     "output_type": "stream",
     "text": [
      "[CV 10/10; 10/10] END colsample_bytree=0.7000000000000001, gamma=1, learning_rate=1.6, max_depth=351, min_child_weight=10, n_estimators=301, reg_alpha=161, reg_lambda=1;, score=0.441 total time=  19.3s\n"
     ]
    },
    {
     "name": "stderr",
     "output_type": "stream",
     "text": [
      "c:\\Users\\Saurav\\anaconda3\\Lib\\site-packages\\xgboost\\data.py:440: FutureWarning: is_sparse is deprecated and will be removed in a future version. Check `isinstance(dtype, pd.SparseDtype)` instead.\n",
      "  if is_sparse(data):\n"
     ]
    },
    {
     "name": "stdout",
     "output_type": "stream",
     "text": [
      "Fitting 10 folds for each of 10 candidates, totalling 100 fits\n",
      "[CV 1/10; 1/10] START colsample_bytree=0.6000000000000001, gamma=1, learning_rate=1.3, max_depth=301, min_child_weight=5, n_estimators=151, reg_alpha=221, reg_lambda=0\n"
     ]
    },
    {
     "name": "stderr",
     "output_type": "stream",
     "text": [
      "c:\\Users\\Saurav\\anaconda3\\Lib\\site-packages\\xgboost\\data.py:440: FutureWarning: is_sparse is deprecated and will be removed in a future version. Check `isinstance(dtype, pd.SparseDtype)` instead.\n",
      "  if is_sparse(data):\n"
     ]
    },
    {
     "name": "stdout",
     "output_type": "stream",
     "text": [
      "[CV 1/10; 1/10] END colsample_bytree=0.6000000000000001, gamma=1, learning_rate=1.3, max_depth=301, min_child_weight=5, n_estimators=151, reg_alpha=221, reg_lambda=0;, score=0.204 total time=   8.0s\n",
      "[CV 2/10; 1/10] START colsample_bytree=0.6000000000000001, gamma=1, learning_rate=1.3, max_depth=301, min_child_weight=5, n_estimators=151, reg_alpha=221, reg_lambda=0\n"
     ]
    },
    {
     "name": "stderr",
     "output_type": "stream",
     "text": [
      "c:\\Users\\Saurav\\anaconda3\\Lib\\site-packages\\xgboost\\data.py:440: FutureWarning: is_sparse is deprecated and will be removed in a future version. Check `isinstance(dtype, pd.SparseDtype)` instead.\n",
      "  if is_sparse(data):\n"
     ]
    },
    {
     "name": "stdout",
     "output_type": "stream",
     "text": [
      "[CV 2/10; 1/10] END colsample_bytree=0.6000000000000001, gamma=1, learning_rate=1.3, max_depth=301, min_child_weight=5, n_estimators=151, reg_alpha=221, reg_lambda=0;, score=0.204 total time=   8.1s\n",
      "[CV 3/10; 1/10] START colsample_bytree=0.6000000000000001, gamma=1, learning_rate=1.3, max_depth=301, min_child_weight=5, n_estimators=151, reg_alpha=221, reg_lambda=0\n"
     ]
    },
    {
     "name": "stderr",
     "output_type": "stream",
     "text": [
      "c:\\Users\\Saurav\\anaconda3\\Lib\\site-packages\\xgboost\\data.py:440: FutureWarning: is_sparse is deprecated and will be removed in a future version. Check `isinstance(dtype, pd.SparseDtype)` instead.\n",
      "  if is_sparse(data):\n"
     ]
    },
    {
     "name": "stdout",
     "output_type": "stream",
     "text": [
      "[CV 3/10; 1/10] END colsample_bytree=0.6000000000000001, gamma=1, learning_rate=1.3, max_depth=301, min_child_weight=5, n_estimators=151, reg_alpha=221, reg_lambda=0;, score=0.200 total time=   8.0s\n",
      "[CV 4/10; 1/10] START colsample_bytree=0.6000000000000001, gamma=1, learning_rate=1.3, max_depth=301, min_child_weight=5, n_estimators=151, reg_alpha=221, reg_lambda=0\n"
     ]
    },
    {
     "name": "stderr",
     "output_type": "stream",
     "text": [
      "c:\\Users\\Saurav\\anaconda3\\Lib\\site-packages\\xgboost\\data.py:440: FutureWarning: is_sparse is deprecated and will be removed in a future version. Check `isinstance(dtype, pd.SparseDtype)` instead.\n",
      "  if is_sparse(data):\n"
     ]
    },
    {
     "name": "stdout",
     "output_type": "stream",
     "text": [
      "[CV 4/10; 1/10] END colsample_bytree=0.6000000000000001, gamma=1, learning_rate=1.3, max_depth=301, min_child_weight=5, n_estimators=151, reg_alpha=221, reg_lambda=0;, score=0.200 total time=   7.9s\n",
      "[CV 5/10; 1/10] START colsample_bytree=0.6000000000000001, gamma=1, learning_rate=1.3, max_depth=301, min_child_weight=5, n_estimators=151, reg_alpha=221, reg_lambda=0\n"
     ]
    },
    {
     "name": "stderr",
     "output_type": "stream",
     "text": [
      "c:\\Users\\Saurav\\anaconda3\\Lib\\site-packages\\xgboost\\data.py:440: FutureWarning: is_sparse is deprecated and will be removed in a future version. Check `isinstance(dtype, pd.SparseDtype)` instead.\n",
      "  if is_sparse(data):\n"
     ]
    },
    {
     "name": "stdout",
     "output_type": "stream",
     "text": [
      "[CV 5/10; 1/10] END colsample_bytree=0.6000000000000001, gamma=1, learning_rate=1.3, max_depth=301, min_child_weight=5, n_estimators=151, reg_alpha=221, reg_lambda=0;, score=0.200 total time=   8.1s\n",
      "[CV 6/10; 1/10] START colsample_bytree=0.6000000000000001, gamma=1, learning_rate=1.3, max_depth=301, min_child_weight=5, n_estimators=151, reg_alpha=221, reg_lambda=0\n"
     ]
    },
    {
     "name": "stderr",
     "output_type": "stream",
     "text": [
      "c:\\Users\\Saurav\\anaconda3\\Lib\\site-packages\\xgboost\\data.py:440: FutureWarning: is_sparse is deprecated and will be removed in a future version. Check `isinstance(dtype, pd.SparseDtype)` instead.\n",
      "  if is_sparse(data):\n"
     ]
    },
    {
     "name": "stdout",
     "output_type": "stream",
     "text": [
      "[CV 6/10; 1/10] END colsample_bytree=0.6000000000000001, gamma=1, learning_rate=1.3, max_depth=301, min_child_weight=5, n_estimators=151, reg_alpha=221, reg_lambda=0;, score=0.205 total time=   7.9s\n",
      "[CV 7/10; 1/10] START colsample_bytree=0.6000000000000001, gamma=1, learning_rate=1.3, max_depth=301, min_child_weight=5, n_estimators=151, reg_alpha=221, reg_lambda=0\n"
     ]
    },
    {
     "name": "stderr",
     "output_type": "stream",
     "text": [
      "c:\\Users\\Saurav\\anaconda3\\Lib\\site-packages\\xgboost\\data.py:440: FutureWarning: is_sparse is deprecated and will be removed in a future version. Check `isinstance(dtype, pd.SparseDtype)` instead.\n",
      "  if is_sparse(data):\n"
     ]
    },
    {
     "name": "stdout",
     "output_type": "stream",
     "text": [
      "[CV 7/10; 1/10] END colsample_bytree=0.6000000000000001, gamma=1, learning_rate=1.3, max_depth=301, min_child_weight=5, n_estimators=151, reg_alpha=221, reg_lambda=0;, score=0.205 total time=  10.0s\n",
      "[CV 8/10; 1/10] START colsample_bytree=0.6000000000000001, gamma=1, learning_rate=1.3, max_depth=301, min_child_weight=5, n_estimators=151, reg_alpha=221, reg_lambda=0\n"
     ]
    },
    {
     "name": "stderr",
     "output_type": "stream",
     "text": [
      "c:\\Users\\Saurav\\anaconda3\\Lib\\site-packages\\xgboost\\data.py:440: FutureWarning: is_sparse is deprecated and will be removed in a future version. Check `isinstance(dtype, pd.SparseDtype)` instead.\n",
      "  if is_sparse(data):\n"
     ]
    },
    {
     "name": "stdout",
     "output_type": "stream",
     "text": [
      "[CV 8/10; 1/10] END colsample_bytree=0.6000000000000001, gamma=1, learning_rate=1.3, max_depth=301, min_child_weight=5, n_estimators=151, reg_alpha=221, reg_lambda=0;, score=0.205 total time=   8.1s\n",
      "[CV 9/10; 1/10] START colsample_bytree=0.6000000000000001, gamma=1, learning_rate=1.3, max_depth=301, min_child_weight=5, n_estimators=151, reg_alpha=221, reg_lambda=0\n"
     ]
    },
    {
     "name": "stderr",
     "output_type": "stream",
     "text": [
      "c:\\Users\\Saurav\\anaconda3\\Lib\\site-packages\\xgboost\\data.py:440: FutureWarning: is_sparse is deprecated and will be removed in a future version. Check `isinstance(dtype, pd.SparseDtype)` instead.\n",
      "  if is_sparse(data):\n"
     ]
    },
    {
     "name": "stdout",
     "output_type": "stream",
     "text": [
      "[CV 9/10; 1/10] END colsample_bytree=0.6000000000000001, gamma=1, learning_rate=1.3, max_depth=301, min_child_weight=5, n_estimators=151, reg_alpha=221, reg_lambda=0;, score=0.205 total time=   7.9s\n",
      "[CV 10/10; 1/10] START colsample_bytree=0.6000000000000001, gamma=1, learning_rate=1.3, max_depth=301, min_child_weight=5, n_estimators=151, reg_alpha=221, reg_lambda=0\n"
     ]
    },
    {
     "name": "stderr",
     "output_type": "stream",
     "text": [
      "c:\\Users\\Saurav\\anaconda3\\Lib\\site-packages\\xgboost\\data.py:440: FutureWarning: is_sparse is deprecated and will be removed in a future version. Check `isinstance(dtype, pd.SparseDtype)` instead.\n",
      "  if is_sparse(data):\n"
     ]
    },
    {
     "name": "stdout",
     "output_type": "stream",
     "text": [
      "[CV 10/10; 1/10] END colsample_bytree=0.6000000000000001, gamma=1, learning_rate=1.3, max_depth=301, min_child_weight=5, n_estimators=151, reg_alpha=221, reg_lambda=0;, score=0.205 total time=   8.0s\n",
      "[CV 1/10; 2/10] START colsample_bytree=0.0, gamma=7, learning_rate=0.9, max_depth=51, min_child_weight=5, n_estimators=251, reg_alpha=121, reg_lambda=2\n"
     ]
    },
    {
     "name": "stderr",
     "output_type": "stream",
     "text": [
      "c:\\Users\\Saurav\\anaconda3\\Lib\\site-packages\\xgboost\\data.py:440: FutureWarning: is_sparse is deprecated and will be removed in a future version. Check `isinstance(dtype, pd.SparseDtype)` instead.\n",
      "  if is_sparse(data):\n"
     ]
    },
    {
     "name": "stdout",
     "output_type": "stream",
     "text": [
      "[CV 1/10; 2/10] END colsample_bytree=0.0, gamma=7, learning_rate=0.9, max_depth=51, min_child_weight=5, n_estimators=251, reg_alpha=121, reg_lambda=2;, score=0.204 total time=   5.0s\n",
      "[CV 2/10; 2/10] START colsample_bytree=0.0, gamma=7, learning_rate=0.9, max_depth=51, min_child_weight=5, n_estimators=251, reg_alpha=121, reg_lambda=2\n"
     ]
    },
    {
     "name": "stderr",
     "output_type": "stream",
     "text": [
      "c:\\Users\\Saurav\\anaconda3\\Lib\\site-packages\\xgboost\\data.py:440: FutureWarning: is_sparse is deprecated and will be removed in a future version. Check `isinstance(dtype, pd.SparseDtype)` instead.\n",
      "  if is_sparse(data):\n"
     ]
    },
    {
     "name": "stdout",
     "output_type": "stream",
     "text": [
      "[CV 2/10; 2/10] END colsample_bytree=0.0, gamma=7, learning_rate=0.9, max_depth=51, min_child_weight=5, n_estimators=251, reg_alpha=121, reg_lambda=2;, score=0.204 total time=   4.7s\n",
      "[CV 3/10; 2/10] START colsample_bytree=0.0, gamma=7, learning_rate=0.9, max_depth=51, min_child_weight=5, n_estimators=251, reg_alpha=121, reg_lambda=2\n"
     ]
    },
    {
     "name": "stderr",
     "output_type": "stream",
     "text": [
      "c:\\Users\\Saurav\\anaconda3\\Lib\\site-packages\\xgboost\\data.py:440: FutureWarning: is_sparse is deprecated and will be removed in a future version. Check `isinstance(dtype, pd.SparseDtype)` instead.\n",
      "  if is_sparse(data):\n"
     ]
    },
    {
     "name": "stdout",
     "output_type": "stream",
     "text": [
      "[CV 3/10; 2/10] END colsample_bytree=0.0, gamma=7, learning_rate=0.9, max_depth=51, min_child_weight=5, n_estimators=251, reg_alpha=121, reg_lambda=2;, score=0.200 total time=   5.2s\n",
      "[CV 4/10; 2/10] START colsample_bytree=0.0, gamma=7, learning_rate=0.9, max_depth=51, min_child_weight=5, n_estimators=251, reg_alpha=121, reg_lambda=2\n"
     ]
    },
    {
     "name": "stderr",
     "output_type": "stream",
     "text": [
      "c:\\Users\\Saurav\\anaconda3\\Lib\\site-packages\\xgboost\\data.py:440: FutureWarning: is_sparse is deprecated and will be removed in a future version. Check `isinstance(dtype, pd.SparseDtype)` instead.\n",
      "  if is_sparse(data):\n"
     ]
    },
    {
     "name": "stdout",
     "output_type": "stream",
     "text": [
      "[CV 4/10; 2/10] END colsample_bytree=0.0, gamma=7, learning_rate=0.9, max_depth=51, min_child_weight=5, n_estimators=251, reg_alpha=121, reg_lambda=2;, score=0.200 total time=   4.8s\n",
      "[CV 5/10; 2/10] START colsample_bytree=0.0, gamma=7, learning_rate=0.9, max_depth=51, min_child_weight=5, n_estimators=251, reg_alpha=121, reg_lambda=2\n"
     ]
    },
    {
     "name": "stderr",
     "output_type": "stream",
     "text": [
      "c:\\Users\\Saurav\\anaconda3\\Lib\\site-packages\\xgboost\\data.py:440: FutureWarning: is_sparse is deprecated and will be removed in a future version. Check `isinstance(dtype, pd.SparseDtype)` instead.\n",
      "  if is_sparse(data):\n"
     ]
    },
    {
     "name": "stdout",
     "output_type": "stream",
     "text": [
      "[CV 5/10; 2/10] END colsample_bytree=0.0, gamma=7, learning_rate=0.9, max_depth=51, min_child_weight=5, n_estimators=251, reg_alpha=121, reg_lambda=2;, score=0.200 total time=   4.9s\n",
      "[CV 6/10; 2/10] START colsample_bytree=0.0, gamma=7, learning_rate=0.9, max_depth=51, min_child_weight=5, n_estimators=251, reg_alpha=121, reg_lambda=2\n"
     ]
    },
    {
     "name": "stderr",
     "output_type": "stream",
     "text": [
      "c:\\Users\\Saurav\\anaconda3\\Lib\\site-packages\\xgboost\\data.py:440: FutureWarning: is_sparse is deprecated and will be removed in a future version. Check `isinstance(dtype, pd.SparseDtype)` instead.\n",
      "  if is_sparse(data):\n"
     ]
    },
    {
     "name": "stdout",
     "output_type": "stream",
     "text": [
      "[CV 6/10; 2/10] END colsample_bytree=0.0, gamma=7, learning_rate=0.9, max_depth=51, min_child_weight=5, n_estimators=251, reg_alpha=121, reg_lambda=2;, score=0.205 total time=   4.9s\n",
      "[CV 7/10; 2/10] START colsample_bytree=0.0, gamma=7, learning_rate=0.9, max_depth=51, min_child_weight=5, n_estimators=251, reg_alpha=121, reg_lambda=2\n"
     ]
    },
    {
     "name": "stderr",
     "output_type": "stream",
     "text": [
      "c:\\Users\\Saurav\\anaconda3\\Lib\\site-packages\\xgboost\\data.py:440: FutureWarning: is_sparse is deprecated and will be removed in a future version. Check `isinstance(dtype, pd.SparseDtype)` instead.\n",
      "  if is_sparse(data):\n"
     ]
    },
    {
     "name": "stdout",
     "output_type": "stream",
     "text": [
      "[CV 7/10; 2/10] END colsample_bytree=0.0, gamma=7, learning_rate=0.9, max_depth=51, min_child_weight=5, n_estimators=251, reg_alpha=121, reg_lambda=2;, score=0.205 total time=   4.8s\n",
      "[CV 8/10; 2/10] START colsample_bytree=0.0, gamma=7, learning_rate=0.9, max_depth=51, min_child_weight=5, n_estimators=251, reg_alpha=121, reg_lambda=2\n"
     ]
    },
    {
     "name": "stderr",
     "output_type": "stream",
     "text": [
      "c:\\Users\\Saurav\\anaconda3\\Lib\\site-packages\\xgboost\\data.py:440: FutureWarning: is_sparse is deprecated and will be removed in a future version. Check `isinstance(dtype, pd.SparseDtype)` instead.\n",
      "  if is_sparse(data):\n"
     ]
    },
    {
     "name": "stdout",
     "output_type": "stream",
     "text": [
      "[CV 8/10; 2/10] END colsample_bytree=0.0, gamma=7, learning_rate=0.9, max_depth=51, min_child_weight=5, n_estimators=251, reg_alpha=121, reg_lambda=2;, score=0.205 total time=   4.7s\n",
      "[CV 9/10; 2/10] START colsample_bytree=0.0, gamma=7, learning_rate=0.9, max_depth=51, min_child_weight=5, n_estimators=251, reg_alpha=121, reg_lambda=2\n"
     ]
    },
    {
     "name": "stderr",
     "output_type": "stream",
     "text": [
      "c:\\Users\\Saurav\\anaconda3\\Lib\\site-packages\\xgboost\\data.py:440: FutureWarning: is_sparse is deprecated and will be removed in a future version. Check `isinstance(dtype, pd.SparseDtype)` instead.\n",
      "  if is_sparse(data):\n"
     ]
    },
    {
     "name": "stdout",
     "output_type": "stream",
     "text": [
      "[CV 9/10; 2/10] END colsample_bytree=0.0, gamma=7, learning_rate=0.9, max_depth=51, min_child_weight=5, n_estimators=251, reg_alpha=121, reg_lambda=2;, score=0.205 total time=   4.9s\n",
      "[CV 10/10; 2/10] START colsample_bytree=0.0, gamma=7, learning_rate=0.9, max_depth=51, min_child_weight=5, n_estimators=251, reg_alpha=121, reg_lambda=2\n"
     ]
    },
    {
     "name": "stderr",
     "output_type": "stream",
     "text": [
      "c:\\Users\\Saurav\\anaconda3\\Lib\\site-packages\\xgboost\\data.py:440: FutureWarning: is_sparse is deprecated and will be removed in a future version. Check `isinstance(dtype, pd.SparseDtype)` instead.\n",
      "  if is_sparse(data):\n"
     ]
    },
    {
     "name": "stdout",
     "output_type": "stream",
     "text": [
      "[CV 10/10; 2/10] END colsample_bytree=0.0, gamma=7, learning_rate=0.9, max_depth=51, min_child_weight=5, n_estimators=251, reg_alpha=121, reg_lambda=2;, score=0.205 total time=   4.7s\n",
      "[CV 1/10; 3/10] START colsample_bytree=0.6000000000000001, gamma=4, learning_rate=1.0, max_depth=351, min_child_weight=35, n_estimators=1, reg_alpha=161, reg_lambda=3\n",
      "[CV 1/10; 3/10] END colsample_bytree=0.6000000000000001, gamma=4, learning_rate=1.0, max_depth=351, min_child_weight=35, n_estimators=1, reg_alpha=161, reg_lambda=3;, score=0.306 total time=   0.0s\n",
      "[CV 2/10; 3/10] START colsample_bytree=0.6000000000000001, gamma=4, learning_rate=1.0, max_depth=351, min_child_weight=35, n_estimators=1, reg_alpha=161, reg_lambda=3\n",
      "[CV 2/10; 3/10] END colsample_bytree=0.6000000000000001, gamma=4, learning_rate=1.0, max_depth=351, min_child_weight=35, n_estimators=1, reg_alpha=161, reg_lambda=3;, score=0.337 total time=   0.0s\n",
      "[CV 3/10; 3/10] START colsample_bytree=0.6000000000000001, gamma=4, learning_rate=1.0, max_depth=351, min_child_weight=35, n_estimators=1, reg_alpha=161, reg_lambda=3\n"
     ]
    },
    {
     "name": "stderr",
     "output_type": "stream",
     "text": [
      "c:\\Users\\Saurav\\anaconda3\\Lib\\site-packages\\xgboost\\data.py:440: FutureWarning: is_sparse is deprecated and will be removed in a future version. Check `isinstance(dtype, pd.SparseDtype)` instead.\n",
      "  if is_sparse(data):\n",
      "c:\\Users\\Saurav\\anaconda3\\Lib\\site-packages\\xgboost\\data.py:440: FutureWarning: is_sparse is deprecated and will be removed in a future version. Check `isinstance(dtype, pd.SparseDtype)` instead.\n",
      "  if is_sparse(data):\n",
      "c:\\Users\\Saurav\\anaconda3\\Lib\\site-packages\\xgboost\\data.py:440: FutureWarning: is_sparse is deprecated and will be removed in a future version. Check `isinstance(dtype, pd.SparseDtype)` instead.\n",
      "  if is_sparse(data):\n",
      "c:\\Users\\Saurav\\anaconda3\\Lib\\site-packages\\xgboost\\data.py:440: FutureWarning: is_sparse is deprecated and will be removed in a future version. Check `isinstance(dtype, pd.SparseDtype)` instead.\n",
      "  if is_sparse(data):\n",
      "c:\\Users\\Saurav\\anaconda3\\Lib\\site-packages\\xgboost\\data.py:440: FutureWarning: is_sparse is deprecated and will be removed in a future version. Check `isinstance(dtype, pd.SparseDtype)` instead.\n",
      "  if is_sparse(data):\n"
     ]
    },
    {
     "name": "stdout",
     "output_type": "stream",
     "text": [
      "[CV 3/10; 3/10] END colsample_bytree=0.6000000000000001, gamma=4, learning_rate=1.0, max_depth=351, min_child_weight=35, n_estimators=1, reg_alpha=161, reg_lambda=3;, score=0.323 total time=   0.0s\n",
      "[CV 4/10; 3/10] START colsample_bytree=0.6000000000000001, gamma=4, learning_rate=1.0, max_depth=351, min_child_weight=35, n_estimators=1, reg_alpha=161, reg_lambda=3\n",
      "[CV 4/10; 3/10] END colsample_bytree=0.6000000000000001, gamma=4, learning_rate=1.0, max_depth=351, min_child_weight=35, n_estimators=1, reg_alpha=161, reg_lambda=3;, score=0.318 total time=   0.0s\n",
      "[CV 5/10; 3/10] START colsample_bytree=0.6000000000000001, gamma=4, learning_rate=1.0, max_depth=351, min_child_weight=35, n_estimators=1, reg_alpha=161, reg_lambda=3\n",
      "[CV 5/10; 3/10] END colsample_bytree=0.6000000000000001, gamma=4, learning_rate=1.0, max_depth=351, min_child_weight=35, n_estimators=1, reg_alpha=161, reg_lambda=3;, score=0.313 total time=   0.0s\n",
      "[CV 6/10; 3/10] START colsample_bytree=0.6000000000000001, gamma=4, learning_rate=1.0, max_depth=351, min_child_weight=35, n_estimators=1, reg_alpha=161, reg_lambda=3\n"
     ]
    },
    {
     "name": "stderr",
     "output_type": "stream",
     "text": [
      "c:\\Users\\Saurav\\anaconda3\\Lib\\site-packages\\xgboost\\data.py:440: FutureWarning: is_sparse is deprecated and will be removed in a future version. Check `isinstance(dtype, pd.SparseDtype)` instead.\n",
      "  if is_sparse(data):\n",
      "c:\\Users\\Saurav\\anaconda3\\Lib\\site-packages\\xgboost\\data.py:440: FutureWarning: is_sparse is deprecated and will be removed in a future version. Check `isinstance(dtype, pd.SparseDtype)` instead.\n",
      "  if is_sparse(data):\n"
     ]
    },
    {
     "name": "stdout",
     "output_type": "stream",
     "text": [
      "[CV 6/10; 3/10] END colsample_bytree=0.6000000000000001, gamma=4, learning_rate=1.0, max_depth=351, min_child_weight=35, n_estimators=1, reg_alpha=161, reg_lambda=3;, score=0.333 total time=   0.0s\n",
      "[CV 7/10; 3/10] START colsample_bytree=0.6000000000000001, gamma=4, learning_rate=1.0, max_depth=351, min_child_weight=35, n_estimators=1, reg_alpha=161, reg_lambda=3\n",
      "[CV 7/10; 3/10] END colsample_bytree=0.6000000000000001, gamma=4, learning_rate=1.0, max_depth=351, min_child_weight=35, n_estimators=1, reg_alpha=161, reg_lambda=3;, score=0.344 total time=   0.0s\n",
      "[CV 8/10; 3/10] START colsample_bytree=0.6000000000000001, gamma=4, learning_rate=1.0, max_depth=351, min_child_weight=35, n_estimators=1, reg_alpha=161, reg_lambda=3\n"
     ]
    },
    {
     "name": "stderr",
     "output_type": "stream",
     "text": [
      "c:\\Users\\Saurav\\anaconda3\\Lib\\site-packages\\xgboost\\data.py:440: FutureWarning: is_sparse is deprecated and will be removed in a future version. Check `isinstance(dtype, pd.SparseDtype)` instead.\n",
      "  if is_sparse(data):\n",
      "c:\\Users\\Saurav\\anaconda3\\Lib\\site-packages\\xgboost\\data.py:440: FutureWarning: is_sparse is deprecated and will be removed in a future version. Check `isinstance(dtype, pd.SparseDtype)` instead.\n",
      "  if is_sparse(data):\n",
      "c:\\Users\\Saurav\\anaconda3\\Lib\\site-packages\\xgboost\\data.py:440: FutureWarning: is_sparse is deprecated and will be removed in a future version. Check `isinstance(dtype, pd.SparseDtype)` instead.\n",
      "  if is_sparse(data):\n"
     ]
    },
    {
     "name": "stdout",
     "output_type": "stream",
     "text": [
      "[CV 8/10; 3/10] END colsample_bytree=0.6000000000000001, gamma=4, learning_rate=1.0, max_depth=351, min_child_weight=35, n_estimators=1, reg_alpha=161, reg_lambda=3;, score=0.333 total time=   0.0s\n",
      "[CV 9/10; 3/10] START colsample_bytree=0.6000000000000001, gamma=4, learning_rate=1.0, max_depth=351, min_child_weight=35, n_estimators=1, reg_alpha=161, reg_lambda=3\n",
      "[CV 9/10; 3/10] END colsample_bytree=0.6000000000000001, gamma=4, learning_rate=1.0, max_depth=351, min_child_weight=35, n_estimators=1, reg_alpha=161, reg_lambda=3;, score=0.344 total time=   0.0s\n",
      "[CV 10/10; 3/10] START colsample_bytree=0.6000000000000001, gamma=4, learning_rate=1.0, max_depth=351, min_child_weight=35, n_estimators=1, reg_alpha=161, reg_lambda=3\n",
      "[CV 10/10; 3/10] END colsample_bytree=0.6000000000000001, gamma=4, learning_rate=1.0, max_depth=351, min_child_weight=35, n_estimators=1, reg_alpha=161, reg_lambda=3;, score=0.333 total time=   0.0s\n",
      "[CV 1/10; 4/10] START colsample_bytree=0.30000000000000004, gamma=1, learning_rate=1.8, max_depth=301, min_child_weight=10, n_estimators=351, reg_alpha=161, reg_lambda=2\n"
     ]
    },
    {
     "name": "stderr",
     "output_type": "stream",
     "text": [
      "c:\\Users\\Saurav\\anaconda3\\Lib\\site-packages\\xgboost\\data.py:440: FutureWarning: is_sparse is deprecated and will be removed in a future version. Check `isinstance(dtype, pd.SparseDtype)` instead.\n",
      "  if is_sparse(data):\n"
     ]
    },
    {
     "name": "stdout",
     "output_type": "stream",
     "text": [
      "[CV 1/10; 4/10] END colsample_bytree=0.30000000000000004, gamma=1, learning_rate=1.8, max_depth=301, min_child_weight=10, n_estimators=351, reg_alpha=161, reg_lambda=2;, score=0.439 total time=  12.5s\n",
      "[CV 2/10; 4/10] START colsample_bytree=0.30000000000000004, gamma=1, learning_rate=1.8, max_depth=301, min_child_weight=10, n_estimators=351, reg_alpha=161, reg_lambda=2\n"
     ]
    },
    {
     "name": "stderr",
     "output_type": "stream",
     "text": [
      "c:\\Users\\Saurav\\anaconda3\\Lib\\site-packages\\xgboost\\data.py:440: FutureWarning: is_sparse is deprecated and will be removed in a future version. Check `isinstance(dtype, pd.SparseDtype)` instead.\n",
      "  if is_sparse(data):\n"
     ]
    },
    {
     "name": "stdout",
     "output_type": "stream",
     "text": [
      "[CV 2/10; 4/10] END colsample_bytree=0.30000000000000004, gamma=1, learning_rate=1.8, max_depth=301, min_child_weight=10, n_estimators=351, reg_alpha=161, reg_lambda=2;, score=0.439 total time=  12.8s\n",
      "[CV 3/10; 4/10] START colsample_bytree=0.30000000000000004, gamma=1, learning_rate=1.8, max_depth=301, min_child_weight=10, n_estimators=351, reg_alpha=161, reg_lambda=2\n"
     ]
    },
    {
     "name": "stderr",
     "output_type": "stream",
     "text": [
      "c:\\Users\\Saurav\\anaconda3\\Lib\\site-packages\\xgboost\\data.py:440: FutureWarning: is_sparse is deprecated and will be removed in a future version. Check `isinstance(dtype, pd.SparseDtype)` instead.\n",
      "  if is_sparse(data):\n"
     ]
    },
    {
     "name": "stdout",
     "output_type": "stream",
     "text": [
      "[CV 3/10; 4/10] END colsample_bytree=0.30000000000000004, gamma=1, learning_rate=1.8, max_depth=301, min_child_weight=10, n_estimators=351, reg_alpha=161, reg_lambda=2;, score=0.431 total time=  12.6s\n",
      "[CV 4/10; 4/10] START colsample_bytree=0.30000000000000004, gamma=1, learning_rate=1.8, max_depth=301, min_child_weight=10, n_estimators=351, reg_alpha=161, reg_lambda=2\n"
     ]
    },
    {
     "name": "stderr",
     "output_type": "stream",
     "text": [
      "c:\\Users\\Saurav\\anaconda3\\Lib\\site-packages\\xgboost\\data.py:440: FutureWarning: is_sparse is deprecated and will be removed in a future version. Check `isinstance(dtype, pd.SparseDtype)` instead.\n",
      "  if is_sparse(data):\n"
     ]
    },
    {
     "name": "stdout",
     "output_type": "stream",
     "text": [
      "[CV 4/10; 4/10] END colsample_bytree=0.30000000000000004, gamma=1, learning_rate=1.8, max_depth=301, min_child_weight=10, n_estimators=351, reg_alpha=161, reg_lambda=2;, score=0.467 total time=  12.7s\n",
      "[CV 5/10; 4/10] START colsample_bytree=0.30000000000000004, gamma=1, learning_rate=1.8, max_depth=301, min_child_weight=10, n_estimators=351, reg_alpha=161, reg_lambda=2\n"
     ]
    },
    {
     "name": "stderr",
     "output_type": "stream",
     "text": [
      "c:\\Users\\Saurav\\anaconda3\\Lib\\site-packages\\xgboost\\data.py:440: FutureWarning: is_sparse is deprecated and will be removed in a future version. Check `isinstance(dtype, pd.SparseDtype)` instead.\n",
      "  if is_sparse(data):\n"
     ]
    },
    {
     "name": "stdout",
     "output_type": "stream",
     "text": [
      "[CV 5/10; 4/10] END colsample_bytree=0.30000000000000004, gamma=1, learning_rate=1.8, max_depth=301, min_child_weight=10, n_estimators=351, reg_alpha=161, reg_lambda=2;, score=0.451 total time=  12.6s\n",
      "[CV 6/10; 4/10] START colsample_bytree=0.30000000000000004, gamma=1, learning_rate=1.8, max_depth=301, min_child_weight=10, n_estimators=351, reg_alpha=161, reg_lambda=2\n"
     ]
    },
    {
     "name": "stderr",
     "output_type": "stream",
     "text": [
      "c:\\Users\\Saurav\\anaconda3\\Lib\\site-packages\\xgboost\\data.py:440: FutureWarning: is_sparse is deprecated and will be removed in a future version. Check `isinstance(dtype, pd.SparseDtype)` instead.\n",
      "  if is_sparse(data):\n"
     ]
    },
    {
     "name": "stdout",
     "output_type": "stream",
     "text": [
      "[CV 6/10; 4/10] END colsample_bytree=0.30000000000000004, gamma=1, learning_rate=1.8, max_depth=301, min_child_weight=10, n_estimators=351, reg_alpha=161, reg_lambda=2;, score=0.456 total time=  12.7s\n",
      "[CV 7/10; 4/10] START colsample_bytree=0.30000000000000004, gamma=1, learning_rate=1.8, max_depth=301, min_child_weight=10, n_estimators=351, reg_alpha=161, reg_lambda=2\n"
     ]
    },
    {
     "name": "stderr",
     "output_type": "stream",
     "text": [
      "c:\\Users\\Saurav\\anaconda3\\Lib\\site-packages\\xgboost\\data.py:440: FutureWarning: is_sparse is deprecated and will be removed in a future version. Check `isinstance(dtype, pd.SparseDtype)` instead.\n",
      "  if is_sparse(data):\n"
     ]
    },
    {
     "name": "stdout",
     "output_type": "stream",
     "text": [
      "[CV 7/10; 4/10] END colsample_bytree=0.30000000000000004, gamma=1, learning_rate=1.8, max_depth=301, min_child_weight=10, n_estimators=351, reg_alpha=161, reg_lambda=2;, score=0.467 total time=  12.8s\n",
      "[CV 8/10; 4/10] START colsample_bytree=0.30000000000000004, gamma=1, learning_rate=1.8, max_depth=301, min_child_weight=10, n_estimators=351, reg_alpha=161, reg_lambda=2\n"
     ]
    },
    {
     "name": "stderr",
     "output_type": "stream",
     "text": [
      "c:\\Users\\Saurav\\anaconda3\\Lib\\site-packages\\xgboost\\data.py:440: FutureWarning: is_sparse is deprecated and will be removed in a future version. Check `isinstance(dtype, pd.SparseDtype)` instead.\n",
      "  if is_sparse(data):\n"
     ]
    },
    {
     "name": "stdout",
     "output_type": "stream",
     "text": [
      "[CV 8/10; 4/10] END colsample_bytree=0.30000000000000004, gamma=1, learning_rate=1.8, max_depth=301, min_child_weight=10, n_estimators=351, reg_alpha=161, reg_lambda=2;, score=0.477 total time=  12.8s\n",
      "[CV 9/10; 4/10] START colsample_bytree=0.30000000000000004, gamma=1, learning_rate=1.8, max_depth=301, min_child_weight=10, n_estimators=351, reg_alpha=161, reg_lambda=2\n"
     ]
    },
    {
     "name": "stderr",
     "output_type": "stream",
     "text": [
      "c:\\Users\\Saurav\\anaconda3\\Lib\\site-packages\\xgboost\\data.py:440: FutureWarning: is_sparse is deprecated and will be removed in a future version. Check `isinstance(dtype, pd.SparseDtype)` instead.\n",
      "  if is_sparse(data):\n"
     ]
    },
    {
     "name": "stdout",
     "output_type": "stream",
     "text": [
      "[CV 9/10; 4/10] END colsample_bytree=0.30000000000000004, gamma=1, learning_rate=1.8, max_depth=301, min_child_weight=10, n_estimators=351, reg_alpha=161, reg_lambda=2;, score=0.436 total time=  13.0s\n",
      "[CV 10/10; 4/10] START colsample_bytree=0.30000000000000004, gamma=1, learning_rate=1.8, max_depth=301, min_child_weight=10, n_estimators=351, reg_alpha=161, reg_lambda=2\n"
     ]
    },
    {
     "name": "stderr",
     "output_type": "stream",
     "text": [
      "c:\\Users\\Saurav\\anaconda3\\Lib\\site-packages\\xgboost\\data.py:440: FutureWarning: is_sparse is deprecated and will be removed in a future version. Check `isinstance(dtype, pd.SparseDtype)` instead.\n",
      "  if is_sparse(data):\n"
     ]
    },
    {
     "name": "stdout",
     "output_type": "stream",
     "text": [
      "[CV 10/10; 4/10] END colsample_bytree=0.30000000000000004, gamma=1, learning_rate=1.8, max_depth=301, min_child_weight=10, n_estimators=351, reg_alpha=161, reg_lambda=2;, score=0.426 total time=  12.6s\n",
      "[CV 1/10; 5/10] START colsample_bytree=0.5, gamma=1, learning_rate=1.9000000000000001, max_depth=351, min_child_weight=20, n_estimators=301, reg_alpha=241, reg_lambda=1\n"
     ]
    },
    {
     "name": "stderr",
     "output_type": "stream",
     "text": [
      "c:\\Users\\Saurav\\anaconda3\\Lib\\site-packages\\xgboost\\data.py:440: FutureWarning: is_sparse is deprecated and will be removed in a future version. Check `isinstance(dtype, pd.SparseDtype)` instead.\n",
      "  if is_sparse(data):\n"
     ]
    },
    {
     "name": "stdout",
     "output_type": "stream",
     "text": [
      "[CV 1/10; 5/10] END colsample_bytree=0.5, gamma=1, learning_rate=1.9000000000000001, max_depth=351, min_child_weight=20, n_estimators=301, reg_alpha=241, reg_lambda=1;, score=0.204 total time=  14.4s\n",
      "[CV 2/10; 5/10] START colsample_bytree=0.5, gamma=1, learning_rate=1.9000000000000001, max_depth=351, min_child_weight=20, n_estimators=301, reg_alpha=241, reg_lambda=1\n"
     ]
    },
    {
     "name": "stderr",
     "output_type": "stream",
     "text": [
      "c:\\Users\\Saurav\\anaconda3\\Lib\\site-packages\\xgboost\\data.py:440: FutureWarning: is_sparse is deprecated and will be removed in a future version. Check `isinstance(dtype, pd.SparseDtype)` instead.\n",
      "  if is_sparse(data):\n"
     ]
    },
    {
     "name": "stdout",
     "output_type": "stream",
     "text": [
      "[CV 2/10; 5/10] END colsample_bytree=0.5, gamma=1, learning_rate=1.9000000000000001, max_depth=351, min_child_weight=20, n_estimators=301, reg_alpha=241, reg_lambda=1;, score=0.204 total time=  14.2s\n",
      "[CV 3/10; 5/10] START colsample_bytree=0.5, gamma=1, learning_rate=1.9000000000000001, max_depth=351, min_child_weight=20, n_estimators=301, reg_alpha=241, reg_lambda=1\n"
     ]
    },
    {
     "name": "stderr",
     "output_type": "stream",
     "text": [
      "c:\\Users\\Saurav\\anaconda3\\Lib\\site-packages\\xgboost\\data.py:440: FutureWarning: is_sparse is deprecated and will be removed in a future version. Check `isinstance(dtype, pd.SparseDtype)` instead.\n",
      "  if is_sparse(data):\n"
     ]
    },
    {
     "name": "stdout",
     "output_type": "stream",
     "text": [
      "[CV 3/10; 5/10] END colsample_bytree=0.5, gamma=1, learning_rate=1.9000000000000001, max_depth=351, min_child_weight=20, n_estimators=301, reg_alpha=241, reg_lambda=1;, score=0.200 total time=  13.6s\n",
      "[CV 4/10; 5/10] START colsample_bytree=0.5, gamma=1, learning_rate=1.9000000000000001, max_depth=351, min_child_weight=20, n_estimators=301, reg_alpha=241, reg_lambda=1\n"
     ]
    },
    {
     "name": "stderr",
     "output_type": "stream",
     "text": [
      "c:\\Users\\Saurav\\anaconda3\\Lib\\site-packages\\xgboost\\data.py:440: FutureWarning: is_sparse is deprecated and will be removed in a future version. Check `isinstance(dtype, pd.SparseDtype)` instead.\n",
      "  if is_sparse(data):\n"
     ]
    },
    {
     "name": "stdout",
     "output_type": "stream",
     "text": [
      "[CV 4/10; 5/10] END colsample_bytree=0.5, gamma=1, learning_rate=1.9000000000000001, max_depth=351, min_child_weight=20, n_estimators=301, reg_alpha=241, reg_lambda=1;, score=0.200 total time=  13.3s\n",
      "[CV 5/10; 5/10] START colsample_bytree=0.5, gamma=1, learning_rate=1.9000000000000001, max_depth=351, min_child_weight=20, n_estimators=301, reg_alpha=241, reg_lambda=1\n"
     ]
    },
    {
     "name": "stderr",
     "output_type": "stream",
     "text": [
      "c:\\Users\\Saurav\\anaconda3\\Lib\\site-packages\\xgboost\\data.py:440: FutureWarning: is_sparse is deprecated and will be removed in a future version. Check `isinstance(dtype, pd.SparseDtype)` instead.\n",
      "  if is_sparse(data):\n"
     ]
    },
    {
     "name": "stdout",
     "output_type": "stream",
     "text": [
      "[CV 5/10; 5/10] END colsample_bytree=0.5, gamma=1, learning_rate=1.9000000000000001, max_depth=351, min_child_weight=20, n_estimators=301, reg_alpha=241, reg_lambda=1;, score=0.200 total time=  13.3s\n",
      "[CV 6/10; 5/10] START colsample_bytree=0.5, gamma=1, learning_rate=1.9000000000000001, max_depth=351, min_child_weight=20, n_estimators=301, reg_alpha=241, reg_lambda=1\n"
     ]
    },
    {
     "name": "stderr",
     "output_type": "stream",
     "text": [
      "c:\\Users\\Saurav\\anaconda3\\Lib\\site-packages\\xgboost\\data.py:440: FutureWarning: is_sparse is deprecated and will be removed in a future version. Check `isinstance(dtype, pd.SparseDtype)` instead.\n",
      "  if is_sparse(data):\n"
     ]
    },
    {
     "name": "stdout",
     "output_type": "stream",
     "text": [
      "[CV 6/10; 5/10] END colsample_bytree=0.5, gamma=1, learning_rate=1.9000000000000001, max_depth=351, min_child_weight=20, n_estimators=301, reg_alpha=241, reg_lambda=1;, score=0.205 total time=  13.6s\n",
      "[CV 7/10; 5/10] START colsample_bytree=0.5, gamma=1, learning_rate=1.9000000000000001, max_depth=351, min_child_weight=20, n_estimators=301, reg_alpha=241, reg_lambda=1\n"
     ]
    },
    {
     "name": "stderr",
     "output_type": "stream",
     "text": [
      "c:\\Users\\Saurav\\anaconda3\\Lib\\site-packages\\xgboost\\data.py:440: FutureWarning: is_sparse is deprecated and will be removed in a future version. Check `isinstance(dtype, pd.SparseDtype)` instead.\n",
      "  if is_sparse(data):\n"
     ]
    },
    {
     "name": "stdout",
     "output_type": "stream",
     "text": [
      "[CV 7/10; 5/10] END colsample_bytree=0.5, gamma=1, learning_rate=1.9000000000000001, max_depth=351, min_child_weight=20, n_estimators=301, reg_alpha=241, reg_lambda=1;, score=0.205 total time=  13.5s\n",
      "[CV 8/10; 5/10] START colsample_bytree=0.5, gamma=1, learning_rate=1.9000000000000001, max_depth=351, min_child_weight=20, n_estimators=301, reg_alpha=241, reg_lambda=1\n"
     ]
    },
    {
     "name": "stderr",
     "output_type": "stream",
     "text": [
      "c:\\Users\\Saurav\\anaconda3\\Lib\\site-packages\\xgboost\\data.py:440: FutureWarning: is_sparse is deprecated and will be removed in a future version. Check `isinstance(dtype, pd.SparseDtype)` instead.\n",
      "  if is_sparse(data):\n"
     ]
    },
    {
     "name": "stdout",
     "output_type": "stream",
     "text": [
      "[CV 8/10; 5/10] END colsample_bytree=0.5, gamma=1, learning_rate=1.9000000000000001, max_depth=351, min_child_weight=20, n_estimators=301, reg_alpha=241, reg_lambda=1;, score=0.205 total time=  13.3s\n",
      "[CV 9/10; 5/10] START colsample_bytree=0.5, gamma=1, learning_rate=1.9000000000000001, max_depth=351, min_child_weight=20, n_estimators=301, reg_alpha=241, reg_lambda=1\n"
     ]
    },
    {
     "name": "stderr",
     "output_type": "stream",
     "text": [
      "c:\\Users\\Saurav\\anaconda3\\Lib\\site-packages\\xgboost\\data.py:440: FutureWarning: is_sparse is deprecated and will be removed in a future version. Check `isinstance(dtype, pd.SparseDtype)` instead.\n",
      "  if is_sparse(data):\n"
     ]
    },
    {
     "name": "stdout",
     "output_type": "stream",
     "text": [
      "[CV 9/10; 5/10] END colsample_bytree=0.5, gamma=1, learning_rate=1.9000000000000001, max_depth=351, min_child_weight=20, n_estimators=301, reg_alpha=241, reg_lambda=1;, score=0.205 total time=  13.3s\n",
      "[CV 10/10; 5/10] START colsample_bytree=0.5, gamma=1, learning_rate=1.9000000000000001, max_depth=351, min_child_weight=20, n_estimators=301, reg_alpha=241, reg_lambda=1\n"
     ]
    },
    {
     "name": "stderr",
     "output_type": "stream",
     "text": [
      "c:\\Users\\Saurav\\anaconda3\\Lib\\site-packages\\xgboost\\data.py:440: FutureWarning: is_sparse is deprecated and will be removed in a future version. Check `isinstance(dtype, pd.SparseDtype)` instead.\n",
      "  if is_sparse(data):\n"
     ]
    },
    {
     "name": "stdout",
     "output_type": "stream",
     "text": [
      "[CV 10/10; 5/10] END colsample_bytree=0.5, gamma=1, learning_rate=1.9000000000000001, max_depth=351, min_child_weight=20, n_estimators=301, reg_alpha=241, reg_lambda=1;, score=0.205 total time=  13.3s\n",
      "[CV 1/10; 6/10] START colsample_bytree=0.8, gamma=7, learning_rate=1.1, max_depth=151, min_child_weight=0, n_estimators=251, reg_alpha=261, reg_lambda=1\n"
     ]
    },
    {
     "name": "stderr",
     "output_type": "stream",
     "text": [
      "c:\\Users\\Saurav\\anaconda3\\Lib\\site-packages\\xgboost\\data.py:440: FutureWarning: is_sparse is deprecated and will be removed in a future version. Check `isinstance(dtype, pd.SparseDtype)` instead.\n",
      "  if is_sparse(data):\n"
     ]
    },
    {
     "name": "stdout",
     "output_type": "stream",
     "text": [
      "[CV 1/10; 6/10] END colsample_bytree=0.8, gamma=7, learning_rate=1.1, max_depth=151, min_child_weight=0, n_estimators=251, reg_alpha=261, reg_lambda=1;, score=0.204 total time=  16.5s\n",
      "[CV 2/10; 6/10] START colsample_bytree=0.8, gamma=7, learning_rate=1.1, max_depth=151, min_child_weight=0, n_estimators=251, reg_alpha=261, reg_lambda=1\n"
     ]
    },
    {
     "name": "stderr",
     "output_type": "stream",
     "text": [
      "c:\\Users\\Saurav\\anaconda3\\Lib\\site-packages\\xgboost\\data.py:440: FutureWarning: is_sparse is deprecated and will be removed in a future version. Check `isinstance(dtype, pd.SparseDtype)` instead.\n",
      "  if is_sparse(data):\n"
     ]
    },
    {
     "name": "stdout",
     "output_type": "stream",
     "text": [
      "[CV 2/10; 6/10] END colsample_bytree=0.8, gamma=7, learning_rate=1.1, max_depth=151, min_child_weight=0, n_estimators=251, reg_alpha=261, reg_lambda=1;, score=0.204 total time=  17.3s\n",
      "[CV 3/10; 6/10] START colsample_bytree=0.8, gamma=7, learning_rate=1.1, max_depth=151, min_child_weight=0, n_estimators=251, reg_alpha=261, reg_lambda=1\n"
     ]
    },
    {
     "name": "stderr",
     "output_type": "stream",
     "text": [
      "c:\\Users\\Saurav\\anaconda3\\Lib\\site-packages\\xgboost\\data.py:440: FutureWarning: is_sparse is deprecated and will be removed in a future version. Check `isinstance(dtype, pd.SparseDtype)` instead.\n",
      "  if is_sparse(data):\n"
     ]
    },
    {
     "name": "stdout",
     "output_type": "stream",
     "text": [
      "[CV 3/10; 6/10] END colsample_bytree=0.8, gamma=7, learning_rate=1.1, max_depth=151, min_child_weight=0, n_estimators=251, reg_alpha=261, reg_lambda=1;, score=0.200 total time=  17.2s\n",
      "[CV 4/10; 6/10] START colsample_bytree=0.8, gamma=7, learning_rate=1.1, max_depth=151, min_child_weight=0, n_estimators=251, reg_alpha=261, reg_lambda=1\n"
     ]
    },
    {
     "name": "stderr",
     "output_type": "stream",
     "text": [
      "c:\\Users\\Saurav\\anaconda3\\Lib\\site-packages\\xgboost\\data.py:440: FutureWarning: is_sparse is deprecated and will be removed in a future version. Check `isinstance(dtype, pd.SparseDtype)` instead.\n",
      "  if is_sparse(data):\n"
     ]
    },
    {
     "name": "stdout",
     "output_type": "stream",
     "text": [
      "[CV 4/10; 6/10] END colsample_bytree=0.8, gamma=7, learning_rate=1.1, max_depth=151, min_child_weight=0, n_estimators=251, reg_alpha=261, reg_lambda=1;, score=0.200 total time=  17.2s\n",
      "[CV 5/10; 6/10] START colsample_bytree=0.8, gamma=7, learning_rate=1.1, max_depth=151, min_child_weight=0, n_estimators=251, reg_alpha=261, reg_lambda=1\n"
     ]
    },
    {
     "name": "stderr",
     "output_type": "stream",
     "text": [
      "c:\\Users\\Saurav\\anaconda3\\Lib\\site-packages\\xgboost\\data.py:440: FutureWarning: is_sparse is deprecated and will be removed in a future version. Check `isinstance(dtype, pd.SparseDtype)` instead.\n",
      "  if is_sparse(data):\n"
     ]
    },
    {
     "name": "stdout",
     "output_type": "stream",
     "text": [
      "[CV 5/10; 6/10] END colsample_bytree=0.8, gamma=7, learning_rate=1.1, max_depth=151, min_child_weight=0, n_estimators=251, reg_alpha=261, reg_lambda=1;, score=0.200 total time=  17.2s\n",
      "[CV 6/10; 6/10] START colsample_bytree=0.8, gamma=7, learning_rate=1.1, max_depth=151, min_child_weight=0, n_estimators=251, reg_alpha=261, reg_lambda=1\n"
     ]
    },
    {
     "name": "stderr",
     "output_type": "stream",
     "text": [
      "c:\\Users\\Saurav\\anaconda3\\Lib\\site-packages\\xgboost\\data.py:440: FutureWarning: is_sparse is deprecated and will be removed in a future version. Check `isinstance(dtype, pd.SparseDtype)` instead.\n",
      "  if is_sparse(data):\n"
     ]
    },
    {
     "name": "stdout",
     "output_type": "stream",
     "text": [
      "[CV 6/10; 6/10] END colsample_bytree=0.8, gamma=7, learning_rate=1.1, max_depth=151, min_child_weight=0, n_estimators=251, reg_alpha=261, reg_lambda=1;, score=0.205 total time=  38.0s\n",
      "[CV 7/10; 6/10] START colsample_bytree=0.8, gamma=7, learning_rate=1.1, max_depth=151, min_child_weight=0, n_estimators=251, reg_alpha=261, reg_lambda=1\n"
     ]
    },
    {
     "name": "stderr",
     "output_type": "stream",
     "text": [
      "c:\\Users\\Saurav\\anaconda3\\Lib\\site-packages\\xgboost\\data.py:440: FutureWarning: is_sparse is deprecated and will be removed in a future version. Check `isinstance(dtype, pd.SparseDtype)` instead.\n",
      "  if is_sparse(data):\n"
     ]
    },
    {
     "name": "stdout",
     "output_type": "stream",
     "text": [
      "[CV 7/10; 6/10] END colsample_bytree=0.8, gamma=7, learning_rate=1.1, max_depth=151, min_child_weight=0, n_estimators=251, reg_alpha=261, reg_lambda=1;, score=0.205 total time=  16.5s\n",
      "[CV 8/10; 6/10] START colsample_bytree=0.8, gamma=7, learning_rate=1.1, max_depth=151, min_child_weight=0, n_estimators=251, reg_alpha=261, reg_lambda=1\n"
     ]
    },
    {
     "name": "stderr",
     "output_type": "stream",
     "text": [
      "c:\\Users\\Saurav\\anaconda3\\Lib\\site-packages\\xgboost\\data.py:440: FutureWarning: is_sparse is deprecated and will be removed in a future version. Check `isinstance(dtype, pd.SparseDtype)` instead.\n",
      "  if is_sparse(data):\n"
     ]
    },
    {
     "name": "stdout",
     "output_type": "stream",
     "text": [
      "[CV 8/10; 6/10] END colsample_bytree=0.8, gamma=7, learning_rate=1.1, max_depth=151, min_child_weight=0, n_estimators=251, reg_alpha=261, reg_lambda=1;, score=0.205 total time=  21.6s\n",
      "[CV 9/10; 6/10] START colsample_bytree=0.8, gamma=7, learning_rate=1.1, max_depth=151, min_child_weight=0, n_estimators=251, reg_alpha=261, reg_lambda=1\n"
     ]
    },
    {
     "name": "stderr",
     "output_type": "stream",
     "text": [
      "c:\\Users\\Saurav\\anaconda3\\Lib\\site-packages\\xgboost\\data.py:440: FutureWarning: is_sparse is deprecated and will be removed in a future version. Check `isinstance(dtype, pd.SparseDtype)` instead.\n",
      "  if is_sparse(data):\n"
     ]
    },
    {
     "name": "stdout",
     "output_type": "stream",
     "text": [
      "[CV 9/10; 6/10] END colsample_bytree=0.8, gamma=7, learning_rate=1.1, max_depth=151, min_child_weight=0, n_estimators=251, reg_alpha=261, reg_lambda=1;, score=0.205 total time=  22.9s\n",
      "[CV 10/10; 6/10] START colsample_bytree=0.8, gamma=7, learning_rate=1.1, max_depth=151, min_child_weight=0, n_estimators=251, reg_alpha=261, reg_lambda=1\n"
     ]
    },
    {
     "name": "stderr",
     "output_type": "stream",
     "text": [
      "c:\\Users\\Saurav\\anaconda3\\Lib\\site-packages\\xgboost\\data.py:440: FutureWarning: is_sparse is deprecated and will be removed in a future version. Check `isinstance(dtype, pd.SparseDtype)` instead.\n",
      "  if is_sparse(data):\n"
     ]
    },
    {
     "name": "stdout",
     "output_type": "stream",
     "text": [
      "[CV 10/10; 6/10] END colsample_bytree=0.8, gamma=7, learning_rate=1.1, max_depth=151, min_child_weight=0, n_estimators=251, reg_alpha=261, reg_lambda=1;, score=0.205 total time=  22.0s\n",
      "[CV 1/10; 7/10] START colsample_bytree=0.7000000000000001, gamma=1, learning_rate=0.6000000000000001, max_depth=101, min_child_weight=10, n_estimators=51, reg_alpha=281, reg_lambda=0\n"
     ]
    },
    {
     "name": "stderr",
     "output_type": "stream",
     "text": [
      "c:\\Users\\Saurav\\anaconda3\\Lib\\site-packages\\xgboost\\data.py:440: FutureWarning: is_sparse is deprecated and will be removed in a future version. Check `isinstance(dtype, pd.SparseDtype)` instead.\n",
      "  if is_sparse(data):\n"
     ]
    },
    {
     "name": "stdout",
     "output_type": "stream",
     "text": [
      "[CV 1/10; 7/10] END colsample_bytree=0.7000000000000001, gamma=1, learning_rate=0.6000000000000001, max_depth=101, min_child_weight=10, n_estimators=51, reg_alpha=281, reg_lambda=0;, score=0.204 total time=   3.9s\n",
      "[CV 2/10; 7/10] START colsample_bytree=0.7000000000000001, gamma=1, learning_rate=0.6000000000000001, max_depth=101, min_child_weight=10, n_estimators=51, reg_alpha=281, reg_lambda=0\n"
     ]
    },
    {
     "name": "stderr",
     "output_type": "stream",
     "text": [
      "c:\\Users\\Saurav\\anaconda3\\Lib\\site-packages\\xgboost\\data.py:440: FutureWarning: is_sparse is deprecated and will be removed in a future version. Check `isinstance(dtype, pd.SparseDtype)` instead.\n",
      "  if is_sparse(data):\n"
     ]
    },
    {
     "name": "stdout",
     "output_type": "stream",
     "text": [
      "[CV 2/10; 7/10] END colsample_bytree=0.7000000000000001, gamma=1, learning_rate=0.6000000000000001, max_depth=101, min_child_weight=10, n_estimators=51, reg_alpha=281, reg_lambda=0;, score=0.204 total time=   3.3s\n",
      "[CV 3/10; 7/10] START colsample_bytree=0.7000000000000001, gamma=1, learning_rate=0.6000000000000001, max_depth=101, min_child_weight=10, n_estimators=51, reg_alpha=281, reg_lambda=0\n"
     ]
    },
    {
     "name": "stderr",
     "output_type": "stream",
     "text": [
      "c:\\Users\\Saurav\\anaconda3\\Lib\\site-packages\\xgboost\\data.py:440: FutureWarning: is_sparse is deprecated and will be removed in a future version. Check `isinstance(dtype, pd.SparseDtype)` instead.\n",
      "  if is_sparse(data):\n"
     ]
    },
    {
     "name": "stdout",
     "output_type": "stream",
     "text": [
      "[CV 3/10; 7/10] END colsample_bytree=0.7000000000000001, gamma=1, learning_rate=0.6000000000000001, max_depth=101, min_child_weight=10, n_estimators=51, reg_alpha=281, reg_lambda=0;, score=0.200 total time=   2.5s\n",
      "[CV 4/10; 7/10] START colsample_bytree=0.7000000000000001, gamma=1, learning_rate=0.6000000000000001, max_depth=101, min_child_weight=10, n_estimators=51, reg_alpha=281, reg_lambda=0\n"
     ]
    },
    {
     "name": "stderr",
     "output_type": "stream",
     "text": [
      "c:\\Users\\Saurav\\anaconda3\\Lib\\site-packages\\xgboost\\data.py:440: FutureWarning: is_sparse is deprecated and will be removed in a future version. Check `isinstance(dtype, pd.SparseDtype)` instead.\n",
      "  if is_sparse(data):\n"
     ]
    },
    {
     "name": "stdout",
     "output_type": "stream",
     "text": [
      "[CV 4/10; 7/10] END colsample_bytree=0.7000000000000001, gamma=1, learning_rate=0.6000000000000001, max_depth=101, min_child_weight=10, n_estimators=51, reg_alpha=281, reg_lambda=0;, score=0.200 total time=   2.5s\n",
      "[CV 5/10; 7/10] START colsample_bytree=0.7000000000000001, gamma=1, learning_rate=0.6000000000000001, max_depth=101, min_child_weight=10, n_estimators=51, reg_alpha=281, reg_lambda=0\n"
     ]
    },
    {
     "name": "stderr",
     "output_type": "stream",
     "text": [
      "c:\\Users\\Saurav\\anaconda3\\Lib\\site-packages\\xgboost\\data.py:440: FutureWarning: is_sparse is deprecated and will be removed in a future version. Check `isinstance(dtype, pd.SparseDtype)` instead.\n",
      "  if is_sparse(data):\n"
     ]
    },
    {
     "name": "stdout",
     "output_type": "stream",
     "text": [
      "[CV 5/10; 7/10] END colsample_bytree=0.7000000000000001, gamma=1, learning_rate=0.6000000000000001, max_depth=101, min_child_weight=10, n_estimators=51, reg_alpha=281, reg_lambda=0;, score=0.200 total time=   2.5s\n",
      "[CV 6/10; 7/10] START colsample_bytree=0.7000000000000001, gamma=1, learning_rate=0.6000000000000001, max_depth=101, min_child_weight=10, n_estimators=51, reg_alpha=281, reg_lambda=0\n"
     ]
    },
    {
     "name": "stderr",
     "output_type": "stream",
     "text": [
      "c:\\Users\\Saurav\\anaconda3\\Lib\\site-packages\\xgboost\\data.py:440: FutureWarning: is_sparse is deprecated and will be removed in a future version. Check `isinstance(dtype, pd.SparseDtype)` instead.\n",
      "  if is_sparse(data):\n"
     ]
    },
    {
     "name": "stdout",
     "output_type": "stream",
     "text": [
      "[CV 6/10; 7/10] END colsample_bytree=0.7000000000000001, gamma=1, learning_rate=0.6000000000000001, max_depth=101, min_child_weight=10, n_estimators=51, reg_alpha=281, reg_lambda=0;, score=0.205 total time=   2.4s\n",
      "[CV 7/10; 7/10] START colsample_bytree=0.7000000000000001, gamma=1, learning_rate=0.6000000000000001, max_depth=101, min_child_weight=10, n_estimators=51, reg_alpha=281, reg_lambda=0\n"
     ]
    },
    {
     "name": "stderr",
     "output_type": "stream",
     "text": [
      "c:\\Users\\Saurav\\anaconda3\\Lib\\site-packages\\xgboost\\data.py:440: FutureWarning: is_sparse is deprecated and will be removed in a future version. Check `isinstance(dtype, pd.SparseDtype)` instead.\n",
      "  if is_sparse(data):\n"
     ]
    },
    {
     "name": "stdout",
     "output_type": "stream",
     "text": [
      "[CV 7/10; 7/10] END colsample_bytree=0.7000000000000001, gamma=1, learning_rate=0.6000000000000001, max_depth=101, min_child_weight=10, n_estimators=51, reg_alpha=281, reg_lambda=0;, score=0.205 total time=   2.4s\n",
      "[CV 8/10; 7/10] START colsample_bytree=0.7000000000000001, gamma=1, learning_rate=0.6000000000000001, max_depth=101, min_child_weight=10, n_estimators=51, reg_alpha=281, reg_lambda=0\n"
     ]
    },
    {
     "name": "stderr",
     "output_type": "stream",
     "text": [
      "c:\\Users\\Saurav\\anaconda3\\Lib\\site-packages\\xgboost\\data.py:440: FutureWarning: is_sparse is deprecated and will be removed in a future version. Check `isinstance(dtype, pd.SparseDtype)` instead.\n",
      "  if is_sparse(data):\n"
     ]
    },
    {
     "name": "stdout",
     "output_type": "stream",
     "text": [
      "[CV 8/10; 7/10] END colsample_bytree=0.7000000000000001, gamma=1, learning_rate=0.6000000000000001, max_depth=101, min_child_weight=10, n_estimators=51, reg_alpha=281, reg_lambda=0;, score=0.205 total time=   2.5s\n",
      "[CV 9/10; 7/10] START colsample_bytree=0.7000000000000001, gamma=1, learning_rate=0.6000000000000001, max_depth=101, min_child_weight=10, n_estimators=51, reg_alpha=281, reg_lambda=0\n"
     ]
    },
    {
     "name": "stderr",
     "output_type": "stream",
     "text": [
      "c:\\Users\\Saurav\\anaconda3\\Lib\\site-packages\\xgboost\\data.py:440: FutureWarning: is_sparse is deprecated and will be removed in a future version. Check `isinstance(dtype, pd.SparseDtype)` instead.\n",
      "  if is_sparse(data):\n"
     ]
    },
    {
     "name": "stdout",
     "output_type": "stream",
     "text": [
      "[CV 9/10; 7/10] END colsample_bytree=0.7000000000000001, gamma=1, learning_rate=0.6000000000000001, max_depth=101, min_child_weight=10, n_estimators=51, reg_alpha=281, reg_lambda=0;, score=0.205 total time=   2.5s\n",
      "[CV 10/10; 7/10] START colsample_bytree=0.7000000000000001, gamma=1, learning_rate=0.6000000000000001, max_depth=101, min_child_weight=10, n_estimators=51, reg_alpha=281, reg_lambda=0\n"
     ]
    },
    {
     "name": "stderr",
     "output_type": "stream",
     "text": [
      "c:\\Users\\Saurav\\anaconda3\\Lib\\site-packages\\xgboost\\data.py:440: FutureWarning: is_sparse is deprecated and will be removed in a future version. Check `isinstance(dtype, pd.SparseDtype)` instead.\n",
      "  if is_sparse(data):\n"
     ]
    },
    {
     "name": "stdout",
     "output_type": "stream",
     "text": [
      "[CV 10/10; 7/10] END colsample_bytree=0.7000000000000001, gamma=1, learning_rate=0.6000000000000001, max_depth=101, min_child_weight=10, n_estimators=51, reg_alpha=281, reg_lambda=0;, score=0.205 total time=   2.5s\n",
      "[CV 1/10; 8/10] START colsample_bytree=0.5, gamma=7, learning_rate=0.0, max_depth=201, min_child_weight=5, n_estimators=101, reg_alpha=61, reg_lambda=4\n"
     ]
    },
    {
     "name": "stderr",
     "output_type": "stream",
     "text": [
      "c:\\Users\\Saurav\\anaconda3\\Lib\\site-packages\\xgboost\\data.py:440: FutureWarning: is_sparse is deprecated and will be removed in a future version. Check `isinstance(dtype, pd.SparseDtype)` instead.\n",
      "  if is_sparse(data):\n"
     ]
    },
    {
     "name": "stdout",
     "output_type": "stream",
     "text": [
      "[CV 1/10; 8/10] END colsample_bytree=0.5, gamma=7, learning_rate=0.0, max_depth=201, min_child_weight=5, n_estimators=101, reg_alpha=61, reg_lambda=4;, score=0.204 total time=  11.2s\n",
      "[CV 2/10; 8/10] START colsample_bytree=0.5, gamma=7, learning_rate=0.0, max_depth=201, min_child_weight=5, n_estimators=101, reg_alpha=61, reg_lambda=4\n"
     ]
    },
    {
     "name": "stderr",
     "output_type": "stream",
     "text": [
      "c:\\Users\\Saurav\\anaconda3\\Lib\\site-packages\\xgboost\\data.py:440: FutureWarning: is_sparse is deprecated and will be removed in a future version. Check `isinstance(dtype, pd.SparseDtype)` instead.\n",
      "  if is_sparse(data):\n"
     ]
    },
    {
     "name": "stdout",
     "output_type": "stream",
     "text": [
      "[CV 2/10; 8/10] END colsample_bytree=0.5, gamma=7, learning_rate=0.0, max_depth=201, min_child_weight=5, n_estimators=101, reg_alpha=61, reg_lambda=4;, score=0.204 total time=  12.6s\n",
      "[CV 3/10; 8/10] START colsample_bytree=0.5, gamma=7, learning_rate=0.0, max_depth=201, min_child_weight=5, n_estimators=101, reg_alpha=61, reg_lambda=4\n"
     ]
    },
    {
     "name": "stderr",
     "output_type": "stream",
     "text": [
      "c:\\Users\\Saurav\\anaconda3\\Lib\\site-packages\\xgboost\\data.py:440: FutureWarning: is_sparse is deprecated and will be removed in a future version. Check `isinstance(dtype, pd.SparseDtype)` instead.\n",
      "  if is_sparse(data):\n"
     ]
    },
    {
     "name": "stdout",
     "output_type": "stream",
     "text": [
      "[CV 3/10; 8/10] END colsample_bytree=0.5, gamma=7, learning_rate=0.0, max_depth=201, min_child_weight=5, n_estimators=101, reg_alpha=61, reg_lambda=4;, score=0.200 total time=  15.6s\n",
      "[CV 4/10; 8/10] START colsample_bytree=0.5, gamma=7, learning_rate=0.0, max_depth=201, min_child_weight=5, n_estimators=101, reg_alpha=61, reg_lambda=4\n"
     ]
    },
    {
     "name": "stderr",
     "output_type": "stream",
     "text": [
      "c:\\Users\\Saurav\\anaconda3\\Lib\\site-packages\\xgboost\\data.py:440: FutureWarning: is_sparse is deprecated and will be removed in a future version. Check `isinstance(dtype, pd.SparseDtype)` instead.\n",
      "  if is_sparse(data):\n"
     ]
    },
    {
     "name": "stdout",
     "output_type": "stream",
     "text": [
      "[CV 4/10; 8/10] END colsample_bytree=0.5, gamma=7, learning_rate=0.0, max_depth=201, min_child_weight=5, n_estimators=101, reg_alpha=61, reg_lambda=4;, score=0.200 total time=  17.9s\n",
      "[CV 5/10; 8/10] START colsample_bytree=0.5, gamma=7, learning_rate=0.0, max_depth=201, min_child_weight=5, n_estimators=101, reg_alpha=61, reg_lambda=4\n"
     ]
    },
    {
     "name": "stderr",
     "output_type": "stream",
     "text": [
      "c:\\Users\\Saurav\\anaconda3\\Lib\\site-packages\\xgboost\\data.py:440: FutureWarning: is_sparse is deprecated and will be removed in a future version. Check `isinstance(dtype, pd.SparseDtype)` instead.\n",
      "  if is_sparse(data):\n"
     ]
    },
    {
     "name": "stdout",
     "output_type": "stream",
     "text": [
      "[CV 5/10; 8/10] END colsample_bytree=0.5, gamma=7, learning_rate=0.0, max_depth=201, min_child_weight=5, n_estimators=101, reg_alpha=61, reg_lambda=4;, score=0.200 total time=  16.0s\n",
      "[CV 6/10; 8/10] START colsample_bytree=0.5, gamma=7, learning_rate=0.0, max_depth=201, min_child_weight=5, n_estimators=101, reg_alpha=61, reg_lambda=4\n"
     ]
    },
    {
     "name": "stderr",
     "output_type": "stream",
     "text": [
      "c:\\Users\\Saurav\\anaconda3\\Lib\\site-packages\\xgboost\\data.py:440: FutureWarning: is_sparse is deprecated and will be removed in a future version. Check `isinstance(dtype, pd.SparseDtype)` instead.\n",
      "  if is_sparse(data):\n"
     ]
    },
    {
     "name": "stdout",
     "output_type": "stream",
     "text": [
      "[CV 6/10; 8/10] END colsample_bytree=0.5, gamma=7, learning_rate=0.0, max_depth=201, min_child_weight=5, n_estimators=101, reg_alpha=61, reg_lambda=4;, score=0.205 total time=  10.8s\n",
      "[CV 7/10; 8/10] START colsample_bytree=0.5, gamma=7, learning_rate=0.0, max_depth=201, min_child_weight=5, n_estimators=101, reg_alpha=61, reg_lambda=4\n"
     ]
    },
    {
     "name": "stderr",
     "output_type": "stream",
     "text": [
      "c:\\Users\\Saurav\\anaconda3\\Lib\\site-packages\\xgboost\\data.py:440: FutureWarning: is_sparse is deprecated and will be removed in a future version. Check `isinstance(dtype, pd.SparseDtype)` instead.\n",
      "  if is_sparse(data):\n"
     ]
    },
    {
     "name": "stdout",
     "output_type": "stream",
     "text": [
      "[CV 7/10; 8/10] END colsample_bytree=0.5, gamma=7, learning_rate=0.0, max_depth=201, min_child_weight=5, n_estimators=101, reg_alpha=61, reg_lambda=4;, score=0.205 total time=   9.8s\n",
      "[CV 8/10; 8/10] START colsample_bytree=0.5, gamma=7, learning_rate=0.0, max_depth=201, min_child_weight=5, n_estimators=101, reg_alpha=61, reg_lambda=4\n"
     ]
    },
    {
     "name": "stderr",
     "output_type": "stream",
     "text": [
      "c:\\Users\\Saurav\\anaconda3\\Lib\\site-packages\\xgboost\\data.py:440: FutureWarning: is_sparse is deprecated and will be removed in a future version. Check `isinstance(dtype, pd.SparseDtype)` instead.\n",
      "  if is_sparse(data):\n"
     ]
    },
    {
     "name": "stdout",
     "output_type": "stream",
     "text": [
      "[CV 8/10; 8/10] END colsample_bytree=0.5, gamma=7, learning_rate=0.0, max_depth=201, min_child_weight=5, n_estimators=101, reg_alpha=61, reg_lambda=4;, score=0.205 total time=  11.1s\n",
      "[CV 9/10; 8/10] START colsample_bytree=0.5, gamma=7, learning_rate=0.0, max_depth=201, min_child_weight=5, n_estimators=101, reg_alpha=61, reg_lambda=4\n"
     ]
    },
    {
     "name": "stderr",
     "output_type": "stream",
     "text": [
      "c:\\Users\\Saurav\\anaconda3\\Lib\\site-packages\\xgboost\\data.py:440: FutureWarning: is_sparse is deprecated and will be removed in a future version. Check `isinstance(dtype, pd.SparseDtype)` instead.\n",
      "  if is_sparse(data):\n"
     ]
    },
    {
     "name": "stdout",
     "output_type": "stream",
     "text": [
      "[CV 9/10; 8/10] END colsample_bytree=0.5, gamma=7, learning_rate=0.0, max_depth=201, min_child_weight=5, n_estimators=101, reg_alpha=61, reg_lambda=4;, score=0.205 total time=  12.3s\n",
      "[CV 10/10; 8/10] START colsample_bytree=0.5, gamma=7, learning_rate=0.0, max_depth=201, min_child_weight=5, n_estimators=101, reg_alpha=61, reg_lambda=4\n"
     ]
    },
    {
     "name": "stderr",
     "output_type": "stream",
     "text": [
      "c:\\Users\\Saurav\\anaconda3\\Lib\\site-packages\\xgboost\\data.py:440: FutureWarning: is_sparse is deprecated and will be removed in a future version. Check `isinstance(dtype, pd.SparseDtype)` instead.\n",
      "  if is_sparse(data):\n"
     ]
    },
    {
     "name": "stdout",
     "output_type": "stream",
     "text": [
      "[CV 10/10; 8/10] END colsample_bytree=0.5, gamma=7, learning_rate=0.0, max_depth=201, min_child_weight=5, n_estimators=101, reg_alpha=61, reg_lambda=4;, score=0.205 total time=  14.9s\n",
      "[CV 1/10; 9/10] START colsample_bytree=0.1, gamma=1, learning_rate=0.7000000000000001, max_depth=201, min_child_weight=30, n_estimators=101, reg_alpha=121, reg_lambda=4\n"
     ]
    },
    {
     "name": "stderr",
     "output_type": "stream",
     "text": [
      "c:\\Users\\Saurav\\anaconda3\\Lib\\site-packages\\xgboost\\data.py:440: FutureWarning: is_sparse is deprecated and will be removed in a future version. Check `isinstance(dtype, pd.SparseDtype)` instead.\n",
      "  if is_sparse(data):\n"
     ]
    },
    {
     "name": "stdout",
     "output_type": "stream",
     "text": [
      "[CV 1/10; 9/10] END colsample_bytree=0.1, gamma=1, learning_rate=0.7000000000000001, max_depth=201, min_child_weight=30, n_estimators=101, reg_alpha=121, reg_lambda=4;, score=0.622 total time=   3.5s\n",
      "[CV 2/10; 9/10] START colsample_bytree=0.1, gamma=1, learning_rate=0.7000000000000001, max_depth=201, min_child_weight=30, n_estimators=101, reg_alpha=121, reg_lambda=4\n"
     ]
    },
    {
     "name": "stderr",
     "output_type": "stream",
     "text": [
      "c:\\Users\\Saurav\\anaconda3\\Lib\\site-packages\\xgboost\\data.py:440: FutureWarning: is_sparse is deprecated and will be removed in a future version. Check `isinstance(dtype, pd.SparseDtype)` instead.\n",
      "  if is_sparse(data):\n"
     ]
    },
    {
     "name": "stdout",
     "output_type": "stream",
     "text": [
      "[CV 2/10; 9/10] END colsample_bytree=0.1, gamma=1, learning_rate=0.7000000000000001, max_depth=201, min_child_weight=30, n_estimators=101, reg_alpha=121, reg_lambda=4;, score=0.602 total time=   3.6s\n",
      "[CV 3/10; 9/10] START colsample_bytree=0.1, gamma=1, learning_rate=0.7000000000000001, max_depth=201, min_child_weight=30, n_estimators=101, reg_alpha=121, reg_lambda=4\n"
     ]
    },
    {
     "name": "stderr",
     "output_type": "stream",
     "text": [
      "c:\\Users\\Saurav\\anaconda3\\Lib\\site-packages\\xgboost\\data.py:440: FutureWarning: is_sparse is deprecated and will be removed in a future version. Check `isinstance(dtype, pd.SparseDtype)` instead.\n",
      "  if is_sparse(data):\n"
     ]
    },
    {
     "name": "stdout",
     "output_type": "stream",
     "text": [
      "[CV 3/10; 9/10] END colsample_bytree=0.1, gamma=1, learning_rate=0.7000000000000001, max_depth=201, min_child_weight=30, n_estimators=101, reg_alpha=121, reg_lambda=4;, score=0.626 total time=   3.3s\n",
      "[CV 4/10; 9/10] START colsample_bytree=0.1, gamma=1, learning_rate=0.7000000000000001, max_depth=201, min_child_weight=30, n_estimators=101, reg_alpha=121, reg_lambda=4\n"
     ]
    },
    {
     "name": "stderr",
     "output_type": "stream",
     "text": [
      "c:\\Users\\Saurav\\anaconda3\\Lib\\site-packages\\xgboost\\data.py:440: FutureWarning: is_sparse is deprecated and will be removed in a future version. Check `isinstance(dtype, pd.SparseDtype)` instead.\n",
      "  if is_sparse(data):\n"
     ]
    },
    {
     "name": "stdout",
     "output_type": "stream",
     "text": [
      "[CV 4/10; 9/10] END colsample_bytree=0.1, gamma=1, learning_rate=0.7000000000000001, max_depth=201, min_child_weight=30, n_estimators=101, reg_alpha=121, reg_lambda=4;, score=0.651 total time=   3.3s\n",
      "[CV 5/10; 9/10] START colsample_bytree=0.1, gamma=1, learning_rate=0.7000000000000001, max_depth=201, min_child_weight=30, n_estimators=101, reg_alpha=121, reg_lambda=4\n"
     ]
    },
    {
     "name": "stderr",
     "output_type": "stream",
     "text": [
      "c:\\Users\\Saurav\\anaconda3\\Lib\\site-packages\\xgboost\\data.py:440: FutureWarning: is_sparse is deprecated and will be removed in a future version. Check `isinstance(dtype, pd.SparseDtype)` instead.\n",
      "  if is_sparse(data):\n"
     ]
    },
    {
     "name": "stdout",
     "output_type": "stream",
     "text": [
      "[CV 5/10; 9/10] END colsample_bytree=0.1, gamma=1, learning_rate=0.7000000000000001, max_depth=201, min_child_weight=30, n_estimators=101, reg_alpha=121, reg_lambda=4;, score=0.631 total time=   3.2s\n",
      "[CV 6/10; 9/10] START colsample_bytree=0.1, gamma=1, learning_rate=0.7000000000000001, max_depth=201, min_child_weight=30, n_estimators=101, reg_alpha=121, reg_lambda=4\n"
     ]
    },
    {
     "name": "stderr",
     "output_type": "stream",
     "text": [
      "c:\\Users\\Saurav\\anaconda3\\Lib\\site-packages\\xgboost\\data.py:440: FutureWarning: is_sparse is deprecated and will be removed in a future version. Check `isinstance(dtype, pd.SparseDtype)` instead.\n",
      "  if is_sparse(data):\n"
     ]
    },
    {
     "name": "stdout",
     "output_type": "stream",
     "text": [
      "[CV 6/10; 9/10] END colsample_bytree=0.1, gamma=1, learning_rate=0.7000000000000001, max_depth=201, min_child_weight=30, n_estimators=101, reg_alpha=121, reg_lambda=4;, score=0.631 total time=   3.2s\n",
      "[CV 7/10; 9/10] START colsample_bytree=0.1, gamma=1, learning_rate=0.7000000000000001, max_depth=201, min_child_weight=30, n_estimators=101, reg_alpha=121, reg_lambda=4\n"
     ]
    },
    {
     "name": "stderr",
     "output_type": "stream",
     "text": [
      "c:\\Users\\Saurav\\anaconda3\\Lib\\site-packages\\xgboost\\data.py:440: FutureWarning: is_sparse is deprecated and will be removed in a future version. Check `isinstance(dtype, pd.SparseDtype)` instead.\n",
      "  if is_sparse(data):\n"
     ]
    },
    {
     "name": "stdout",
     "output_type": "stream",
     "text": [
      "[CV 7/10; 9/10] END colsample_bytree=0.1, gamma=1, learning_rate=0.7000000000000001, max_depth=201, min_child_weight=30, n_estimators=101, reg_alpha=121, reg_lambda=4;, score=0.667 total time=   3.4s\n",
      "[CV 8/10; 9/10] START colsample_bytree=0.1, gamma=1, learning_rate=0.7000000000000001, max_depth=201, min_child_weight=30, n_estimators=101, reg_alpha=121, reg_lambda=4\n"
     ]
    },
    {
     "name": "stderr",
     "output_type": "stream",
     "text": [
      "c:\\Users\\Saurav\\anaconda3\\Lib\\site-packages\\xgboost\\data.py:440: FutureWarning: is_sparse is deprecated and will be removed in a future version. Check `isinstance(dtype, pd.SparseDtype)` instead.\n",
      "  if is_sparse(data):\n"
     ]
    },
    {
     "name": "stdout",
     "output_type": "stream",
     "text": [
      "[CV 8/10; 9/10] END colsample_bytree=0.1, gamma=1, learning_rate=0.7000000000000001, max_depth=201, min_child_weight=30, n_estimators=101, reg_alpha=121, reg_lambda=4;, score=0.672 total time=   3.2s\n",
      "[CV 9/10; 9/10] START colsample_bytree=0.1, gamma=1, learning_rate=0.7000000000000001, max_depth=201, min_child_weight=30, n_estimators=101, reg_alpha=121, reg_lambda=4\n"
     ]
    },
    {
     "name": "stderr",
     "output_type": "stream",
     "text": [
      "c:\\Users\\Saurav\\anaconda3\\Lib\\site-packages\\xgboost\\data.py:440: FutureWarning: is_sparse is deprecated and will be removed in a future version. Check `isinstance(dtype, pd.SparseDtype)` instead.\n",
      "  if is_sparse(data):\n"
     ]
    },
    {
     "name": "stdout",
     "output_type": "stream",
     "text": [
      "[CV 9/10; 9/10] END colsample_bytree=0.1, gamma=1, learning_rate=0.7000000000000001, max_depth=201, min_child_weight=30, n_estimators=101, reg_alpha=121, reg_lambda=4;, score=0.656 total time=   3.2s\n",
      "[CV 10/10; 9/10] START colsample_bytree=0.1, gamma=1, learning_rate=0.7000000000000001, max_depth=201, min_child_weight=30, n_estimators=101, reg_alpha=121, reg_lambda=4\n"
     ]
    },
    {
     "name": "stderr",
     "output_type": "stream",
     "text": [
      "c:\\Users\\Saurav\\anaconda3\\Lib\\site-packages\\xgboost\\data.py:440: FutureWarning: is_sparse is deprecated and will be removed in a future version. Check `isinstance(dtype, pd.SparseDtype)` instead.\n",
      "  if is_sparse(data):\n"
     ]
    },
    {
     "name": "stdout",
     "output_type": "stream",
     "text": [
      "[CV 10/10; 9/10] END colsample_bytree=0.1, gamma=1, learning_rate=0.7000000000000001, max_depth=201, min_child_weight=30, n_estimators=101, reg_alpha=121, reg_lambda=4;, score=0.667 total time=   3.3s\n",
      "[CV 1/10; 10/10] START colsample_bytree=0.5, gamma=4, learning_rate=1.3, max_depth=351, min_child_weight=10, n_estimators=151, reg_alpha=81, reg_lambda=3\n"
     ]
    },
    {
     "name": "stderr",
     "output_type": "stream",
     "text": [
      "c:\\Users\\Saurav\\anaconda3\\Lib\\site-packages\\xgboost\\data.py:440: FutureWarning: is_sparse is deprecated and will be removed in a future version. Check `isinstance(dtype, pd.SparseDtype)` instead.\n",
      "  if is_sparse(data):\n"
     ]
    },
    {
     "name": "stdout",
     "output_type": "stream",
     "text": [
      "[CV 1/10; 10/10] END colsample_bytree=0.5, gamma=4, learning_rate=1.3, max_depth=351, min_child_weight=10, n_estimators=151, reg_alpha=81, reg_lambda=3;, score=0.638 total time=  12.6s\n",
      "[CV 2/10; 10/10] START colsample_bytree=0.5, gamma=4, learning_rate=1.3, max_depth=351, min_child_weight=10, n_estimators=151, reg_alpha=81, reg_lambda=3\n"
     ]
    },
    {
     "name": "stderr",
     "output_type": "stream",
     "text": [
      "c:\\Users\\Saurav\\anaconda3\\Lib\\site-packages\\xgboost\\data.py:440: FutureWarning: is_sparse is deprecated and will be removed in a future version. Check `isinstance(dtype, pd.SparseDtype)` instead.\n",
      "  if is_sparse(data):\n"
     ]
    },
    {
     "name": "stdout",
     "output_type": "stream",
     "text": [
      "[CV 2/10; 10/10] END colsample_bytree=0.5, gamma=4, learning_rate=1.3, max_depth=351, min_child_weight=10, n_estimators=151, reg_alpha=81, reg_lambda=3;, score=0.556 total time=   9.3s\n",
      "[CV 3/10; 10/10] START colsample_bytree=0.5, gamma=4, learning_rate=1.3, max_depth=351, min_child_weight=10, n_estimators=151, reg_alpha=81, reg_lambda=3\n"
     ]
    },
    {
     "name": "stderr",
     "output_type": "stream",
     "text": [
      "c:\\Users\\Saurav\\anaconda3\\Lib\\site-packages\\xgboost\\data.py:440: FutureWarning: is_sparse is deprecated and will be removed in a future version. Check `isinstance(dtype, pd.SparseDtype)` instead.\n",
      "  if is_sparse(data):\n"
     ]
    },
    {
     "name": "stdout",
     "output_type": "stream",
     "text": [
      "[CV 3/10; 10/10] END colsample_bytree=0.5, gamma=4, learning_rate=1.3, max_depth=351, min_child_weight=10, n_estimators=151, reg_alpha=81, reg_lambda=3;, score=0.631 total time=   9.7s\n",
      "[CV 4/10; 10/10] START colsample_bytree=0.5, gamma=4, learning_rate=1.3, max_depth=351, min_child_weight=10, n_estimators=151, reg_alpha=81, reg_lambda=3\n"
     ]
    },
    {
     "name": "stderr",
     "output_type": "stream",
     "text": [
      "c:\\Users\\Saurav\\anaconda3\\Lib\\site-packages\\xgboost\\data.py:440: FutureWarning: is_sparse is deprecated and will be removed in a future version. Check `isinstance(dtype, pd.SparseDtype)` instead.\n",
      "  if is_sparse(data):\n"
     ]
    },
    {
     "name": "stdout",
     "output_type": "stream",
     "text": [
      "[CV 4/10; 10/10] END colsample_bytree=0.5, gamma=4, learning_rate=1.3, max_depth=351, min_child_weight=10, n_estimators=151, reg_alpha=81, reg_lambda=3;, score=0.708 total time=  10.1s\n",
      "[CV 5/10; 10/10] START colsample_bytree=0.5, gamma=4, learning_rate=1.3, max_depth=351, min_child_weight=10, n_estimators=151, reg_alpha=81, reg_lambda=3\n"
     ]
    },
    {
     "name": "stderr",
     "output_type": "stream",
     "text": [
      "c:\\Users\\Saurav\\anaconda3\\Lib\\site-packages\\xgboost\\data.py:440: FutureWarning: is_sparse is deprecated and will be removed in a future version. Check `isinstance(dtype, pd.SparseDtype)` instead.\n",
      "  if is_sparse(data):\n"
     ]
    },
    {
     "name": "stdout",
     "output_type": "stream",
     "text": [
      "[CV 5/10; 10/10] END colsample_bytree=0.5, gamma=4, learning_rate=1.3, max_depth=351, min_child_weight=10, n_estimators=151, reg_alpha=81, reg_lambda=3;, score=0.631 total time=  11.9s\n",
      "[CV 6/10; 10/10] START colsample_bytree=0.5, gamma=4, learning_rate=1.3, max_depth=351, min_child_weight=10, n_estimators=151, reg_alpha=81, reg_lambda=3\n"
     ]
    },
    {
     "name": "stderr",
     "output_type": "stream",
     "text": [
      "c:\\Users\\Saurav\\anaconda3\\Lib\\site-packages\\xgboost\\data.py:440: FutureWarning: is_sparse is deprecated and will be removed in a future version. Check `isinstance(dtype, pd.SparseDtype)` instead.\n",
      "  if is_sparse(data):\n"
     ]
    },
    {
     "name": "stdout",
     "output_type": "stream",
     "text": [
      "[CV 6/10; 10/10] END colsample_bytree=0.5, gamma=4, learning_rate=1.3, max_depth=351, min_child_weight=10, n_estimators=151, reg_alpha=81, reg_lambda=3;, score=0.682 total time=  13.3s\n",
      "[CV 7/10; 10/10] START colsample_bytree=0.5, gamma=4, learning_rate=1.3, max_depth=351, min_child_weight=10, n_estimators=151, reg_alpha=81, reg_lambda=3\n"
     ]
    },
    {
     "name": "stderr",
     "output_type": "stream",
     "text": [
      "c:\\Users\\Saurav\\anaconda3\\Lib\\site-packages\\xgboost\\data.py:440: FutureWarning: is_sparse is deprecated and will be removed in a future version. Check `isinstance(dtype, pd.SparseDtype)` instead.\n",
      "  if is_sparse(data):\n"
     ]
    },
    {
     "name": "stdout",
     "output_type": "stream",
     "text": [
      "[CV 7/10; 10/10] END colsample_bytree=0.5, gamma=4, learning_rate=1.3, max_depth=351, min_child_weight=10, n_estimators=151, reg_alpha=81, reg_lambda=3;, score=0.662 total time=  14.9s\n",
      "[CV 8/10; 10/10] START colsample_bytree=0.5, gamma=4, learning_rate=1.3, max_depth=351, min_child_weight=10, n_estimators=151, reg_alpha=81, reg_lambda=3\n"
     ]
    },
    {
     "name": "stderr",
     "output_type": "stream",
     "text": [
      "c:\\Users\\Saurav\\anaconda3\\Lib\\site-packages\\xgboost\\data.py:440: FutureWarning: is_sparse is deprecated and will be removed in a future version. Check `isinstance(dtype, pd.SparseDtype)` instead.\n",
      "  if is_sparse(data):\n"
     ]
    },
    {
     "name": "stdout",
     "output_type": "stream",
     "text": [
      "[CV 8/10; 10/10] END colsample_bytree=0.5, gamma=4, learning_rate=1.3, max_depth=351, min_child_weight=10, n_estimators=151, reg_alpha=81, reg_lambda=3;, score=0.662 total time=  14.6s\n",
      "[CV 9/10; 10/10] START colsample_bytree=0.5, gamma=4, learning_rate=1.3, max_depth=351, min_child_weight=10, n_estimators=151, reg_alpha=81, reg_lambda=3\n"
     ]
    },
    {
     "name": "stderr",
     "output_type": "stream",
     "text": [
      "c:\\Users\\Saurav\\anaconda3\\Lib\\site-packages\\xgboost\\data.py:440: FutureWarning: is_sparse is deprecated and will be removed in a future version. Check `isinstance(dtype, pd.SparseDtype)` instead.\n",
      "  if is_sparse(data):\n"
     ]
    },
    {
     "name": "stdout",
     "output_type": "stream",
     "text": [
      "[CV 9/10; 10/10] END colsample_bytree=0.5, gamma=4, learning_rate=1.3, max_depth=351, min_child_weight=10, n_estimators=151, reg_alpha=81, reg_lambda=3;, score=0.605 total time=  10.8s\n",
      "[CV 10/10; 10/10] START colsample_bytree=0.5, gamma=4, learning_rate=1.3, max_depth=351, min_child_weight=10, n_estimators=151, reg_alpha=81, reg_lambda=3\n"
     ]
    },
    {
     "name": "stderr",
     "output_type": "stream",
     "text": [
      "c:\\Users\\Saurav\\anaconda3\\Lib\\site-packages\\xgboost\\data.py:440: FutureWarning: is_sparse is deprecated and will be removed in a future version. Check `isinstance(dtype, pd.SparseDtype)` instead.\n",
      "  if is_sparse(data):\n"
     ]
    },
    {
     "name": "stdout",
     "output_type": "stream",
     "text": [
      "[CV 10/10; 10/10] END colsample_bytree=0.5, gamma=4, learning_rate=1.3, max_depth=351, min_child_weight=10, n_estimators=151, reg_alpha=81, reg_lambda=3;, score=0.672 total time=   8.8s\n"
     ]
    },
    {
     "name": "stderr",
     "output_type": "stream",
     "text": [
      "c:\\Users\\Saurav\\anaconda3\\Lib\\site-packages\\xgboost\\data.py:440: FutureWarning: is_sparse is deprecated and will be removed in a future version. Check `isinstance(dtype, pd.SparseDtype)` instead.\n",
      "  if is_sparse(data):\n"
     ]
    },
    {
     "name": "stdout",
     "output_type": "stream",
     "text": [
      "Fitting 10 folds for each of 10 candidates, totalling 100 fits\n",
      "[CV 1/10; 1/10] START colsample_bytree=0.2, gamma=4, learning_rate=1.2000000000000002, max_depth=351, min_child_weight=15, n_estimators=101, reg_alpha=121, reg_lambda=4\n"
     ]
    },
    {
     "name": "stderr",
     "output_type": "stream",
     "text": [
      "c:\\Users\\Saurav\\anaconda3\\Lib\\site-packages\\xgboost\\data.py:440: FutureWarning: is_sparse is deprecated and will be removed in a future version. Check `isinstance(dtype, pd.SparseDtype)` instead.\n",
      "  if is_sparse(data):\n"
     ]
    },
    {
     "name": "stdout",
     "output_type": "stream",
     "text": [
      "[CV 1/10; 1/10] END colsample_bytree=0.2, gamma=4, learning_rate=1.2000000000000002, max_depth=351, min_child_weight=15, n_estimators=101, reg_alpha=121, reg_lambda=4;, score=0.638 total time=   2.8s\n",
      "[CV 2/10; 1/10] START colsample_bytree=0.2, gamma=4, learning_rate=1.2000000000000002, max_depth=351, min_child_weight=15, n_estimators=101, reg_alpha=121, reg_lambda=4\n"
     ]
    },
    {
     "name": "stderr",
     "output_type": "stream",
     "text": [
      "c:\\Users\\Saurav\\anaconda3\\Lib\\site-packages\\xgboost\\data.py:440: FutureWarning: is_sparse is deprecated and will be removed in a future version. Check `isinstance(dtype, pd.SparseDtype)` instead.\n",
      "  if is_sparse(data):\n"
     ]
    },
    {
     "name": "stdout",
     "output_type": "stream",
     "text": [
      "[CV 2/10; 1/10] END colsample_bytree=0.2, gamma=4, learning_rate=1.2000000000000002, max_depth=351, min_child_weight=15, n_estimators=101, reg_alpha=121, reg_lambda=4;, score=0.612 total time=   3.0s\n",
      "[CV 3/10; 1/10] START colsample_bytree=0.2, gamma=4, learning_rate=1.2000000000000002, max_depth=351, min_child_weight=15, n_estimators=101, reg_alpha=121, reg_lambda=4\n"
     ]
    },
    {
     "name": "stderr",
     "output_type": "stream",
     "text": [
      "c:\\Users\\Saurav\\anaconda3\\Lib\\site-packages\\xgboost\\data.py:440: FutureWarning: is_sparse is deprecated and will be removed in a future version. Check `isinstance(dtype, pd.SparseDtype)` instead.\n",
      "  if is_sparse(data):\n"
     ]
    },
    {
     "name": "stdout",
     "output_type": "stream",
     "text": [
      "[CV 3/10; 1/10] END colsample_bytree=0.2, gamma=4, learning_rate=1.2000000000000002, max_depth=351, min_child_weight=15, n_estimators=101, reg_alpha=121, reg_lambda=4;, score=0.631 total time=   3.2s\n",
      "[CV 4/10; 1/10] START colsample_bytree=0.2, gamma=4, learning_rate=1.2000000000000002, max_depth=351, min_child_weight=15, n_estimators=101, reg_alpha=121, reg_lambda=4\n"
     ]
    },
    {
     "name": "stderr",
     "output_type": "stream",
     "text": [
      "c:\\Users\\Saurav\\anaconda3\\Lib\\site-packages\\xgboost\\data.py:440: FutureWarning: is_sparse is deprecated and will be removed in a future version. Check `isinstance(dtype, pd.SparseDtype)` instead.\n",
      "  if is_sparse(data):\n"
     ]
    },
    {
     "name": "stdout",
     "output_type": "stream",
     "text": [
      "[CV 4/10; 1/10] END colsample_bytree=0.2, gamma=4, learning_rate=1.2000000000000002, max_depth=351, min_child_weight=15, n_estimators=101, reg_alpha=121, reg_lambda=4;, score=0.667 total time=   3.3s\n",
      "[CV 5/10; 1/10] START colsample_bytree=0.2, gamma=4, learning_rate=1.2000000000000002, max_depth=351, min_child_weight=15, n_estimators=101, reg_alpha=121, reg_lambda=4\n"
     ]
    },
    {
     "name": "stderr",
     "output_type": "stream",
     "text": [
      "c:\\Users\\Saurav\\anaconda3\\Lib\\site-packages\\xgboost\\data.py:440: FutureWarning: is_sparse is deprecated and will be removed in a future version. Check `isinstance(dtype, pd.SparseDtype)` instead.\n",
      "  if is_sparse(data):\n"
     ]
    },
    {
     "name": "stdout",
     "output_type": "stream",
     "text": [
      "[CV 5/10; 1/10] END colsample_bytree=0.2, gamma=4, learning_rate=1.2000000000000002, max_depth=351, min_child_weight=15, n_estimators=101, reg_alpha=121, reg_lambda=4;, score=0.631 total time=   3.4s\n",
      "[CV 6/10; 1/10] START colsample_bytree=0.2, gamma=4, learning_rate=1.2000000000000002, max_depth=351, min_child_weight=15, n_estimators=101, reg_alpha=121, reg_lambda=4\n"
     ]
    },
    {
     "name": "stderr",
     "output_type": "stream",
     "text": [
      "c:\\Users\\Saurav\\anaconda3\\Lib\\site-packages\\xgboost\\data.py:440: FutureWarning: is_sparse is deprecated and will be removed in a future version. Check `isinstance(dtype, pd.SparseDtype)` instead.\n",
      "  if is_sparse(data):\n"
     ]
    },
    {
     "name": "stdout",
     "output_type": "stream",
     "text": [
      "[CV 6/10; 1/10] END colsample_bytree=0.2, gamma=4, learning_rate=1.2000000000000002, max_depth=351, min_child_weight=15, n_estimators=101, reg_alpha=121, reg_lambda=4;, score=0.656 total time=   4.0s\n",
      "[CV 7/10; 1/10] START colsample_bytree=0.2, gamma=4, learning_rate=1.2000000000000002, max_depth=351, min_child_weight=15, n_estimators=101, reg_alpha=121, reg_lambda=4\n"
     ]
    },
    {
     "name": "stderr",
     "output_type": "stream",
     "text": [
      "c:\\Users\\Saurav\\anaconda3\\Lib\\site-packages\\xgboost\\data.py:440: FutureWarning: is_sparse is deprecated and will be removed in a future version. Check `isinstance(dtype, pd.SparseDtype)` instead.\n",
      "  if is_sparse(data):\n"
     ]
    },
    {
     "name": "stdout",
     "output_type": "stream",
     "text": [
      "[CV 7/10; 1/10] END colsample_bytree=0.2, gamma=4, learning_rate=1.2000000000000002, max_depth=351, min_child_weight=15, n_estimators=101, reg_alpha=121, reg_lambda=4;, score=0.667 total time=   4.1s\n",
      "[CV 8/10; 1/10] START colsample_bytree=0.2, gamma=4, learning_rate=1.2000000000000002, max_depth=351, min_child_weight=15, n_estimators=101, reg_alpha=121, reg_lambda=4\n"
     ]
    },
    {
     "name": "stderr",
     "output_type": "stream",
     "text": [
      "c:\\Users\\Saurav\\anaconda3\\Lib\\site-packages\\xgboost\\data.py:440: FutureWarning: is_sparse is deprecated and will be removed in a future version. Check `isinstance(dtype, pd.SparseDtype)` instead.\n",
      "  if is_sparse(data):\n"
     ]
    },
    {
     "name": "stdout",
     "output_type": "stream",
     "text": [
      "[CV 8/10; 1/10] END colsample_bytree=0.2, gamma=4, learning_rate=1.2000000000000002, max_depth=351, min_child_weight=15, n_estimators=101, reg_alpha=121, reg_lambda=4;, score=0.672 total time=   4.3s\n",
      "[CV 9/10; 1/10] START colsample_bytree=0.2, gamma=4, learning_rate=1.2000000000000002, max_depth=351, min_child_weight=15, n_estimators=101, reg_alpha=121, reg_lambda=4\n"
     ]
    },
    {
     "name": "stderr",
     "output_type": "stream",
     "text": [
      "c:\\Users\\Saurav\\anaconda3\\Lib\\site-packages\\xgboost\\data.py:440: FutureWarning: is_sparse is deprecated and will be removed in a future version. Check `isinstance(dtype, pd.SparseDtype)` instead.\n",
      "  if is_sparse(data):\n"
     ]
    },
    {
     "name": "stdout",
     "output_type": "stream",
     "text": [
      "[CV 9/10; 1/10] END colsample_bytree=0.2, gamma=4, learning_rate=1.2000000000000002, max_depth=351, min_child_weight=15, n_estimators=101, reg_alpha=121, reg_lambda=4;, score=0.667 total time=   4.1s\n",
      "[CV 10/10; 1/10] START colsample_bytree=0.2, gamma=4, learning_rate=1.2000000000000002, max_depth=351, min_child_weight=15, n_estimators=101, reg_alpha=121, reg_lambda=4\n"
     ]
    },
    {
     "name": "stderr",
     "output_type": "stream",
     "text": [
      "c:\\Users\\Saurav\\anaconda3\\Lib\\site-packages\\xgboost\\data.py:440: FutureWarning: is_sparse is deprecated and will be removed in a future version. Check `isinstance(dtype, pd.SparseDtype)` instead.\n",
      "  if is_sparse(data):\n"
     ]
    },
    {
     "name": "stdout",
     "output_type": "stream",
     "text": [
      "[CV 10/10; 1/10] END colsample_bytree=0.2, gamma=4, learning_rate=1.2000000000000002, max_depth=351, min_child_weight=15, n_estimators=101, reg_alpha=121, reg_lambda=4;, score=0.677 total time=   4.1s\n",
      "[CV 1/10; 2/10] START colsample_bytree=0.8, gamma=4, learning_rate=0.9, max_depth=201, min_child_weight=5, n_estimators=151, reg_alpha=1, reg_lambda=4\n"
     ]
    },
    {
     "name": "stderr",
     "output_type": "stream",
     "text": [
      "c:\\Users\\Saurav\\anaconda3\\Lib\\site-packages\\xgboost\\data.py:440: FutureWarning: is_sparse is deprecated and will be removed in a future version. Check `isinstance(dtype, pd.SparseDtype)` instead.\n",
      "  if is_sparse(data):\n"
     ]
    },
    {
     "name": "stdout",
     "output_type": "stream",
     "text": [
      "[CV 1/10; 2/10] END colsample_bytree=0.8, gamma=4, learning_rate=0.9, max_depth=201, min_child_weight=5, n_estimators=151, reg_alpha=1, reg_lambda=4;, score=0.796 total time=  32.5s\n",
      "[CV 2/10; 2/10] START colsample_bytree=0.8, gamma=4, learning_rate=0.9, max_depth=201, min_child_weight=5, n_estimators=151, reg_alpha=1, reg_lambda=4\n"
     ]
    },
    {
     "name": "stderr",
     "output_type": "stream",
     "text": [
      "c:\\Users\\Saurav\\anaconda3\\Lib\\site-packages\\xgboost\\data.py:440: FutureWarning: is_sparse is deprecated and will be removed in a future version. Check `isinstance(dtype, pd.SparseDtype)` instead.\n",
      "  if is_sparse(data):\n"
     ]
    },
    {
     "name": "stdout",
     "output_type": "stream",
     "text": [
      "[CV 2/10; 2/10] END colsample_bytree=0.8, gamma=4, learning_rate=0.9, max_depth=201, min_child_weight=5, n_estimators=151, reg_alpha=1, reg_lambda=4;, score=0.740 total time=  25.1s\n",
      "[CV 3/10; 2/10] START colsample_bytree=0.8, gamma=4, learning_rate=0.9, max_depth=201, min_child_weight=5, n_estimators=151, reg_alpha=1, reg_lambda=4\n"
     ]
    },
    {
     "name": "stderr",
     "output_type": "stream",
     "text": [
      "c:\\Users\\Saurav\\anaconda3\\Lib\\site-packages\\xgboost\\data.py:440: FutureWarning: is_sparse is deprecated and will be removed in a future version. Check `isinstance(dtype, pd.SparseDtype)` instead.\n",
      "  if is_sparse(data):\n"
     ]
    },
    {
     "name": "stdout",
     "output_type": "stream",
     "text": [
      "[CV 3/10; 2/10] END colsample_bytree=0.8, gamma=4, learning_rate=0.9, max_depth=201, min_child_weight=5, n_estimators=151, reg_alpha=1, reg_lambda=4;, score=0.805 total time=  34.1s\n",
      "[CV 4/10; 2/10] START colsample_bytree=0.8, gamma=4, learning_rate=0.9, max_depth=201, min_child_weight=5, n_estimators=151, reg_alpha=1, reg_lambda=4\n"
     ]
    },
    {
     "name": "stderr",
     "output_type": "stream",
     "text": [
      "c:\\Users\\Saurav\\anaconda3\\Lib\\site-packages\\xgboost\\data.py:440: FutureWarning: is_sparse is deprecated and will be removed in a future version. Check `isinstance(dtype, pd.SparseDtype)` instead.\n",
      "  if is_sparse(data):\n"
     ]
    },
    {
     "name": "stdout",
     "output_type": "stream",
     "text": [
      "[CV 4/10; 2/10] END colsample_bytree=0.8, gamma=4, learning_rate=0.9, max_depth=201, min_child_weight=5, n_estimators=151, reg_alpha=1, reg_lambda=4;, score=0.831 total time=  32.8s\n",
      "[CV 5/10; 2/10] START colsample_bytree=0.8, gamma=4, learning_rate=0.9, max_depth=201, min_child_weight=5, n_estimators=151, reg_alpha=1, reg_lambda=4\n"
     ]
    },
    {
     "name": "stderr",
     "output_type": "stream",
     "text": [
      "c:\\Users\\Saurav\\anaconda3\\Lib\\site-packages\\xgboost\\data.py:440: FutureWarning: is_sparse is deprecated and will be removed in a future version. Check `isinstance(dtype, pd.SparseDtype)` instead.\n",
      "  if is_sparse(data):\n"
     ]
    },
    {
     "name": "stdout",
     "output_type": "stream",
     "text": [
      "[CV 5/10; 2/10] END colsample_bytree=0.8, gamma=4, learning_rate=0.9, max_depth=201, min_child_weight=5, n_estimators=151, reg_alpha=1, reg_lambda=4;, score=0.805 total time=  23.8s\n",
      "[CV 6/10; 2/10] START colsample_bytree=0.8, gamma=4, learning_rate=0.9, max_depth=201, min_child_weight=5, n_estimators=151, reg_alpha=1, reg_lambda=4\n"
     ]
    },
    {
     "name": "stderr",
     "output_type": "stream",
     "text": [
      "c:\\Users\\Saurav\\anaconda3\\Lib\\site-packages\\xgboost\\data.py:440: FutureWarning: is_sparse is deprecated and will be removed in a future version. Check `isinstance(dtype, pd.SparseDtype)` instead.\n",
      "  if is_sparse(data):\n"
     ]
    },
    {
     "name": "stdout",
     "output_type": "stream",
     "text": [
      "[CV 6/10; 2/10] END colsample_bytree=0.8, gamma=4, learning_rate=0.9, max_depth=201, min_child_weight=5, n_estimators=151, reg_alpha=1, reg_lambda=4;, score=0.800 total time=  33.0s\n",
      "[CV 7/10; 2/10] START colsample_bytree=0.8, gamma=4, learning_rate=0.9, max_depth=201, min_child_weight=5, n_estimators=151, reg_alpha=1, reg_lambda=4\n"
     ]
    },
    {
     "name": "stderr",
     "output_type": "stream",
     "text": [
      "c:\\Users\\Saurav\\anaconda3\\Lib\\site-packages\\xgboost\\data.py:440: FutureWarning: is_sparse is deprecated and will be removed in a future version. Check `isinstance(dtype, pd.SparseDtype)` instead.\n",
      "  if is_sparse(data):\n"
     ]
    },
    {
     "name": "stdout",
     "output_type": "stream",
     "text": [
      "[CV 7/10; 2/10] END colsample_bytree=0.8, gamma=4, learning_rate=0.9, max_depth=201, min_child_weight=5, n_estimators=151, reg_alpha=1, reg_lambda=4;, score=0.769 total time=  34.5s\n",
      "[CV 8/10; 2/10] START colsample_bytree=0.8, gamma=4, learning_rate=0.9, max_depth=201, min_child_weight=5, n_estimators=151, reg_alpha=1, reg_lambda=4\n"
     ]
    },
    {
     "name": "stderr",
     "output_type": "stream",
     "text": [
      "c:\\Users\\Saurav\\anaconda3\\Lib\\site-packages\\xgboost\\data.py:440: FutureWarning: is_sparse is deprecated and will be removed in a future version. Check `isinstance(dtype, pd.SparseDtype)` instead.\n",
      "  if is_sparse(data):\n"
     ]
    },
    {
     "name": "stdout",
     "output_type": "stream",
     "text": [
      "[CV 8/10; 2/10] END colsample_bytree=0.8, gamma=4, learning_rate=0.9, max_depth=201, min_child_weight=5, n_estimators=151, reg_alpha=1, reg_lambda=4;, score=0.790 total time=  25.0s\n",
      "[CV 9/10; 2/10] START colsample_bytree=0.8, gamma=4, learning_rate=0.9, max_depth=201, min_child_weight=5, n_estimators=151, reg_alpha=1, reg_lambda=4\n"
     ]
    },
    {
     "name": "stderr",
     "output_type": "stream",
     "text": [
      "c:\\Users\\Saurav\\anaconda3\\Lib\\site-packages\\xgboost\\data.py:440: FutureWarning: is_sparse is deprecated and will be removed in a future version. Check `isinstance(dtype, pd.SparseDtype)` instead.\n",
      "  if is_sparse(data):\n"
     ]
    },
    {
     "name": "stdout",
     "output_type": "stream",
     "text": [
      "[CV 9/10; 2/10] END colsample_bytree=0.8, gamma=4, learning_rate=0.9, max_depth=201, min_child_weight=5, n_estimators=151, reg_alpha=1, reg_lambda=4;, score=0.764 total time=  34.1s\n",
      "[CV 10/10; 2/10] START colsample_bytree=0.8, gamma=4, learning_rate=0.9, max_depth=201, min_child_weight=5, n_estimators=151, reg_alpha=1, reg_lambda=4\n"
     ]
    },
    {
     "name": "stderr",
     "output_type": "stream",
     "text": [
      "c:\\Users\\Saurav\\anaconda3\\Lib\\site-packages\\xgboost\\data.py:440: FutureWarning: is_sparse is deprecated and will be removed in a future version. Check `isinstance(dtype, pd.SparseDtype)` instead.\n",
      "  if is_sparse(data):\n"
     ]
    },
    {
     "name": "stdout",
     "output_type": "stream",
     "text": [
      "[CV 10/10; 2/10] END colsample_bytree=0.8, gamma=4, learning_rate=0.9, max_depth=201, min_child_weight=5, n_estimators=151, reg_alpha=1, reg_lambda=4;, score=0.815 total time=  35.2s\n",
      "[CV 1/10; 3/10] START colsample_bytree=0.4, gamma=1, learning_rate=0.1, max_depth=1, min_child_weight=30, n_estimators=351, reg_alpha=61, reg_lambda=0\n"
     ]
    },
    {
     "name": "stderr",
     "output_type": "stream",
     "text": [
      "c:\\Users\\Saurav\\anaconda3\\Lib\\site-packages\\xgboost\\data.py:440: FutureWarning: is_sparse is deprecated and will be removed in a future version. Check `isinstance(dtype, pd.SparseDtype)` instead.\n",
      "  if is_sparse(data):\n"
     ]
    },
    {
     "name": "stdout",
     "output_type": "stream",
     "text": [
      "[CV 1/10; 3/10] END colsample_bytree=0.4, gamma=1, learning_rate=0.1, max_depth=1, min_child_weight=30, n_estimators=351, reg_alpha=61, reg_lambda=0;, score=0.648 total time=  11.2s\n",
      "[CV 2/10; 3/10] START colsample_bytree=0.4, gamma=1, learning_rate=0.1, max_depth=1, min_child_weight=30, n_estimators=351, reg_alpha=61, reg_lambda=0\n"
     ]
    },
    {
     "name": "stderr",
     "output_type": "stream",
     "text": [
      "c:\\Users\\Saurav\\anaconda3\\Lib\\site-packages\\xgboost\\data.py:440: FutureWarning: is_sparse is deprecated and will be removed in a future version. Check `isinstance(dtype, pd.SparseDtype)` instead.\n",
      "  if is_sparse(data):\n"
     ]
    },
    {
     "name": "stdout",
     "output_type": "stream",
     "text": [
      "[CV 2/10; 3/10] END colsample_bytree=0.4, gamma=1, learning_rate=0.1, max_depth=1, min_child_weight=30, n_estimators=351, reg_alpha=61, reg_lambda=0;, score=0.597 total time=  11.4s\n",
      "[CV 3/10; 3/10] START colsample_bytree=0.4, gamma=1, learning_rate=0.1, max_depth=1, min_child_weight=30, n_estimators=351, reg_alpha=61, reg_lambda=0\n"
     ]
    },
    {
     "name": "stderr",
     "output_type": "stream",
     "text": [
      "c:\\Users\\Saurav\\anaconda3\\Lib\\site-packages\\xgboost\\data.py:440: FutureWarning: is_sparse is deprecated and will be removed in a future version. Check `isinstance(dtype, pd.SparseDtype)` instead.\n",
      "  if is_sparse(data):\n"
     ]
    },
    {
     "name": "stdout",
     "output_type": "stream",
     "text": [
      "[CV 3/10; 3/10] END colsample_bytree=0.4, gamma=1, learning_rate=0.1, max_depth=1, min_child_weight=30, n_estimators=351, reg_alpha=61, reg_lambda=0;, score=0.662 total time=  13.6s\n",
      "[CV 4/10; 3/10] START colsample_bytree=0.4, gamma=1, learning_rate=0.1, max_depth=1, min_child_weight=30, n_estimators=351, reg_alpha=61, reg_lambda=0\n"
     ]
    },
    {
     "name": "stderr",
     "output_type": "stream",
     "text": [
      "c:\\Users\\Saurav\\anaconda3\\Lib\\site-packages\\xgboost\\data.py:440: FutureWarning: is_sparse is deprecated and will be removed in a future version. Check `isinstance(dtype, pd.SparseDtype)` instead.\n",
      "  if is_sparse(data):\n"
     ]
    },
    {
     "name": "stdout",
     "output_type": "stream",
     "text": [
      "[CV 4/10; 3/10] END colsample_bytree=0.4, gamma=1, learning_rate=0.1, max_depth=1, min_child_weight=30, n_estimators=351, reg_alpha=61, reg_lambda=0;, score=0.703 total time=  17.4s\n",
      "[CV 5/10; 3/10] START colsample_bytree=0.4, gamma=1, learning_rate=0.1, max_depth=1, min_child_weight=30, n_estimators=351, reg_alpha=61, reg_lambda=0\n"
     ]
    },
    {
     "name": "stderr",
     "output_type": "stream",
     "text": [
      "c:\\Users\\Saurav\\anaconda3\\Lib\\site-packages\\xgboost\\data.py:440: FutureWarning: is_sparse is deprecated and will be removed in a future version. Check `isinstance(dtype, pd.SparseDtype)` instead.\n",
      "  if is_sparse(data):\n"
     ]
    },
    {
     "name": "stdout",
     "output_type": "stream",
     "text": [
      "[CV 5/10; 3/10] END colsample_bytree=0.4, gamma=1, learning_rate=0.1, max_depth=1, min_child_weight=30, n_estimators=351, reg_alpha=61, reg_lambda=0;, score=0.667 total time=  18.0s\n",
      "[CV 6/10; 3/10] START colsample_bytree=0.4, gamma=1, learning_rate=0.1, max_depth=1, min_child_weight=30, n_estimators=351, reg_alpha=61, reg_lambda=0\n"
     ]
    },
    {
     "name": "stderr",
     "output_type": "stream",
     "text": [
      "c:\\Users\\Saurav\\anaconda3\\Lib\\site-packages\\xgboost\\data.py:440: FutureWarning: is_sparse is deprecated and will be removed in a future version. Check `isinstance(dtype, pd.SparseDtype)` instead.\n",
      "  if is_sparse(data):\n"
     ]
    },
    {
     "name": "stdout",
     "output_type": "stream",
     "text": [
      "[CV 6/10; 3/10] END colsample_bytree=0.4, gamma=1, learning_rate=0.1, max_depth=1, min_child_weight=30, n_estimators=351, reg_alpha=61, reg_lambda=0;, score=0.662 total time=  16.9s\n",
      "[CV 7/10; 3/10] START colsample_bytree=0.4, gamma=1, learning_rate=0.1, max_depth=1, min_child_weight=30, n_estimators=351, reg_alpha=61, reg_lambda=0\n"
     ]
    },
    {
     "name": "stderr",
     "output_type": "stream",
     "text": [
      "c:\\Users\\Saurav\\anaconda3\\Lib\\site-packages\\xgboost\\data.py:440: FutureWarning: is_sparse is deprecated and will be removed in a future version. Check `isinstance(dtype, pd.SparseDtype)` instead.\n",
      "  if is_sparse(data):\n"
     ]
    },
    {
     "name": "stdout",
     "output_type": "stream",
     "text": [
      "[CV 7/10; 3/10] END colsample_bytree=0.4, gamma=1, learning_rate=0.1, max_depth=1, min_child_weight=30, n_estimators=351, reg_alpha=61, reg_lambda=0;, score=0.677 total time=  11.2s\n",
      "[CV 8/10; 3/10] START colsample_bytree=0.4, gamma=1, learning_rate=0.1, max_depth=1, min_child_weight=30, n_estimators=351, reg_alpha=61, reg_lambda=0\n"
     ]
    },
    {
     "name": "stderr",
     "output_type": "stream",
     "text": [
      "c:\\Users\\Saurav\\anaconda3\\Lib\\site-packages\\xgboost\\data.py:440: FutureWarning: is_sparse is deprecated and will be removed in a future version. Check `isinstance(dtype, pd.SparseDtype)` instead.\n",
      "  if is_sparse(data):\n"
     ]
    },
    {
     "name": "stdout",
     "output_type": "stream",
     "text": [
      "[CV 8/10; 3/10] END colsample_bytree=0.4, gamma=1, learning_rate=0.1, max_depth=1, min_child_weight=30, n_estimators=351, reg_alpha=61, reg_lambda=0;, score=0.718 total time=  11.2s\n",
      "[CV 9/10; 3/10] START colsample_bytree=0.4, gamma=1, learning_rate=0.1, max_depth=1, min_child_weight=30, n_estimators=351, reg_alpha=61, reg_lambda=0\n"
     ]
    },
    {
     "name": "stderr",
     "output_type": "stream",
     "text": [
      "c:\\Users\\Saurav\\anaconda3\\Lib\\site-packages\\xgboost\\data.py:440: FutureWarning: is_sparse is deprecated and will be removed in a future version. Check `isinstance(dtype, pd.SparseDtype)` instead.\n",
      "  if is_sparse(data):\n"
     ]
    },
    {
     "name": "stdout",
     "output_type": "stream",
     "text": [
      "[CV 9/10; 3/10] END colsample_bytree=0.4, gamma=1, learning_rate=0.1, max_depth=1, min_child_weight=30, n_estimators=351, reg_alpha=61, reg_lambda=0;, score=0.662 total time=  12.5s\n",
      "[CV 10/10; 3/10] START colsample_bytree=0.4, gamma=1, learning_rate=0.1, max_depth=1, min_child_weight=30, n_estimators=351, reg_alpha=61, reg_lambda=0\n"
     ]
    },
    {
     "name": "stderr",
     "output_type": "stream",
     "text": [
      "c:\\Users\\Saurav\\anaconda3\\Lib\\site-packages\\xgboost\\data.py:440: FutureWarning: is_sparse is deprecated and will be removed in a future version. Check `isinstance(dtype, pd.SparseDtype)` instead.\n",
      "  if is_sparse(data):\n"
     ]
    },
    {
     "name": "stdout",
     "output_type": "stream",
     "text": [
      "[CV 10/10; 3/10] END colsample_bytree=0.4, gamma=1, learning_rate=0.1, max_depth=1, min_child_weight=30, n_estimators=351, reg_alpha=61, reg_lambda=0;, score=0.692 total time=  16.5s\n",
      "[CV 1/10; 4/10] START colsample_bytree=0.30000000000000004, gamma=1, learning_rate=0.9, max_depth=51, min_child_weight=20, n_estimators=351, reg_alpha=121, reg_lambda=1\n"
     ]
    },
    {
     "name": "stderr",
     "output_type": "stream",
     "text": [
      "c:\\Users\\Saurav\\anaconda3\\Lib\\site-packages\\xgboost\\data.py:440: FutureWarning: is_sparse is deprecated and will be removed in a future version. Check `isinstance(dtype, pd.SparseDtype)` instead.\n",
      "  if is_sparse(data):\n"
     ]
    },
    {
     "name": "stdout",
     "output_type": "stream",
     "text": [
      "[CV 1/10; 4/10] END colsample_bytree=0.30000000000000004, gamma=1, learning_rate=0.9, max_depth=51, min_child_weight=20, n_estimators=351, reg_alpha=121, reg_lambda=1;, score=0.638 total time=  16.9s\n",
      "[CV 2/10; 4/10] START colsample_bytree=0.30000000000000004, gamma=1, learning_rate=0.9, max_depth=51, min_child_weight=20, n_estimators=351, reg_alpha=121, reg_lambda=1\n"
     ]
    },
    {
     "name": "stderr",
     "output_type": "stream",
     "text": [
      "c:\\Users\\Saurav\\anaconda3\\Lib\\site-packages\\xgboost\\data.py:440: FutureWarning: is_sparse is deprecated and will be removed in a future version. Check `isinstance(dtype, pd.SparseDtype)` instead.\n",
      "  if is_sparse(data):\n"
     ]
    },
    {
     "name": "stdout",
     "output_type": "stream",
     "text": [
      "[CV 2/10; 4/10] END colsample_bytree=0.30000000000000004, gamma=1, learning_rate=0.9, max_depth=51, min_child_weight=20, n_estimators=351, reg_alpha=121, reg_lambda=1;, score=0.602 total time=  16.1s\n",
      "[CV 3/10; 4/10] START colsample_bytree=0.30000000000000004, gamma=1, learning_rate=0.9, max_depth=51, min_child_weight=20, n_estimators=351, reg_alpha=121, reg_lambda=1\n"
     ]
    },
    {
     "name": "stderr",
     "output_type": "stream",
     "text": [
      "c:\\Users\\Saurav\\anaconda3\\Lib\\site-packages\\xgboost\\data.py:440: FutureWarning: is_sparse is deprecated and will be removed in a future version. Check `isinstance(dtype, pd.SparseDtype)` instead.\n",
      "  if is_sparse(data):\n"
     ]
    },
    {
     "name": "stdout",
     "output_type": "stream",
     "text": [
      "[CV 3/10; 4/10] END colsample_bytree=0.30000000000000004, gamma=1, learning_rate=0.9, max_depth=51, min_child_weight=20, n_estimators=351, reg_alpha=121, reg_lambda=1;, score=0.631 total time=  13.0s\n",
      "[CV 4/10; 4/10] START colsample_bytree=0.30000000000000004, gamma=1, learning_rate=0.9, max_depth=51, min_child_weight=20, n_estimators=351, reg_alpha=121, reg_lambda=1\n"
     ]
    },
    {
     "name": "stderr",
     "output_type": "stream",
     "text": [
      "c:\\Users\\Saurav\\anaconda3\\Lib\\site-packages\\xgboost\\data.py:440: FutureWarning: is_sparse is deprecated and will be removed in a future version. Check `isinstance(dtype, pd.SparseDtype)` instead.\n",
      "  if is_sparse(data):\n"
     ]
    },
    {
     "name": "stdout",
     "output_type": "stream",
     "text": [
      "[CV 4/10; 4/10] END colsample_bytree=0.30000000000000004, gamma=1, learning_rate=0.9, max_depth=51, min_child_weight=20, n_estimators=351, reg_alpha=121, reg_lambda=1;, score=0.687 total time=  10.2s\n",
      "[CV 5/10; 4/10] START colsample_bytree=0.30000000000000004, gamma=1, learning_rate=0.9, max_depth=51, min_child_weight=20, n_estimators=351, reg_alpha=121, reg_lambda=1\n"
     ]
    },
    {
     "name": "stderr",
     "output_type": "stream",
     "text": [
      "c:\\Users\\Saurav\\anaconda3\\Lib\\site-packages\\xgboost\\data.py:440: FutureWarning: is_sparse is deprecated and will be removed in a future version. Check `isinstance(dtype, pd.SparseDtype)` instead.\n",
      "  if is_sparse(data):\n"
     ]
    },
    {
     "name": "stdout",
     "output_type": "stream",
     "text": [
      "[CV 5/10; 4/10] END colsample_bytree=0.30000000000000004, gamma=1, learning_rate=0.9, max_depth=51, min_child_weight=20, n_estimators=351, reg_alpha=121, reg_lambda=1;, score=0.646 total time=  10.3s\n",
      "[CV 6/10; 4/10] START colsample_bytree=0.30000000000000004, gamma=1, learning_rate=0.9, max_depth=51, min_child_weight=20, n_estimators=351, reg_alpha=121, reg_lambda=1\n"
     ]
    },
    {
     "name": "stderr",
     "output_type": "stream",
     "text": [
      "c:\\Users\\Saurav\\anaconda3\\Lib\\site-packages\\xgboost\\data.py:440: FutureWarning: is_sparse is deprecated and will be removed in a future version. Check `isinstance(dtype, pd.SparseDtype)` instead.\n",
      "  if is_sparse(data):\n"
     ]
    },
    {
     "name": "stdout",
     "output_type": "stream",
     "text": [
      "[CV 6/10; 4/10] END colsample_bytree=0.30000000000000004, gamma=1, learning_rate=0.9, max_depth=51, min_child_weight=20, n_estimators=351, reg_alpha=121, reg_lambda=1;, score=0.646 total time=  11.6s\n",
      "[CV 7/10; 4/10] START colsample_bytree=0.30000000000000004, gamma=1, learning_rate=0.9, max_depth=51, min_child_weight=20, n_estimators=351, reg_alpha=121, reg_lambda=1\n"
     ]
    },
    {
     "name": "stderr",
     "output_type": "stream",
     "text": [
      "c:\\Users\\Saurav\\anaconda3\\Lib\\site-packages\\xgboost\\data.py:440: FutureWarning: is_sparse is deprecated and will be removed in a future version. Check `isinstance(dtype, pd.SparseDtype)` instead.\n",
      "  if is_sparse(data):\n"
     ]
    },
    {
     "name": "stdout",
     "output_type": "stream",
     "text": [
      "[CV 7/10; 4/10] END colsample_bytree=0.30000000000000004, gamma=1, learning_rate=0.9, max_depth=51, min_child_weight=20, n_estimators=351, reg_alpha=121, reg_lambda=1;, score=0.662 total time=  15.5s\n",
      "[CV 8/10; 4/10] START colsample_bytree=0.30000000000000004, gamma=1, learning_rate=0.9, max_depth=51, min_child_weight=20, n_estimators=351, reg_alpha=121, reg_lambda=1\n"
     ]
    },
    {
     "name": "stderr",
     "output_type": "stream",
     "text": [
      "c:\\Users\\Saurav\\anaconda3\\Lib\\site-packages\\xgboost\\data.py:440: FutureWarning: is_sparse is deprecated and will be removed in a future version. Check `isinstance(dtype, pd.SparseDtype)` instead.\n",
      "  if is_sparse(data):\n"
     ]
    },
    {
     "name": "stdout",
     "output_type": "stream",
     "text": [
      "[CV 8/10; 4/10] END colsample_bytree=0.30000000000000004, gamma=1, learning_rate=0.9, max_depth=51, min_child_weight=20, n_estimators=351, reg_alpha=121, reg_lambda=1;, score=0.667 total time=  16.7s\n",
      "[CV 9/10; 4/10] START colsample_bytree=0.30000000000000004, gamma=1, learning_rate=0.9, max_depth=51, min_child_weight=20, n_estimators=351, reg_alpha=121, reg_lambda=1\n"
     ]
    },
    {
     "name": "stderr",
     "output_type": "stream",
     "text": [
      "c:\\Users\\Saurav\\anaconda3\\Lib\\site-packages\\xgboost\\data.py:440: FutureWarning: is_sparse is deprecated and will be removed in a future version. Check `isinstance(dtype, pd.SparseDtype)` instead.\n",
      "  if is_sparse(data):\n"
     ]
    },
    {
     "name": "stdout",
     "output_type": "stream",
     "text": [
      "[CV 9/10; 4/10] END colsample_bytree=0.30000000000000004, gamma=1, learning_rate=0.9, max_depth=51, min_child_weight=20, n_estimators=351, reg_alpha=121, reg_lambda=1;, score=0.662 total time=  16.1s\n",
      "[CV 10/10; 4/10] START colsample_bytree=0.30000000000000004, gamma=1, learning_rate=0.9, max_depth=51, min_child_weight=20, n_estimators=351, reg_alpha=121, reg_lambda=1\n"
     ]
    },
    {
     "name": "stderr",
     "output_type": "stream",
     "text": [
      "c:\\Users\\Saurav\\anaconda3\\Lib\\site-packages\\xgboost\\data.py:440: FutureWarning: is_sparse is deprecated and will be removed in a future version. Check `isinstance(dtype, pd.SparseDtype)` instead.\n",
      "  if is_sparse(data):\n"
     ]
    },
    {
     "name": "stdout",
     "output_type": "stream",
     "text": [
      "[CV 10/10; 4/10] END colsample_bytree=0.30000000000000004, gamma=1, learning_rate=0.9, max_depth=51, min_child_weight=20, n_estimators=351, reg_alpha=121, reg_lambda=1;, score=0.677 total time=  12.0s\n",
      "[CV 1/10; 5/10] START colsample_bytree=0.8, gamma=7, learning_rate=1.8, max_depth=201, min_child_weight=0, n_estimators=301, reg_alpha=141, reg_lambda=2\n"
     ]
    },
    {
     "name": "stderr",
     "output_type": "stream",
     "text": [
      "c:\\Users\\Saurav\\anaconda3\\Lib\\site-packages\\xgboost\\data.py:440: FutureWarning: is_sparse is deprecated and will be removed in a future version. Check `isinstance(dtype, pd.SparseDtype)` instead.\n",
      "  if is_sparse(data):\n"
     ]
    },
    {
     "name": "stdout",
     "output_type": "stream",
     "text": [
      "[CV 1/10; 5/10] END colsample_bytree=0.8, gamma=7, learning_rate=1.8, max_depth=201, min_child_weight=0, n_estimators=301, reg_alpha=141, reg_lambda=2;, score=0.449 total time= 3.2min\n",
      "[CV 2/10; 5/10] START colsample_bytree=0.8, gamma=7, learning_rate=1.8, max_depth=201, min_child_weight=0, n_estimators=301, reg_alpha=141, reg_lambda=2\n"
     ]
    },
    {
     "name": "stderr",
     "output_type": "stream",
     "text": [
      "c:\\Users\\Saurav\\anaconda3\\Lib\\site-packages\\xgboost\\data.py:440: FutureWarning: is_sparse is deprecated and will be removed in a future version. Check `isinstance(dtype, pd.SparseDtype)` instead.\n",
      "  if is_sparse(data):\n"
     ]
    },
    {
     "name": "stdout",
     "output_type": "stream",
     "text": [
      "[CV 2/10; 5/10] END colsample_bytree=0.8, gamma=7, learning_rate=1.8, max_depth=201, min_child_weight=0, n_estimators=301, reg_alpha=141, reg_lambda=2;, score=0.413 total time= 3.3min\n",
      "[CV 3/10; 5/10] START colsample_bytree=0.8, gamma=7, learning_rate=1.8, max_depth=201, min_child_weight=0, n_estimators=301, reg_alpha=141, reg_lambda=2\n"
     ]
    },
    {
     "name": "stderr",
     "output_type": "stream",
     "text": [
      "c:\\Users\\Saurav\\anaconda3\\Lib\\site-packages\\xgboost\\data.py:440: FutureWarning: is_sparse is deprecated and will be removed in a future version. Check `isinstance(dtype, pd.SparseDtype)` instead.\n",
      "  if is_sparse(data):\n"
     ]
    },
    {
     "name": "stdout",
     "output_type": "stream",
     "text": [
      "[CV 3/10; 5/10] END colsample_bytree=0.8, gamma=7, learning_rate=1.8, max_depth=201, min_child_weight=0, n_estimators=301, reg_alpha=141, reg_lambda=2;, score=0.451 total time=12.6min\n",
      "[CV 4/10; 5/10] START colsample_bytree=0.8, gamma=7, learning_rate=1.8, max_depth=201, min_child_weight=0, n_estimators=301, reg_alpha=141, reg_lambda=2\n"
     ]
    },
    {
     "name": "stderr",
     "output_type": "stream",
     "text": [
      "c:\\Users\\Saurav\\anaconda3\\Lib\\site-packages\\xgboost\\data.py:440: FutureWarning: is_sparse is deprecated and will be removed in a future version. Check `isinstance(dtype, pd.SparseDtype)` instead.\n",
      "  if is_sparse(data):\n"
     ]
    },
    {
     "name": "stdout",
     "output_type": "stream",
     "text": [
      "[CV 4/10; 5/10] END colsample_bytree=0.8, gamma=7, learning_rate=1.8, max_depth=201, min_child_weight=0, n_estimators=301, reg_alpha=141, reg_lambda=2;, score=0.462 total time= 4.0min\n",
      "[CV 5/10; 5/10] START colsample_bytree=0.8, gamma=7, learning_rate=1.8, max_depth=201, min_child_weight=0, n_estimators=301, reg_alpha=141, reg_lambda=2\n"
     ]
    },
    {
     "name": "stderr",
     "output_type": "stream",
     "text": [
      "c:\\Users\\Saurav\\anaconda3\\Lib\\site-packages\\xgboost\\data.py:440: FutureWarning: is_sparse is deprecated and will be removed in a future version. Check `isinstance(dtype, pd.SparseDtype)` instead.\n",
      "  if is_sparse(data):\n"
     ]
    },
    {
     "name": "stdout",
     "output_type": "stream",
     "text": [
      "[CV 5/10; 5/10] END colsample_bytree=0.8, gamma=7, learning_rate=1.8, max_depth=201, min_child_weight=0, n_estimators=301, reg_alpha=141, reg_lambda=2;, score=0.431 total time= 3.7min\n",
      "[CV 6/10; 5/10] START colsample_bytree=0.8, gamma=7, learning_rate=1.8, max_depth=201, min_child_weight=0, n_estimators=301, reg_alpha=141, reg_lambda=2\n"
     ]
    },
    {
     "name": "stderr",
     "output_type": "stream",
     "text": [
      "c:\\Users\\Saurav\\anaconda3\\Lib\\site-packages\\xgboost\\data.py:440: FutureWarning: is_sparse is deprecated and will be removed in a future version. Check `isinstance(dtype, pd.SparseDtype)` instead.\n",
      "  if is_sparse(data):\n"
     ]
    },
    {
     "name": "stdout",
     "output_type": "stream",
     "text": [
      "[CV 6/10; 5/10] END colsample_bytree=0.8, gamma=7, learning_rate=1.8, max_depth=201, min_child_weight=0, n_estimators=301, reg_alpha=141, reg_lambda=2;, score=0.436 total time= 3.4min\n",
      "[CV 7/10; 5/10] START colsample_bytree=0.8, gamma=7, learning_rate=1.8, max_depth=201, min_child_weight=0, n_estimators=301, reg_alpha=141, reg_lambda=2\n"
     ]
    },
    {
     "name": "stderr",
     "output_type": "stream",
     "text": [
      "c:\\Users\\Saurav\\anaconda3\\Lib\\site-packages\\xgboost\\data.py:440: FutureWarning: is_sparse is deprecated and will be removed in a future version. Check `isinstance(dtype, pd.SparseDtype)` instead.\n",
      "  if is_sparse(data):\n"
     ]
    },
    {
     "name": "stdout",
     "output_type": "stream",
     "text": [
      "[CV 7/10; 5/10] END colsample_bytree=0.8, gamma=7, learning_rate=1.8, max_depth=201, min_child_weight=0, n_estimators=301, reg_alpha=141, reg_lambda=2;, score=0.462 total time= 3.5min\n",
      "[CV 8/10; 5/10] START colsample_bytree=0.8, gamma=7, learning_rate=1.8, max_depth=201, min_child_weight=0, n_estimators=301, reg_alpha=141, reg_lambda=2\n"
     ]
    },
    {
     "name": "stderr",
     "output_type": "stream",
     "text": [
      "c:\\Users\\Saurav\\anaconda3\\Lib\\site-packages\\xgboost\\data.py:440: FutureWarning: is_sparse is deprecated and will be removed in a future version. Check `isinstance(dtype, pd.SparseDtype)` instead.\n",
      "  if is_sparse(data):\n"
     ]
    },
    {
     "name": "stdout",
     "output_type": "stream",
     "text": [
      "[CV 8/10; 5/10] END colsample_bytree=0.8, gamma=7, learning_rate=1.8, max_depth=201, min_child_weight=0, n_estimators=301, reg_alpha=141, reg_lambda=2;, score=0.462 total time= 3.3min\n",
      "[CV 9/10; 5/10] START colsample_bytree=0.8, gamma=7, learning_rate=1.8, max_depth=201, min_child_weight=0, n_estimators=301, reg_alpha=141, reg_lambda=2\n"
     ]
    },
    {
     "name": "stderr",
     "output_type": "stream",
     "text": [
      "c:\\Users\\Saurav\\anaconda3\\Lib\\site-packages\\xgboost\\data.py:440: FutureWarning: is_sparse is deprecated and will be removed in a future version. Check `isinstance(dtype, pd.SparseDtype)` instead.\n",
      "  if is_sparse(data):\n"
     ]
    },
    {
     "name": "stdout",
     "output_type": "stream",
     "text": [
      "[CV 9/10; 5/10] END colsample_bytree=0.8, gamma=7, learning_rate=1.8, max_depth=201, min_child_weight=0, n_estimators=301, reg_alpha=141, reg_lambda=2;, score=0.431 total time= 3.4min\n",
      "[CV 10/10; 5/10] START colsample_bytree=0.8, gamma=7, learning_rate=1.8, max_depth=201, min_child_weight=0, n_estimators=301, reg_alpha=141, reg_lambda=2\n"
     ]
    },
    {
     "name": "stderr",
     "output_type": "stream",
     "text": [
      "c:\\Users\\Saurav\\anaconda3\\Lib\\site-packages\\xgboost\\data.py:440: FutureWarning: is_sparse is deprecated and will be removed in a future version. Check `isinstance(dtype, pd.SparseDtype)` instead.\n",
      "  if is_sparse(data):\n"
     ]
    },
    {
     "name": "stdout",
     "output_type": "stream",
     "text": [
      "[CV 10/10; 5/10] END colsample_bytree=0.8, gamma=7, learning_rate=1.8, max_depth=201, min_child_weight=0, n_estimators=301, reg_alpha=141, reg_lambda=2;, score=0.436 total time= 3.3min\n",
      "[CV 1/10; 6/10] START colsample_bytree=0.9, gamma=1, learning_rate=0.5, max_depth=251, min_child_weight=15, n_estimators=301, reg_alpha=41, reg_lambda=2\n"
     ]
    },
    {
     "name": "stderr",
     "output_type": "stream",
     "text": [
      "c:\\Users\\Saurav\\anaconda3\\Lib\\site-packages\\xgboost\\data.py:440: FutureWarning: is_sparse is deprecated and will be removed in a future version. Check `isinstance(dtype, pd.SparseDtype)` instead.\n",
      "  if is_sparse(data):\n"
     ]
    },
    {
     "name": "stdout",
     "output_type": "stream",
     "text": [
      "[CV 1/10; 6/10] END colsample_bytree=0.9, gamma=1, learning_rate=0.5, max_depth=251, min_child_weight=15, n_estimators=301, reg_alpha=41, reg_lambda=2;, score=0.714 total time=  36.4s\n",
      "[CV 2/10; 6/10] START colsample_bytree=0.9, gamma=1, learning_rate=0.5, max_depth=251, min_child_weight=15, n_estimators=301, reg_alpha=41, reg_lambda=2\n"
     ]
    },
    {
     "name": "stderr",
     "output_type": "stream",
     "text": [
      "c:\\Users\\Saurav\\anaconda3\\Lib\\site-packages\\xgboost\\data.py:440: FutureWarning: is_sparse is deprecated and will be removed in a future version. Check `isinstance(dtype, pd.SparseDtype)` instead.\n",
      "  if is_sparse(data):\n"
     ]
    },
    {
     "name": "stdout",
     "output_type": "stream",
     "text": [
      "[CV 2/10; 6/10] END colsample_bytree=0.9, gamma=1, learning_rate=0.5, max_depth=251, min_child_weight=15, n_estimators=301, reg_alpha=41, reg_lambda=2;, score=0.684 total time=  33.1s\n",
      "[CV 3/10; 6/10] START colsample_bytree=0.9, gamma=1, learning_rate=0.5, max_depth=251, min_child_weight=15, n_estimators=301, reg_alpha=41, reg_lambda=2\n"
     ]
    },
    {
     "name": "stderr",
     "output_type": "stream",
     "text": [
      "c:\\Users\\Saurav\\anaconda3\\Lib\\site-packages\\xgboost\\data.py:440: FutureWarning: is_sparse is deprecated and will be removed in a future version. Check `isinstance(dtype, pd.SparseDtype)` instead.\n",
      "  if is_sparse(data):\n"
     ]
    },
    {
     "name": "stdout",
     "output_type": "stream",
     "text": [
      "[CV 3/10; 6/10] END colsample_bytree=0.9, gamma=1, learning_rate=0.5, max_depth=251, min_child_weight=15, n_estimators=301, reg_alpha=41, reg_lambda=2;, score=0.708 total time=  30.6s\n",
      "[CV 4/10; 6/10] START colsample_bytree=0.9, gamma=1, learning_rate=0.5, max_depth=251, min_child_weight=15, n_estimators=301, reg_alpha=41, reg_lambda=2\n"
     ]
    },
    {
     "name": "stderr",
     "output_type": "stream",
     "text": [
      "c:\\Users\\Saurav\\anaconda3\\Lib\\site-packages\\xgboost\\data.py:440: FutureWarning: is_sparse is deprecated and will be removed in a future version. Check `isinstance(dtype, pd.SparseDtype)` instead.\n",
      "  if is_sparse(data):\n"
     ]
    },
    {
     "name": "stdout",
     "output_type": "stream",
     "text": [
      "[CV 4/10; 6/10] END colsample_bytree=0.9, gamma=1, learning_rate=0.5, max_depth=251, min_child_weight=15, n_estimators=301, reg_alpha=41, reg_lambda=2;, score=0.769 total time=  45.0s\n",
      "[CV 5/10; 6/10] START colsample_bytree=0.9, gamma=1, learning_rate=0.5, max_depth=251, min_child_weight=15, n_estimators=301, reg_alpha=41, reg_lambda=2\n"
     ]
    },
    {
     "name": "stderr",
     "output_type": "stream",
     "text": [
      "c:\\Users\\Saurav\\anaconda3\\Lib\\site-packages\\xgboost\\data.py:440: FutureWarning: is_sparse is deprecated and will be removed in a future version. Check `isinstance(dtype, pd.SparseDtype)` instead.\n",
      "  if is_sparse(data):\n"
     ]
    },
    {
     "name": "stdout",
     "output_type": "stream",
     "text": [
      "[CV 5/10; 6/10] END colsample_bytree=0.9, gamma=1, learning_rate=0.5, max_depth=251, min_child_weight=15, n_estimators=301, reg_alpha=41, reg_lambda=2;, score=0.718 total time=  30.1s\n",
      "[CV 6/10; 6/10] START colsample_bytree=0.9, gamma=1, learning_rate=0.5, max_depth=251, min_child_weight=15, n_estimators=301, reg_alpha=41, reg_lambda=2\n"
     ]
    },
    {
     "name": "stderr",
     "output_type": "stream",
     "text": [
      "c:\\Users\\Saurav\\anaconda3\\Lib\\site-packages\\xgboost\\data.py:440: FutureWarning: is_sparse is deprecated and will be removed in a future version. Check `isinstance(dtype, pd.SparseDtype)` instead.\n",
      "  if is_sparse(data):\n"
     ]
    },
    {
     "name": "stdout",
     "output_type": "stream",
     "text": [
      "[CV 6/10; 6/10] END colsample_bytree=0.9, gamma=1, learning_rate=0.5, max_depth=251, min_child_weight=15, n_estimators=301, reg_alpha=41, reg_lambda=2;, score=0.744 total time=  46.2s\n",
      "[CV 7/10; 6/10] START colsample_bytree=0.9, gamma=1, learning_rate=0.5, max_depth=251, min_child_weight=15, n_estimators=301, reg_alpha=41, reg_lambda=2\n"
     ]
    },
    {
     "name": "stderr",
     "output_type": "stream",
     "text": [
      "c:\\Users\\Saurav\\anaconda3\\Lib\\site-packages\\xgboost\\data.py:440: FutureWarning: is_sparse is deprecated and will be removed in a future version. Check `isinstance(dtype, pd.SparseDtype)` instead.\n",
      "  if is_sparse(data):\n"
     ]
    },
    {
     "name": "stdout",
     "output_type": "stream",
     "text": [
      "[CV 7/10; 6/10] END colsample_bytree=0.9, gamma=1, learning_rate=0.5, max_depth=251, min_child_weight=15, n_estimators=301, reg_alpha=41, reg_lambda=2;, score=0.733 total time=  24.4s\n",
      "[CV 8/10; 6/10] START colsample_bytree=0.9, gamma=1, learning_rate=0.5, max_depth=251, min_child_weight=15, n_estimators=301, reg_alpha=41, reg_lambda=2\n"
     ]
    },
    {
     "name": "stderr",
     "output_type": "stream",
     "text": [
      "c:\\Users\\Saurav\\anaconda3\\Lib\\site-packages\\xgboost\\data.py:440: FutureWarning: is_sparse is deprecated and will be removed in a future version. Check `isinstance(dtype, pd.SparseDtype)` instead.\n",
      "  if is_sparse(data):\n"
     ]
    },
    {
     "name": "stdout",
     "output_type": "stream",
     "text": [
      "[CV 8/10; 6/10] END colsample_bytree=0.9, gamma=1, learning_rate=0.5, max_depth=251, min_child_weight=15, n_estimators=301, reg_alpha=41, reg_lambda=2;, score=0.744 total time=  35.1s\n",
      "[CV 9/10; 6/10] START colsample_bytree=0.9, gamma=1, learning_rate=0.5, max_depth=251, min_child_weight=15, n_estimators=301, reg_alpha=41, reg_lambda=2\n"
     ]
    },
    {
     "name": "stderr",
     "output_type": "stream",
     "text": [
      "c:\\Users\\Saurav\\anaconda3\\Lib\\site-packages\\xgboost\\data.py:440: FutureWarning: is_sparse is deprecated and will be removed in a future version. Check `isinstance(dtype, pd.SparseDtype)` instead.\n",
      "  if is_sparse(data):\n"
     ]
    },
    {
     "name": "stdout",
     "output_type": "stream",
     "text": [
      "[CV 9/10; 6/10] END colsample_bytree=0.9, gamma=1, learning_rate=0.5, max_depth=251, min_child_weight=15, n_estimators=301, reg_alpha=41, reg_lambda=2;, score=0.723 total time=  35.7s\n",
      "[CV 10/10; 6/10] START colsample_bytree=0.9, gamma=1, learning_rate=0.5, max_depth=251, min_child_weight=15, n_estimators=301, reg_alpha=41, reg_lambda=2\n"
     ]
    },
    {
     "name": "stderr",
     "output_type": "stream",
     "text": [
      "c:\\Users\\Saurav\\anaconda3\\Lib\\site-packages\\xgboost\\data.py:440: FutureWarning: is_sparse is deprecated and will be removed in a future version. Check `isinstance(dtype, pd.SparseDtype)` instead.\n",
      "  if is_sparse(data):\n"
     ]
    },
    {
     "name": "stdout",
     "output_type": "stream",
     "text": [
      "[CV 10/10; 6/10] END colsample_bytree=0.9, gamma=1, learning_rate=0.5, max_depth=251, min_child_weight=15, n_estimators=301, reg_alpha=41, reg_lambda=2;, score=0.749 total time=  23.2s\n",
      "[CV 1/10; 7/10] START colsample_bytree=0.0, gamma=1, learning_rate=1.4000000000000001, max_depth=51, min_child_weight=35, n_estimators=201, reg_alpha=1, reg_lambda=3\n"
     ]
    },
    {
     "name": "stderr",
     "output_type": "stream",
     "text": [
      "c:\\Users\\Saurav\\anaconda3\\Lib\\site-packages\\xgboost\\data.py:440: FutureWarning: is_sparse is deprecated and will be removed in a future version. Check `isinstance(dtype, pd.SparseDtype)` instead.\n",
      "  if is_sparse(data):\n"
     ]
    },
    {
     "name": "stdout",
     "output_type": "stream",
     "text": [
      "[CV 1/10; 7/10] END colsample_bytree=0.0, gamma=1, learning_rate=1.4000000000000001, max_depth=51, min_child_weight=35, n_estimators=201, reg_alpha=1, reg_lambda=3;, score=0.245 total time=   3.1s\n",
      "[CV 2/10; 7/10] START colsample_bytree=0.0, gamma=1, learning_rate=1.4000000000000001, max_depth=51, min_child_weight=35, n_estimators=201, reg_alpha=1, reg_lambda=3\n"
     ]
    },
    {
     "name": "stderr",
     "output_type": "stream",
     "text": [
      "c:\\Users\\Saurav\\anaconda3\\Lib\\site-packages\\xgboost\\data.py:440: FutureWarning: is_sparse is deprecated and will be removed in a future version. Check `isinstance(dtype, pd.SparseDtype)` instead.\n",
      "  if is_sparse(data):\n"
     ]
    },
    {
     "name": "stdout",
     "output_type": "stream",
     "text": [
      "[CV 2/10; 7/10] END colsample_bytree=0.0, gamma=1, learning_rate=1.4000000000000001, max_depth=51, min_child_weight=35, n_estimators=201, reg_alpha=1, reg_lambda=3;, score=0.260 total time=   3.2s\n",
      "[CV 3/10; 7/10] START colsample_bytree=0.0, gamma=1, learning_rate=1.4000000000000001, max_depth=51, min_child_weight=35, n_estimators=201, reg_alpha=1, reg_lambda=3\n"
     ]
    },
    {
     "name": "stderr",
     "output_type": "stream",
     "text": [
      "c:\\Users\\Saurav\\anaconda3\\Lib\\site-packages\\xgboost\\data.py:440: FutureWarning: is_sparse is deprecated and will be removed in a future version. Check `isinstance(dtype, pd.SparseDtype)` instead.\n",
      "  if is_sparse(data):\n"
     ]
    },
    {
     "name": "stdout",
     "output_type": "stream",
     "text": [
      "[CV 3/10; 7/10] END colsample_bytree=0.0, gamma=1, learning_rate=1.4000000000000001, max_depth=51, min_child_weight=35, n_estimators=201, reg_alpha=1, reg_lambda=3;, score=0.251 total time=   3.5s\n",
      "[CV 4/10; 7/10] START colsample_bytree=0.0, gamma=1, learning_rate=1.4000000000000001, max_depth=51, min_child_weight=35, n_estimators=201, reg_alpha=1, reg_lambda=3\n"
     ]
    },
    {
     "name": "stderr",
     "output_type": "stream",
     "text": [
      "c:\\Users\\Saurav\\anaconda3\\Lib\\site-packages\\xgboost\\data.py:440: FutureWarning: is_sparse is deprecated and will be removed in a future version. Check `isinstance(dtype, pd.SparseDtype)` instead.\n",
      "  if is_sparse(data):\n"
     ]
    },
    {
     "name": "stdout",
     "output_type": "stream",
     "text": [
      "[CV 4/10; 7/10] END colsample_bytree=0.0, gamma=1, learning_rate=1.4000000000000001, max_depth=51, min_child_weight=35, n_estimators=201, reg_alpha=1, reg_lambda=3;, score=0.272 total time=   3.6s\n",
      "[CV 5/10; 7/10] START colsample_bytree=0.0, gamma=1, learning_rate=1.4000000000000001, max_depth=51, min_child_weight=35, n_estimators=201, reg_alpha=1, reg_lambda=3\n"
     ]
    },
    {
     "name": "stderr",
     "output_type": "stream",
     "text": [
      "c:\\Users\\Saurav\\anaconda3\\Lib\\site-packages\\xgboost\\data.py:440: FutureWarning: is_sparse is deprecated and will be removed in a future version. Check `isinstance(dtype, pd.SparseDtype)` instead.\n",
      "  if is_sparse(data):\n"
     ]
    },
    {
     "name": "stdout",
     "output_type": "stream",
     "text": [
      "[CV 5/10; 7/10] END colsample_bytree=0.0, gamma=1, learning_rate=1.4000000000000001, max_depth=51, min_child_weight=35, n_estimators=201, reg_alpha=1, reg_lambda=3;, score=0.210 total time=   4.0s\n",
      "[CV 6/10; 7/10] START colsample_bytree=0.0, gamma=1, learning_rate=1.4000000000000001, max_depth=51, min_child_weight=35, n_estimators=201, reg_alpha=1, reg_lambda=3\n"
     ]
    },
    {
     "name": "stderr",
     "output_type": "stream",
     "text": [
      "c:\\Users\\Saurav\\anaconda3\\Lib\\site-packages\\xgboost\\data.py:440: FutureWarning: is_sparse is deprecated and will be removed in a future version. Check `isinstance(dtype, pd.SparseDtype)` instead.\n",
      "  if is_sparse(data):\n"
     ]
    },
    {
     "name": "stdout",
     "output_type": "stream",
     "text": [
      "[CV 6/10; 7/10] END colsample_bytree=0.0, gamma=1, learning_rate=1.4000000000000001, max_depth=51, min_child_weight=35, n_estimators=201, reg_alpha=1, reg_lambda=3;, score=0.246 total time=   4.2s\n",
      "[CV 7/10; 7/10] START colsample_bytree=0.0, gamma=1, learning_rate=1.4000000000000001, max_depth=51, min_child_weight=35, n_estimators=201, reg_alpha=1, reg_lambda=3\n"
     ]
    },
    {
     "name": "stderr",
     "output_type": "stream",
     "text": [
      "c:\\Users\\Saurav\\anaconda3\\Lib\\site-packages\\xgboost\\data.py:440: FutureWarning: is_sparse is deprecated and will be removed in a future version. Check `isinstance(dtype, pd.SparseDtype)` instead.\n",
      "  if is_sparse(data):\n"
     ]
    },
    {
     "name": "stdout",
     "output_type": "stream",
     "text": [
      "[CV 7/10; 7/10] END colsample_bytree=0.0, gamma=1, learning_rate=1.4000000000000001, max_depth=51, min_child_weight=35, n_estimators=201, reg_alpha=1, reg_lambda=3;, score=0.267 total time=   5.0s\n",
      "[CV 8/10; 7/10] START colsample_bytree=0.0, gamma=1, learning_rate=1.4000000000000001, max_depth=51, min_child_weight=35, n_estimators=201, reg_alpha=1, reg_lambda=3\n"
     ]
    },
    {
     "name": "stderr",
     "output_type": "stream",
     "text": [
      "c:\\Users\\Saurav\\anaconda3\\Lib\\site-packages\\xgboost\\data.py:440: FutureWarning: is_sparse is deprecated and will be removed in a future version. Check `isinstance(dtype, pd.SparseDtype)` instead.\n",
      "  if is_sparse(data):\n"
     ]
    },
    {
     "name": "stdout",
     "output_type": "stream",
     "text": [
      "[CV 8/10; 7/10] END colsample_bytree=0.0, gamma=1, learning_rate=1.4000000000000001, max_depth=51, min_child_weight=35, n_estimators=201, reg_alpha=1, reg_lambda=3;, score=0.251 total time=   6.8s\n",
      "[CV 9/10; 7/10] START colsample_bytree=0.0, gamma=1, learning_rate=1.4000000000000001, max_depth=51, min_child_weight=35, n_estimators=201, reg_alpha=1, reg_lambda=3\n"
     ]
    },
    {
     "name": "stderr",
     "output_type": "stream",
     "text": [
      "c:\\Users\\Saurav\\anaconda3\\Lib\\site-packages\\xgboost\\data.py:440: FutureWarning: is_sparse is deprecated and will be removed in a future version. Check `isinstance(dtype, pd.SparseDtype)` instead.\n",
      "  if is_sparse(data):\n"
     ]
    },
    {
     "name": "stdout",
     "output_type": "stream",
     "text": [
      "[CV 9/10; 7/10] END colsample_bytree=0.0, gamma=1, learning_rate=1.4000000000000001, max_depth=51, min_child_weight=35, n_estimators=201, reg_alpha=1, reg_lambda=3;, score=0.262 total time=   6.1s\n",
      "[CV 10/10; 7/10] START colsample_bytree=0.0, gamma=1, learning_rate=1.4000000000000001, max_depth=51, min_child_weight=35, n_estimators=201, reg_alpha=1, reg_lambda=3\n"
     ]
    },
    {
     "name": "stderr",
     "output_type": "stream",
     "text": [
      "c:\\Users\\Saurav\\anaconda3\\Lib\\site-packages\\xgboost\\data.py:440: FutureWarning: is_sparse is deprecated and will be removed in a future version. Check `isinstance(dtype, pd.SparseDtype)` instead.\n",
      "  if is_sparse(data):\n"
     ]
    },
    {
     "name": "stdout",
     "output_type": "stream",
     "text": [
      "[CV 10/10; 7/10] END colsample_bytree=0.0, gamma=1, learning_rate=1.4000000000000001, max_depth=51, min_child_weight=35, n_estimators=201, reg_alpha=1, reg_lambda=3;, score=0.215 total time=   5.6s\n",
      "[CV 1/10; 8/10] START colsample_bytree=0.2, gamma=1, learning_rate=0.9, max_depth=151, min_child_weight=10, n_estimators=151, reg_alpha=161, reg_lambda=4\n"
     ]
    },
    {
     "name": "stderr",
     "output_type": "stream",
     "text": [
      "c:\\Users\\Saurav\\anaconda3\\Lib\\site-packages\\xgboost\\data.py:440: FutureWarning: is_sparse is deprecated and will be removed in a future version. Check `isinstance(dtype, pd.SparseDtype)` instead.\n",
      "  if is_sparse(data):\n"
     ]
    },
    {
     "name": "stdout",
     "output_type": "stream",
     "text": [
      "[CV 1/10; 8/10] END colsample_bytree=0.2, gamma=1, learning_rate=0.9, max_depth=151, min_child_weight=10, n_estimators=151, reg_alpha=161, reg_lambda=4;, score=0.418 total time=   6.2s\n",
      "[CV 2/10; 8/10] START colsample_bytree=0.2, gamma=1, learning_rate=0.9, max_depth=151, min_child_weight=10, n_estimators=151, reg_alpha=161, reg_lambda=4\n"
     ]
    },
    {
     "name": "stderr",
     "output_type": "stream",
     "text": [
      "c:\\Users\\Saurav\\anaconda3\\Lib\\site-packages\\xgboost\\data.py:440: FutureWarning: is_sparse is deprecated and will be removed in a future version. Check `isinstance(dtype, pd.SparseDtype)` instead.\n",
      "  if is_sparse(data):\n"
     ]
    },
    {
     "name": "stdout",
     "output_type": "stream",
     "text": [
      "[CV 2/10; 8/10] END colsample_bytree=0.2, gamma=1, learning_rate=0.9, max_depth=151, min_child_weight=10, n_estimators=151, reg_alpha=161, reg_lambda=4;, score=0.429 total time=   6.2s\n",
      "[CV 3/10; 8/10] START colsample_bytree=0.2, gamma=1, learning_rate=0.9, max_depth=151, min_child_weight=10, n_estimators=151, reg_alpha=161, reg_lambda=4\n"
     ]
    },
    {
     "name": "stderr",
     "output_type": "stream",
     "text": [
      "c:\\Users\\Saurav\\anaconda3\\Lib\\site-packages\\xgboost\\data.py:440: FutureWarning: is_sparse is deprecated and will be removed in a future version. Check `isinstance(dtype, pd.SparseDtype)` instead.\n",
      "  if is_sparse(data):\n"
     ]
    },
    {
     "name": "stdout",
     "output_type": "stream",
     "text": [
      "[CV 3/10; 8/10] END colsample_bytree=0.2, gamma=1, learning_rate=0.9, max_depth=151, min_child_weight=10, n_estimators=151, reg_alpha=161, reg_lambda=4;, score=0.410 total time=   5.6s\n",
      "[CV 4/10; 8/10] START colsample_bytree=0.2, gamma=1, learning_rate=0.9, max_depth=151, min_child_weight=10, n_estimators=151, reg_alpha=161, reg_lambda=4\n"
     ]
    },
    {
     "name": "stderr",
     "output_type": "stream",
     "text": [
      "c:\\Users\\Saurav\\anaconda3\\Lib\\site-packages\\xgboost\\data.py:440: FutureWarning: is_sparse is deprecated and will be removed in a future version. Check `isinstance(dtype, pd.SparseDtype)` instead.\n",
      "  if is_sparse(data):\n"
     ]
    },
    {
     "name": "stdout",
     "output_type": "stream",
     "text": [
      "[CV 4/10; 8/10] END colsample_bytree=0.2, gamma=1, learning_rate=0.9, max_depth=151, min_child_weight=10, n_estimators=151, reg_alpha=161, reg_lambda=4;, score=0.431 total time=   3.9s\n",
      "[CV 5/10; 8/10] START colsample_bytree=0.2, gamma=1, learning_rate=0.9, max_depth=151, min_child_weight=10, n_estimators=151, reg_alpha=161, reg_lambda=4\n"
     ]
    },
    {
     "name": "stderr",
     "output_type": "stream",
     "text": [
      "c:\\Users\\Saurav\\anaconda3\\Lib\\site-packages\\xgboost\\data.py:440: FutureWarning: is_sparse is deprecated and will be removed in a future version. Check `isinstance(dtype, pd.SparseDtype)` instead.\n",
      "  if is_sparse(data):\n"
     ]
    },
    {
     "name": "stdout",
     "output_type": "stream",
     "text": [
      "[CV 5/10; 8/10] END colsample_bytree=0.2, gamma=1, learning_rate=0.9, max_depth=151, min_child_weight=10, n_estimators=151, reg_alpha=161, reg_lambda=4;, score=0.451 total time=   3.9s\n",
      "[CV 6/10; 8/10] START colsample_bytree=0.2, gamma=1, learning_rate=0.9, max_depth=151, min_child_weight=10, n_estimators=151, reg_alpha=161, reg_lambda=4\n"
     ]
    },
    {
     "name": "stderr",
     "output_type": "stream",
     "text": [
      "c:\\Users\\Saurav\\anaconda3\\Lib\\site-packages\\xgboost\\data.py:440: FutureWarning: is_sparse is deprecated and will be removed in a future version. Check `isinstance(dtype, pd.SparseDtype)` instead.\n",
      "  if is_sparse(data):\n"
     ]
    },
    {
     "name": "stdout",
     "output_type": "stream",
     "text": [
      "[CV 6/10; 8/10] END colsample_bytree=0.2, gamma=1, learning_rate=0.9, max_depth=151, min_child_weight=10, n_estimators=151, reg_alpha=161, reg_lambda=4;, score=0.441 total time=   3.8s\n",
      "[CV 7/10; 8/10] START colsample_bytree=0.2, gamma=1, learning_rate=0.9, max_depth=151, min_child_weight=10, n_estimators=151, reg_alpha=161, reg_lambda=4\n"
     ]
    },
    {
     "name": "stderr",
     "output_type": "stream",
     "text": [
      "c:\\Users\\Saurav\\anaconda3\\Lib\\site-packages\\xgboost\\data.py:440: FutureWarning: is_sparse is deprecated and will be removed in a future version. Check `isinstance(dtype, pd.SparseDtype)` instead.\n",
      "  if is_sparse(data):\n"
     ]
    },
    {
     "name": "stdout",
     "output_type": "stream",
     "text": [
      "[CV 7/10; 8/10] END colsample_bytree=0.2, gamma=1, learning_rate=0.9, max_depth=151, min_child_weight=10, n_estimators=151, reg_alpha=161, reg_lambda=4;, score=0.446 total time=   4.0s\n",
      "[CV 8/10; 8/10] START colsample_bytree=0.2, gamma=1, learning_rate=0.9, max_depth=151, min_child_weight=10, n_estimators=151, reg_alpha=161, reg_lambda=4\n"
     ]
    },
    {
     "name": "stderr",
     "output_type": "stream",
     "text": [
      "c:\\Users\\Saurav\\anaconda3\\Lib\\site-packages\\xgboost\\data.py:440: FutureWarning: is_sparse is deprecated and will be removed in a future version. Check `isinstance(dtype, pd.SparseDtype)` instead.\n",
      "  if is_sparse(data):\n"
     ]
    },
    {
     "name": "stdout",
     "output_type": "stream",
     "text": [
      "[CV 8/10; 8/10] END colsample_bytree=0.2, gamma=1, learning_rate=0.9, max_depth=151, min_child_weight=10, n_estimators=151, reg_alpha=161, reg_lambda=4;, score=0.451 total time=   3.9s\n",
      "[CV 9/10; 8/10] START colsample_bytree=0.2, gamma=1, learning_rate=0.9, max_depth=151, min_child_weight=10, n_estimators=151, reg_alpha=161, reg_lambda=4\n"
     ]
    },
    {
     "name": "stderr",
     "output_type": "stream",
     "text": [
      "c:\\Users\\Saurav\\anaconda3\\Lib\\site-packages\\xgboost\\data.py:440: FutureWarning: is_sparse is deprecated and will be removed in a future version. Check `isinstance(dtype, pd.SparseDtype)` instead.\n",
      "  if is_sparse(data):\n"
     ]
    },
    {
     "name": "stdout",
     "output_type": "stream",
     "text": [
      "[CV 9/10; 8/10] END colsample_bytree=0.2, gamma=1, learning_rate=0.9, max_depth=151, min_child_weight=10, n_estimators=151, reg_alpha=161, reg_lambda=4;, score=0.446 total time=   3.9s\n",
      "[CV 10/10; 8/10] START colsample_bytree=0.2, gamma=1, learning_rate=0.9, max_depth=151, min_child_weight=10, n_estimators=151, reg_alpha=161, reg_lambda=4\n"
     ]
    },
    {
     "name": "stderr",
     "output_type": "stream",
     "text": [
      "c:\\Users\\Saurav\\anaconda3\\Lib\\site-packages\\xgboost\\data.py:440: FutureWarning: is_sparse is deprecated and will be removed in a future version. Check `isinstance(dtype, pd.SparseDtype)` instead.\n",
      "  if is_sparse(data):\n"
     ]
    },
    {
     "name": "stdout",
     "output_type": "stream",
     "text": [
      "[CV 10/10; 8/10] END colsample_bytree=0.2, gamma=1, learning_rate=0.9, max_depth=151, min_child_weight=10, n_estimators=151, reg_alpha=161, reg_lambda=4;, score=0.436 total time=   3.9s\n",
      "[CV 1/10; 9/10] START colsample_bytree=0.1, gamma=4, learning_rate=0.5, max_depth=151, min_child_weight=5, n_estimators=101, reg_alpha=361, reg_lambda=0\n"
     ]
    },
    {
     "name": "stderr",
     "output_type": "stream",
     "text": [
      "c:\\Users\\Saurav\\anaconda3\\Lib\\site-packages\\xgboost\\data.py:440: FutureWarning: is_sparse is deprecated and will be removed in a future version. Check `isinstance(dtype, pd.SparseDtype)` instead.\n",
      "  if is_sparse(data):\n"
     ]
    },
    {
     "name": "stdout",
     "output_type": "stream",
     "text": [
      "[CV 1/10; 9/10] END colsample_bytree=0.1, gamma=4, learning_rate=0.5, max_depth=151, min_child_weight=5, n_estimators=101, reg_alpha=361, reg_lambda=0;, score=0.204 total time=   2.1s\n",
      "[CV 2/10; 9/10] START colsample_bytree=0.1, gamma=4, learning_rate=0.5, max_depth=151, min_child_weight=5, n_estimators=101, reg_alpha=361, reg_lambda=0\n"
     ]
    },
    {
     "name": "stderr",
     "output_type": "stream",
     "text": [
      "c:\\Users\\Saurav\\anaconda3\\Lib\\site-packages\\xgboost\\data.py:440: FutureWarning: is_sparse is deprecated and will be removed in a future version. Check `isinstance(dtype, pd.SparseDtype)` instead.\n",
      "  if is_sparse(data):\n"
     ]
    },
    {
     "name": "stdout",
     "output_type": "stream",
     "text": [
      "[CV 2/10; 9/10] END colsample_bytree=0.1, gamma=4, learning_rate=0.5, max_depth=151, min_child_weight=5, n_estimators=101, reg_alpha=361, reg_lambda=0;, score=0.204 total time=   2.3s\n",
      "[CV 3/10; 9/10] START colsample_bytree=0.1, gamma=4, learning_rate=0.5, max_depth=151, min_child_weight=5, n_estimators=101, reg_alpha=361, reg_lambda=0\n"
     ]
    },
    {
     "name": "stderr",
     "output_type": "stream",
     "text": [
      "c:\\Users\\Saurav\\anaconda3\\Lib\\site-packages\\xgboost\\data.py:440: FutureWarning: is_sparse is deprecated and will be removed in a future version. Check `isinstance(dtype, pd.SparseDtype)` instead.\n",
      "  if is_sparse(data):\n"
     ]
    },
    {
     "name": "stdout",
     "output_type": "stream",
     "text": [
      "[CV 3/10; 9/10] END colsample_bytree=0.1, gamma=4, learning_rate=0.5, max_depth=151, min_child_weight=5, n_estimators=101, reg_alpha=361, reg_lambda=0;, score=0.200 total time=   2.2s\n",
      "[CV 4/10; 9/10] START colsample_bytree=0.1, gamma=4, learning_rate=0.5, max_depth=151, min_child_weight=5, n_estimators=101, reg_alpha=361, reg_lambda=0\n"
     ]
    },
    {
     "name": "stderr",
     "output_type": "stream",
     "text": [
      "c:\\Users\\Saurav\\anaconda3\\Lib\\site-packages\\xgboost\\data.py:440: FutureWarning: is_sparse is deprecated and will be removed in a future version. Check `isinstance(dtype, pd.SparseDtype)` instead.\n",
      "  if is_sparse(data):\n"
     ]
    },
    {
     "name": "stdout",
     "output_type": "stream",
     "text": [
      "[CV 4/10; 9/10] END colsample_bytree=0.1, gamma=4, learning_rate=0.5, max_depth=151, min_child_weight=5, n_estimators=101, reg_alpha=361, reg_lambda=0;, score=0.200 total time=   2.2s\n",
      "[CV 5/10; 9/10] START colsample_bytree=0.1, gamma=4, learning_rate=0.5, max_depth=151, min_child_weight=5, n_estimators=101, reg_alpha=361, reg_lambda=0\n"
     ]
    },
    {
     "name": "stderr",
     "output_type": "stream",
     "text": [
      "c:\\Users\\Saurav\\anaconda3\\Lib\\site-packages\\xgboost\\data.py:440: FutureWarning: is_sparse is deprecated and will be removed in a future version. Check `isinstance(dtype, pd.SparseDtype)` instead.\n",
      "  if is_sparse(data):\n"
     ]
    },
    {
     "name": "stdout",
     "output_type": "stream",
     "text": [
      "[CV 5/10; 9/10] END colsample_bytree=0.1, gamma=4, learning_rate=0.5, max_depth=151, min_child_weight=5, n_estimators=101, reg_alpha=361, reg_lambda=0;, score=0.200 total time=   2.4s\n",
      "[CV 6/10; 9/10] START colsample_bytree=0.1, gamma=4, learning_rate=0.5, max_depth=151, min_child_weight=5, n_estimators=101, reg_alpha=361, reg_lambda=0\n"
     ]
    },
    {
     "name": "stderr",
     "output_type": "stream",
     "text": [
      "c:\\Users\\Saurav\\anaconda3\\Lib\\site-packages\\xgboost\\data.py:440: FutureWarning: is_sparse is deprecated and will be removed in a future version. Check `isinstance(dtype, pd.SparseDtype)` instead.\n",
      "  if is_sparse(data):\n"
     ]
    },
    {
     "name": "stdout",
     "output_type": "stream",
     "text": [
      "[CV 6/10; 9/10] END colsample_bytree=0.1, gamma=4, learning_rate=0.5, max_depth=151, min_child_weight=5, n_estimators=101, reg_alpha=361, reg_lambda=0;, score=0.205 total time=   2.4s\n",
      "[CV 7/10; 9/10] START colsample_bytree=0.1, gamma=4, learning_rate=0.5, max_depth=151, min_child_weight=5, n_estimators=101, reg_alpha=361, reg_lambda=0\n"
     ]
    },
    {
     "name": "stderr",
     "output_type": "stream",
     "text": [
      "c:\\Users\\Saurav\\anaconda3\\Lib\\site-packages\\xgboost\\data.py:440: FutureWarning: is_sparse is deprecated and will be removed in a future version. Check `isinstance(dtype, pd.SparseDtype)` instead.\n",
      "  if is_sparse(data):\n"
     ]
    },
    {
     "name": "stdout",
     "output_type": "stream",
     "text": [
      "[CV 7/10; 9/10] END colsample_bytree=0.1, gamma=4, learning_rate=0.5, max_depth=151, min_child_weight=5, n_estimators=101, reg_alpha=361, reg_lambda=0;, score=0.205 total time=   2.5s\n",
      "[CV 8/10; 9/10] START colsample_bytree=0.1, gamma=4, learning_rate=0.5, max_depth=151, min_child_weight=5, n_estimators=101, reg_alpha=361, reg_lambda=0\n"
     ]
    },
    {
     "name": "stderr",
     "output_type": "stream",
     "text": [
      "c:\\Users\\Saurav\\anaconda3\\Lib\\site-packages\\xgboost\\data.py:440: FutureWarning: is_sparse is deprecated and will be removed in a future version. Check `isinstance(dtype, pd.SparseDtype)` instead.\n",
      "  if is_sparse(data):\n"
     ]
    },
    {
     "name": "stdout",
     "output_type": "stream",
     "text": [
      "[CV 8/10; 9/10] END colsample_bytree=0.1, gamma=4, learning_rate=0.5, max_depth=151, min_child_weight=5, n_estimators=101, reg_alpha=361, reg_lambda=0;, score=0.205 total time=   2.6s\n",
      "[CV 9/10; 9/10] START colsample_bytree=0.1, gamma=4, learning_rate=0.5, max_depth=151, min_child_weight=5, n_estimators=101, reg_alpha=361, reg_lambda=0\n"
     ]
    },
    {
     "name": "stderr",
     "output_type": "stream",
     "text": [
      "c:\\Users\\Saurav\\anaconda3\\Lib\\site-packages\\xgboost\\data.py:440: FutureWarning: is_sparse is deprecated and will be removed in a future version. Check `isinstance(dtype, pd.SparseDtype)` instead.\n",
      "  if is_sparse(data):\n"
     ]
    },
    {
     "name": "stdout",
     "output_type": "stream",
     "text": [
      "[CV 9/10; 9/10] END colsample_bytree=0.1, gamma=4, learning_rate=0.5, max_depth=151, min_child_weight=5, n_estimators=101, reg_alpha=361, reg_lambda=0;, score=0.205 total time=   2.5s\n",
      "[CV 10/10; 9/10] START colsample_bytree=0.1, gamma=4, learning_rate=0.5, max_depth=151, min_child_weight=5, n_estimators=101, reg_alpha=361, reg_lambda=0\n"
     ]
    },
    {
     "name": "stderr",
     "output_type": "stream",
     "text": [
      "c:\\Users\\Saurav\\anaconda3\\Lib\\site-packages\\xgboost\\data.py:440: FutureWarning: is_sparse is deprecated and will be removed in a future version. Check `isinstance(dtype, pd.SparseDtype)` instead.\n",
      "  if is_sparse(data):\n"
     ]
    },
    {
     "name": "stdout",
     "output_type": "stream",
     "text": [
      "[CV 10/10; 9/10] END colsample_bytree=0.1, gamma=4, learning_rate=0.5, max_depth=151, min_child_weight=5, n_estimators=101, reg_alpha=361, reg_lambda=0;, score=0.205 total time=   4.2s\n",
      "[CV 1/10; 10/10] START colsample_bytree=0.9, gamma=1, learning_rate=0.8, max_depth=351, min_child_weight=15, n_estimators=1, reg_alpha=161, reg_lambda=3\n",
      "[CV 1/10; 10/10] END colsample_bytree=0.9, gamma=1, learning_rate=0.8, max_depth=351, min_child_weight=15, n_estimators=1, reg_alpha=161, reg_lambda=3;, score=0.449 total time=   0.1s\n",
      "[CV 2/10; 10/10] START colsample_bytree=0.9, gamma=1, learning_rate=0.8, max_depth=351, min_child_weight=15, n_estimators=1, reg_alpha=161, reg_lambda=3\n"
     ]
    },
    {
     "name": "stderr",
     "output_type": "stream",
     "text": [
      "c:\\Users\\Saurav\\anaconda3\\Lib\\site-packages\\xgboost\\data.py:440: FutureWarning: is_sparse is deprecated and will be removed in a future version. Check `isinstance(dtype, pd.SparseDtype)` instead.\n",
      "  if is_sparse(data):\n",
      "c:\\Users\\Saurav\\anaconda3\\Lib\\site-packages\\xgboost\\data.py:440: FutureWarning: is_sparse is deprecated and will be removed in a future version. Check `isinstance(dtype, pd.SparseDtype)` instead.\n",
      "  if is_sparse(data):\n"
     ]
    },
    {
     "name": "stdout",
     "output_type": "stream",
     "text": [
      "[CV 2/10; 10/10] END colsample_bytree=0.9, gamma=1, learning_rate=0.8, max_depth=351, min_child_weight=15, n_estimators=1, reg_alpha=161, reg_lambda=3;, score=0.439 total time=   0.1s\n",
      "[CV 3/10; 10/10] START colsample_bytree=0.9, gamma=1, learning_rate=0.8, max_depth=351, min_child_weight=15, n_estimators=1, reg_alpha=161, reg_lambda=3\n",
      "[CV 3/10; 10/10] END colsample_bytree=0.9, gamma=1, learning_rate=0.8, max_depth=351, min_child_weight=15, n_estimators=1, reg_alpha=161, reg_lambda=3;, score=0.462 total time=   0.1s\n",
      "[CV 4/10; 10/10] START colsample_bytree=0.9, gamma=1, learning_rate=0.8, max_depth=351, min_child_weight=15, n_estimators=1, reg_alpha=161, reg_lambda=3\n"
     ]
    },
    {
     "name": "stderr",
     "output_type": "stream",
     "text": [
      "c:\\Users\\Saurav\\anaconda3\\Lib\\site-packages\\xgboost\\data.py:440: FutureWarning: is_sparse is deprecated and will be removed in a future version. Check `isinstance(dtype, pd.SparseDtype)` instead.\n",
      "  if is_sparse(data):\n",
      "c:\\Users\\Saurav\\anaconda3\\Lib\\site-packages\\xgboost\\data.py:440: FutureWarning: is_sparse is deprecated and will be removed in a future version. Check `isinstance(dtype, pd.SparseDtype)` instead.\n",
      "  if is_sparse(data):\n"
     ]
    },
    {
     "name": "stdout",
     "output_type": "stream",
     "text": [
      "[CV 4/10; 10/10] END colsample_bytree=0.9, gamma=1, learning_rate=0.8, max_depth=351, min_child_weight=15, n_estimators=1, reg_alpha=161, reg_lambda=3;, score=0.456 total time=   0.1s\n",
      "[CV 5/10; 10/10] START colsample_bytree=0.9, gamma=1, learning_rate=0.8, max_depth=351, min_child_weight=15, n_estimators=1, reg_alpha=161, reg_lambda=3\n",
      "[CV 5/10; 10/10] END colsample_bytree=0.9, gamma=1, learning_rate=0.8, max_depth=351, min_child_weight=15, n_estimators=1, reg_alpha=161, reg_lambda=3;, score=0.431 total time=   0.1s\n"
     ]
    },
    {
     "name": "stderr",
     "output_type": "stream",
     "text": [
      "c:\\Users\\Saurav\\anaconda3\\Lib\\site-packages\\xgboost\\data.py:440: FutureWarning: is_sparse is deprecated and will be removed in a future version. Check `isinstance(dtype, pd.SparseDtype)` instead.\n",
      "  if is_sparse(data):\n",
      "c:\\Users\\Saurav\\anaconda3\\Lib\\site-packages\\xgboost\\data.py:440: FutureWarning: is_sparse is deprecated and will be removed in a future version. Check `isinstance(dtype, pd.SparseDtype)` instead.\n",
      "  if is_sparse(data):\n"
     ]
    },
    {
     "name": "stdout",
     "output_type": "stream",
     "text": [
      "[CV 6/10; 10/10] START colsample_bytree=0.9, gamma=1, learning_rate=0.8, max_depth=351, min_child_weight=15, n_estimators=1, reg_alpha=161, reg_lambda=3\n",
      "[CV 6/10; 10/10] END colsample_bytree=0.9, gamma=1, learning_rate=0.8, max_depth=351, min_child_weight=15, n_estimators=1, reg_alpha=161, reg_lambda=3;, score=0.462 total time=   0.1s\n",
      "[CV 7/10; 10/10] START colsample_bytree=0.9, gamma=1, learning_rate=0.8, max_depth=351, min_child_weight=15, n_estimators=1, reg_alpha=161, reg_lambda=3\n"
     ]
    },
    {
     "name": "stderr",
     "output_type": "stream",
     "text": [
      "c:\\Users\\Saurav\\anaconda3\\Lib\\site-packages\\xgboost\\data.py:440: FutureWarning: is_sparse is deprecated and will be removed in a future version. Check `isinstance(dtype, pd.SparseDtype)` instead.\n",
      "  if is_sparse(data):\n"
     ]
    },
    {
     "name": "stdout",
     "output_type": "stream",
     "text": [
      "[CV 7/10; 10/10] END colsample_bytree=0.9, gamma=1, learning_rate=0.8, max_depth=351, min_child_weight=15, n_estimators=1, reg_alpha=161, reg_lambda=3;, score=0.472 total time=   0.1s\n",
      "[CV 8/10; 10/10] START colsample_bytree=0.9, gamma=1, learning_rate=0.8, max_depth=351, min_child_weight=15, n_estimators=1, reg_alpha=161, reg_lambda=3\n",
      "[CV 8/10; 10/10] END colsample_bytree=0.9, gamma=1, learning_rate=0.8, max_depth=351, min_child_weight=15, n_estimators=1, reg_alpha=161, reg_lambda=3;, score=0.467 total time=   0.1s\n",
      "[CV 9/10; 10/10] START colsample_bytree=0.9, gamma=1, learning_rate=0.8, max_depth=351, min_child_weight=15, n_estimators=1, reg_alpha=161, reg_lambda=3\n"
     ]
    },
    {
     "name": "stderr",
     "output_type": "stream",
     "text": [
      "c:\\Users\\Saurav\\anaconda3\\Lib\\site-packages\\xgboost\\data.py:440: FutureWarning: is_sparse is deprecated and will be removed in a future version. Check `isinstance(dtype, pd.SparseDtype)` instead.\n",
      "  if is_sparse(data):\n",
      "c:\\Users\\Saurav\\anaconda3\\Lib\\site-packages\\xgboost\\data.py:440: FutureWarning: is_sparse is deprecated and will be removed in a future version. Check `isinstance(dtype, pd.SparseDtype)` instead.\n",
      "  if is_sparse(data):\n"
     ]
    },
    {
     "name": "stdout",
     "output_type": "stream",
     "text": [
      "[CV 9/10; 10/10] END colsample_bytree=0.9, gamma=1, learning_rate=0.8, max_depth=351, min_child_weight=15, n_estimators=1, reg_alpha=161, reg_lambda=3;, score=0.446 total time=   0.1s\n",
      "[CV 10/10; 10/10] START colsample_bytree=0.9, gamma=1, learning_rate=0.8, max_depth=351, min_child_weight=15, n_estimators=1, reg_alpha=161, reg_lambda=3\n"
     ]
    },
    {
     "name": "stderr",
     "output_type": "stream",
     "text": [
      "c:\\Users\\Saurav\\anaconda3\\Lib\\site-packages\\xgboost\\data.py:440: FutureWarning: is_sparse is deprecated and will be removed in a future version. Check `isinstance(dtype, pd.SparseDtype)` instead.\n",
      "  if is_sparse(data):\n"
     ]
    },
    {
     "name": "stdout",
     "output_type": "stream",
     "text": [
      "[CV 10/10; 10/10] END colsample_bytree=0.9, gamma=1, learning_rate=0.8, max_depth=351, min_child_weight=15, n_estimators=1, reg_alpha=161, reg_lambda=3;, score=0.441 total time=   0.1s\n"
     ]
    },
    {
     "name": "stderr",
     "output_type": "stream",
     "text": [
      "c:\\Users\\Saurav\\anaconda3\\Lib\\site-packages\\xgboost\\data.py:440: FutureWarning: is_sparse is deprecated and will be removed in a future version. Check `isinstance(dtype, pd.SparseDtype)` instead.\n",
      "  if is_sparse(data):\n"
     ]
    }
   ],
   "source": [
    "model_accuracies = {}\n",
    "range_epochs = 5\n",
    "random_search_cv(model_accuracies,range_epochs,sampleTrain_dtm,y_train)"
   ]
  },
  {
   "cell_type": "code",
   "execution_count": 193,
   "metadata": {},
   "outputs": [
    {
     "data": {
      "text/plain": [
       "[<matplotlib.lines.Line2D at 0x1ff2e8ba790>]"
      ]
     },
     "execution_count": 193,
     "metadata": {},
     "output_type": "execute_result"
    },
    {
     "data": {
      "image/png": "[encoded data removed]",
      "text/plain": [
       "<Figure size 640x480 with 1 Axes>"
      ]
     },
     "metadata": {},
     "output_type": "display_data"
    }
   ],
   "source": [
    "accuracies = []\n",
    "for key,value in model_accuracies.items():\n",
    "  accuracies.append(value)\n",
    "\n",
    "plt.plot(accuracies)"
   ]
  },
  {
   "cell_type": "code",
   "execution_count": 194,
   "metadata": {},
   "outputs": [
    {
     "data": {
      "text/plain": [
       "[0.6445159602302459,\n",
       " 0.6496153846153847,\n",
       " 0.7300523286237572,\n",
       " 0.7592490842490842,\n",
       " 0.7915201465201465]"
      ]
     },
     "execution_count": 194,
     "metadata": {},
     "output_type": "execute_result"
    }
   ],
   "source": [
    "accuracies.sort()\n",
    "accuracies"
   ]
  },
  {
   "cell_type": "code",
   "execution_count": 195,
   "metadata": {},
   "outputs": [
    {
     "data": {
      "text/plain": [
       "{'reg_lambda': 4,\n",
       " 'reg_alpha': 1,\n",
       " 'n_estimators': 151,\n",
       " 'min_child_weight': 5,\n",
       " 'max_depth': 201,\n",
       " 'learning_rate': 0.9,\n",
       " 'gamma': 4,\n",
       " 'colsample_bytree': 0.8}"
      ]
     },
     "execution_count": 195,
     "metadata": {},
     "output_type": "execute_result"
    }
   ],
   "source": [
    "count = 0\n",
    "for key,val in model_accuracies.items():\n",
    "    best_model_param = key.best_params_\n",
    "best_model_param"
   ]
  },
  {
   "cell_type": "code",
   "execution_count": 198,
   "metadata": {},
   "outputs": [
    {
     "name": "stderr",
     "output_type": "stream",
     "text": [
      "c:\\Users\\Saurav\\anaconda3\\Lib\\site-packages\\xgboost\\data.py:440: FutureWarning: is_sparse is deprecated and will be removed in a future version. Check `isinstance(dtype, pd.SparseDtype)` instead.\n",
      "  if is_sparse(data):\n"
     ]
    },
    {
     "name": "stdout",
     "output_type": "stream",
     "text": [
      "Accuracy: 0.79\n",
      "[[83  3 10  2  4]\n",
      " [ 4 77  8  0  5]\n",
      " [ 4  0 55  0 17]\n",
      " [ 0  0  4 86  9]\n",
      " [ 2  1 22  6 87]]\n"
     ]
    }
   ],
   "source": [
    "import numpy as np\n",
    "import pandas as pd\n",
    "from sklearn.model_selection import train_test_split\n",
    "from xgboost import XGBClassifier\n",
    "from sklearn import metrics\n",
    "\n",
    "\n",
    "\n",
    "xgb_classifier = XGBClassifier(\n",
    "    **best_model_param\n",
    "    # n_estimators=400,  \n",
    "    # max_depth=4,         \n",
    "    # learning_rate = 0.1,\n",
    "    # reg_alpha=0.01,          \n",
    "    # reg_lambda=1\n",
    ")\n",
    "\n",
    "xgb_classifier.fit(sampleTrain_dtm, y_train)\n",
    "\n",
    "y_pred = xgb_classifier.predict(sampleTest_dtm)\n",
    "\n",
    "accuracy = metrics.accuracy_score(y_test, y_pred)\n",
    "print(f\"Accuracy: {accuracy:.2f}\")\n",
    "\n",
    "confusion_mat = metrics.confusion_matrix(y_test, y_pred)\n",
    "print(confusion_mat)\n",
    "\n",
    "cm_disp = metrics.ConfusionMatrixDisplay(confusion_matrix=confusion_mat,display_labels=[\"0\",\"1\",\"2\",\"3\",\"4\"])\n",
    "cm_disp.plot()\n",
    "print(confusion_mat)\n",
    "print()\n",
    "print(\"Precision\",metrics.precision_score(y_test,y_pred))\n",
    "print()\n",
    "print(\"Recall\",metrics.recall_score(y_test,y_pred))\n",
    "print(\"F1 Score\",metrics.f1_score(y_test,y_pred))"
   ]
  },
  {
   "cell_type": "code",
   "execution_count": null,
   "metadata": {},
   "outputs": [],
   "source": []
  },
  {
   "cell_type": "markdown",
   "metadata": {},
   "source": [
    "# DL Models"
   ]
  },
  {
   "cell_type": "code",
   "execution_count": 118,
   "metadata": {},
   "outputs": [],
   "source": [
    "import numpy as np\n",
    "\n",
    "from keras.preprocessing.text import Tokenizer\n",
    "from keras.utils import pad_sequences\n",
    "\n",
    "from keras import Sequential\n",
    "from keras.layers import Dense,SimpleRNN,Flatten,Embedding, LSTM, Dropout\n",
    "from sklearn.model_selection import train_test_split\n"
   ]
  },
  {
   "cell_type": "markdown",
   "metadata": {},
   "source": [
    "# Tokenizer"
   ]
  },
  {
   "cell_type": "code",
   "execution_count": 79,
   "metadata": {},
   "outputs": [],
   "source": [
    "tokenizer = Tokenizer()\n",
    "tokenizer.fit_on_texts(df_cleaned[\"Letters\"])"
   ]
  },
  {
   "cell_type": "code",
   "execution_count": 80,
   "metadata": {},
   "outputs": [
    {
     "data": {
      "text/plain": [
       "{'the': 1,\n",
       " 'of': 2,\n",
       " 'and': 3,\n",
       " 'to': 4,\n",
       " 'in': 5,\n",
       " 'a': 6,\n",
       " 'for': 7,\n",
       " 'that': 8,\n",
       " 'by': 9,\n",
       " 'is': 10,\n",
       " 'on': 11,\n",
       " 'be': 12,\n",
       " 'with': 13,\n",
       " 'from': 14,\n",
       " 'as': 15,\n",
       " 'are': 16,\n",
       " 'this': 17,\n",
       " 'was': 18,\n",
       " 'at': 19,\n",
       " 'have': 20,\n",
       " 'i': 21,\n",
       " 'or': 22,\n",
       " 'we': 23,\n",
       " 'were': 24,\n",
       " 'an': 25,\n",
       " 'tobacco': 26,\n",
       " 'smoking': 27,\n",
       " 'you': 28,\n",
       " 'it': 29,\n",
       " 'not': 30,\n",
       " '1': 31,\n",
       " 'has': 32,\n",
       " '2': 33,\n",
       " 'he': 34,\n",
       " 'which': 35,\n",
       " 'been': 36,\n",
       " 'will': 37,\n",
       " 'new': 38,\n",
       " 'may': 39,\n",
       " 'these': 40,\n",
       " 'cancer': 41,\n",
       " 'but': 42,\n",
       " '‘the': 43,\n",
       " 'no': 44,\n",
       " '3': 45,\n",
       " 'smoke': 46,\n",
       " 'cigarette': 47,\n",
       " 'they': 48,\n",
       " 'te': 49,\n",
       " 'your': 50,\n",
       " '4': 51,\n",
       " 'our': 52,\n",
       " 'can': 53,\n",
       " 'one': 54,\n",
       " 'cells': 55,\n",
       " 'more': 56,\n",
       " 'would': 57,\n",
       " 'other': 58,\n",
       " 'than': 59,\n",
       " 'research': 60,\n",
       " 'all': 61,\n",
       " '8': 62,\n",
       " '10': 63,\n",
       " 'health': 64,\n",
       " 'if': 65,\n",
       " 're': 66,\n",
       " 'also': 67,\n",
       " 'ae': 68,\n",
       " 'who': 69,\n",
       " 'about': 70,\n",
       " 'any': 71,\n",
       " 'al': 72,\n",
       " 'us': 73,\n",
       " 'j': 74,\n",
       " 'lung': 75,\n",
       " 'its': 76,\n",
       " 'ee': 77,\n",
       " '0': 78,\n",
       " 'date': 79,\n",
       " 'dr': 80,\n",
       " 'their': 81,\n",
       " 'york': 82,\n",
       " 'study': 83,\n",
       " 'et': 84,\n",
       " 'some': 85,\n",
       " 'said': 86,\n",
       " 'me': 87,\n",
       " 'subject': 88,\n",
       " 'when': 89,\n",
       " 'cigarettes': 90,\n",
       " 'ofthe': 91,\n",
       " 'there': 92,\n",
       " 'smokers': 93,\n",
       " 's': 94,\n",
       " 'only': 95,\n",
       " 'such': 96,\n",
       " 'two': 97,\n",
       " 'nicotine': 98,\n",
       " 'e': 99,\n",
       " '5': 100,\n",
       " 'm': 101,\n",
       " '—': 102,\n",
       " 't': 103,\n",
       " 'used': 104,\n",
       " 'c': 105,\n",
       " 'studies': 106,\n",
       " 'both': 107,\n",
       " 'mr': 108,\n",
       " '©': 109,\n",
       " 'per': 110,\n",
       " 'de': 111,\n",
       " '7': 112,\n",
       " 'years': 113,\n",
       " 'had': 114,\n",
       " 'so': 115,\n",
       " 'r': 116,\n",
       " 'between': 117,\n",
       " 'should': 118,\n",
       " 'please': 119,\n",
       " 'se': 120,\n",
       " 'cell': 121,\n",
       " 'most': 122,\n",
       " 'dna': 123,\n",
       " 'do': 124,\n",
       " 'human': 125,\n",
       " 'up': 126,\n",
       " 'ie': 127,\n",
       " 'b': 128,\n",
       " 'protein': 129,\n",
       " 'pm': 130,\n",
       " 'use': 131,\n",
       " 'co': 132,\n",
       " 'year': 133,\n",
       " 'sent': 134,\n",
       " 'philip': 135,\n",
       " 'into': 136,\n",
       " 'am': 137,\n",
       " '6': 138,\n",
       " 'time': 139,\n",
       " 'ot': 140,\n",
       " 'w': 141,\n",
       " 'out': 142,\n",
       " 'found': 143,\n",
       " 'l': 144,\n",
       " 'many': 145,\n",
       " 'report': 146,\n",
       " '9': 147,\n",
       " 'last': 148,\n",
       " 'f': 149,\n",
       " 'company': 150,\n",
       " 'what': 151,\n",
       " 'could': 152,\n",
       " '20': 153,\n",
       " 'products': 154,\n",
       " 'state': 155,\n",
       " 'during': 156,\n",
       " 'after': 157,\n",
       " 'now': 158,\n",
       " 'university': 159,\n",
       " 'industry': 160,\n",
       " 'information': 161,\n",
       " 'public': 162,\n",
       " 'his': 163,\n",
       " 'each': 164,\n",
       " 'ing': 165,\n",
       " 'exposure': 166,\n",
       " 'data': 167,\n",
       " 'disease': 168,\n",
       " 'those': 169,\n",
       " 'high': 170,\n",
       " 'morris': 171,\n",
       " 'results': 172,\n",
       " 'd': 173,\n",
       " 'usa': 174,\n",
       " 'over': 175,\n",
       " 'however': 176,\n",
       " 'p': 177,\n",
       " 'people': 178,\n",
       " 'see': 179,\n",
       " 'activity': 180,\n",
       " 'oe': 181,\n",
       " 'through': 182,\n",
       " 'work': 183,\n",
       " 'american': 184,\n",
       " 'dear': 185,\n",
       " 'g': 186,\n",
       " 'levels': 187,\n",
       " 'department': 188,\n",
       " 'effects': 189,\n",
       " 'ne': 190,\n",
       " 'my': 191,\n",
       " 'received': 192,\n",
       " 'under': 193,\n",
       " 'o': 194,\n",
       " 'effect': 195,\n",
       " '12': 196,\n",
       " 'very': 197,\n",
       " 'medical': 198,\n",
       " 'know': 199,\n",
       " 'product': 200,\n",
       " 'ad': 201,\n",
       " 'among': 202,\n",
       " '“the': 203,\n",
       " 'group': 204,\n",
       " 'h': 205,\n",
       " 'well': 206,\n",
       " 'age': 207,\n",
       " 'ce': 208,\n",
       " 'low': 209,\n",
       " 'advertising': 210,\n",
       " 'inthe': 211,\n",
       " 'fo': 212,\n",
       " '18': 213,\n",
       " 'because': 214,\n",
       " 'made': 215,\n",
       " 'them': 216,\n",
       " 'since': 217,\n",
       " 'program': 218,\n",
       " 'number': 219,\n",
       " 'st': 220,\n",
       " 'general': 221,\n",
       " 'how': 222,\n",
       " 'gene': 223,\n",
       " 'fe': 224,\n",
       " 'first': 225,\n",
       " 'eee': 226,\n",
       " 'then': 227,\n",
       " 'end': 228,\n",
       " 'several': 229,\n",
       " 'inc': 230,\n",
       " '15': 231,\n",
       " 'national': 232,\n",
       " 'air': 233,\n",
       " 'test': 234,\n",
       " 'es': 235,\n",
       " 'binding': 236,\n",
       " 'ny': 237,\n",
       " 'three': 238,\n",
       " 'n': 239,\n",
       " 'using': 240,\n",
       " 'expression': 241,\n",
       " 'com': 242,\n",
       " 'present': 243,\n",
       " 'page': 244,\n",
       " 'risk': 245,\n",
       " 'factors': 246,\n",
       " 'make': 247,\n",
       " 'increased': 248,\n",
       " 'shown': 249,\n",
       " 'th': 250,\n",
       " 'con': 251,\n",
       " '13': 252,\n",
       " 'following': 253,\n",
       " 'federal': 254,\n",
       " 'factor': 255,\n",
       " 'growth': 256,\n",
       " 'receptor': 257,\n",
       " 'women': 258,\n",
       " 'meeting': 259,\n",
       " 'john': 260,\n",
       " 'increase': 261,\n",
       " '30': 262,\n",
       " 'need': 263,\n",
       " 'tar': 264,\n",
       " 'like': 265,\n",
       " 'even': 266,\n",
       " 'ay': 267,\n",
       " 'major': 268,\n",
       " 'washington': 269,\n",
       " 'while': 270,\n",
       " 'x': 271,\n",
       " 'same': 272,\n",
       " 'ts': 273,\n",
       " 'being': 274,\n",
       " 'letter': 275,\n",
       " '25': 276,\n",
       " 'rate': 277,\n",
       " 'week': 278,\n",
       " 'october': 279,\n",
       " 'before': 280,\n",
       " 'review': 281,\n",
       " 'tn': 282,\n",
       " 'states': 283,\n",
       " 'response': 284,\n",
       " 'reported': 285,\n",
       " 'whether': 286,\n",
       " 'institute': 287,\n",
       " 'get': 288,\n",
       " 'sales': 289,\n",
       " 'march': 290,\n",
       " 'center': 291,\n",
       " 'system': 292,\n",
       " 'analysis': 293,\n",
       " 'changes': 294,\n",
       " 'cause': 295,\n",
       " 'pe': 296,\n",
       " '19': 297,\n",
       " 'development': 298,\n",
       " 'medicine': 299,\n",
       " '‘of': 300,\n",
       " 'im': 301,\n",
       " 'here': 302,\n",
       " 'important': 303,\n",
       " 'less': 304,\n",
       " '‘and': 305,\n",
       " 'materials': 306,\n",
       " '11': 307,\n",
       " 'level': 308,\n",
       " '16': 309,\n",
       " 'within': 310,\n",
       " 'ia': 311,\n",
       " 'er': 312,\n",
       " 'ban': 313,\n",
       " 'methods': 314,\n",
       " 'form': 315,\n",
       " 'much': 316,\n",
       " 'higher': 317,\n",
       " 'tion': 318,\n",
       " '2000': 319,\n",
       " 'call': 320,\n",
       " 'md': 321,\n",
       " 'paper': 322,\n",
       " 'support': 323,\n",
       " 'july': 324,\n",
       " 'does': 325,\n",
       " 'role': 326,\n",
       " 'possible': 327,\n",
       " 'might': 328,\n",
       " 'ta': 329,\n",
       " 'proteins': 330,\n",
       " 'af': 331,\n",
       " '100': 332,\n",
       " 'addition': 333,\n",
       " 'patients': 334,\n",
       " 'mice': 335,\n",
       " 'against': 336,\n",
       " 'associated': 337,\n",
       " 'percent': 338,\n",
       " 'recent': 339,\n",
       " 'ca': 340,\n",
       " 'primary': 341,\n",
       " 'way': 342,\n",
       " 'y': 343,\n",
       " 'proposed': 344,\n",
       " '14': 345,\n",
       " 'day': 346,\n",
       " 'men': 347,\n",
       " 'june': 348,\n",
       " 'evidence': 349,\n",
       " 'she': 350,\n",
       " 'without': 351,\n",
       " 'ine': 352,\n",
       " 'companies': 353,\n",
       " 'avenue': 354,\n",
       " 'order': 355,\n",
       " '21': 356,\n",
       " 'take': 357,\n",
       " 'specific': 358,\n",
       " 'must': 359,\n",
       " 'four': 360,\n",
       " '28': 361,\n",
       " 'mm': 362,\n",
       " '1989': 363,\n",
       " 'copy': 364,\n",
       " '1988': 365,\n",
       " 'where': 366,\n",
       " 'part': 367,\n",
       " 'young': 368,\n",
       " 'site': 369,\n",
       " 'en': 370,\n",
       " 'just': 371,\n",
       " 'rat': 372,\n",
       " '24': 373,\n",
       " 'tumor': 374,\n",
       " 'total': 375,\n",
       " 'second': 376,\n",
       " 'genes': 377,\n",
       " 'action': 378,\n",
       " 'process': 379,\n",
       " '22': 380,\n",
       " 'om': 381,\n",
       " 'nonsmokers': 382,\n",
       " 'available': 383,\n",
       " 'january': 384,\n",
       " 'heart': 385,\n",
       " 'normal': 386,\n",
       " 'result': 387,\n",
       " 'long': 388,\n",
       " 'president': 389,\n",
       " 'control': 390,\n",
       " 'free': 391,\n",
       " 'association': 392,\n",
       " 'times': 393,\n",
       " '17': 394,\n",
       " 'united': 395,\n",
       " 'function': 396,\n",
       " 'blood': 397,\n",
       " 'standard': 398,\n",
       " 'ea': 399,\n",
       " 'reynolds': 400,\n",
       " 'death': 401,\n",
       " 'provide': 402,\n",
       " '40': 403,\n",
       " 'wo': 404,\n",
       " 'pro': 405,\n",
       " 'november': 406,\n",
       " 'various': 407,\n",
       " 'ma': 408,\n",
       " 'go': 409,\n",
       " '‘': 410,\n",
       " 'good': 411,\n",
       " 'february': 412,\n",
       " 'ss': 413,\n",
       " 'production': 414,\n",
       " 'produced': 415,\n",
       " 'further': 416,\n",
       " 'project': 417,\n",
       " 'april': 418,\n",
       " 'set': 419,\n",
       " 'plan': 420,\n",
       " 'although': 421,\n",
       " '23': 422,\n",
       " 'ate': 423,\n",
       " 'similar': 424,\n",
       " 'given': 425,\n",
       " 'area': 426,\n",
       " 'ef': 427,\n",
       " 'due': 428,\n",
       " 'today': 429,\n",
       " 'another': 430,\n",
       " 'says': 431,\n",
       " 'business': 432,\n",
       " 'news': 433,\n",
       " 'change': 434,\n",
       " 'robert': 435,\n",
       " 'either': 436,\n",
       " 'attached': 437,\n",
       " 'le': 438,\n",
       " 'introduction': 439,\n",
       " '26': 440,\n",
       " 'different': 441,\n",
       " 'street': 442,\n",
       " 'help': 443,\n",
       " 'including': 444,\n",
       " 'council': 445,\n",
       " 'let': 446,\n",
       " 'type': 447,\n",
       " 'pack': 448,\n",
       " 'receptors': 449,\n",
       " '1990': 450,\n",
       " 'current': 451,\n",
       " 'say': 452,\n",
       " 'school': 453,\n",
       " 'days': 454,\n",
       " 'fom': 455,\n",
       " 'august': 456,\n",
       " 'did': 457,\n",
       " 'david': 458,\n",
       " 'enclosed': 459,\n",
       " 'every': 460,\n",
       " '1987': 461,\n",
       " 'box': 462,\n",
       " 'december': 463,\n",
       " 'society': 464,\n",
       " 'case': 465,\n",
       " 'based': 466,\n",
       " 'government': 467,\n",
       " 'think': 468,\n",
       " 'po': 469,\n",
       " 'show': 470,\n",
       " 'volume': 471,\n",
       " 'director': 472,\n",
       " 'ms': 473,\n",
       " 'press': 474,\n",
       " 'nd': 475,\n",
       " 'surgeon': 476,\n",
       " 'want': 477,\n",
       " 'fr': 478,\n",
       " 'next': 479,\n",
       " 'compared': 480,\n",
       " '1985': 481,\n",
       " 'ty': 482,\n",
       " 'ge': 483,\n",
       " 'september': 484,\n",
       " 'activation': 485,\n",
       " 'rates': 486,\n",
       " 'eae': 487,\n",
       " 'find': 488,\n",
       " 'wil': 489,\n",
       " 'market': 490,\n",
       " 'k': 491,\n",
       " '«': 492,\n",
       " '50': 493,\n",
       " 'thanks': 494,\n",
       " 'obtained': 495,\n",
       " 'california': 496,\n",
       " 'children': 497,\n",
       " 'lower': 498,\n",
       " 'issue': 499,\n",
       " 'brand': 500,\n",
       " '1995': 501,\n",
       " 'observed': 502,\n",
       " 'youth': 503,\n",
       " 'na': 504,\n",
       " '1984': 505,\n",
       " 'material': 506,\n",
       " 'period': 507,\n",
       " 'showed': 508,\n",
       " '1994': 509,\n",
       " 'large': 510,\n",
       " 'proposal': 511,\n",
       " 'sa': 512,\n",
       " 'determine': 513,\n",
       " 'brands': 514,\n",
       " 'note': 515,\n",
       " 'environmental': 516,\n",
       " 'known': 517,\n",
       " 'yet': 518,\n",
       " '1986': 519,\n",
       " 'come': 520,\n",
       " 'sincerely': 521,\n",
       " 'few': 522,\n",
       " 'small': 523,\n",
       " 'cases': 524,\n",
       " 'molecular': 525,\n",
       " 'ar': 526,\n",
       " 'regulation': 527,\n",
       " 'prepared': 528,\n",
       " 'include': 529,\n",
       " 'method': 530,\n",
       " 'weight': 531,\n",
       " 'right': 532,\n",
       " 'tax': 533,\n",
       " 'best': 534,\n",
       " 'questions': 535,\n",
       " 'exposed': 536,\n",
       " 'message': 537,\n",
       " 'forthe': 538,\n",
       " 'fact': 539,\n",
       " 've': 540,\n",
       " '27': 541,\n",
       " 'ey': 542,\n",
       " 'added': 543,\n",
       " 'amount': 544,\n",
       " '‘a': 545,\n",
       " 'camel': 546,\n",
       " 'sites': 547,\n",
       " 'publications': 548,\n",
       " 'act': 549,\n",
       " 'cent': 550,\n",
       " 'previously': 551,\n",
       " 'region': 552,\n",
       " 'committee': 553,\n",
       " 'kinase': 554,\n",
       " 'tothe': 555,\n",
       " 'animals': 556,\n",
       " 'etal': 557,\n",
       " 'significant': 558,\n",
       " 'aa': 559,\n",
       " 'law': 560,\n",
       " 'additional': 561,\n",
       " 'sample': 562,\n",
       " 'jo': 563,\n",
       " 'ap': 564,\n",
       " 'house': 565,\n",
       " 'containing': 566,\n",
       " 'programs': 567,\n",
       " '1996': 568,\n",
       " 'os': 569,\n",
       " 'diseases': 570,\n",
       " 'involved': 571,\n",
       " 'potential': 572,\n",
       " 'thus': 573,\n",
       " 'ed': 574,\n",
       " 'friday': 575,\n",
       " 'treatment': 576,\n",
       " '1982': 577,\n",
       " 'smoked': 578,\n",
       " 'chain': 579,\n",
       " 'million': 580,\n",
       " 'according': 581,\n",
       " 'dont': 582,\n",
       " 'recently': 583,\n",
       " '1993': 584,\n",
       " 'point': 585,\n",
       " 'therefore': 586,\n",
       " 'rna': 587,\n",
       " 'presence': 588,\n",
       " 'board': 589,\n",
       " 'past': 590,\n",
       " 'serum': 591,\n",
       " 'bill': 592,\n",
       " 'related': 593,\n",
       " 'dc': 594,\n",
       " 'man': 595,\n",
       " 'give': 596,\n",
       " 'areas': 597,\n",
       " 'described': 598,\n",
       " 'groups': 599,\n",
       " '1992': 600,\n",
       " 'direct': 601,\n",
       " 'warning': 602,\n",
       " 'care': 603,\n",
       " 'members': 604,\n",
       " 'chemical': 605,\n",
       " 'cc': 606,\n",
       " 'reduced': 607,\n",
       " 'sequence': 608,\n",
       " 'five': 609,\n",
       " 'respiratory': 610,\n",
       " 'rats': 611,\n",
       " 'her': 612,\n",
       " 'application': 613,\n",
       " 'problems': 614,\n",
       " 'laboratory': 615,\n",
       " 'media': 616,\n",
       " 'samples': 617,\n",
       " 'filter': 618,\n",
       " 'winston': 619,\n",
       " 'off': 620,\n",
       " 'light': 621,\n",
       " 'already': 622,\n",
       " 'developed': 623,\n",
       " 'far': 624,\n",
       " 'experimental': 625,\n",
       " 'original': 626,\n",
       " 'mg': 627,\n",
       " 'modified': 628,\n",
       " 'white': 629,\n",
       " 'fda': 630,\n",
       " 'tne': 631,\n",
       " 'la': 632,\n",
       " 'smoker': 633,\n",
       " 'line': 634,\n",
       " 'early': 635,\n",
       " '1991': 636,\n",
       " 'division': 637,\n",
       " 'plasma': 638,\n",
       " 'journal': 639,\n",
       " 'complex': 640,\n",
       " 'office': 641,\n",
       " 'legal': 642,\n",
       " '¢': 643,\n",
       " 'vitro': 644,\n",
       " 'back': 645,\n",
       " '1999': 646,\n",
       " 'basis': 647,\n",
       " 'pa': 648,\n",
       " 'v': 649,\n",
       " 'cellular': 650,\n",
       " 'provided': 651,\n",
       " 'reports': 652,\n",
       " 'carbon': 653,\n",
       " 'contains': 654,\n",
       " 'passive': 655,\n",
       " 'ability': 656,\n",
       " 'scientific': 657,\n",
       " 'ets': 658,\n",
       " 'adult': 659,\n",
       " 'agency': 660,\n",
       " 'monday': 661,\n",
       " 'place': 662,\n",
       " 'indicate': 663,\n",
       " 'suggest': 664,\n",
       " 'park': 665,\n",
       " 'types': 666,\n",
       " 'certain': 667,\n",
       " 'mouse': 668,\n",
       " '1980': 669,\n",
       " 'body': 670,\n",
       " 'problem': 671,\n",
       " 'called': 672,\n",
       " 'own': 673,\n",
       " 'ex': 674,\n",
       " 'release': 675,\n",
       " 'ere': 676,\n",
       " 'ean': 677,\n",
       " 'services': 678,\n",
       " 'jr': 679,\n",
       " 'drug': 680,\n",
       " 'il': 681,\n",
       " 'section': 682,\n",
       " 'ue': 683,\n",
       " 'often': 684,\n",
       " 'thatthe': 685,\n",
       " 'city': 686,\n",
       " 'ane': 687,\n",
       " '1s': 688,\n",
       " '»': 689,\n",
       " 'required': 690,\n",
       " 'determined': 691,\n",
       " 'hospital': 692,\n",
       " 'model': 693,\n",
       " 'formation': 694,\n",
       " 'oo': 695,\n",
       " 'congress': 696,\n",
       " 'oy': 697,\n",
       " 'tat': 698,\n",
       " 'wa': 699,\n",
       " '35': 700,\n",
       " '29': 701,\n",
       " 'produce': 702,\n",
       " 'conditions': 703,\n",
       " 'food': 704,\n",
       " 'average': 705,\n",
       " 'tho': 706,\n",
       " 'acid': 707,\n",
       " 'ete': 708,\n",
       " 'down': 709,\n",
       " 'great': 710,\n",
       " 'studied': 711,\n",
       " 'tt': 712,\n",
       " 'marketing': 713,\n",
       " 'north': 714,\n",
       " 'ow': 715,\n",
       " 'population': 716,\n",
       " 'oa': 717,\n",
       " 'vol': 718,\n",
       " 'court': 719,\n",
       " 'upon': 720,\n",
       " 'und': 721,\n",
       " 'ads': 722,\n",
       " 'tha': 723,\n",
       " 'previous': 724,\n",
       " 'service': 725,\n",
       " 'membrane': 726,\n",
       " 'cost': 727,\n",
       " 'eg': 728,\n",
       " 'ut': 729,\n",
       " 'medium': 730,\n",
       " 'virginia': 731,\n",
       " 'survey': 732,\n",
       " '31': 733,\n",
       " 'distribution': 734,\n",
       " 'done': 735,\n",
       " 'weeks': 736,\n",
       " 'tor': 737,\n",
       " 'water': 738,\n",
       " 'expected': 739,\n",
       " 'too': 740,\n",
       " 'science': 741,\n",
       " 'sald': 742,\n",
       " '2001': 743,\n",
       " 'prevention': 744,\n",
       " 'causes': 745,\n",
       " 'demonstrated': 746,\n",
       " '60': 747,\n",
       " 'rom': 748,\n",
       " 'active': 749,\n",
       " 'coronary': 750,\n",
       " 'hat': 751,\n",
       " 'mark': 752,\n",
       " 'cel': 753,\n",
       " 'concentrations': 754,\n",
       " 'send': 755,\n",
       " 'believe': 756,\n",
       " 'yours': 757,\n",
       " 'nc': 758,\n",
       " 'tee': 759,\n",
       " 'induced': 760,\n",
       " 'county': 761,\n",
       " 'relationship': 762,\n",
       " 'virus': 763,\n",
       " 'ps': 764,\n",
       " 'asked': 765,\n",
       " 'animal': 766,\n",
       " 'share': 767,\n",
       " 'un': 768,\n",
       " 'ai': 769,\n",
       " 'complete': 770,\n",
       " 'importance': 771,\n",
       " 'conference': 772,\n",
       " 'interest': 773,\n",
       " 'common': 774,\n",
       " 'local': 775,\n",
       " 'ii': 776,\n",
       " 'tested': 777,\n",
       " 'reaction': 778,\n",
       " 'retail': 779,\n",
       " 'synthesis': 780,\n",
       " 'ina': 781,\n",
       " '1998': 782,\n",
       " 'birth': 783,\n",
       " 'ever': 784,\n",
       " 'compounds': 785,\n",
       " 'ther': 786,\n",
       " 'fw': 787,\n",
       " 'suggested': 788,\n",
       " '“': 789,\n",
       " 'able': 790,\n",
       " 'later': 791,\n",
       " 'top': 792,\n",
       " 'why': 793,\n",
       " '1983': 794,\n",
       " 'caused': 795,\n",
       " 'chronic': 796,\n",
       " 'ou': 797,\n",
       " 'taste': 798,\n",
       " 'presented': 799,\n",
       " 'request': 800,\n",
       " 'wednesday': 801,\n",
       " 'future': 802,\n",
       " 'least': 803,\n",
       " 'course': 804,\n",
       " 'necessary': 805,\n",
       " 'room': 806,\n",
       " '‘to': 807,\n",
       " 'nt': 808,\n",
       " 'domain': 809,\n",
       " 'ths': 810,\n",
       " 'flow': 811,\n",
       " 'seen': 812,\n",
       " 'black': 813,\n",
       " 'full': 814,\n",
       " 'final': 815,\n",
       " 'third': 816,\n",
       " 'richard': 817,\n",
       " 'individual': 818,\n",
       " 'example': 819,\n",
       " 'mo': 820,\n",
       " 'el': 821,\n",
       " 'ene': 822,\n",
       " 'above': 823,\n",
       " 'menthol': 824,\n",
       " 'lines': 825,\n",
       " 'thet': 826,\n",
       " 'san': 827,\n",
       " 'experiments': 828,\n",
       " 'op': 829,\n",
       " 'single': 830,\n",
       " 'abstract': 831,\n",
       " 'world': 832,\n",
       " 'ag': 833,\n",
       " 'michael': 834,\n",
       " 'testing': 835,\n",
       " 'identified': 836,\n",
       " 'tae': 837,\n",
       " 'him': 838,\n",
       " 'price': 839,\n",
       " 'prior': 840,\n",
       " 'tumors': 841,\n",
       " 'discuss': 842,\n",
       " 'others': 843,\n",
       " 'campaign': 844,\n",
       " 'hi': 845,\n",
       " 'home': 846,\n",
       " 'taken': 847,\n",
       " 'ha': 848,\n",
       " 'until': 849,\n",
       " 'publication': 850,\n",
       " 'los': 851,\n",
       " 'tissue': 852,\n",
       " 'going': 853,\n",
       " 'calls': 854,\n",
       " '1978': 855,\n",
       " 'pat': 856,\n",
       " 'dose': 857,\n",
       " 'regarding': 858,\n",
       " 'annual': 859,\n",
       " 'target': 860,\n",
       " 'executive': 861,\n",
       " 'grant': 862,\n",
       " 'fax': 863,\n",
       " 'fs': 864,\n",
       " 'bs': 865,\n",
       " 'old': 866,\n",
       " 'transcription': 867,\n",
       " 'vivo': 868,\n",
       " 'subjects': 869,\n",
       " 'ten': 870,\n",
       " 'generals': 871,\n",
       " 'tuesday': 872,\n",
       " 'costs': 873,\n",
       " 'file': 874,\n",
       " 'ng': 875,\n",
       " 'issues': 876,\n",
       " 'hope': 877,\n",
       " '80': 878,\n",
       " 'smith': 879,\n",
       " '200': 880,\n",
       " 'events': 881,\n",
       " 'wih': 882,\n",
       " 'family': 883,\n",
       " 'administration': 884,\n",
       " 'promotion': 885,\n",
       " 'manager': 886,\n",
       " 'telephone': 887,\n",
       " 'fn': 888,\n",
       " 'below': 889,\n",
       " 'io': 890,\n",
       " '1979': 891,\n",
       " 'deaths': 892,\n",
       " 'agents': 893,\n",
       " 'question': 894,\n",
       " 'karen': 895,\n",
       " 'touched': 896,\n",
       " 'ba': 897,\n",
       " 'indicated': 898,\n",
       " '00': 899,\n",
       " 'appear': 900,\n",
       " 'tests': 901,\n",
       " 'induction': 902,\n",
       " 'pre': 903,\n",
       " '1981': 904,\n",
       " 'fa': 905,\n",
       " 'breast': 906,\n",
       " 'hy': 907,\n",
       " 'appears': 908,\n",
       " 'agreement': 909,\n",
       " 'core': 910,\n",
       " 'conducted': 911,\n",
       " 'together': 912,\n",
       " 'list': 913,\n",
       " 'put': 914,\n",
       " 'size': 915,\n",
       " 'patent': 916,\n",
       " 'incidence': 917,\n",
       " 'increases': 918,\n",
       " 'still': 919,\n",
       " '°': 920,\n",
       " 'key': 921,\n",
       " 'marlboro': 922,\n",
       " 'attention': 923,\n",
       " 'held': 924,\n",
       " 'ite': 925,\n",
       " 'ave': 926,\n",
       " 'eo': 927,\n",
       " 'team': 928,\n",
       " 'thursday': 929,\n",
       " 'relative': 930,\n",
       " 'life': 931,\n",
       " 'liver': 932,\n",
       " 'respectively': 933,\n",
       " 'vice': 934,\n",
       " 'ws': 935,\n",
       " 'a8': 936,\n",
       " 'sue': 937,\n",
       " 'ye': 938,\n",
       " 'expressed': 939,\n",
       " 'workers': 940,\n",
       " 'cal': 941,\n",
       " 'atthe': 942,\n",
       " 'pressure': 943,\n",
       " 'agent': 944,\n",
       " 'reference': 945,\n",
       " 'henry': 946,\n",
       " 'thank': 947,\n",
       " 'va': 948,\n",
       " 'timn': 949,\n",
       " 'mortality': 950,\n",
       " 'ol': 951,\n",
       " '‘this': 952,\n",
       " 'class': 953,\n",
       " 'again': 954,\n",
       " 'mean': 955,\n",
       " 'mrna': 956,\n",
       " 'contain': 957,\n",
       " 'male': 958,\n",
       " 'except': 959,\n",
       " 'thought': 960,\n",
       " 'months': 961,\n",
       " 'richmond': 962,\n",
       " 'design': 963,\n",
       " 'id': 964,\n",
       " 'summary': 965,\n",
       " 'directly': 966,\n",
       " 'words': 967,\n",
       " 'tung': 968,\n",
       " 'approximately': 969,\n",
       " 'enzyme': 970,\n",
       " 'followed': 971,\n",
       " 'matter': 972,\n",
       " 'considered': 973,\n",
       " 'keep': 974,\n",
       " 'status': 975,\n",
       " 'biology': 976,\n",
       " 'findings': 977,\n",
       " 'forward': 978,\n",
       " 'quality': 979,\n",
       " 'iy': 980,\n",
       " 'gas': 981,\n",
       " 'pr': 982,\n",
       " 'published': 983,\n",
       " 'sy': 984,\n",
       " 'procedures': 985,\n",
       " '90': 986,\n",
       " 'probably': 987,\n",
       " 'mi': 988,\n",
       " '1997': 989,\n",
       " 'sure': 990,\n",
       " 'lorillard': 991,\n",
       " 'u': 992,\n",
       " 'significantly': 993,\n",
       " 'tis': 994,\n",
       " 'che': 995,\n",
       " 'address': 996,\n",
       " '1977': 997,\n",
       " 'west': 998,\n",
       " 'phase': 999,\n",
       " 'concentration': 1000,\n",
       " ...}"
      ]
     },
     "execution_count": 80,
     "metadata": {},
     "output_type": "execute_result"
    }
   ],
   "source": [
    "tokenizer.word_index"
   ]
  },
  {
   "cell_type": "code",
   "execution_count": 63,
   "metadata": {},
   "outputs": [
    {
     "data": {
      "text/plain": [
       "'aug 19 88 1204 yer ny ps legally approved i prototypical copy introducing premier its been called the most significant advance in cigarette history we call it premier because its the beginning of a whole new era of smoking enjoyment  cleaner enjoyment than you may have ever thought possible premier revolutionizes smoking incredible as it sounds new premier is the first cigarette you actually smoke by heating tobacco not burning it its a breakthrough that changes the very composition of cigarette smoke  substantially reducing many of the controversial compounds found in the smoke of tobaccoburning cigarettes those that remain include carbon monoxide but the amount of carbon monoxide is no greater than in the bestselling lights quite simply its a breakthrough for ‘everyone who smokes cleaner smoke cleaner pleasure from your very first puff premier will treat you to a smoother easier ‘smoke than youve ever experienced smoke that feels full but not at all heavy smoke that satisfies yet dissipates almost the moment you exhale what it all comes down to is a cleaner smoke for you and everyone around you one week will convince you if all this sounds too good to be true prove it to yourself enjoy premier for a week and discover the new pleasure of cleaner smoking ossse sa90g the cleaner smoke'"
      ]
     },
     "execution_count": 63,
     "metadata": {},
     "output_type": "execute_result"
    }
   ],
   "source": [
    "df_cleaned[\"Letters\"][0]"
   ]
  },
  {
   "cell_type": "code",
   "execution_count": 64,
   "metadata": {},
   "outputs": [
    {
     "data": {
      "text/plain": [
       "(1,)"
      ]
     },
     "execution_count": 64,
     "metadata": {},
     "output_type": "execute_result"
    }
   ],
   "source": [
    "f=[df_cleaned[\"Letters\"][0]]\n",
    "f = np.array(f)\n",
    "f.shape"
   ]
  },
  {
   "cell_type": "code",
   "execution_count": 68,
   "metadata": {},
   "outputs": [
    {
     "ename": "AttributeError",
     "evalue": "'Tokenizer' object has no attribute 'aug'",
     "output_type": "error",
     "traceback": [
      "\u001b[1;31m---------------------------------------------------------------------------\u001b[0m",
      "\u001b[1;31mAttributeError\u001b[0m                            Traceback (most recent call last)",
      "Cell \u001b[1;32mIn[68], line 1\u001b[0m\n\u001b[1;32m----> 1\u001b[0m \u001b[43mtokenizer\u001b[49m\u001b[38;5;241;43m.\u001b[39;49m\u001b[43maug\u001b[49m\n",
      "\u001b[1;31mAttributeError\u001b[0m: 'Tokenizer' object has no attribute 'aug'"
     ]
    }
   ],
   "source": [
    "tokenizer"
   ]
  },
  {
   "cell_type": "code",
   "execution_count": 65,
   "metadata": {},
   "outputs": [
    {
     "data": {
      "text/plain": [
       "array(['aug 19 88 1204 yer ny ps legally approved i prototypical copy introducing premier its been called the most significant advance in cigarette history we call it premier because its the beginning of a whole new era of smoking enjoyment  cleaner enjoyment than you may have ever thought possible premier revolutionizes smoking incredible as it sounds new premier is the first cigarette you actually smoke by heating tobacco not burning it its a breakthrough that changes the very composition of cigarette smoke  substantially reducing many of the controversial compounds found in the smoke of tobaccoburning cigarettes those that remain include carbon monoxide but the amount of carbon monoxide is no greater than in the bestselling lights quite simply its a breakthrough for ‘everyone who smokes cleaner smoke cleaner pleasure from your very first puff premier will treat you to a smoother easier ‘smoke than youve ever experienced smoke that feels full but not at all heavy smoke that satisfies yet dissipates almost the moment you exhale what it all comes down to is a cleaner smoke for you and everyone around you one week will convince you if all this sounds too good to be true prove it to yourself enjoy premier for a week and discover the new pleasure of cleaner smoking ossse sa90g the cleaner smoke'],\n",
       "      dtype='<U1304')"
      ]
     },
     "execution_count": 65,
     "metadata": {},
     "output_type": "execute_result"
    }
   ],
   "source": [
    "f"
   ]
  },
  {
   "cell_type": "code",
   "execution_count": 66,
   "metadata": {},
   "outputs": [
    {
     "data": {
      "text/plain": [
       "[[2679,\n",
       "  297,\n",
       "  2379,\n",
       "  24262,\n",
       "  3416,\n",
       "  237,\n",
       "  764,\n",
       "  7625,\n",
       "  1569,\n",
       "  21,\n",
       "  16152,\n",
       "  364,\n",
       "  7626,\n",
       "  3850,\n",
       "  76,\n",
       "  36,\n",
       "  672,\n",
       "  1,\n",
       "  122,\n",
       "  558,\n",
       "  2930,\n",
       "  5,\n",
       "  47,\n",
       "  2024,\n",
       "  23,\n",
       "  320,\n",
       "  29,\n",
       "  3850,\n",
       "  214,\n",
       "  76,\n",
       "  1,\n",
       "  2380,\n",
       "  2,\n",
       "  6,\n",
       "  1570,\n",
       "  38,\n",
       "  2484,\n",
       "  2,\n",
       "  27,\n",
       "  8752,\n",
       "  2680,\n",
       "  8752,\n",
       "  59,\n",
       "  28,\n",
       "  39,\n",
       "  20,\n",
       "  784,\n",
       "  960,\n",
       "  327,\n",
       "  3850,\n",
       "  24263,\n",
       "  27,\n",
       "  8753,\n",
       "  15,\n",
       "  29,\n",
       "  6762,\n",
       "  38,\n",
       "  3850,\n",
       "  10,\n",
       "  1,\n",
       "  225,\n",
       "  47,\n",
       "  28,\n",
       "  2189,\n",
       "  46,\n",
       "  9,\n",
       "  3851,\n",
       "  26,\n",
       "  30,\n",
       "  3852,\n",
       "  29,\n",
       "  76,\n",
       "  6,\n",
       "  8754,\n",
       "  8,\n",
       "  294,\n",
       "  1,\n",
       "  197,\n",
       "  3240,\n",
       "  2,\n",
       "  47,\n",
       "  46,\n",
       "  3634,\n",
       "  2582,\n",
       "  145,\n",
       "  2,\n",
       "  1,\n",
       "  4414,\n",
       "  785,\n",
       "  143,\n",
       "  5,\n",
       "  1,\n",
       "  46,\n",
       "  2,\n",
       "  16153,\n",
       "  90,\n",
       "  169,\n",
       "  8,\n",
       "  2485,\n",
       "  529,\n",
       "  653,\n",
       "  1467,\n",
       "  42,\n",
       "  1,\n",
       "  544,\n",
       "  2,\n",
       "  653,\n",
       "  1467,\n",
       "  10,\n",
       "  44,\n",
       "  1167,\n",
       "  59,\n",
       "  5,\n",
       "  1,\n",
       "  12465,\n",
       "  1089,\n",
       "  1755,\n",
       "  2190,\n",
       "  76,\n",
       "  6,\n",
       "  8754,\n",
       "  7,\n",
       "  24264,\n",
       "  69,\n",
       "  2191,\n",
       "  2680,\n",
       "  46,\n",
       "  2680,\n",
       "  2381,\n",
       "  14,\n",
       "  50,\n",
       "  197,\n",
       "  225,\n",
       "  2931,\n",
       "  3850,\n",
       "  37,\n",
       "  3635,\n",
       "  28,\n",
       "  4,\n",
       "  6,\n",
       "  16154,\n",
       "  6096,\n",
       "  3853,\n",
       "  59,\n",
       "  3854,\n",
       "  784,\n",
       "  8755,\n",
       "  46,\n",
       "  8,\n",
       "  7627,\n",
       "  814,\n",
       "  42,\n",
       "  30,\n",
       "  19,\n",
       "  61,\n",
       "  1168,\n",
       "  46,\n",
       "  8,\n",
       "  16155,\n",
       "  518,\n",
       "  24265,\n",
       "  1391,\n",
       "  1,\n",
       "  4415,\n",
       "  28,\n",
       "  10302,\n",
       "  151,\n",
       "  29,\n",
       "  61,\n",
       "  2288,\n",
       "  709,\n",
       "  4,\n",
       "  10,\n",
       "  6,\n",
       "  2680,\n",
       "  46,\n",
       "  7,\n",
       "  28,\n",
       "  3,\n",
       "  3855,\n",
       "  1035,\n",
       "  28,\n",
       "  54,\n",
       "  278,\n",
       "  37,\n",
       "  7628,\n",
       "  28,\n",
       "  65,\n",
       "  61,\n",
       "  17,\n",
       "  6762,\n",
       "  740,\n",
       "  411,\n",
       "  4,\n",
       "  12,\n",
       "  1571,\n",
       "  2192,\n",
       "  29,\n",
       "  4,\n",
       "  5132,\n",
       "  2486,\n",
       "  3850,\n",
       "  7,\n",
       "  6,\n",
       "  278,\n",
       "  3,\n",
       "  10303,\n",
       "  1,\n",
       "  38,\n",
       "  2381,\n",
       "  2,\n",
       "  2680,\n",
       "  27,\n",
       "  24266,\n",
       "  24267,\n",
       "  1,\n",
       "  2680,\n",
       "  46]]"
      ]
     },
     "execution_count": 66,
     "metadata": {},
     "output_type": "execute_result"
    }
   ],
   "source": [
    "seq = tokenizer.texts_to_sequences(f)\n",
    "seq"
   ]
  },
  {
   "cell_type": "code",
   "execution_count": 60,
   "metadata": {},
   "outputs": [
    {
     "data": {
      "text/plain": [
       "[2679,\n",
       " 297,\n",
       " 2379,\n",
       " 24262,\n",
       " 3416,\n",
       " 237,\n",
       " 764,\n",
       " 7625,\n",
       " 1569,\n",
       " 21,\n",
       " 16152,\n",
       " 364,\n",
       " 7626,\n",
       " 3850,\n",
       " 76,\n",
       " 36,\n",
       " 672,\n",
       " 1,\n",
       " 122,\n",
       " 558,\n",
       " 2930,\n",
       " 5,\n",
       " 47,\n",
       " 2024,\n",
       " 23,\n",
       " 320,\n",
       " 29,\n",
       " 3850,\n",
       " 214,\n",
       " 76,\n",
       " 1,\n",
       " 2380,\n",
       " 2,\n",
       " 6,\n",
       " 1570,\n",
       " 38,\n",
       " 2484,\n",
       " 2,\n",
       " 27,\n",
       " 8752,\n",
       " 2680,\n",
       " 8752,\n",
       " 59,\n",
       " 28,\n",
       " 39,\n",
       " 20,\n",
       " 784,\n",
       " 960,\n",
       " 327,\n",
       " 3850,\n",
       " 24263,\n",
       " 27,\n",
       " 8753,\n",
       " 15,\n",
       " 29,\n",
       " 6762,\n",
       " 38,\n",
       " 3850,\n",
       " 10,\n",
       " 1,\n",
       " 225,\n",
       " 47,\n",
       " 28,\n",
       " 2189,\n",
       " 46,\n",
       " 9,\n",
       " 3851,\n",
       " 26,\n",
       " 30,\n",
       " 3852,\n",
       " 29,\n",
       " 76,\n",
       " 6,\n",
       " 8754,\n",
       " 8,\n",
       " 294,\n",
       " 1,\n",
       " 197,\n",
       " 3240,\n",
       " 2,\n",
       " 47,\n",
       " 46,\n",
       " 3634,\n",
       " 2582,\n",
       " 145,\n",
       " 2,\n",
       " 1,\n",
       " 4414,\n",
       " 785,\n",
       " 143,\n",
       " 5,\n",
       " 1,\n",
       " 46,\n",
       " 2,\n",
       " 16153,\n",
       " 90,\n",
       " 169,\n",
       " 8,\n",
       " 2485,\n",
       " 529,\n",
       " 653,\n",
       " 1467,\n",
       " 42,\n",
       " 1,\n",
       " 544,\n",
       " 2,\n",
       " 653,\n",
       " 1467,\n",
       " 10,\n",
       " 44,\n",
       " 1167,\n",
       " 59,\n",
       " 5,\n",
       " 1,\n",
       " 12465,\n",
       " 1089,\n",
       " 1755,\n",
       " 2190,\n",
       " 76,\n",
       " 6,\n",
       " 8754,\n",
       " 7,\n",
       " 24264,\n",
       " 69,\n",
       " 2191,\n",
       " 2680,\n",
       " 46,\n",
       " 2680,\n",
       " 2381,\n",
       " 14,\n",
       " 50,\n",
       " 197,\n",
       " 225,\n",
       " 2931,\n",
       " 3850,\n",
       " 37,\n",
       " 3635,\n",
       " 28,\n",
       " 4,\n",
       " 6,\n",
       " 16154,\n",
       " 6096,\n",
       " 3853,\n",
       " 59,\n",
       " 3854,\n",
       " 784,\n",
       " 8755,\n",
       " 46,\n",
       " 8,\n",
       " 7627,\n",
       " 814,\n",
       " 42,\n",
       " 30,\n",
       " 19,\n",
       " 61,\n",
       " 1168,\n",
       " 46,\n",
       " 8,\n",
       " 16155,\n",
       " 518,\n",
       " 24265,\n",
       " 1391,\n",
       " 1,\n",
       " 4415,\n",
       " 28,\n",
       " 10302,\n",
       " 151,\n",
       " 29,\n",
       " 61,\n",
       " 2288,\n",
       " 709,\n",
       " 4,\n",
       " 10,\n",
       " 6,\n",
       " 2680,\n",
       " 46,\n",
       " 7,\n",
       " 28,\n",
       " 3,\n",
       " 3855,\n",
       " 1035,\n",
       " 28,\n",
       " 54,\n",
       " 278,\n",
       " 37,\n",
       " 7628,\n",
       " 28,\n",
       " 65,\n",
       " 61,\n",
       " 17,\n",
       " 6762,\n",
       " 740,\n",
       " 411,\n",
       " 4,\n",
       " 12,\n",
       " 1571,\n",
       " 2192,\n",
       " 29,\n",
       " 4,\n",
       " 5132,\n",
       " 2486,\n",
       " 3850,\n",
       " 7,\n",
       " 6,\n",
       " 278,\n",
       " 3,\n",
       " 10303,\n",
       " 1,\n",
       " 38,\n",
       " 2381,\n",
       " 2,\n",
       " 2680,\n",
       " 27,\n",
       " 24266,\n",
       " 24267,\n",
       " 1,\n",
       " 2680,\n",
       " 46]"
      ]
     },
     "execution_count": 60,
     "metadata": {},
     "output_type": "execute_result"
    }
   ],
   "source": [
    "seq[0]"
   ]
  },
  {
   "cell_type": "code",
   "execution_count": 72,
   "metadata": {},
   "outputs": [
    {
     "data": {
      "text/plain": [
       "[[2679,\n",
       "  297,\n",
       "  2379,\n",
       "  24262,\n",
       "  3416,\n",
       "  237,\n",
       "  764,\n",
       "  7625,\n",
       "  1569,\n",
       "  21,\n",
       "  16152,\n",
       "  364,\n",
       "  7626,\n",
       "  3850,\n",
       "  76,\n",
       "  36,\n",
       "  672,\n",
       "  1,\n",
       "  122,\n",
       "  558,\n",
       "  2930,\n",
       "  5,\n",
       "  47,\n",
       "  2024,\n",
       "  23,\n",
       "  320,\n",
       "  29,\n",
       "  3850,\n",
       "  214,\n",
       "  76,\n",
       "  1,\n",
       "  2380,\n",
       "  2,\n",
       "  6,\n",
       "  1570,\n",
       "  38,\n",
       "  2484,\n",
       "  2,\n",
       "  27,\n",
       "  8752,\n",
       "  2680,\n",
       "  8752,\n",
       "  59,\n",
       "  28,\n",
       "  39,\n",
       "  20,\n",
       "  784,\n",
       "  960,\n",
       "  327,\n",
       "  3850,\n",
       "  24263,\n",
       "  27,\n",
       "  8753,\n",
       "  15,\n",
       "  29,\n",
       "  6762,\n",
       "  38,\n",
       "  3850,\n",
       "  10,\n",
       "  1,\n",
       "  225,\n",
       "  47,\n",
       "  28,\n",
       "  2189,\n",
       "  46,\n",
       "  9,\n",
       "  3851,\n",
       "  26,\n",
       "  30,\n",
       "  3852,\n",
       "  29,\n",
       "  76,\n",
       "  6,\n",
       "  8754,\n",
       "  8,\n",
       "  294,\n",
       "  1,\n",
       "  197,\n",
       "  3240,\n",
       "  2,\n",
       "  47,\n",
       "  46,\n",
       "  3634,\n",
       "  2582,\n",
       "  145,\n",
       "  2,\n",
       "  1,\n",
       "  4414,\n",
       "  785,\n",
       "  143,\n",
       "  5,\n",
       "  1,\n",
       "  46,\n",
       "  2,\n",
       "  16153,\n",
       "  90,\n",
       "  169,\n",
       "  8,\n",
       "  2485,\n",
       "  529,\n",
       "  653,\n",
       "  1467,\n",
       "  42,\n",
       "  1,\n",
       "  544,\n",
       "  2,\n",
       "  653,\n",
       "  1467,\n",
       "  10,\n",
       "  44,\n",
       "  1167,\n",
       "  59,\n",
       "  5,\n",
       "  1,\n",
       "  12465,\n",
       "  1089,\n",
       "  1755,\n",
       "  2190,\n",
       "  76,\n",
       "  6,\n",
       "  8754,\n",
       "  7,\n",
       "  24264,\n",
       "  69,\n",
       "  2191,\n",
       "  2680,\n",
       "  46,\n",
       "  2680,\n",
       "  2381,\n",
       "  14,\n",
       "  50,\n",
       "  197,\n",
       "  225,\n",
       "  2931,\n",
       "  3850,\n",
       "  37,\n",
       "  3635,\n",
       "  28,\n",
       "  4,\n",
       "  6,\n",
       "  16154,\n",
       "  6096,\n",
       "  3853,\n",
       "  59,\n",
       "  3854,\n",
       "  784,\n",
       "  8755,\n",
       "  46,\n",
       "  8,\n",
       "  7627,\n",
       "  814,\n",
       "  42,\n",
       "  30,\n",
       "  19,\n",
       "  61,\n",
       "  1168,\n",
       "  46,\n",
       "  8,\n",
       "  16155,\n",
       "  518,\n",
       "  24265,\n",
       "  1391,\n",
       "  1,\n",
       "  4415,\n",
       "  28,\n",
       "  10302,\n",
       "  151,\n",
       "  29,\n",
       "  61,\n",
       "  2288,\n",
       "  709,\n",
       "  4,\n",
       "  10,\n",
       "  6,\n",
       "  2680,\n",
       "  46,\n",
       "  7,\n",
       "  28,\n",
       "  3,\n",
       "  3855,\n",
       "  1035,\n",
       "  28,\n",
       "  54,\n",
       "  278,\n",
       "  37,\n",
       "  7628,\n",
       "  28,\n",
       "  65,\n",
       "  61,\n",
       "  17,\n",
       "  6762,\n",
       "  740,\n",
       "  411,\n",
       "  4,\n",
       "  12,\n",
       "  1571,\n",
       "  2192,\n",
       "  29,\n",
       "  4,\n",
       "  5132,\n",
       "  2486,\n",
       "  3850,\n",
       "  7,\n",
       "  6,\n",
       "  278,\n",
       "  3,\n",
       "  10303,\n",
       "  1,\n",
       "  38,\n",
       "  2381,\n",
       "  2,\n",
       "  2680,\n",
       "  27,\n",
       "  24266,\n",
       "  24267,\n",
       "  1,\n",
       "  2680,\n",
       "  46]]"
      ]
     },
     "execution_count": 72,
     "metadata": {},
     "output_type": "execute_result"
    }
   ],
   "source": [
    "seq"
   ]
  },
  {
   "cell_type": "code",
   "execution_count": 76,
   "metadata": {},
   "outputs": [
    {
     "data": {
      "text/plain": [
       "array([[ 2679,   297,  2379, 24262,  3416,   237,   764,  7625,  1569,\n",
       "           21, 16152,   364,  7626,  3850,    76,    36,   672,     1,\n",
       "          122,   558,  2930,     5,    47,  2024,    23,   320,    29,\n",
       "         3850,   214,    76,     1,  2380,     2,     6,  1570,    38,\n",
       "         2484,     2,    27,  8752,  2680,  8752,    59,    28,    39,\n",
       "           20,   784,   960,   327,  3850, 24263,    27,  8753,    15,\n",
       "           29,  6762,    38,  3850,    10,     1,   225,    47,    28,\n",
       "         2189,    46,     9,  3851,    26,    30,  3852,    29,    76,\n",
       "            6,  8754,     8,   294,     1,   197,  3240,     2,    47,\n",
       "           46,  3634,  2582,   145,     2,     1,  4414,   785,   143,\n",
       "            5,     1,    46,     2, 16153,    90,   169,     8,  2485,\n",
       "          529,   653,  1467,    42,     1,   544,     2,   653,  1467,\n",
       "           10,    44,  1167,    59,     5,     1, 12465,  1089,  1755,\n",
       "         2190,    76,     6,  8754,     7, 24264,    69,  2191,  2680,\n",
       "           46,  2680,  2381,    14,    50,   197,   225,  2931,  3850,\n",
       "           37,  3635,    28,     4,     6, 16154,  6096,  3853,    59,\n",
       "         3854,   784,  8755,    46,     8,  7627,   814,    42,    30,\n",
       "           19,    61,  1168,    46,     8, 16155,   518, 24265,  1391,\n",
       "            1,  4415,    28, 10302,   151,    29,    61,  2288,   709,\n",
       "            4,    10,     6,  2680,    46,     7,    28,     3,  3855,\n",
       "         1035,    28,    54,   278,    37,  7628,    28,    65,    61,\n",
       "           17,  6762,   740,   411,     4,    12,  1571,  2192,    29,\n",
       "            4,  5132,  2486,  3850,     7,     6,   278,     3, 10303,\n",
       "            1,    38,  2381,     2,  2680,    27, 24266, 24267,     1,\n",
       "         2680,    46,     0,     0,     0,     0,     0,     0,     0,\n",
       "            0,     0,     0,     0,     0,     0,     0,     0,     0,\n",
       "            0,     0,     0,     0,     0,     0,     0,     0,     0,\n",
       "            0,     0,     0,     0,     0,     0,     0,     0,     0,\n",
       "            0,     0,     0,     0,     0,     0,     0,     0,     0,\n",
       "            0,     0,     0,     0,     0,     0,     0,     0,     0,\n",
       "            0,     0,     0,     0,     0,     0,     0,     0,     0,\n",
       "            0,     0,     0,     0,     0,     0,     0,     0,     0,\n",
       "            0,     0,     0,     0,     0,     0,     0,     0,     0,\n",
       "            0,     0,     0]])"
      ]
     },
     "execution_count": 76,
     "metadata": {},
     "output_type": "execute_result"
    }
   ],
   "source": [
    "seq1 = pad_sequences(sequences=seq,padding=\"post\",maxlen=300)\n",
    "seq1"
   ]
  },
  {
   "cell_type": "code",
   "execution_count": 77,
   "metadata": {},
   "outputs": [
    {
     "data": {
      "text/plain": [
       "(1, 300)"
      ]
     },
     "execution_count": 77,
     "metadata": {},
     "output_type": "execute_result"
    }
   ],
   "source": [
    "seq1.shape"
   ]
  },
  {
   "cell_type": "code",
   "execution_count": null,
   "metadata": {},
   "outputs": [],
   "source": [
    "model.predict(seq1.)"
   ]
  },
  {
   "cell_type": "code",
   "execution_count": 18,
   "metadata": {},
   "outputs": [
    {
     "data": {
      "text/plain": [
       "1952"
      ]
     },
     "execution_count": 18,
     "metadata": {},
     "output_type": "execute_result"
    }
   ],
   "source": [
    "# count no of sentences or rows\n",
    "tokenizer.document_count"
   ]
  },
  {
   "cell_type": "code",
   "execution_count": 81,
   "metadata": {},
   "outputs": [],
   "source": [
    "X_train_sequences = tokenizer.texts_to_sequences(X_train)\n"
   ]
  },
  {
   "cell_type": "code",
   "execution_count": 82,
   "metadata": {},
   "outputs": [],
   "source": [
    "X_test_sequences = tokenizer.texts_to_sequences(X_test)"
   ]
  },
  {
   "cell_type": "code",
   "execution_count": 119,
   "metadata": {},
   "outputs": [],
   "source": [
    "X_train_padded_sequences = pad_sequences(sequences=X_train_sequences,padding=\"post\",maxlen=50)\n",
    "X_test_padded_sequences = pad_sequences(sequences=X_test_sequences,padding=\"post\",maxlen=50)"
   ]
  },
  {
   "cell_type": "code",
   "execution_count": 120,
   "metadata": {},
   "outputs": [
    {
     "data": {
      "text/plain": [
       "((1561, 50), (391, 50))"
      ]
     },
     "execution_count": 120,
     "metadata": {},
     "output_type": "execute_result"
    }
   ],
   "source": [
    "X_train_padded_sequences.shape,X_test_padded_sequences.shape"
   ]
  },
  {
   "cell_type": "markdown",
   "metadata": {},
   "source": [
    "# Model Building DL"
   ]
  },
  {
   "cell_type": "code",
   "execution_count": 121,
   "metadata": {},
   "outputs": [],
   "source": [
    "\n",
    "vocab_size = len(tokenizer.word_index) + 1\n",
    "model = Sequential()\n",
    "model.add(Embedding(input_dim=vocab_size, output_dim=50, input_length=50))\n",
    "model.add(LSTM(units=50, return_sequences=True))\n",
    "model.add(LSTM(units=50, return_sequences=True))\n",
    "model.add(Dropout(0.3))\n",
    "model.add(LSTM(units=50))\n",
    "model.add(Dense(units=5, activation='softmax'))"
   ]
  },
  {
   "cell_type": "code",
   "execution_count": null,
   "metadata": {},
   "outputs": [],
   "source": []
  },
  {
   "cell_type": "code",
   "execution_count": 122,
   "metadata": {},
   "outputs": [],
   "source": [
    "# vocab_size = len(tokenizer.word_index) + 1\n",
    "# model = Sequential()\n",
    "# model.add(Embedding(vocab_size, 100, input_length=300))\n",
    "# model.add(LSTM(150))\n",
    "# model.add(Dense(5, activation='softmax'))\n",
    "# print(model.summary())"
   ]
  },
  {
   "cell_type": "code",
   "execution_count": 123,
   "metadata": {},
   "outputs": [],
   "source": [
    "model.compile(loss='sparse_categorical_crossentropy',optimizer='adam',metrics=['accuracy'])"
   ]
  },
  {
   "cell_type": "code",
   "execution_count": 124,
   "metadata": {},
   "outputs": [
    {
     "name": "stdout",
     "output_type": "stream",
     "text": [
      "Epoch 1/20\n"
     ]
    },
    {
     "name": "stdout",
     "output_type": "stream",
     "text": [
      "49/49 [==============================] - 14s 130ms/step - loss: 1.4677 - accuracy: 0.3229 - val_loss: 1.3576 - val_accuracy: 0.4015\n",
      "Epoch 2/20\n",
      "49/49 [==============================] - 5s 95ms/step - loss: 1.0555 - accuracy: 0.5272 - val_loss: 1.2836 - val_accuracy: 0.4629\n",
      "Epoch 3/20\n",
      "49/49 [==============================] - 5s 100ms/step - loss: 0.7655 - accuracy: 0.6829 - val_loss: 1.5444 - val_accuracy: 0.4348\n",
      "Epoch 4/20\n",
      "49/49 [==============================] - 5s 95ms/step - loss: 0.5830 - accuracy: 0.8001 - val_loss: 1.5899 - val_accuracy: 0.5141\n",
      "Epoch 5/20\n",
      "49/49 [==============================] - 5s 97ms/step - loss: 0.2960 - accuracy: 0.9148 - val_loss: 1.7711 - val_accuracy: 0.5371\n",
      "Epoch 6/20\n",
      "49/49 [==============================] - 5s 96ms/step - loss: 0.2047 - accuracy: 0.9475 - val_loss: 1.6901 - val_accuracy: 0.5729\n",
      "Epoch 7/20\n",
      "49/49 [==============================] - 5s 97ms/step - loss: 0.1394 - accuracy: 0.9667 - val_loss: 1.8575 - val_accuracy: 0.5729\n",
      "Epoch 8/20\n",
      "49/49 [==============================] - 5s 95ms/step - loss: 0.1132 - accuracy: 0.9725 - val_loss: 2.2397 - val_accuracy: 0.5115\n",
      "Epoch 9/20\n",
      "49/49 [==============================] - 5s 96ms/step - loss: 0.1004 - accuracy: 0.9757 - val_loss: 1.7010 - val_accuracy: 0.6087\n",
      "Epoch 10/20\n",
      "49/49 [==============================] - 5s 96ms/step - loss: 0.0922 - accuracy: 0.9782 - val_loss: 1.8999 - val_accuracy: 0.6087\n",
      "Epoch 11/20\n",
      "49/49 [==============================] - 5s 95ms/step - loss: 0.0777 - accuracy: 0.9801 - val_loss: 2.1359 - val_accuracy: 0.5652\n",
      "Epoch 12/20\n",
      "49/49 [==============================] - 5s 95ms/step - loss: 0.1175 - accuracy: 0.9718 - val_loss: 1.6477 - val_accuracy: 0.6189\n",
      "Epoch 13/20\n",
      "49/49 [==============================] - 5s 96ms/step - loss: 0.0717 - accuracy: 0.9808 - val_loss: 1.7958 - val_accuracy: 0.6087\n",
      "Epoch 14/20\n",
      "49/49 [==============================] - 5s 103ms/step - loss: 0.0471 - accuracy: 0.9853 - val_loss: 2.0231 - val_accuracy: 0.5550\n",
      "Epoch 15/20\n",
      "49/49 [==============================] - 5s 97ms/step - loss: 0.0314 - accuracy: 0.9910 - val_loss: 1.9470 - val_accuracy: 0.5703\n",
      "Epoch 16/20\n",
      "49/49 [==============================] - 5s 99ms/step - loss: 0.0282 - accuracy: 0.9904 - val_loss: 2.1175 - val_accuracy: 0.5831\n",
      "Epoch 17/20\n",
      "49/49 [==============================] - 5s 100ms/step - loss: 0.0541 - accuracy: 0.9821 - val_loss: 2.3848 - val_accuracy: 0.5217\n",
      "Epoch 18/20\n",
      "49/49 [==============================] - 5s 99ms/step - loss: 0.0565 - accuracy: 0.9827 - val_loss: 2.4125 - val_accuracy: 0.5320\n",
      "Epoch 19/20\n",
      "49/49 [==============================] - 5s 101ms/step - loss: 0.0353 - accuracy: 0.9885 - val_loss: 2.2262 - val_accuracy: 0.5499\n",
      "Epoch 20/20\n",
      "49/49 [==============================] - 5s 103ms/step - loss: 0.0242 - accuracy: 0.9917 - val_loss: 2.2912 - val_accuracy: 0.5550\n"
     ]
    },
    {
     "data": {
      "text/plain": [
       "<keras.src.callbacks.History at 0x18321de4d50>"
      ]
     },
     "execution_count": 124,
     "metadata": {},
     "output_type": "execute_result"
    }
   ],
   "source": [
    "model.fit(X_train_padded_sequences,y_train,epochs=20,validation_data=(X_test_padded_sequences,y_test))\n"
   ]
  },
  {
   "cell_type": "code",
   "execution_count": 88,
   "metadata": {},
   "outputs": [
    {
     "data": {
      "text/plain": [
       "(1, 300)"
      ]
     },
     "execution_count": 88,
     "metadata": {},
     "output_type": "execute_result"
    }
   ],
   "source": [
    "seq1.shape"
   ]
  },
  {
   "cell_type": "code",
   "execution_count": 89,
   "metadata": {},
   "outputs": [
    {
     "name": "stdout",
     "output_type": "stream",
     "text": [
      "1/1 [==============================] - 1s 713ms/step\n"
     ]
    },
    {
     "data": {
      "text/plain": [
       "array([2], dtype=int64)"
      ]
     },
     "execution_count": 89,
     "metadata": {},
     "output_type": "execute_result"
    }
   ],
   "source": [
    "np.argmax(model.predict(seq1),axis=1)"
   ]
  },
  {
   "cell_type": "code",
   "execution_count": null,
   "metadata": {},
   "outputs": [],
   "source": [
    "# Using LSTM we achieve highest accuracy of around 97%"
   ]
  },
  {
   "cell_type": "code",
   "execution_count": 31,
   "metadata": {},
   "outputs": [
    {
     "name": "stdout",
     "output_type": "stream",
     "text": [
      "1/1 [==============================] - 0s 81ms/step\n"
     ]
    },
    {
     "data": {
      "text/plain": [
       "array([4], dtype=int64)"
      ]
     },
     "execution_count": 31,
     "metadata": {},
     "output_type": "execute_result"
    }
   ],
   "source": [
    "np.argmax(model.predict(X_train_padded_sequences[0].reshape(1,-1)),axis=1)"
   ]
  },
  {
   "cell_type": "code",
   "execution_count": 28,
   "metadata": {},
   "outputs": [
    {
     "data": {
      "text/plain": [
       "(1561, 100)"
      ]
     },
     "execution_count": 28,
     "metadata": {},
     "output_type": "execute_result"
    }
   ],
   "source": [
    "X_train_padded_sequences.shape"
   ]
  },
  {
   "cell_type": "code",
   "execution_count": 30,
   "metadata": {},
   "outputs": [
    {
     "data": {
      "text/plain": [
       "(100,)"
      ]
     },
     "execution_count": 30,
     "metadata": {},
     "output_type": "execute_result"
    }
   ],
   "source": [
    "X_train_padded_sequences[0].shape"
   ]
  },
  {
   "cell_type": "code",
   "execution_count": null,
   "metadata": {},
   "outputs": [],
   "source": []
  }
 ],
 "metadata": {
  "kernelspec": {
   "display_name": "base",
   "language": "python",
   "name": "python3"
  },
  "language_info": {
   "codemirror_mode": {
    "name": "ipython",
    "version": 3
   },
   "file_extension": ".py",
   "mimetype": "text/x-python",
   "name": "python",
   "nbconvert_exporter": "python",
   "pygments_lexer": "ipython3",
   "version": "3.11.0"
  }
 },
 "nbformat": 4,
 "nbformat_minor": 2
}
